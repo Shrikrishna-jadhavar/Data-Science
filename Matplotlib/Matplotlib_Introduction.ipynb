{
  "nbformat": 4,
  "nbformat_minor": 0,
  "metadata": {
    "colab": {
      "provenance": [],
      "collapsed_sections": [
        "ubxNu17dgucV",
        "OEHLgHiaf7P8",
        "S2N9ehB0hKC1"
      ]
    },
    "kernelspec": {
      "name": "python3",
      "display_name": "Python 3"
    },
    "language_info": {
      "name": "python"
    }
  },
  "cells": [
    {
      "cell_type": "markdown",
      "source": [
        "# **What is Matplotlib?**\n",
        "\n",
        "Matplotlib is a low level graph plotting library in python that serves as a visualization utility.\n",
        "\n",
        "Matplotlib was created by John D. Hunter.\n",
        "\n",
        "Matplotlib is open source and we can use it freely.\n",
        "\n",
        "Matplotlib is mostly written in python, a few segments are written in C, Objective-C and Javascript for Platform compatibility."
      ],
      "metadata": {
        "id": "vgifPmdFRjsA"
      }
    },
    {
      "cell_type": "markdown",
      "source": [
        "# **Installation of Matplotlib**\n",
        "\n",
        "If you have Python and PIP already installed on a system, then installation of Matplotlib is very easy."
      ],
      "metadata": {
        "id": "ubxNu17dgucV"
      }
    },
    {
      "cell_type": "code",
      "execution_count": 1,
      "metadata": {
        "colab": {
          "base_uri": "https://localhost:8080/"
        },
        "id": "Cwm4GbdnfBGt",
        "outputId": "1aef39bb-d33c-4b83-8919-6b925c334f47"
      },
      "outputs": [
        {
          "output_type": "stream",
          "name": "stdout",
          "text": [
            "Requirement already satisfied: matplotlib in /usr/local/lib/python3.11/dist-packages (3.10.0)\n",
            "Requirement already satisfied: contourpy>=1.0.1 in /usr/local/lib/python3.11/dist-packages (from matplotlib) (1.3.1)\n",
            "Requirement already satisfied: cycler>=0.10 in /usr/local/lib/python3.11/dist-packages (from matplotlib) (0.12.1)\n",
            "Requirement already satisfied: fonttools>=4.22.0 in /usr/local/lib/python3.11/dist-packages (from matplotlib) (4.56.0)\n",
            "Requirement already satisfied: kiwisolver>=1.3.1 in /usr/local/lib/python3.11/dist-packages (from matplotlib) (1.4.8)\n",
            "Requirement already satisfied: numpy>=1.23 in /usr/local/lib/python3.11/dist-packages (from matplotlib) (1.26.4)\n",
            "Requirement already satisfied: packaging>=20.0 in /usr/local/lib/python3.11/dist-packages (from matplotlib) (24.2)\n",
            "Requirement already satisfied: pillow>=8 in /usr/local/lib/python3.11/dist-packages (from matplotlib) (11.1.0)\n",
            "Requirement already satisfied: pyparsing>=2.3.1 in /usr/local/lib/python3.11/dist-packages (from matplotlib) (3.2.1)\n",
            "Requirement already satisfied: python-dateutil>=2.7 in /usr/local/lib/python3.11/dist-packages (from matplotlib) (2.8.2)\n",
            "Requirement already satisfied: six>=1.5 in /usr/local/lib/python3.11/dist-packages (from python-dateutil>=2.7->matplotlib) (1.17.0)\n"
          ]
        }
      ],
      "source": [
        "!pip install matplotlib"
      ]
    },
    {
      "cell_type": "markdown",
      "source": [
        "If this command fails, then use a python distribution that already has Matplotlib installed,  like Anaconda, Spyder etc."
      ],
      "metadata": {
        "id": "V0eVHYdZg7Id"
      }
    },
    {
      "cell_type": "markdown",
      "source": [
        "# **Import Matplotlib**\n",
        "\n",
        "Once Matplotlib is installed, import it in your applications by adding the import module statement:"
      ],
      "metadata": {
        "id": "OEHLgHiaf7P8"
      }
    },
    {
      "cell_type": "code",
      "source": [
        "import matplotlib"
      ],
      "metadata": {
        "id": "h5Q9eGZcgiuI"
      },
      "execution_count": 2,
      "outputs": []
    },
    {
      "cell_type": "markdown",
      "source": [
        "Now Matplotlib is imported and ready to use:"
      ],
      "metadata": {
        "id": "y1Fr4-mShGlR"
      }
    },
    {
      "cell_type": "markdown",
      "source": [
        "# **Checking Matplotlib Version**\n",
        "\n",
        "The version string is stored under __version__ attribute."
      ],
      "metadata": {
        "id": "S2N9ehB0hKC1"
      }
    },
    {
      "cell_type": "code",
      "source": [
        "import matplotlib\n",
        "\n",
        "print(matplotlib.__version__)"
      ],
      "metadata": {
        "colab": {
          "base_uri": "https://localhost:8080/"
        },
        "id": "2n3cTwGIhM1F",
        "outputId": "4f6ca17a-91e6-4bfd-a660-2b4af9da98c1"
      },
      "execution_count": 3,
      "outputs": [
        {
          "output_type": "stream",
          "name": "stdout",
          "text": [
            "3.10.0\n"
          ]
        }
      ]
    },
    {
      "cell_type": "markdown",
      "source": [
        "*Note: two underscore characters are used in  __ version __.*"
      ],
      "metadata": {
        "id": "0iHSLTgehevc"
      }
    }
  ]
}