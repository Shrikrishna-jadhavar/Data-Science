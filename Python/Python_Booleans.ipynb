{
  "nbformat": 4,
  "nbformat_minor": 0,
  "metadata": {
    "colab": {
      "provenance": []
    },
    "kernelspec": {
      "name": "python3",
      "display_name": "Python 3"
    },
    "language_info": {
      "name": "python"
    }
  },
  "cells": [
    {
      "cell_type": "markdown",
      "source": [
        "# **Python Booleans**\n",
        "\n",
        "Booleans represent one of two values: True or False.\n"
      ],
      "metadata": {
        "id": "xmqAVwW_NscO"
      }
    },
    {
      "cell_type": "markdown",
      "source": [
        "**Boolean Values**\n",
        "\n",
        "In programming you often need to know if an expression is True or False.\n",
        "\n",
        "You can evaluate any expression in Python, and get one of two answers, True or False."
      ],
      "metadata": {
        "id": "IC96eCvlN3VL"
      }
    },
    {
      "cell_type": "code",
      "source": [
        "# When you compare two values, the expression is evaluated and Python returns the Boolean answer:\n",
        "\n",
        "print(10 < 9)\n",
        "print(10 == 9)\n",
        "print(10 > 9)"
      ],
      "metadata": {
        "colab": {
          "base_uri": "https://localhost:8080/"
        },
        "id": "WFMHWH2EOhWj",
        "outputId": "59fe36f5-3742-4399-d6ac-e93304272197"
      },
      "execution_count": 1,
      "outputs": [
        {
          "output_type": "stream",
          "name": "stdout",
          "text": [
            "False\n",
            "False\n",
            "True\n"
          ]
        }
      ]
    },
    {
      "cell_type": "markdown",
      "source": [
        "When you run a condition in an if statement, Python returns True or False:"
      ],
      "metadata": {
        "id": "v-NWlRFHOyEb"
      }
    },
    {
      "cell_type": "code",
      "source": [
        "# Print a message based on whether the condition is True or False:\n",
        "\n",
        "a = 200\n",
        "b = 50\n",
        "\n",
        "if b > a:\n",
        "  print(\"b is greater than a\")\n",
        "else:\n",
        "  print(\"b is not greater than a\")"
      ],
      "metadata": {
        "colab": {
          "base_uri": "https://localhost:8080/"
        },
        "id": "ZoKvRysPPGgy",
        "outputId": "54f58b76-44c6-45f1-ab71-65ed2ad33987"
      },
      "execution_count": 2,
      "outputs": [
        {
          "output_type": "stream",
          "name": "stdout",
          "text": [
            "b is not greater than a\n"
          ]
        }
      ]
    },
    {
      "cell_type": "markdown",
      "source": [
        "**Evaluate Values and Variables**\n",
        "\n",
        "The bool() function allows you to evaluate any value, and give you True or False in return,"
      ],
      "metadata": {
        "id": "kcmOdgQlPRO-"
      }
    },
    {
      "cell_type": "code",
      "source": [
        "# Evaluate a string and a number:\n",
        "\n",
        "print(bool(\"Hello\"))\n",
        "print(bool(20))"
      ],
      "metadata": {
        "colab": {
          "base_uri": "https://localhost:8080/"
        },
        "id": "KCxFUXF5PLNw",
        "outputId": "633781e8-8024-4991-fba1-a2bf440725cb"
      },
      "execution_count": 3,
      "outputs": [
        {
          "output_type": "stream",
          "name": "stdout",
          "text": [
            "True\n",
            "True\n"
          ]
        }
      ]
    },
    {
      "cell_type": "code",
      "source": [
        "# Evaluate two variables:\n",
        "\n",
        "x = 'Hello'\n",
        "y = 20\n",
        "\n",
        "print(bool(x))\n",
        "print(bool(y))"
      ],
      "metadata": {
        "colab": {
          "base_uri": "https://localhost:8080/"
        },
        "id": "k0KtXqeURFkq",
        "outputId": "8651bfec-a747-4004-e445-239b18632ccf"
      },
      "execution_count": 4,
      "outputs": [
        {
          "output_type": "stream",
          "name": "stdout",
          "text": [
            "True\n",
            "True\n"
          ]
        }
      ]
    },
    {
      "cell_type": "markdown",
      "source": [
        "**Most Values are True**\n",
        "\n",
        "Almost any value is evaluated to True if it has some sort of content.\n",
        "\n",
        "Any string is True, except empty strings.\n",
        "\n",
        "Any number is True, except 0.\n",
        "\n",
        "Any list, tuple, set, and dictionary are True, except empty ones."
      ],
      "metadata": {
        "id": "QjxhBKYdRbi0"
      }
    },
    {
      "cell_type": "code",
      "source": [
        "# The following will return True:\n",
        "\n",
        "bool(\"abc\")"
      ],
      "metadata": {
        "colab": {
          "base_uri": "https://localhost:8080/"
        },
        "id": "1r10s2hDRGrp",
        "outputId": "15f79610-1f15-4f70-b3ef-f4bd873e5d7d"
      },
      "execution_count": 6,
      "outputs": [
        {
          "output_type": "execute_result",
          "data": {
            "text/plain": [
              "True"
            ]
          },
          "metadata": {},
          "execution_count": 6
        }
      ]
    },
    {
      "cell_type": "code",
      "source": [
        "bool(123)"
      ],
      "metadata": {
        "colab": {
          "base_uri": "https://localhost:8080/"
        },
        "id": "Rt43xcWgRlVL",
        "outputId": "8bd38463-4fea-4355-fcb4-43057d7fa300"
      },
      "execution_count": 7,
      "outputs": [
        {
          "output_type": "execute_result",
          "data": {
            "text/plain": [
              "True"
            ]
          },
          "metadata": {},
          "execution_count": 7
        }
      ]
    },
    {
      "cell_type": "code",
      "source": [
        "bool([\"apple\", \"cherry\", \"banana\"])"
      ],
      "metadata": {
        "colab": {
          "base_uri": "https://localhost:8080/"
        },
        "id": "OkewF6ufRupy",
        "outputId": "c15d8380-9c7f-498c-f9a3-920b29ec7681"
      },
      "execution_count": 8,
      "outputs": [
        {
          "output_type": "execute_result",
          "data": {
            "text/plain": [
              "True"
            ]
          },
          "metadata": {},
          "execution_count": 8
        }
      ]
    },
    {
      "cell_type": "markdown",
      "source": [
        "**Some Values are False**\n",
        "\n",
        "In fact, there are not many values that evaluate to False, except empty values, such as (), [], {}, \"\", the number 0, and the value None. And of course the value False evaluates to False."
      ],
      "metadata": {
        "id": "EA_aU3fSR8aQ"
      }
    },
    {
      "cell_type": "code",
      "source": [
        "# The following will return False:\n",
        "\n",
        "bool(False)"
      ],
      "metadata": {
        "colab": {
          "base_uri": "https://localhost:8080/"
        },
        "id": "k6dhEdp8RwKj",
        "outputId": "c1ef1983-5ba3-498e-a758-fb65165b3923"
      },
      "execution_count": 9,
      "outputs": [
        {
          "output_type": "execute_result",
          "data": {
            "text/plain": [
              "False"
            ]
          },
          "metadata": {},
          "execution_count": 9
        }
      ]
    },
    {
      "cell_type": "code",
      "source": [
        "bool(None)"
      ],
      "metadata": {
        "colab": {
          "base_uri": "https://localhost:8080/"
        },
        "id": "rzG5jszbSKYv",
        "outputId": "70e69bf5-e410-4669-a880-2c69fdafe30b"
      },
      "execution_count": 10,
      "outputs": [
        {
          "output_type": "execute_result",
          "data": {
            "text/plain": [
              "False"
            ]
          },
          "metadata": {},
          "execution_count": 10
        }
      ]
    },
    {
      "cell_type": "code",
      "source": [
        "bool(0)"
      ],
      "metadata": {
        "colab": {
          "base_uri": "https://localhost:8080/"
        },
        "id": "d3KR1ORXSMr4",
        "outputId": "f6821eaa-c0d9-44fc-f84b-2179033b6de0"
      },
      "execution_count": 11,
      "outputs": [
        {
          "output_type": "execute_result",
          "data": {
            "text/plain": [
              "False"
            ]
          },
          "metadata": {},
          "execution_count": 11
        }
      ]
    },
    {
      "cell_type": "code",
      "source": [
        "bool(())"
      ],
      "metadata": {
        "colab": {
          "base_uri": "https://localhost:8080/"
        },
        "id": "t0psNlmySMZz",
        "outputId": "cea45eab-0ad3-450a-9840-216910a93e33"
      },
      "execution_count": 12,
      "outputs": [
        {
          "output_type": "execute_result",
          "data": {
            "text/plain": [
              "False"
            ]
          },
          "metadata": {},
          "execution_count": 12
        }
      ]
    },
    {
      "cell_type": "code",
      "source": [
        "bool([])"
      ],
      "metadata": {
        "colab": {
          "base_uri": "https://localhost:8080/"
        },
        "id": "ZYPa4ha6SMO1",
        "outputId": "88d63b84-784b-4ad5-c0a6-066f83f89544"
      },
      "execution_count": 13,
      "outputs": [
        {
          "output_type": "execute_result",
          "data": {
            "text/plain": [
              "False"
            ]
          },
          "metadata": {},
          "execution_count": 13
        }
      ]
    },
    {
      "cell_type": "code",
      "source": [
        "bool({})"
      ],
      "metadata": {
        "colab": {
          "base_uri": "https://localhost:8080/"
        },
        "id": "4s9YS2mhSMLj",
        "outputId": "53e47dfc-0316-4c3f-8a08-5cd68e19b8b9"
      },
      "execution_count": 14,
      "outputs": [
        {
          "output_type": "execute_result",
          "data": {
            "text/plain": [
              "False"
            ]
          },
          "metadata": {},
          "execution_count": 14
        }
      ]
    },
    {
      "cell_type": "code",
      "source": [
        "bool(\" \")"
      ],
      "metadata": {
        "colab": {
          "base_uri": "https://localhost:8080/"
        },
        "id": "vplUr16iSMIO",
        "outputId": "840c9fdf-78c2-4ad3-8e3e-2be3e94279da"
      },
      "execution_count": 15,
      "outputs": [
        {
          "output_type": "execute_result",
          "data": {
            "text/plain": [
              "True"
            ]
          },
          "metadata": {},
          "execution_count": 15
        }
      ]
    },
    {
      "cell_type": "markdown",
      "source": [
        "One more value, or object in this case, evaluates to False, and that is if you have an object that is made from a class with a __len__ function that returns 0 or False:"
      ],
      "metadata": {
        "id": "vh6JExjeSrOl"
      }
    },
    {
      "cell_type": "code",
      "source": [
        "class myclass():\n",
        "  def __len__(self):\n",
        "    return 0\n",
        "\n",
        "myobj = myclass()\n",
        "print(bool(myobj))"
      ],
      "metadata": {
        "colab": {
          "base_uri": "https://localhost:8080/"
        },
        "id": "27TWf3b1TQ5w",
        "outputId": "bbfbf4b2-06ed-45d7-9f3e-44dd0200164e"
      },
      "execution_count": 22,
      "outputs": [
        {
          "output_type": "stream",
          "name": "stdout",
          "text": [
            "False\n"
          ]
        }
      ]
    },
    {
      "cell_type": "markdown",
      "source": [
        "**Functions can Return a Boolean**\n",
        "\n",
        "You can create functions that returns a Boolean Value:"
      ],
      "metadata": {
        "id": "xqeOGjWlT73X"
      }
    },
    {
      "cell_type": "code",
      "source": [
        "# Print the answer of a function:\n",
        "\n",
        "def myfunc():\n",
        "  return True\n",
        "\n",
        "print(myfunc())"
      ],
      "metadata": {
        "colab": {
          "base_uri": "https://localhost:8080/"
        },
        "id": "wWiL2KhXTzQF",
        "outputId": "3a3ff046-de93-44b5-ec1b-f11b16bebf6d"
      },
      "execution_count": 23,
      "outputs": [
        {
          "output_type": "stream",
          "name": "stdout",
          "text": [
            "True\n"
          ]
        }
      ]
    },
    {
      "cell_type": "markdown",
      "source": [
        "You can execute code based on the Boolean answer of a function:"
      ],
      "metadata": {
        "id": "J277Qe2-UWH1"
      }
    },
    {
      "cell_type": "code",
      "source": [
        "# Print \"YES!\" if the function returns True, otherwise print \"NO!\":\n",
        "\n",
        "def myfunc():\n",
        "  return True\n",
        "\n",
        "if myfunc():\n",
        "  print(\"YES!\")\n",
        "else:\n",
        "  print(\"NO!\")"
      ],
      "metadata": {
        "colab": {
          "base_uri": "https://localhost:8080/"
        },
        "id": "Sp4Rp0XzUomu",
        "outputId": "a43aee5b-e9ff-412e-e7ea-2a268e6355d0"
      },
      "execution_count": 24,
      "outputs": [
        {
          "output_type": "stream",
          "name": "stdout",
          "text": [
            "YES!\n"
          ]
        }
      ]
    },
    {
      "cell_type": "code",
      "source": [
        "# Print \"YES!\" if the function returns True, otherwise print \"NO!\":\n",
        "\n",
        "def myfunc():\n",
        "  return False\n",
        "\n",
        "if myfunc():\n",
        "  print(\"YES!\")\n",
        "else:\n",
        "  print(\"NO!\")"
      ],
      "metadata": {
        "colab": {
          "base_uri": "https://localhost:8080/"
        },
        "id": "VaNNn-kfUpju",
        "outputId": "29a66a44-38d2-47ad-fc27-5148d56e78df"
      },
      "execution_count": 25,
      "outputs": [
        {
          "output_type": "stream",
          "name": "stdout",
          "text": [
            "NO!\n"
          ]
        }
      ]
    },
    {
      "cell_type": "markdown",
      "source": [
        "Python also has many built-in functions that return a boolean value, like the isinstance() function, which can be used to determine if an object is of a certain data type:"
      ],
      "metadata": {
        "id": "OliaBtXyU7Uh"
      }
    },
    {
      "cell_type": "code",
      "source": [
        "# Check if an object is an integer or not:\n",
        "\n",
        "x = 200\n",
        "print(isinstance(x, int))"
      ],
      "metadata": {
        "colab": {
          "base_uri": "https://localhost:8080/"
        },
        "id": "Sye9FQEoUvF4",
        "outputId": "36fd6e0e-26f1-4ecf-cccd-876729fedf8f"
      },
      "execution_count": 26,
      "outputs": [
        {
          "output_type": "stream",
          "name": "stdout",
          "text": [
            "True\n"
          ]
        }
      ]
    }
  ]
}