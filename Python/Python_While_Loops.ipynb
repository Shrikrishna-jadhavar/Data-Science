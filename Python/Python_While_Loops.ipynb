{
  "nbformat": 4,
  "nbformat_minor": 0,
  "metadata": {
    "colab": {
      "provenance": [],
      "collapsed_sections": [
        "r3-oaDiRpOmr"
      ]
    },
    "kernelspec": {
      "name": "python3",
      "display_name": "Python 3"
    },
    "language_info": {
      "name": "python"
    }
  },
  "cells": [
    {
      "cell_type": "markdown",
      "source": [
        "# **Python Loops**"
      ],
      "metadata": {
        "id": "r3-oaDiRpOmr"
      }
    },
    {
      "cell_type": "markdown",
      "source": [
        "**Python has two primitive loop commands:**\n",
        "\n",
        "*   while loops\n",
        "*   for loops"
      ],
      "metadata": {
        "id": "zC0ouFAnpOdL"
      }
    },
    {
      "cell_type": "markdown",
      "source": [
        "# **The while Loop**\n",
        "\n",
        "With the while loop we can execute a set of statements as long as a condition is true."
      ],
      "metadata": {
        "id": "L6Yakvj5qCM3"
      }
    },
    {
      "cell_type": "code",
      "execution_count": 1,
      "metadata": {
        "colab": {
          "base_uri": "https://localhost:8080/"
        },
        "id": "p5t9vEq4o51a",
        "outputId": "b23674c2-433c-4598-97d9-9e3a6cc0178f"
      },
      "outputs": [
        {
          "output_type": "stream",
          "name": "stdout",
          "text": [
            "1\n",
            "2\n",
            "3\n",
            "4\n",
            "5\n"
          ]
        }
      ],
      "source": [
        "# Print i as long as i is less than 6:\n",
        "\n",
        "i = 1\n",
        "while i < 6:\n",
        "  print(i)\n",
        "  i += 1"
      ]
    },
    {
      "cell_type": "markdown",
      "source": [
        "The while loop requires relevant variables to be ready, in this example we need to define an indexing variable, i, which we set to 1."
      ],
      "metadata": {
        "id": "foH2-PIIrQ4I"
      }
    },
    {
      "cell_type": "markdown",
      "source": [
        "# **The break Statement**\n",
        "\n",
        "With the break statement we can stop the loop even if the while condition is true:"
      ],
      "metadata": {
        "id": "mWsrOf7prX9h"
      }
    },
    {
      "cell_type": "code",
      "source": [
        "# Exit the loop when i is 3:\n",
        "\n",
        "i = 1\n",
        "while i < 6:\n",
        "  print(i)\n",
        "  if i == 3:\n",
        "    break\n",
        "  i += 1"
      ],
      "metadata": {
        "colab": {
          "base_uri": "https://localhost:8080/"
        },
        "id": "pFKIQ0zZquQA",
        "outputId": "f343c75e-1a9b-4597-96c1-7196d6e7b37b"
      },
      "execution_count": 2,
      "outputs": [
        {
          "output_type": "stream",
          "name": "stdout",
          "text": [
            "1\n",
            "2\n",
            "3\n"
          ]
        }
      ]
    },
    {
      "cell_type": "markdown",
      "source": [
        "# **The continue Statement**\n",
        "\n",
        "With the continue statement we can stop the current iteration, and continue with the next:"
      ],
      "metadata": {
        "id": "7rOGwYfrtlKV"
      }
    },
    {
      "cell_type": "code",
      "source": [
        "# Continue to the next iteration if i is 3:\n",
        "\n",
        "i = 0\n",
        "while i < 6:\n",
        "  i += 1\n",
        "  if i == 3:\n",
        "    continue\n",
        "  print(i)"
      ],
      "metadata": {
        "colab": {
          "base_uri": "https://localhost:8080/"
        },
        "id": "gAKKCLSVtMfA",
        "outputId": "be5f837a-4020-460c-c518-bc95fe2b26c1"
      },
      "execution_count": 4,
      "outputs": [
        {
          "output_type": "stream",
          "name": "stdout",
          "text": [
            "1\n",
            "2\n",
            "4\n",
            "5\n",
            "6\n"
          ]
        }
      ]
    },
    {
      "cell_type": "markdown",
      "source": [
        "# **The else Statement**\n",
        "\n",
        "With the else statement we can run a block of code once when the condition no longer is true:"
      ],
      "metadata": {
        "id": "n1YQRpPtu2DX"
      }
    },
    {
      "cell_type": "code",
      "source": [
        "# Print a message once the condition is false:\n",
        "\n",
        "i = 1\n",
        "while i < 6:\n",
        "  print(i)\n",
        "  i += 1\n",
        "else:\n",
        "  print(\"i is no longer less than 6\")"
      ],
      "metadata": {
        "colab": {
          "base_uri": "https://localhost:8080/"
        },
        "id": "bjpLQPcqvaoI",
        "outputId": "f2ec8bec-dbbd-454b-f257-09b9855591b6"
      },
      "execution_count": 5,
      "outputs": [
        {
          "output_type": "stream",
          "name": "stdout",
          "text": [
            "1\n",
            "2\n",
            "3\n",
            "4\n",
            "5\n",
            "i is no longer less than 6\n"
          ]
        }
      ]
    },
    {
      "cell_type": "code",
      "source": [],
      "metadata": {
        "id": "-f85x7l6vfLg"
      },
      "execution_count": null,
      "outputs": []
    }
  ]
}