{
  "nbformat": 4,
  "nbformat_minor": 0,
  "metadata": {
    "colab": {
      "provenance": [],
      "collapsed_sections": [
        "O1HIY-OIPK3s",
        "WOjAMnC8gTS5",
        "aZNGdDQYkY7s",
        "IzlVdvTcLktp",
        "eT5Lc4wBMpgL"
      ]
    },
    "kernelspec": {
      "name": "python3",
      "display_name": "Python 3"
    },
    "language_info": {
      "name": "python"
    }
  },
  "cells": [
    {
      "cell_type": "markdown",
      "source": [
        "# **Python Strings**"
      ],
      "metadata": {
        "id": "O1HIY-OIPK3s"
      }
    },
    {
      "cell_type": "markdown",
      "source": [
        "**Strings**\n",
        "\n",
        "Strings in python are surrounded by either single quotation marks, or double quotation marks.\n",
        "\n",
        "'hello' is the same as \"hello\".\n",
        "\n",
        "You can display a string literal with the print() function:"
      ],
      "metadata": {
        "id": "03iZ56kiPKz-"
      }
    },
    {
      "cell_type": "code",
      "execution_count": null,
      "metadata": {
        "colab": {
          "base_uri": "https://localhost:8080/"
        },
        "id": "ehnw2U3vPIOs",
        "outputId": "2e9a8bab-a0da-4333-c71b-bb87982afb47"
      },
      "outputs": [
        {
          "output_type": "stream",
          "name": "stdout",
          "text": [
            "Hello\n",
            "Hello\n"
          ]
        }
      ],
      "source": [
        "print('Hello')\n",
        "print(\"Hello\")"
      ]
    },
    {
      "cell_type": "markdown",
      "source": [
        "**Quotes Inside Quotes**\n",
        "\n",
        "You can use quotes inside a string, as long as they don't match the quotes surrounding the string:"
      ],
      "metadata": {
        "id": "mWMvSrq-QUeB"
      }
    },
    {
      "cell_type": "code",
      "source": [
        "print(\"Double quotes are fine too!\")\n",
        "print('Single quotes are fine too!')\n",
        "print('You can use \"quotes\" inside single quotes!')\n",
        "print(\"You can use 'quotes' inside double quotes!\")"
      ],
      "metadata": {
        "colab": {
          "base_uri": "https://localhost:8080/"
        },
        "id": "m8Abyym7Qu2f",
        "outputId": "f00fac44-8c94-4cd7-b359-67d830fb1f39"
      },
      "execution_count": null,
      "outputs": [
        {
          "output_type": "stream",
          "name": "stdout",
          "text": [
            "Double quotes are fine too!\n",
            "Single quotes are fine too!\n",
            "You can use \"quotes\" inside single quotes!\n",
            "You can use 'quotes' inside double quotes!\n"
          ]
        }
      ]
    },
    {
      "cell_type": "markdown",
      "source": [
        "**Assign String to a Variable**\n",
        "\n",
        "Assigning a string to a variable is done with the variable name followed by an equal sign and the string:"
      ],
      "metadata": {
        "id": "C6hYRwtYRPkl"
      }
    },
    {
      "cell_type": "code",
      "source": [
        "a = \"Hello\"\n",
        "print(a)"
      ],
      "metadata": {
        "colab": {
          "base_uri": "https://localhost:8080/"
        },
        "id": "6hvJWfMGQuzc",
        "outputId": "289acde2-e0c7-4a9e-a58d-ce5173f5a511"
      },
      "execution_count": null,
      "outputs": [
        {
          "output_type": "stream",
          "name": "stdout",
          "text": [
            "Hello\n"
          ]
        }
      ]
    },
    {
      "cell_type": "markdown",
      "source": [
        "**Multiline Strings**\n",
        "\n",
        "You can assign a multiline string to a variable by using three quotes:"
      ],
      "metadata": {
        "id": "7xbRaP3aRyh2"
      }
    },
    {
      "cell_type": "code",
      "source": [
        "# You can use three double quotes:\n",
        "\n",
        "a = \"\"\"Last night as I was sleeping,\n",
        "I dreamt—marvelous error!—\n",
        "that I had a beehive\n",
        "here inside my heart.\n",
        "And the golden bees\n",
        "were making white combs\n",
        "and sweet honey\n",
        "from my old failures.\"\"\"\n",
        "print(a)"
      ],
      "metadata": {
        "id": "DqDsJ9cHQunN",
        "colab": {
          "base_uri": "https://localhost:8080/"
        },
        "outputId": "15e3c0bb-8ab5-43ac-a184-77c37b3cba1a"
      },
      "execution_count": null,
      "outputs": [
        {
          "output_type": "stream",
          "name": "stdout",
          "text": [
            "Last night as I was sleeping,\n",
            "I dreamt—marvelous error!—\n",
            "that I had a beehive\n",
            "here inside my heart.\n",
            "And the golden bees\n",
            "were making white combs\n",
            "and sweet honey\n",
            "from my old failures.\n"
          ]
        }
      ]
    },
    {
      "cell_type": "markdown",
      "source": [
        "\n",
        "\n",
        "*Note: in the result, the line breaks are inserted at the same position as in the code.*\n"
      ],
      "metadata": {
        "id": "IX-cuXPzEXPr"
      }
    },
    {
      "cell_type": "code",
      "source": [
        "# Or three single quotes:\n",
        "\n",
        "b = '''Last night as I was sleeping,\n",
        "I dreamt—marvelous error!—\n",
        "that a fiery sun was giving\n",
        "light inside my heart.\n",
        "It was fiery because I felt\n",
        "warmth as from a hearth,\n",
        "and sun because it gave light\n",
        "and brought tears to my eyes.'''\n",
        "print(b)"
      ],
      "metadata": {
        "colab": {
          "base_uri": "https://localhost:8080/"
        },
        "id": "fcw3xkPZC945",
        "outputId": "db403c0a-2a50-4e6c-8095-aa015fbbb754"
      },
      "execution_count": null,
      "outputs": [
        {
          "output_type": "stream",
          "name": "stdout",
          "text": [
            "Last night as I was sleeping,\n",
            "I dreamt—marvelous error!—\n",
            "that a fiery sun was giving\n",
            "light inside my heart.\n",
            "It was fiery because I felt\n",
            "warmth as from a hearth,\n",
            "and sun because it gave light\n",
            "and brought tears to my eyes.\n"
          ]
        }
      ]
    },
    {
      "cell_type": "markdown",
      "source": [
        "**Strings are Arrays**\n",
        "\n",
        "Like many other popular programming languages, strings in Python are arrays of bytes representing unicode characters.\n",
        "\n",
        "However, Python does not have a character data type, a single character is simply a string with a length of 1.\n",
        "\n",
        "Square brackets can be used to access elements of the string."
      ],
      "metadata": {
        "id": "2xZ9GmUYdnk5"
      }
    },
    {
      "cell_type": "code",
      "source": [
        "# Get the character at position 1 (remember that the first character has the position 0):\n",
        "\n",
        "a = \"Hello, Python!\"\n",
        "print(a[1])"
      ],
      "metadata": {
        "id": "cn2DN6bND9tu",
        "colab": {
          "base_uri": "https://localhost:8080/"
        },
        "outputId": "a8cdcf55-e869-4662-e340-0f0b25ea4a07"
      },
      "execution_count": 1,
      "outputs": [
        {
          "output_type": "stream",
          "name": "stdout",
          "text": [
            "e\n"
          ]
        }
      ]
    },
    {
      "cell_type": "markdown",
      "source": [
        "**Looping Through a String**\n",
        "\n",
        "Since strings are arrays, we can loop through the characters in a string, with a for loop."
      ],
      "metadata": {
        "id": "mU2ibQa7d8dy"
      }
    },
    {
      "cell_type": "code",
      "source": [
        "# Loop through the letters in the word \"banana\":\n",
        "\n",
        "for x in \"banana\":\n",
        "  print(x)"
      ],
      "metadata": {
        "colab": {
          "base_uri": "https://localhost:8080/"
        },
        "id": "mRtCeUU0d0es",
        "outputId": "41077156-0899-47b0-d381-6cd4a2545f47"
      },
      "execution_count": 2,
      "outputs": [
        {
          "output_type": "stream",
          "name": "stdout",
          "text": [
            "b\n",
            "a\n",
            "n\n",
            "a\n",
            "n\n",
            "a\n"
          ]
        }
      ]
    },
    {
      "cell_type": "markdown",
      "source": [
        "**String Length**\n",
        "\n",
        "To get the length of a string, use the len() function."
      ],
      "metadata": {
        "id": "5zyQ1CnzeQsL"
      }
    },
    {
      "cell_type": "code",
      "source": [
        "# The len() function returns the length of a string:\n",
        "\n",
        "a = \"Hello, Python!\"\n",
        "print(len(a))"
      ],
      "metadata": {
        "colab": {
          "base_uri": "https://localhost:8080/"
        },
        "id": "SVEV8mSyeI40",
        "outputId": "65a353d4-86a6-4804-8800-7f04d4c24cd7"
      },
      "execution_count": 3,
      "outputs": [
        {
          "output_type": "stream",
          "name": "stdout",
          "text": [
            "14\n"
          ]
        }
      ]
    },
    {
      "cell_type": "markdown",
      "source": [
        "**Check String**\n",
        "\n",
        "To check if a certain phrase or character is present in a string, we can use the keyword in."
      ],
      "metadata": {
        "id": "-b_WFfREeirH"
      }
    },
    {
      "cell_type": "code",
      "source": [
        "# Check if \"free\" is present in the following text:\n",
        "\n",
        "txt = \"The best things in life are free!\"\n",
        "print(\"free\" in txt)"
      ],
      "metadata": {
        "colab": {
          "base_uri": "https://localhost:8080/"
        },
        "id": "lH8FJ1hQea6w",
        "outputId": "6756bf50-6488-4946-8ea2-f980d9262472"
      },
      "execution_count": 4,
      "outputs": [
        {
          "output_type": "stream",
          "name": "stdout",
          "text": [
            "True\n"
          ]
        }
      ]
    },
    {
      "cell_type": "markdown",
      "source": [
        "Use it in an if statement:"
      ],
      "metadata": {
        "id": "kJo_jn7YeyHX"
      }
    },
    {
      "cell_type": "code",
      "source": [
        "# Print only if \"free\" is present:\n",
        "txt = \"The best things in life are free!\"\n",
        "if \"free\" in txt:\n",
        "  print(\"Yes, 'free' is present.\")"
      ],
      "metadata": {
        "colab": {
          "base_uri": "https://localhost:8080/"
        },
        "id": "YQHtECXqesuw",
        "outputId": "836befb8-00a1-41f1-98de-a28b27aedcc3"
      },
      "execution_count": 5,
      "outputs": [
        {
          "output_type": "stream",
          "name": "stdout",
          "text": [
            "Yes, 'free' is present.\n"
          ]
        }
      ]
    },
    {
      "cell_type": "markdown",
      "source": [
        "**Check if NOT**\n",
        "\n",
        "To check if a certain phrase or character is NOT present in a string, we can use the keyword not in."
      ],
      "metadata": {
        "id": "ou0pt-ade7s8"
      }
    },
    {
      "cell_type": "code",
      "source": [
        "# Check if \"expensive\" is NOT present in the following text:\n",
        "\n",
        "txt = \"The best things in life are free!\"\n",
        "print(\"expensive\" not in txt)"
      ],
      "metadata": {
        "colab": {
          "base_uri": "https://localhost:8080/"
        },
        "id": "5Zyr3WGre4AN",
        "outputId": "e0650b5a-21dc-46dd-b6c7-4f01a68068a8"
      },
      "execution_count": 6,
      "outputs": [
        {
          "output_type": "stream",
          "name": "stdout",
          "text": [
            "True\n"
          ]
        }
      ]
    },
    {
      "cell_type": "markdown",
      "source": [
        "Use it in an if statement:"
      ],
      "metadata": {
        "id": "4lBjGlWvfGmR"
      }
    },
    {
      "cell_type": "code",
      "source": [
        "# print only if \"expensive\" is NOT present:\n",
        "\n",
        "txt = \"The best things in life are free!\"\n",
        "if \"expensive\" not in txt:\n",
        "  print(\"No, 'expensive' is NOT present.\")"
      ],
      "metadata": {
        "colab": {
          "base_uri": "https://localhost:8080/"
        },
        "id": "uPk6ESelfExZ",
        "outputId": "f933f6ef-5803-4748-e45c-642cc96e35d4"
      },
      "execution_count": 7,
      "outputs": [
        {
          "output_type": "stream",
          "name": "stdout",
          "text": [
            "No, 'expensive' is NOT present.\n"
          ]
        }
      ]
    },
    {
      "cell_type": "markdown",
      "source": [
        "# **Slicing Strings**"
      ],
      "metadata": {
        "id": "WOjAMnC8gTS5"
      }
    },
    {
      "cell_type": "markdown",
      "source": [
        "**Slicing**\n",
        "\n",
        "You can return a range of characters by using the slice syntax.\n",
        "\n",
        "Specify the start index and the end index, separated by a colon, to return a part of the string."
      ],
      "metadata": {
        "id": "1O_mCp3wgw5q"
      }
    },
    {
      "cell_type": "code",
      "source": [
        "# Get the characters from position 2 to position 5 (not included):    Note: The first character has index 0.\n",
        "b = \"Hello, Python!\"\n",
        "print(b[1:5])"
      ],
      "metadata": {
        "colab": {
          "base_uri": "https://localhost:8080/"
        },
        "id": "jA0dO99xfxpU",
        "outputId": "535df7b3-6ee0-48cd-a4cf-9c969dc53e6d"
      },
      "execution_count": 8,
      "outputs": [
        {
          "output_type": "stream",
          "name": "stdout",
          "text": [
            "ello\n"
          ]
        }
      ]
    },
    {
      "cell_type": "markdown",
      "source": [
        "**Slice From the Start**\n",
        "\n",
        "By leaving out the start index, the range will start at the first character:"
      ],
      "metadata": {
        "id": "-u8l3hqqiIni"
      }
    },
    {
      "cell_type": "code",
      "source": [
        "# Get the characters from the start to position 5 (not included):\n",
        "\n",
        "b = \"Hello, World!\"\n",
        "print(b[:5])"
      ],
      "metadata": {
        "colab": {
          "base_uri": "https://localhost:8080/"
        },
        "id": "v9uXEmfLh2uA",
        "outputId": "127245f9-30ee-44db-c95c-9360d55c5666"
      },
      "execution_count": 9,
      "outputs": [
        {
          "output_type": "stream",
          "name": "stdout",
          "text": [
            "Hello\n"
          ]
        }
      ]
    },
    {
      "cell_type": "markdown",
      "source": [
        "**Slice To the End**\n",
        "\n",
        "By leaving out the end index, the range will go to the end:"
      ],
      "metadata": {
        "id": "nHJpggotib_l"
      }
    },
    {
      "cell_type": "code",
      "source": [
        "# Get the characters from position 2, and all the way to the end:\n",
        "\n",
        "b = \"Hello, World!\"\n",
        "print(b[2:])"
      ],
      "metadata": {
        "colab": {
          "base_uri": "https://localhost:8080/"
        },
        "id": "CfK8huPLiXZu",
        "outputId": "44390627-cc66-4bcc-96fb-f2736551213d"
      },
      "execution_count": 10,
      "outputs": [
        {
          "output_type": "stream",
          "name": "stdout",
          "text": [
            "llo, World!\n"
          ]
        }
      ]
    },
    {
      "cell_type": "markdown",
      "source": [
        "**Negative Indexing**\n",
        "\n",
        "Use negative indexes to start the slice from the end of the string:"
      ],
      "metadata": {
        "id": "TSrpXZFDixWS"
      }
    },
    {
      "cell_type": "code",
      "source": [
        "# From: \"o\" in \"World!\" (position -5)\n",
        "\n",
        "# To, but not included: \"d\" in \"World!\" (position -2):\n",
        "\n",
        "b = \"Hello, World!\"\n",
        "print(b[-5:-2])"
      ],
      "metadata": {
        "colab": {
          "base_uri": "https://localhost:8080/"
        },
        "id": "VilS3Vifim-_",
        "outputId": "0fc8bf22-f5b9-47c0-992f-7a0b2d1c86e9"
      },
      "execution_count": 13,
      "outputs": [
        {
          "output_type": "stream",
          "name": "stdout",
          "text": [
            "orl\n"
          ]
        }
      ]
    },
    {
      "cell_type": "markdown",
      "source": [
        "# **Modify Strings**\n",
        "Python has a set of built-in methods that you can use on strings."
      ],
      "metadata": {
        "id": "aZNGdDQYkY7s"
      }
    },
    {
      "cell_type": "markdown",
      "source": [
        "**Upper Case**"
      ],
      "metadata": {
        "id": "ZQyc4Z35kcdi"
      }
    },
    {
      "cell_type": "code",
      "source": [
        "# The upper() method returns the string in upper case:\n",
        "\n",
        "a = \"Hello, World!\"\n",
        "print(a.upper())"
      ],
      "metadata": {
        "colab": {
          "base_uri": "https://localhost:8080/"
        },
        "id": "x_OFi99njR8f",
        "outputId": "901ac0d3-27cf-4e60-de9d-7063cf1b932b"
      },
      "execution_count": 1,
      "outputs": [
        {
          "output_type": "stream",
          "name": "stdout",
          "text": [
            "HELLO, WORLD!\n"
          ]
        }
      ]
    },
    {
      "cell_type": "markdown",
      "source": [
        "**Lower Case**"
      ],
      "metadata": {
        "id": "1sE3YMDXIuT0"
      }
    },
    {
      "cell_type": "code",
      "source": [
        "# The lower() method returns the string in lower case:\n",
        "\n",
        "a = \"Hello, World!\"\n",
        "print(a.lower())"
      ],
      "metadata": {
        "colab": {
          "base_uri": "https://localhost:8080/"
        },
        "id": "wD-RFskVIoIb",
        "outputId": "9b8e9f20-f58e-450f-b92a-f758855a0a41"
      },
      "execution_count": 2,
      "outputs": [
        {
          "output_type": "stream",
          "name": "stdout",
          "text": [
            "hello, world!\n"
          ]
        }
      ]
    },
    {
      "cell_type": "markdown",
      "source": [
        "**Remove Whitespace**\n",
        "\n",
        "Whitespace is the space before and/or after the actual text, and very often you want to remove this space."
      ],
      "metadata": {
        "id": "OwmUasJOJHj0"
      }
    },
    {
      "cell_type": "code",
      "source": [
        "# The strip() method removes any whitespace from the beginning or the end:\n",
        "\n",
        "a = \" Hello, Python! \"\n",
        "print(a.strip())"
      ],
      "metadata": {
        "colab": {
          "base_uri": "https://localhost:8080/"
        },
        "id": "ennrLURxI72V",
        "outputId": "f1e907a6-0819-47c1-f02d-3893efeee2e0"
      },
      "execution_count": 3,
      "outputs": [
        {
          "output_type": "stream",
          "name": "stdout",
          "text": [
            "Hello, Python!\n"
          ]
        }
      ]
    },
    {
      "cell_type": "markdown",
      "source": [
        "**Replace String**\n",
        "\n",
        "The replace() method replaces a string with another string:"
      ],
      "metadata": {
        "id": "NFq1NshxJxJD"
      }
    },
    {
      "cell_type": "code",
      "source": [
        "a = \"Hello, Python!\"\n",
        "print(a.replace(\"H\",\"J\"))"
      ],
      "metadata": {
        "colab": {
          "base_uri": "https://localhost:8080/"
        },
        "id": "ZYjVKHQhJs55",
        "outputId": "f724704d-3a86-4c5d-dba5-830d84072c01"
      },
      "execution_count": 5,
      "outputs": [
        {
          "output_type": "stream",
          "name": "stdout",
          "text": [
            "Jello, Python!\n"
          ]
        }
      ]
    },
    {
      "cell_type": "markdown",
      "source": [
        "**Split String**\n",
        "\n",
        "The split() method returns a list where the text between the specified separator becomes the list items."
      ],
      "metadata": {
        "id": "alBzHNQMKd7M"
      }
    },
    {
      "cell_type": "code",
      "source": [
        "# The split() method splits the string into substrings if it finds instances of the separator:\n",
        "\n",
        "a = \"Hello, Python!\"\n",
        "print(a.split(\",\"))"
      ],
      "metadata": {
        "colab": {
          "base_uri": "https://localhost:8080/"
        },
        "id": "i50Ik3rjKQcF",
        "outputId": "7b5d21f9-c589-4f42-da90-279474612142"
      },
      "execution_count": 6,
      "outputs": [
        {
          "output_type": "stream",
          "name": "stdout",
          "text": [
            "['Hello', ' Python!']\n"
          ]
        }
      ]
    },
    {
      "cell_type": "markdown",
      "source": [
        "# **String Concatenation**\n",
        "\n",
        "To concatenate, or combine, two strings you can use the + operator."
      ],
      "metadata": {
        "id": "IzlVdvTcLktp"
      }
    },
    {
      "cell_type": "code",
      "source": [
        "# Merge variable a with variable b into variable c:\n",
        "\n",
        "a = \"Hello\"\n",
        "b = \"Python\"\n",
        "c = a + b\n",
        "print (c)"
      ],
      "metadata": {
        "colab": {
          "base_uri": "https://localhost:8080/"
        },
        "id": "9LfBo0xhKvoY",
        "outputId": "b9692524-8f08-49bf-bdb9-24c3a00b38c3"
      },
      "execution_count": 7,
      "outputs": [
        {
          "output_type": "stream",
          "name": "stdout",
          "text": [
            "HelloPython\n"
          ]
        }
      ]
    },
    {
      "cell_type": "code",
      "source": [
        "# To add a space between them, add a \" \":\n",
        "\n",
        "a = \"Hello\"\n",
        "b = \"Python\"\n",
        "c = a + \" \" + b\n",
        "print (c)"
      ],
      "metadata": {
        "colab": {
          "base_uri": "https://localhost:8080/"
        },
        "id": "hlmatkBqMGQN",
        "outputId": "81c67656-84d0-4d67-e310-67c3efe7e583"
      },
      "execution_count": 8,
      "outputs": [
        {
          "output_type": "stream",
          "name": "stdout",
          "text": [
            "Hello Python\n"
          ]
        }
      ]
    },
    {
      "cell_type": "markdown",
      "source": [
        "# **String Format**\n"
      ],
      "metadata": {
        "id": "eT5Lc4wBMpgL"
      }
    },
    {
      "cell_type": "markdown",
      "source": [
        "**String Format**\n",
        "\n",
        "As we learned in the Python Variables chapter, we cannot combine strings and numbers like this:"
      ],
      "metadata": {
        "id": "ld2z8vZXMo-V"
      }
    },
    {
      "cell_type": "code",
      "source": [
        "age = 30\n",
        "txt = \"My name is Shri, I am \" + age\n",
        "print(txt)"
      ],
      "metadata": {
        "colab": {
          "base_uri": "https://localhost:8080/",
          "height": 180
        },
        "id": "2naSSbSANW99",
        "outputId": "c9767cff-c955-4907-8ef4-a7cd2c2e1413"
      },
      "execution_count": 11,
      "outputs": [
        {
          "output_type": "error",
          "ename": "TypeError",
          "evalue": "can only concatenate str (not \"int\") to str",
          "traceback": [
            "\u001b[0;31m---------------------------------------------------------------------------\u001b[0m",
            "\u001b[0;31mTypeError\u001b[0m                                 Traceback (most recent call last)",
            "\u001b[0;32m<ipython-input-11-851eaaaed115>\u001b[0m in \u001b[0;36m<cell line: 2>\u001b[0;34m()\u001b[0m\n\u001b[1;32m      1\u001b[0m \u001b[0mage\u001b[0m \u001b[0;34m=\u001b[0m \u001b[0;36m30\u001b[0m\u001b[0;34m\u001b[0m\u001b[0;34m\u001b[0m\u001b[0m\n\u001b[0;32m----> 2\u001b[0;31m \u001b[0mtxt\u001b[0m \u001b[0;34m=\u001b[0m \u001b[0;34m\"My name is Shri, I am \"\u001b[0m \u001b[0;34m+\u001b[0m \u001b[0mage\u001b[0m\u001b[0;34m\u001b[0m\u001b[0;34m\u001b[0m\u001b[0m\n\u001b[0m\u001b[1;32m      3\u001b[0m \u001b[0mprint\u001b[0m\u001b[0;34m(\u001b[0m\u001b[0mtxt\u001b[0m\u001b[0;34m)\u001b[0m\u001b[0;34m\u001b[0m\u001b[0;34m\u001b[0m\u001b[0m\n",
            "\u001b[0;31mTypeError\u001b[0m: can only concatenate str (not \"int\") to str"
          ]
        }
      ]
    },
    {
      "cell_type": "markdown",
      "source": [
        "But we can combine strings and numbers by using f-strings or the format() method!\n"
      ],
      "metadata": {
        "id": "SHLyhFpDNvNQ"
      }
    },
    {
      "cell_type": "markdown",
      "source": [
        "**F-Strings**\n",
        "\n",
        "F-String was introduced in Python 3.6, and is now the preferred way of formatting strings.\n",
        "\n",
        "To specify a string as an f-string, simply put an f in front of the string literal, and add curly brackets {} as placeholders for variables and other operations."
      ],
      "metadata": {
        "id": "jpvruO8CNzMo"
      }
    },
    {
      "cell_type": "code",
      "source": [
        "# Create an f-string:\n",
        "age = 30\n",
        "txt = f\"My name is Shri, I am {age}\"\n",
        "print(txt)"
      ],
      "metadata": {
        "colab": {
          "base_uri": "https://localhost:8080/"
        },
        "id": "ik5ee8SZNiRI",
        "outputId": "e39f9f30-fe83-461d-97d1-6685ee2d0a5d"
      },
      "execution_count": 12,
      "outputs": [
        {
          "output_type": "stream",
          "name": "stdout",
          "text": [
            "My name is Shri, I am 30\n"
          ]
        }
      ]
    },
    {
      "cell_type": "markdown",
      "source": [
        "**Placeholders and Modifiers**\n",
        "\n",
        "A placeholder can contain variables, operations, functions, and modifiers to format the value."
      ],
      "metadata": {
        "id": "9RiuXAjOOXhe"
      }
    },
    {
      "cell_type": "code",
      "source": [
        "# Add a placeholder for the price variable:\n",
        "price = 59\n",
        "txt = f\"The price is {price} dollars\"\n",
        "print(txt)"
      ],
      "metadata": {
        "colab": {
          "base_uri": "https://localhost:8080/"
        },
        "id": "j1Fog6vSOfLm",
        "outputId": "70ec244e-9917-4289-ab9e-ffe761ce0214"
      },
      "execution_count": 13,
      "outputs": [
        {
          "output_type": "stream",
          "name": "stdout",
          "text": [
            "The price is 59 dollars\n"
          ]
        }
      ]
    },
    {
      "cell_type": "markdown",
      "source": [
        "A placeholder can include a modifier to format the value.\n",
        "\n",
        "A modifier is included by adding a colon : followed by a legal formatting type, like .2f which means fixed point number with 2 decimals:"
      ],
      "metadata": {
        "id": "QFWG-zJ_OXar"
      }
    },
    {
      "cell_type": "code",
      "source": [
        "# Display the price with 2 decimals:\n",
        "\n",
        "price = 61\n",
        "txt = f\"The price is {price:.2f} dollars\"\n",
        "print(txt)"
      ],
      "metadata": {
        "colab": {
          "base_uri": "https://localhost:8080/"
        },
        "id": "fbW-Vu_cOLCb",
        "outputId": "cb702cd2-218d-4d40-9da5-9ab39ed00109"
      },
      "execution_count": 14,
      "outputs": [
        {
          "output_type": "stream",
          "name": "stdout",
          "text": [
            "The price is 61.00 dollars\n"
          ]
        }
      ]
    },
    {
      "cell_type": "markdown",
      "source": [
        "A placeholder can contain Python code, like math operations:"
      ],
      "metadata": {
        "id": "qIJYWqWvPJ2K"
      }
    },
    {
      "cell_type": "code",
      "source": [
        "# Perform a math operation in the placeholder, and return the result:\n",
        "\n",
        "txt = f\"The price is {81 * 59} dollars\"\n",
        "print(txt)"
      ],
      "metadata": {
        "colab": {
          "base_uri": "https://localhost:8080/"
        },
        "id": "QlPOIyvbPDN2",
        "outputId": "a85c8512-44ee-4b83-b7bc-344bb2702078"
      },
      "execution_count": 15,
      "outputs": [
        {
          "output_type": "stream",
          "name": "stdout",
          "text": [
            "The price is 4779 dollars\n"
          ]
        }
      ]
    },
    {
      "cell_type": "markdown",
      "source": [
        "# **Escape Character**\n"
      ],
      "metadata": {
        "id": "J_R7a1D7WBt0"
      }
    },
    {
      "cell_type": "markdown",
      "source": [
        "**Escape Character**\n",
        "\n",
        "To insert characters that are illegal in a string, use an escape character.\n",
        "\n",
        "An escape character is a backslash \\ followed by the character you want to insert.\n",
        "\n",
        "An example of an illegal character is a double quote inside a string that is surrounded by double quotes:"
      ],
      "metadata": {
        "id": "dPZpEgXMWBOK"
      }
    },
    {
      "cell_type": "code",
      "source": [
        "# You will get an error if you use double quotes inside a string that is surrounded by double quotes:\n",
        "\n",
        "txt = \"We are the so-called \"Vikings\" from the north.\"\n",
        "print(txt)"
      ],
      "metadata": {
        "colab": {
          "base_uri": "https://localhost:8080/",
          "height": 108
        },
        "id": "mOanNqeHPTyc",
        "outputId": "3c8ffdb6-8161-4d16-87f1-03c9cf9849ca"
      },
      "execution_count": 17,
      "outputs": [
        {
          "output_type": "error",
          "ename": "SyntaxError",
          "evalue": "invalid syntax (<ipython-input-17-af54786ae7c9>, line 3)",
          "traceback": [
            "\u001b[0;36m  File \u001b[0;32m\"<ipython-input-17-af54786ae7c9>\"\u001b[0;36m, line \u001b[0;32m3\u001b[0m\n\u001b[0;31m    txt = \"We are the so-called \"Vikings\" from the north.\"\u001b[0m\n\u001b[0m                                 ^\u001b[0m\n\u001b[0;31mSyntaxError\u001b[0m\u001b[0;31m:\u001b[0m invalid syntax\n"
          ]
        }
      ]
    },
    {
      "cell_type": "markdown",
      "source": [
        "To fix this problem, use the escape character \\\":"
      ],
      "metadata": {
        "id": "cr9czk-uWX4T"
      }
    },
    {
      "cell_type": "code",
      "source": [
        "# The escape character allows you to use double quotes when you normally would not be allowed:\n",
        "\n",
        "txt = \"We are the so-called \\\"Vikings\\\" from the north.\"\n",
        "print(txt)"
      ],
      "metadata": {
        "colab": {
          "base_uri": "https://localhost:8080/"
        },
        "id": "elFvKUe_WeIm",
        "outputId": "38b7fb93-6b09-4f7f-adfd-05f8604128ef"
      },
      "execution_count": 18,
      "outputs": [
        {
          "output_type": "stream",
          "name": "stdout",
          "text": [
            "We are the so-called \"Vikings\" from the north.\n"
          ]
        }
      ]
    },
    {
      "cell_type": "code",
      "source": [
        "txt = \"We are the so called \\'Vikings\\' from the north.\"  # Single quote\n",
        "print(txt)"
      ],
      "metadata": {
        "colab": {
          "base_uri": "https://localhost:8080/"
        },
        "id": "K3h1t9VBWqOU",
        "outputId": "e675ec83-fbe0-415e-ba51-ad131f9d3782"
      },
      "execution_count": 19,
      "outputs": [
        {
          "output_type": "stream",
          "name": "stdout",
          "text": [
            "We are the so called 'Vikings' from the north.\n"
          ]
        }
      ]
    },
    {
      "cell_type": "code",
      "source": [
        "txt = \"We are the so called \\Vikings from the north.\"   # Backslash\n",
        "print(txt)"
      ],
      "metadata": {
        "colab": {
          "base_uri": "https://localhost:8080/"
        },
        "id": "7POG2bdRXLWc",
        "outputId": "c6ea0e14-1d3f-4ec1-baef-51acaf5fcb7e"
      },
      "execution_count": 20,
      "outputs": [
        {
          "output_type": "stream",
          "name": "stdout",
          "text": [
            "We are the so called \\Vikings from the north.\n"
          ]
        }
      ]
    },
    {
      "cell_type": "code",
      "source": [
        "txt = \"We are the so called \\nVikings from the north.\"   # New line\n",
        "print(txt)"
      ],
      "metadata": {
        "colab": {
          "base_uri": "https://localhost:8080/"
        },
        "id": "zaNRZh65XWVM",
        "outputId": "77307374-a288-483f-d672-7159c7268ed0"
      },
      "execution_count": 21,
      "outputs": [
        {
          "output_type": "stream",
          "name": "stdout",
          "text": [
            "We are the so called \n",
            "Vikings from the north.\n"
          ]
        }
      ]
    },
    {
      "cell_type": "code",
      "source": [
        "txt = \"We are the so called \\rVikings from the north.\"   # Carriage return\n",
        "print(txt)"
      ],
      "metadata": {
        "colab": {
          "base_uri": "https://localhost:8080/"
        },
        "id": "_0lx-95CXsjw",
        "outputId": "c8362042-0847-4538-d28d-5286c7269ee6"
      },
      "execution_count": 22,
      "outputs": [
        {
          "output_type": "stream",
          "name": "stdout",
          "text": [
            "We are the so called \rVikings from the north.\n"
          ]
        }
      ]
    },
    {
      "cell_type": "code",
      "source": [
        "txt = \"We are the so called \\tVikings from the north.\"   # Tab\n",
        "print(txt)"
      ],
      "metadata": {
        "colab": {
          "base_uri": "https://localhost:8080/"
        },
        "id": "fdrm0grlX1rZ",
        "outputId": "38254710-87cd-4364-d992-1ddffbfb0b2d"
      },
      "execution_count": 23,
      "outputs": [
        {
          "output_type": "stream",
          "name": "stdout",
          "text": [
            "We are the so called \tVikings from the north.\n"
          ]
        }
      ]
    },
    {
      "cell_type": "code",
      "source": [
        "txt = \"We are the so called \\b Vikings from the north.\"   # Backspace\n",
        "print(txt)"
      ],
      "metadata": {
        "colab": {
          "base_uri": "https://localhost:8080/"
        },
        "id": "rw3zP3piX_DZ",
        "outputId": "9758f97d-d3fe-4842-bb83-7dc9bccdee9a"
      },
      "execution_count": 25,
      "outputs": [
        {
          "output_type": "stream",
          "name": "stdout",
          "text": [
            "We are the so called \b Vikings from the north.\n"
          ]
        }
      ]
    },
    {
      "cell_type": "code",
      "source": [
        "txt = \"We are the so called \\fVikings from the north.\"   # Form feed\n",
        "print(txt)"
      ],
      "metadata": {
        "colab": {
          "base_uri": "https://localhost:8080/"
        },
        "id": "wBajTfOmYQgV",
        "outputId": "f7e06cf4-5d0b-48be-b831-1f879dd06e66"
      },
      "execution_count": 27,
      "outputs": [
        {
          "output_type": "stream",
          "name": "stdout",
          "text": [
            "We are the so called \fVikings from the north.\n"
          ]
        }
      ]
    },
    {
      "cell_type": "code",
      "source": [
        "txt = \"We are the so called \\ooo Vikings from the north.\"   # Octal value\n",
        "print(txt)"
      ],
      "metadata": {
        "colab": {
          "base_uri": "https://localhost:8080/"
        },
        "id": "qOI2n19xYe3f",
        "outputId": "4cad9985-b44a-4775-dcee-7d554028dea0"
      },
      "execution_count": 29,
      "outputs": [
        {
          "output_type": "stream",
          "name": "stdout",
          "text": [
            "We are the so called \\ooo Vikings from the north.\n"
          ]
        }
      ]
    },
    {
      "cell_type": "code",
      "source": [
        "txt = \"We are the so called \\xhh Vikings from the north.\"   # Hex value\n",
        "print(txt)"
      ],
      "metadata": {
        "colab": {
          "base_uri": "https://localhost:8080/",
          "height": 108
        },
        "id": "Rg31w3LbYtIi",
        "outputId": "61b283d2-f407-4f8b-d772-824908796e34"
      },
      "execution_count": 30,
      "outputs": [
        {
          "output_type": "error",
          "ename": "SyntaxError",
          "evalue": "(unicode error) 'unicodeescape' codec can't decode bytes in position 21-22: truncated \\xXX escape (<ipython-input-30-136a1eed88be>, line 1)",
          "traceback": [
            "\u001b[0;36m  File \u001b[0;32m\"<ipython-input-30-136a1eed88be>\"\u001b[0;36m, line \u001b[0;32m1\u001b[0m\n\u001b[0;31m    txt = \"We are the so called \\xhh Vikings from the north.\"   # Hex value\u001b[0m\n\u001b[0m                                                                ^\u001b[0m\n\u001b[0;31mSyntaxError\u001b[0m\u001b[0;31m:\u001b[0m (unicode error) 'unicodeescape' codec can't decode bytes in position 21-22: truncated \\xXX escape\n"
          ]
        }
      ]
    },
    {
      "cell_type": "markdown",
      "source": [
        "# **String Methods**"
      ],
      "metadata": {
        "id": "3sOEnPX3ZbL2"
      }
    },
    {
      "cell_type": "markdown",
      "source": [
        "Python has a set of built-in methods that you can use on strings.\n",
        "\n",
        "Note: All string methods return new values. They do not change the original string.\n"
      ],
      "metadata": {
        "id": "mT2nZM-eZeHk"
      }
    },
    {
      "cell_type": "markdown",
      "source": [
        "capitalize() -\tConverts the first character to upper case\n",
        "\n",
        "casefold() -\tConverts string into lower case\n",
        "\n",
        "center() -\tReturns a centered string\n",
        "\n",
        "count()\t- Returns the number of times a specified value occurs in a string\n",
        "\n",
        "encode() -\tReturns an encoded version of the string\n",
        "\n",
        "endswith() -\tReturns true if the string ends with the specified value\n",
        "\n",
        "expandtabs() -\tSets the tab size of the string\n",
        "\n",
        "find() -\tSearches the string for a specified value and returns the position of where it was found\n",
        "\n",
        "format() -\tFormats specified values in a string\n",
        "\n",
        "format_map() -\tFormats specified values in a string\n",
        "\n",
        "index() -\tSearches the string for a specified value and returns the position of where it was found\n",
        "\n",
        "isalnum() -\tReturns True if all characters in the string are alphanumeric\n",
        "\n",
        "isalpha() -\tReturns True if all characters in the string are in the alphabet\n",
        "\n",
        "isascii() -\tReturns True if all characters in the string are ascii characters\n",
        "\n",
        "isdecimal() -\tReturns True if all characters in the string are decimals\n",
        "\n",
        "isdigit() -\tReturns True if all characters in the string are digits\n",
        "\n",
        "isidentifier() -\tReturns True if the string is an identifier\n",
        "\n",
        "islower()\t- Returns True if all characters in the string are lower case\n",
        "\n",
        "isnumeric() -\tReturns True if all characters in the string are numeric\n",
        "\n",
        "isprintable() -\tReturns True if all characters in the string are printable\n",
        "\n",
        "isspace()\t- Returns True if all characters in the string are whitespaces\n",
        "\n",
        "istitle() -\tReturns True if the string follows the rules of a title\n",
        "\n",
        "isupper()\t- Returns True if all characters in the string are upper case\n",
        "\n",
        "join() -\tJoins the elements of an iterable to the end of the string\n",
        "\n",
        "ljust()\t- Returns a left justified version of the string\n",
        "\n",
        "lower() -\tConverts a string into lower case\n",
        "\n",
        "lstrip() -\tReturns a left trim version of the string\n",
        "\n",
        "maketrans() -\tReturns a translation table to be used in translations\n",
        "\n",
        "partition()\t- Returns a tuple where the string is parted into three parts\n",
        "\n",
        "replace()\t- Returns a string where a specified value is replaced with a\n",
        "specified value\n",
        "\n",
        "rfind() -\tSearches the string for a specified value and returns the last position of where it was found\n",
        "\n",
        "rindex() -\tSearches the string for a specified value and returns the last position of where it was found\n",
        "\n",
        "rjust() -\tReturns a right justified version of the string\n",
        "\n",
        "rpartition() -\tReturns a tuple where the string is parted into three parts\n",
        "\n",
        "rsplit() -\tSplits the string at the specified separator, and returns a list\n",
        "\n",
        "rstrip() -\tReturns a right trim version of the string\n",
        "\n",
        "split()\t- Splits the string at the specified separator, and returns a list\n",
        "\n",
        "splitlines() -\tSplits the string at line breaks and returns a list\n",
        "\n",
        "startswith() -\tReturns true if the string starts with the specified value\n",
        "\n",
        "strip()\t - Returns a trimmed version of the string\n",
        "\n",
        "swapcase() -\tSwaps cases, lower case becomes upper case and vice versa\n",
        "\n",
        "title()\t- Converts the first character of each word to upper case\n",
        "\n",
        "translate() -\tReturns a translated string\n",
        "\n",
        "upper()\t- Converts a string into upper case\n",
        "\n",
        "zfill()\t- Fills the string with a specified number of 0 values at the beginning\n",
        "\n",
        "\n",
        "\n",
        "---\n",
        "\n",
        "\n",
        "\n",
        "---\n",
        "\n"
      ],
      "metadata": {
        "id": "Y9_2-sGYZmh5"
      }
    }
  ]
}