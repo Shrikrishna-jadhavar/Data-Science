{
  "nbformat": 4,
  "nbformat_minor": 0,
  "metadata": {
    "colab": {
      "provenance": []
    },
    "kernelspec": {
      "name": "python3",
      "display_name": "Python 3"
    },
    "language_info": {
      "name": "python"
    }
  },
  "cells": [
    {
      "cell_type": "markdown",
      "source": [
        "# **Python For Loops**"
      ],
      "metadata": {
        "id": "tjgVXT6k3nda"
      }
    },
    {
      "cell_type": "markdown",
      "source": [
        "**Python For Loops**\n",
        "\n",
        "A for loop is used for iterating over a sequence (that is either a list, a tuple, a dictionary, a set, or a string).\n",
        "\n",
        "This is less like the for keyword in other programming languages, and works more like an iterator method as found in other object-orientated programming languages.\n",
        "\n",
        "With the for loop we can execute a set of statements, once for each item in a list, tuple, set etc."
      ],
      "metadata": {
        "id": "YY5gT4_F3nQg"
      }
    },
    {
      "cell_type": "code",
      "execution_count": 2,
      "metadata": {
        "colab": {
          "base_uri": "https://localhost:8080/"
        },
        "id": "rt4zKpfb3cAP",
        "outputId": "7c3fa725-4792-40bd-9bb9-2451d29e9243"
      },
      "outputs": [
        {
          "output_type": "stream",
          "name": "stdout",
          "text": [
            "Apple\n",
            "Banana\n",
            "Cherry\n"
          ]
        }
      ],
      "source": [
        "# Print each fruit in a fruit list:\n",
        "\n",
        "fruits = [\"Apple\", \"Banana\", \"Cherry\"]\n",
        "for x in fruits:\n",
        "  print(x)"
      ]
    },
    {
      "cell_type": "markdown",
      "source": [
        "The for loop does not require an indexing variable to set beforehand."
      ],
      "metadata": {
        "id": "XWj3SWL55i3p"
      }
    },
    {
      "cell_type": "markdown",
      "source": [
        "# **Looping Through a String**\n",
        "\n",
        "Even strings are iterable objects, they contain a sequence of characters:"
      ],
      "metadata": {
        "id": "aSl_7GVs5xdG"
      }
    },
    {
      "cell_type": "code",
      "source": [
        "# Loop through the letters in the word \"banana\":\n",
        "\n",
        "for x in \"Banana\":\n",
        "  print(x)"
      ],
      "metadata": {
        "colab": {
          "base_uri": "https://localhost:8080/"
        },
        "id": "J7tM2zB65BXX",
        "outputId": "42401259-53ca-4dd8-c85b-dc893ba7a69d"
      },
      "execution_count": 3,
      "outputs": [
        {
          "output_type": "stream",
          "name": "stdout",
          "text": [
            "B\n",
            "a\n",
            "n\n",
            "a\n",
            "n\n",
            "a\n"
          ]
        }
      ]
    },
    {
      "cell_type": "markdown",
      "source": [],
      "metadata": {
        "id": "PmPuCeqf6Sg7"
      }
    },
    {
      "cell_type": "code",
      "source": [],
      "metadata": {
        "id": "x9p5DyJn5_2d"
      },
      "execution_count": null,
      "outputs": []
    },
    {
      "cell_type": "markdown",
      "source": [
        "# **The break Statement**\n",
        "\n",
        "With the break statement we can stop the loop before it has looped through all the items:"
      ],
      "metadata": {
        "id": "aACpQ8TN6YGg"
      }
    },
    {
      "cell_type": "code",
      "source": [
        "# Exit the loop when x is \"banana\":\n",
        "\n",
        "fruits = [\"Apple\", \"Banana\", \"Cherry\", \"Pinapple\"]\n",
        "for x in fruits:\n",
        "  print(x)\n",
        "  if x == \"Cherry\":\n",
        "    break"
      ],
      "metadata": {
        "colab": {
          "base_uri": "https://localhost:8080/"
        },
        "id": "KV30IebQ6oCZ",
        "outputId": "8a930d9e-ddf4-4928-aeb5-13e0b0b38bba"
      },
      "execution_count": 4,
      "outputs": [
        {
          "output_type": "stream",
          "name": "stdout",
          "text": [
            "Apple\n",
            "Banana\n",
            "Cherry\n"
          ]
        }
      ]
    },
    {
      "cell_type": "code",
      "source": [
        "# Exit the loop when x is \"banana\", but this time the break comes before the print:\n",
        "\n",
        "fruits = [\"apple\", \"banana\", \"cherry\"]\n",
        "for x in fruits:\n",
        "  if x == \"banana\":\n",
        "    break\n",
        "  print(x)"
      ],
      "metadata": {
        "colab": {
          "base_uri": "https://localhost:8080/"
        },
        "id": "7b4EDrLl7TqW",
        "outputId": "d458d698-fafe-4f5a-fb7e-bb7e9223f6c1"
      },
      "execution_count": 7,
      "outputs": [
        {
          "output_type": "stream",
          "name": "stdout",
          "text": [
            "apple\n"
          ]
        }
      ]
    },
    {
      "cell_type": "markdown",
      "source": [
        "# **The continue Statement**\n",
        "\n",
        "With the continue statement we can stop the current iteration of the loop, and continue with the next:"
      ],
      "metadata": {
        "id": "r1GizeAx6b3L"
      }
    },
    {
      "cell_type": "code",
      "source": [
        "# Do not print banana:\n",
        "\n",
        "fruits = [\"apple\", \"banana\", \"cherry\"]\n",
        "for x in fruits:\n",
        "  if x == \"banana\":\n",
        "    continue\n",
        "  print(x)"
      ],
      "metadata": {
        "colab": {
          "base_uri": "https://localhost:8080/"
        },
        "id": "dNC1cAY28cMW",
        "outputId": "179d623d-3861-4818-a2c4-811e9ebab1c6"
      },
      "execution_count": 9,
      "outputs": [
        {
          "output_type": "stream",
          "name": "stdout",
          "text": [
            "apple\n",
            "cherry\n"
          ]
        }
      ]
    },
    {
      "cell_type": "markdown",
      "source": [
        "# **The range() Function**\n",
        "To loop through a set of code a specified number of times, we can use the range() function,\n",
        "\n",
        "The range() function returns a sequence of numbers, starting from 0 by default, and increments by 1 (by default), and ends at a specified number."
      ],
      "metadata": {
        "id": "yFLiowqo9UET"
      }
    },
    {
      "cell_type": "code",
      "source": [
        "# Using the range() function:\n",
        "\n",
        "for x in range(6):\n",
        "  print(x)"
      ],
      "metadata": {
        "colab": {
          "base_uri": "https://localhost:8080/"
        },
        "id": "_IZbN_1R9lFH",
        "outputId": "c4647cbd-f96d-4b0c-fde7-ef61da2d32da"
      },
      "execution_count": 10,
      "outputs": [
        {
          "output_type": "stream",
          "name": "stdout",
          "text": [
            "0\n",
            "1\n",
            "2\n",
            "3\n",
            "4\n",
            "5\n"
          ]
        }
      ]
    },
    {
      "cell_type": "markdown",
      "source": [
        "Note that range(6) is not the values of 0 to 6, but the values 0 to 5."
      ],
      "metadata": {
        "id": "hu4AiiHI9z6v"
      }
    },
    {
      "cell_type": "markdown",
      "source": [
        "The range() function defaults to 0 as a starting value, however it is possible to specify the starting value by adding a parameter: range(2, 6), which means values from 2 to 6 (but not including 6):"
      ],
      "metadata": {
        "id": "84AR9a5V91x1"
      }
    },
    {
      "cell_type": "code",
      "source": [
        "# Using the start parameter:\n",
        "\n",
        "for x in range(2, 6):\n",
        "  print(x)"
      ],
      "metadata": {
        "colab": {
          "base_uri": "https://localhost:8080/"
        },
        "id": "4llB0EKm9mAI",
        "outputId": "3cbc9169-4e6b-4011-c2b1-fd075e770685"
      },
      "execution_count": 11,
      "outputs": [
        {
          "output_type": "stream",
          "name": "stdout",
          "text": [
            "2\n",
            "3\n",
            "4\n",
            "5\n"
          ]
        }
      ]
    },
    {
      "cell_type": "markdown",
      "source": [
        "The range() function defaults to increment the sequence by 1, however it is possible to specify the increment value by adding a third parameter: range(2, 30, 3):"
      ],
      "metadata": {
        "id": "knWMiEgr-VOW"
      }
    },
    {
      "cell_type": "code",
      "source": [
        "# Increment the sequence with 3 (default is 1):\n",
        "\n",
        "for x in range(2,30,3):\n",
        "  print(x)"
      ],
      "metadata": {
        "colab": {
          "base_uri": "https://localhost:8080/"
        },
        "id": "UFMvebLB-KdH",
        "outputId": "fa8ebaae-7dbf-4c57-8099-723ccf81b9db"
      },
      "execution_count": 12,
      "outputs": [
        {
          "output_type": "stream",
          "name": "stdout",
          "text": [
            "2\n",
            "5\n",
            "8\n",
            "11\n",
            "14\n",
            "17\n",
            "20\n",
            "23\n",
            "26\n",
            "29\n"
          ]
        }
      ]
    },
    {
      "cell_type": "markdown",
      "source": [
        "# **Else in For Loop**\n",
        "\n",
        "The else keyword in a for loop specifies a block of code to be executed when the loop is finished:"
      ],
      "metadata": {
        "id": "XR6qxvywAUVt"
      }
    },
    {
      "cell_type": "code",
      "source": [
        "# Print all numbers from 0 to 5, and print a message when the loop has ended:\n",
        "\n",
        "for x in range(6):\n",
        "  print(x)\n",
        "else:\n",
        "  print(\"Finally finished!\")"
      ],
      "metadata": {
        "colab": {
          "base_uri": "https://localhost:8080/"
        },
        "id": "z7JVNiyw-p7M",
        "outputId": "5d84f402-a183-461b-92cf-eac28c7d81f6"
      },
      "execution_count": 13,
      "outputs": [
        {
          "output_type": "stream",
          "name": "stdout",
          "text": [
            "0\n",
            "1\n",
            "2\n",
            "3\n",
            "4\n",
            "5\n",
            "Finally finished!\n"
          ]
        }
      ]
    },
    {
      "cell_type": "markdown",
      "source": [
        "Note: The else block will NOT be executed if the loop is stopped by a break statement."
      ],
      "metadata": {
        "id": "PrVZioXoA0pu"
      }
    },
    {
      "cell_type": "code",
      "source": [
        "# Break the loop when x is 3, and see what happens with the else block:\n",
        "\n",
        "for x in range(6):\n",
        "  if x == 3: break\n",
        "  print(x)\n",
        "else:\n",
        "  print(\"Finally finished\")"
      ],
      "metadata": {
        "colab": {
          "base_uri": "https://localhost:8080/"
        },
        "id": "CH4amMwTA1pl",
        "outputId": "6ca6b7ff-5ed7-4ce8-b4c3-08391bcac4a7"
      },
      "execution_count": 14,
      "outputs": [
        {
          "output_type": "stream",
          "name": "stdout",
          "text": [
            "0\n",
            "1\n",
            "2\n"
          ]
        }
      ]
    },
    {
      "cell_type": "markdown",
      "source": [
        "# **Nested Loops**\n",
        "\n",
        "A nested loop is a loop inside a loop.\n",
        "\n",
        "The \"inner loop\" will be executed one time for each iteration of the \"outer loop\":"
      ],
      "metadata": {
        "id": "M4VP9gmeA2D0"
      }
    },
    {
      "cell_type": "code",
      "source": [
        "# Print each adjective for every fruit:\n",
        "\n",
        "adj = [\"red\", \"big\", \"tasty\"]\n",
        "fruits = [\"apple\", \"banana\", \"cherry\"]\n",
        "\n",
        "for x in adj:\n",
        "  for y in fruits:\n",
        "    print(x, y)"
      ],
      "metadata": {
        "colab": {
          "base_uri": "https://localhost:8080/"
        },
        "id": "F0raIONQArjI",
        "outputId": "4d5ba5a1-8fcc-497b-c5ad-d786d3d64bea"
      },
      "execution_count": 16,
      "outputs": [
        {
          "output_type": "stream",
          "name": "stdout",
          "text": [
            "red apple\n",
            "red banana\n",
            "red cherry\n",
            "big apple\n",
            "big banana\n",
            "big cherry\n",
            "tasty apple\n",
            "tasty banana\n",
            "tasty cherry\n"
          ]
        }
      ]
    },
    {
      "cell_type": "markdown",
      "source": [
        "# **The pass Statement**\n",
        "\n",
        "for loops cannot be empty, but if you for some reason have a for loop with no content, put in the pass statement to avoid getting an error."
      ],
      "metadata": {
        "id": "Pya8TbKxCeTx"
      }
    },
    {
      "cell_type": "code",
      "source": [
        "for x in [0, 1, 2, 3]:\n",
        "  pass"
      ],
      "metadata": {
        "id": "FMCexIInByU-"
      },
      "execution_count": 17,
      "outputs": []
    }
  ]
}