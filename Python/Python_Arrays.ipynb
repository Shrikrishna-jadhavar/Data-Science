{
  "nbformat": 4,
  "nbformat_minor": 0,
  "metadata": {
    "colab": {
      "provenance": []
    },
    "kernelspec": {
      "name": "python3",
      "display_name": "Python 3"
    },
    "language_info": {
      "name": "python"
    }
  },
  "cells": [
    {
      "cell_type": "markdown",
      "source": [
        "*Note: Python does not have built-in support for Arrays, but Python Lists can be used instead.*\n"
      ],
      "metadata": {
        "id": "-9fU8HI6-iVn"
      }
    },
    {
      "cell_type": "markdown",
      "source": [
        "# **Arrays**\n",
        "\n",
        "*Note: This page shows you how to use LISTS as ARRAYS, however, to work with arrays in Python you will have to import a library, like the NumPy library.*\n",
        "\n",
        "Arrays are used to store multiple values in one single variable:"
      ],
      "metadata": {
        "id": "vmGMF17f-wrI"
      }
    },
    {
      "cell_type": "code",
      "execution_count": 3,
      "metadata": {
        "id": "7T8L5OFr-bBq"
      },
      "outputs": [],
      "source": [
        "# Create an array containing car names:\n",
        "\n",
        "cars = [\"Ford\", \"Hyundai\", \"Tata\", \"Honda\"]"
      ]
    },
    {
      "cell_type": "markdown",
      "source": [
        "What is an Array?\n",
        "\n",
        "An array is a special variable, which can hold more than one value at a time.\n",
        "\n",
        "If you have a list of items (a list of car names, for example), storing the cars in single variables could look like this:                              \n",
        "car1 = \"Ford\"                                                         \n",
        "car2 = \"Hyundai\"                                                 \n",
        "car3 = \"Tata\"                                                         \n",
        "car4 = \"Honda\"\n",
        "\n",
        "However, what if you want to loop through the cars and find a specific one? And what if you had not 3 cars, but 300?\n",
        "\n",
        "The solution is an array!\n",
        "\n",
        "An array can hold many values under a single name, and you can access the values by referring to an index number."
      ],
      "metadata": {
        "id": "etNqCNpX_xYo"
      }
    },
    {
      "cell_type": "markdown",
      "source": [
        "# **Access the Elements of an Array**\n",
        "\n",
        "You refer to an array element by referring to the index number."
      ],
      "metadata": {
        "id": "s3Dh9EtADjBO"
      }
    },
    {
      "cell_type": "code",
      "source": [
        "# Get the value of the first array item:\n",
        "\n",
        "x = cars[0]\n",
        "x"
      ],
      "metadata": {
        "colab": {
          "base_uri": "https://localhost:8080/",
          "height": 35
        },
        "id": "nPGk2JeK_v83",
        "outputId": "0017a419-cf01-426e-a9e2-715d9e7a43a3"
      },
      "execution_count": 5,
      "outputs": [
        {
          "output_type": "execute_result",
          "data": {
            "text/plain": [
              "'Ford'"
            ],
            "application/vnd.google.colaboratory.intrinsic+json": {
              "type": "string"
            }
          },
          "metadata": {},
          "execution_count": 5
        }
      ]
    },
    {
      "cell_type": "code",
      "source": [
        "# Modify the value of the first array item:\n",
        "\n",
        "cars[0] = \"Toyota\"\n",
        "cars"
      ],
      "metadata": {
        "colab": {
          "base_uri": "https://localhost:8080/"
        },
        "id": "x7dKlZqDDtro",
        "outputId": "d6c42b15-c145-4357-8b94-e12ac62783cd"
      },
      "execution_count": 6,
      "outputs": [
        {
          "output_type": "execute_result",
          "data": {
            "text/plain": [
              "['Toyota', 'Hyundai', 'Tata', 'Honda']"
            ]
          },
          "metadata": {},
          "execution_count": 6
        }
      ]
    },
    {
      "cell_type": "markdown",
      "source": [
        "# **The Length of an Array**\n",
        "\n",
        "Use the len() method to return the length of an array (the number of elements in an array)."
      ],
      "metadata": {
        "id": "bcnPU5rhIfrf"
      }
    },
    {
      "cell_type": "code",
      "source": [
        "# Return the number of elements in the cars array:\n",
        "\n",
        "len(cars)\n",
        "\n",
        "# Or\n",
        "\n",
        "# x = len(cars)"
      ],
      "metadata": {
        "colab": {
          "base_uri": "https://localhost:8080/"
        },
        "id": "grkYusDPIdh-",
        "outputId": "195090a1-b671-4016-e3fc-833679687ad8"
      },
      "execution_count": 7,
      "outputs": [
        {
          "output_type": "execute_result",
          "data": {
            "text/plain": [
              "4"
            ]
          },
          "metadata": {},
          "execution_count": 7
        }
      ]
    },
    {
      "cell_type": "markdown",
      "source": [
        "*Note: The length of an array is always one more than the highest array index.*"
      ],
      "metadata": {
        "id": "qP_kWrWdIsSP"
      }
    },
    {
      "cell_type": "markdown",
      "source": [
        "# **Looping Array Elements**\n",
        "\n",
        "You can use the for in loop to loop through all the elements of an array."
      ],
      "metadata": {
        "id": "sVZfgvhiI_LI"
      }
    },
    {
      "cell_type": "code",
      "source": [
        "# Print each item in the cars array:\n",
        "\n",
        "for i in range(len(cars)):\n",
        "    print(cars[i])"
      ],
      "metadata": {
        "colab": {
          "base_uri": "https://localhost:8080/"
        },
        "id": "oZzmyjZ1JDJu",
        "outputId": "06cf3c0c-befd-4735-e606-336e5b6f94a4"
      },
      "execution_count": 8,
      "outputs": [
        {
          "output_type": "stream",
          "name": "stdout",
          "text": [
            "Toyota\n",
            "Hyundai\n",
            "Tata\n",
            "Honda\n"
          ]
        }
      ]
    },
    {
      "cell_type": "code",
      "source": [
        "for x in cars:\n",
        "  print(x)"
      ],
      "metadata": {
        "colab": {
          "base_uri": "https://localhost:8080/"
        },
        "id": "tPV0BovbJLme",
        "outputId": "72777440-3a1d-46fd-e5b3-77fbee8cc052"
      },
      "execution_count": 10,
      "outputs": [
        {
          "output_type": "stream",
          "name": "stdout",
          "text": [
            "Toyota\n",
            "Hyundai\n",
            "Tata\n",
            "Honda\n"
          ]
        }
      ]
    },
    {
      "cell_type": "markdown",
      "source": [
        "# **Adding Array Elements**\n",
        "\n",
        "You can use the append() method to add an element to an array."
      ],
      "metadata": {
        "id": "6aNlpoaCJja_"
      }
    },
    {
      "cell_type": "code",
      "source": [
        "# Add one more element to the cars array:\n",
        "\n",
        "cars.append(\"BMW\")\n",
        "cars"
      ],
      "metadata": {
        "colab": {
          "base_uri": "https://localhost:8080/"
        },
        "id": "dQpZntd-JQUw",
        "outputId": "bc167a65-c9cb-4907-e0ea-1d71d9a11fd8"
      },
      "execution_count": 11,
      "outputs": [
        {
          "output_type": "execute_result",
          "data": {
            "text/plain": [
              "['Toyota', 'Hyundai', 'Tata', 'Honda', 'BMW']"
            ]
          },
          "metadata": {},
          "execution_count": 11
        }
      ]
    },
    {
      "cell_type": "markdown",
      "source": [
        "# **Removing Array Elements**\n",
        "\n",
        "You can use the pop() method to remove an element from the array."
      ],
      "metadata": {
        "id": "bCzDJIjKKFc7"
      }
    },
    {
      "cell_type": "code",
      "source": [
        "# Delete the second element of the cars array:\n",
        "\n",
        "cars.pop(1)\n",
        "cars"
      ],
      "metadata": {
        "colab": {
          "base_uri": "https://localhost:8080/"
        },
        "id": "orPfyHm_Jsob",
        "outputId": "ede68fc7-122d-43ae-9ec0-a8e564b7cee2"
      },
      "execution_count": 12,
      "outputs": [
        {
          "output_type": "execute_result",
          "data": {
            "text/plain": [
              "['Toyota', 'Tata', 'Honda', 'BMW']"
            ]
          },
          "metadata": {},
          "execution_count": 12
        }
      ]
    },
    {
      "cell_type": "markdown",
      "source": [
        "You can also use the remove() method to remove an element from the array."
      ],
      "metadata": {
        "id": "wuQ6WTX-KyXj"
      }
    },
    {
      "cell_type": "code",
      "source": [
        "# Delete the element that has the value \"BMW\":\n",
        "\n",
        "cars.remove(\"BMW\")\n",
        "cars"
      ],
      "metadata": {
        "colab": {
          "base_uri": "https://localhost:8080/"
        },
        "id": "Iso0Pg5cKm8_",
        "outputId": "146f700d-d3fd-4d06-a616-4305b29a366c"
      },
      "execution_count": 14,
      "outputs": [
        {
          "output_type": "execute_result",
          "data": {
            "text/plain": [
              "['Toyota', 'Tata', 'Honda']"
            ]
          },
          "metadata": {},
          "execution_count": 14
        }
      ]
    },
    {
      "cell_type": "markdown",
      "source": [
        "\n",
        "\n",
        "*Note: The list's remove() method only removes the first occurrence of the specified value.*\n"
      ],
      "metadata": {
        "id": "kXb7dEgLLSrL"
      }
    },
    {
      "cell_type": "markdown",
      "source": [
        "# **Array Methods**\n",
        "\n",
        "Python has a set of built-in methods that you can use on lists/arrays."
      ],
      "metadata": {
        "id": "j22vubUVLVJz"
      }
    },
    {
      "cell_type": "markdown",
      "source": [
        "Method     -  - - - - - -              \tDescription                            \n",
        "\n",
        "append()\t            Adds an element at the end of the list\n",
        "\n",
        "clear()\t               Removes all the elements from the list\n",
        "\n",
        "copy()\t               Returns a copy of the list\n",
        "\n",
        "count()\t               Returns the number of elements with the specified value\n",
        "\n",
        "extend()\t        Add the elements of a list (or any iterable), to the end of the current list\n",
        "\n",
        "index()\t               Returns the index of the first element with the specified value\n",
        "\n",
        "insert()\t             Adds an element at the specified position\n",
        "\n",
        "pop()\t                 Removes the element at the specified position\n",
        "\n",
        "remove()\t             Removes the first item with the specified value\n",
        "\n",
        "reverse()\t             Reverses the order of the list\n",
        "\n",
        "sort()\t               Sorts the list"
      ],
      "metadata": {
        "id": "R2an22rxLdym"
      }
    }
  ]
}