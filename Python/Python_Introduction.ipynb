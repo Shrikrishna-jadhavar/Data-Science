{
  "nbformat": 4,
  "nbformat_minor": 0,
  "metadata": {
    "colab": {
      "provenance": []
    },
    "kernelspec": {
      "name": "python3",
      "display_name": "Python 3"
    },
    "language_info": {
      "name": "python"
    }
  },
  "cells": [
    {
      "cell_type": "markdown",
      "source": [
        "# **Python Introduction**"
      ],
      "metadata": {
        "id": "XInk2ajgUm1B"
      }
    },
    {
      "cell_type": "markdown",
      "source": [],
      "metadata": {
        "id": "TWqrPCB7Um6V"
      }
    },
    {
      "cell_type": "markdown",
      "source": [
        "**What is Python?**\n",
        "\n",
        "Python is a popular programming language. It was created by Guido van Rossum, and released in 1991.\n",
        "\n",
        "It is used for:\n",
        "\n",
        "*   web development (server-side),\n",
        "*  software development,\n",
        "*   mathematics,\n",
        "*   system scripting."
      ],
      "metadata": {
        "id": "xw_ThymUUm9h"
      }
    },
    {
      "cell_type": "markdown",
      "source": [
        "**What can Python do?**\n",
        "\n",
        "*   Python can be used on a server to create web applications.\n",
        "*   Python can be used alongside software to create workflows.\n",
        "*   Python can connect to database systems. It can also read and modify files.\n",
        "*   Python can be used to handle big data and perform complex mathematics.\n",
        "*   Python can be used for rapid prototyping, or for production-ready software development.\n",
        "    \n"
      ],
      "metadata": {
        "id": "0IeevtL6UnYI"
      }
    },
    {
      "cell_type": "markdown",
      "source": [
        "**Why Python?**\n",
        "\n",
        "*   Python works on different platforms (Windows, Mac, Linux, Raspberry Pi, etc).\n",
        "*   Python has a simple syntax similar to the English language.\n",
        "*   Python has syntax that allows developers to write programs with fewer lines than some other programming languages.\n",
        "*   Python runs on an interpreter system, meaning that code can be executed as soon as it is written. This means that prototyping can be very quick.\n",
        "*   Python can be treated in a procedural way, an object-oriented way or a functional way."
      ],
      "metadata": {
        "id": "HeBYf-fPUna_"
      }
    },
    {
      "cell_type": "markdown",
      "source": [
        "# **Python Indentation -**\n",
        "\n",
        "Indentation refers to the spaces at the beginning of a code line.\n",
        "\n",
        "Where in other programming languages the indentation in code is for readability only, the indentation in Python is very important.\n",
        "\n",
        "Python uses indentation to indicate a block of code."
      ],
      "metadata": {
        "id": "Jlv0ZB9fUnd5"
      }
    },
    {
      "cell_type": "code",
      "source": [
        "if 5 > 2:\n",
        "  print(\"Five is greater than two!\")"
      ],
      "metadata": {
        "colab": {
          "base_uri": "https://localhost:8080/"
        },
        "id": "4MruEnQ1ZnL7",
        "outputId": "4c670d0a-80d6-4641-cb16-3fae1737b8d9"
      },
      "execution_count": 3,
      "outputs": [
        {
          "output_type": "stream",
          "name": "stdout",
          "text": [
            "Five is greater than two!\n"
          ]
        }
      ]
    },
    {
      "cell_type": "code",
      "source": [
        "# Python will give you an error if you skip the indentation:\n",
        "\n",
        "if 5 > 2:\n",
        "print(\"Five is greater than two!\")"
      ],
      "metadata": {
        "colab": {
          "base_uri": "https://localhost:8080/",
          "height": 108
        },
        "id": "rnCl7Hb3Z8fr",
        "outputId": "81c13d4a-e38e-4664-a2f0-81b2e29a66cb"
      },
      "execution_count": 4,
      "outputs": [
        {
          "output_type": "error",
          "ename": "IndentationError",
          "evalue": "expected an indented block after 'if' statement on line 3 (<ipython-input-4-302b48266213>, line 4)",
          "traceback": [
            "\u001b[0;36m  File \u001b[0;32m\"<ipython-input-4-302b48266213>\"\u001b[0;36m, line \u001b[0;32m4\u001b[0m\n\u001b[0;31m    print(\"Five is greater than two!\")\u001b[0m\n\u001b[0m    ^\u001b[0m\n\u001b[0;31mIndentationError\u001b[0m\u001b[0;31m:\u001b[0m expected an indented block after 'if' statement on line 3\n"
          ]
        }
      ]
    },
    {
      "cell_type": "code",
      "source": [
        "# The number of spaces is up to you as a programmer, the most common use is four, but it has to be at least one.\n",
        "\n",
        "if 5 > 2:\n",
        " print(\"Five is greater than two!\")   # 1 space\n",
        "if 5 > 2:\n",
        "        print(\"Five is greater than two!\")  # 4 Spaces"
      ],
      "metadata": {
        "colab": {
          "base_uri": "https://localhost:8080/"
        },
        "id": "GvlAQoAca47i",
        "outputId": "75996e64-6c80-4b51-930b-87e6057325ea"
      },
      "execution_count": 6,
      "outputs": [
        {
          "output_type": "stream",
          "name": "stdout",
          "text": [
            "Five is greater than two!\n",
            "Five is greater than two!\n"
          ]
        }
      ]
    },
    {
      "cell_type": "code",
      "source": [
        "# You have to use the same number of spaces in the same block of code, otherwise Python will give you an error:\n",
        "\n",
        "if 5 > 2:\n",
        " print(\"Five is greater than two!\")\n",
        "        print(\"Five is greater than two!\")"
      ],
      "metadata": {
        "colab": {
          "base_uri": "https://localhost:8080/",
          "height": 108
        },
        "id": "uDsTIh9kbywc",
        "outputId": "727e5e9d-55b7-444d-d0f0-9f6debf7eb72"
      },
      "execution_count": 7,
      "outputs": [
        {
          "output_type": "error",
          "ename": "IndentationError",
          "evalue": "unexpected indent (<ipython-input-7-9408a8301a89>, line 5)",
          "traceback": [
            "\u001b[0;36m  File \u001b[0;32m\"<ipython-input-7-9408a8301a89>\"\u001b[0;36m, line \u001b[0;32m5\u001b[0m\n\u001b[0;31m    print(\"Five is greater than two!\")\u001b[0m\n\u001b[0m    ^\u001b[0m\n\u001b[0;31mIndentationError\u001b[0m\u001b[0;31m:\u001b[0m unexpected indent\n"
          ]
        }
      ]
    },
    {
      "cell_type": "markdown",
      "source": [
        "# **Python Variables**\n",
        "\n",
        "In Python, variables are created when you assign a value to it:"
      ],
      "metadata": {
        "id": "JCNLdTAWUnha"
      }
    },
    {
      "cell_type": "code",
      "source": [
        "# Variables in Python:\n",
        "\n",
        "a = 5\n",
        "b = \"Hello, Shrikrishna!\"\n",
        "\n",
        "# Python has no command for declaring a variable."
      ],
      "metadata": {
        "id": "EelSwYixcfjB"
      },
      "execution_count": 8,
      "outputs": []
    },
    {
      "cell_type": "markdown",
      "source": [
        "# **Python Comments**\n",
        "\n",
        "Comments can be used to explain Python code.\n",
        "\n",
        "Comments can be used to make the code more readable.\n",
        "\n",
        "Comments can be used to prevent execution when testing code."
      ],
      "metadata": {
        "id": "V8pVw1PGUnkm"
      }
    },
    {
      "cell_type": "markdown",
      "source": [
        "**Creating a Comment**\n",
        "\n",
        "Comments starts with a #, and Python will ignore them:"
      ],
      "metadata": {
        "id": "tTpm5wY2UnoP"
      }
    },
    {
      "cell_type": "code",
      "source": [
        "# This is a comment.\n",
        "\n",
        "print(\"Hello, Shrikrishna!\")"
      ],
      "metadata": {
        "colab": {
          "base_uri": "https://localhost:8080/"
        },
        "id": "nuo-kJ5wel7F",
        "outputId": "b3694e62-8704-4900-b673-a955d3a94681"
      },
      "execution_count": 10,
      "outputs": [
        {
          "output_type": "stream",
          "name": "stdout",
          "text": [
            "Hello, Shrikrishna!\n"
          ]
        }
      ]
    },
    {
      "cell_type": "code",
      "source": [
        "# Comments can be placed at the end of a line, and Python will ignore the rest of the line:\n",
        "\n",
        "print(\"Hello, Shrikrishna!\") #This is a comment"
      ],
      "metadata": {
        "colab": {
          "base_uri": "https://localhost:8080/"
        },
        "id": "kYA-n0-GfJY3",
        "outputId": "04f05929-c904-4026-80aa-fb2a2650cc74"
      },
      "execution_count": 11,
      "outputs": [
        {
          "output_type": "stream",
          "name": "stdout",
          "text": [
            "Hello, Shrikrishna!\n"
          ]
        }
      ]
    },
    {
      "cell_type": "code",
      "source": [
        "# A comment does not have to be text that explains the code, it can also be used to prevent Python from executing code:\n",
        "\n",
        "#print(\"Hello, Shrikrishna!\")\n",
        "print(\"Cheers, Shrikrishna!\")"
      ],
      "metadata": {
        "colab": {
          "base_uri": "https://localhost:8080/"
        },
        "id": "LPoz3BSsfJVQ",
        "outputId": "a7897544-f663-4be2-ec36-6326446a4550"
      },
      "execution_count": 12,
      "outputs": [
        {
          "output_type": "stream",
          "name": "stdout",
          "text": [
            "Cheers, Shrikrishna!\n"
          ]
        }
      ]
    },
    {
      "cell_type": "markdown",
      "source": [
        "**Multiline Comments**\n",
        "\n",
        "Python does not really have a syntax for multiline comments.\n",
        "\n",
        "To add a multiline comment you could insert a # for each line:"
      ],
      "metadata": {
        "id": "Xkde_sbCUnq8"
      }
    },
    {
      "cell_type": "code",
      "source": [
        "#This is a comment\n",
        "#written in Python code.\n",
        "#i'm using google colab.\n",
        "\n",
        "print(\"Welcome in Python!\")"
      ],
      "metadata": {
        "colab": {
          "base_uri": "https://localhost:8080/"
        },
        "id": "0s-OEU_DfJRs",
        "outputId": "0a9d7f39-8f9c-4e32-e1ba-d1cdde8f3d07"
      },
      "execution_count": 14,
      "outputs": [
        {
          "output_type": "stream",
          "name": "stdout",
          "text": [
            "Welcome in Python!\n"
          ]
        }
      ]
    },
    {
      "cell_type": "markdown",
      "source": [
        "you can use a multiline string.\n",
        "\n",
        "you can add a multiline string (triple quotes) in your code, and place your comment inside it:"
      ],
      "metadata": {
        "id": "-GOmhDboUnuA"
      }
    },
    {
      "cell_type": "code",
      "source": [
        "\"\"\"\n",
        "This is a comment\n",
        "written in Python code.\n",
        "i'm using google colab.\n",
        "\"\"\"\n",
        "\n",
        "print(\"Welcome in Python!\")\n",
        "\n",
        "# As long as the string is not assigned to a variable, Python will read the code, but then ignore it, and you have made a multiline comment."
      ],
      "metadata": {
        "colab": {
          "base_uri": "https://localhost:8080/"
        },
        "id": "6Xj3WLbjhCS6",
        "outputId": "2faa7a81-f2b9-4269-fa4c-4bcfeace560d"
      },
      "execution_count": 15,
      "outputs": [
        {
          "output_type": "stream",
          "name": "stdout",
          "text": [
            "Welcome in Python!\n"
          ]
        }
      ]
    },
    {
      "cell_type": "code",
      "source": [],
      "metadata": {
        "id": "fcQr1dXGhkmd"
      },
      "execution_count": null,
      "outputs": []
    }
  ]
}