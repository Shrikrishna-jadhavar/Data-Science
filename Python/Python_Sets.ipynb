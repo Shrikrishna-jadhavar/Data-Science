{
  "nbformat": 4,
  "nbformat_minor": 0,
  "metadata": {
    "colab": {
      "provenance": [],
      "collapsed_sections": [
        "DqFwjI8Gu3Ho",
        "_Z5K26wmwtj7",
        "6OVOEEG9wyMB",
        "gJY2p7xq8MAQ",
        "V3qjfIgqFoq-",
        "Mo9GssvHG0j0",
        "d3vJu7_2ZGAm"
      ]
    },
    "kernelspec": {
      "name": "python3",
      "display_name": "Python 3"
    },
    "language_info": {
      "name": "python"
    }
  },
  "cells": [
    {
      "cell_type": "markdown",
      "source": [
        "# **Python Sets**"
      ],
      "metadata": {
        "id": "DqFwjI8Gu3Ho"
      }
    },
    {
      "cell_type": "markdown",
      "source": [
        "**Set**\n",
        "\n",
        "Sets are used to store multiple items in a single variable.\n",
        "\n",
        "Set is one of 4 built-in data types in Python used to store collections of data, List, Tuple, and Dictionary, all with different qualities and usage.\n",
        "\n",
        "A set is a collection which is unordered, unchangeable*, and unindexed.\n",
        "\n",
        "* Note: Set items are unchangeable, but you can remove items and add new items.\n",
        "\n",
        "Sets are written with curly brackets."
      ],
      "metadata": {
        "id": "qNmTMVkPu8_z"
      }
    },
    {
      "cell_type": "code",
      "execution_count": 2,
      "metadata": {
        "colab": {
          "base_uri": "https://localhost:8080/"
        },
        "id": "n9yUS82YowN-",
        "outputId": "117721a2-8312-4a46-e511-c92dd2b7a959"
      },
      "outputs": [
        {
          "output_type": "stream",
          "name": "stdout",
          "text": [
            "{'Paul', 'Kabir', 'Aryan', 'Raj'}\n"
          ]
        }
      ],
      "source": [
        "# Note: Sets are unordered, so you cannot be sure in which order the items will appear.\n",
        "\n",
        "set = {\"Aryan\", \"Kabir\", \"Raj\", \"Paul\"}\n",
        "print(set)"
      ]
    },
    {
      "cell_type": "markdown",
      "source": [
        "**Set Items**\n",
        "\n",
        "Set items are unordered, unchangeable, and do not allow duplicate values.\n",
        "\n",
        "**Unordered**\n",
        "\n",
        "Unordered means that the items in a set do not have a defined order.\n",
        "\n",
        "Set items can appear in a different order every time you use them, and cannot be referred to by index or key.\n",
        "\n",
        "**Unchangeable**\n",
        "\n",
        "Set items are unchangeable, meaning that we cannot change the items after the set has been created.\n",
        "\n",
        "Once a set is created, you cannot change its items, but you can remove items and add new items.\n",
        "\n",
        "**Duplicates Not Allowed**\n",
        "\n",
        "Sets cannot have two items with the same value."
      ],
      "metadata": {
        "id": "8VdDTIikwtzS"
      }
    },
    {
      "cell_type": "code",
      "source": [
        "# Duplicate values will be ignored:\n",
        "set = {\"Aryan\", \"Kabir\", \"Raj\", \"Paul\", \"Aryan\"}\n",
        "print(set)"
      ],
      "metadata": {
        "colab": {
          "base_uri": "https://localhost:8080/"
        },
        "id": "vIPS6UOSxsh8",
        "outputId": "97b4b4eb-4e58-4f12-fbab-af6eddd491f2"
      },
      "execution_count": 4,
      "outputs": [
        {
          "output_type": "stream",
          "name": "stdout",
          "text": [
            "{'Paul', 'Kabir', 'Aryan', 'Raj'}\n"
          ]
        }
      ]
    },
    {
      "cell_type": "code",
      "source": [
        "# Note: The values True and 1 are considered the same value in sets, and are treated as duplicates:\n",
        "\n",
        "set = {\"Aryan\", \"Kabir\", \"Raj\", \"Paul\", True, 1, 2} #True and 1 is considered the same value.\n",
        "print(set)"
      ],
      "metadata": {
        "colab": {
          "base_uri": "https://localhost:8080/"
        },
        "id": "Ay_NAy2tyNIk",
        "outputId": "95084ade-d976-4156-90fb-c5d9a2a08089"
      },
      "execution_count": 5,
      "outputs": [
        {
          "output_type": "stream",
          "name": "stdout",
          "text": [
            "{'Kabir', 2, True, 'Raj', 'Paul', 'Aryan'}\n"
          ]
        }
      ]
    },
    {
      "cell_type": "code",
      "source": [
        "# False and 0 is considered the same value:\n",
        "\n",
        "set = {\"Aryan\", \"Kabir\", \"Raj\", \"Paul\", False, 0, 1}\n",
        "print(set)"
      ],
      "metadata": {
        "colab": {
          "base_uri": "https://localhost:8080/"
        },
        "id": "aKKQ-Txeypbw",
        "outputId": "7f2f5b79-9d2f-4ead-8d28-581d1ee3ebf2"
      },
      "execution_count": 6,
      "outputs": [
        {
          "output_type": "stream",
          "name": "stdout",
          "text": [
            "{False, 'Kabir', 1, 'Raj', 'Paul', 'Aryan'}\n"
          ]
        }
      ]
    },
    {
      "cell_type": "markdown",
      "source": [
        "**Get the Length of a Set**\n",
        "\n",
        "To determine how many items a set has, use the len() function."
      ],
      "metadata": {
        "id": "tygq1KGPwtwc"
      }
    },
    {
      "cell_type": "code",
      "source": [
        "# Get the number of items in a set:\n",
        "\n",
        "set = {\"Aryan\", \"Kabir\", \"Raj\", \"Paul\"}\n",
        "print(len(set))"
      ],
      "metadata": {
        "colab": {
          "base_uri": "https://localhost:8080/"
        },
        "id": "EtdKO9YdwusT",
        "outputId": "25484995-402a-4f7e-9a05-cf988bd6fde6"
      },
      "execution_count": 7,
      "outputs": [
        {
          "output_type": "stream",
          "name": "stdout",
          "text": [
            "4\n"
          ]
        }
      ]
    },
    {
      "cell_type": "markdown",
      "source": [
        "**Data Types**\n",
        "\n",
        "Set items can be of any data type:"
      ],
      "metadata": {
        "id": "XCMXkPJJwttQ"
      }
    },
    {
      "cell_type": "code",
      "source": [
        "# String, int and boolean data types:\n",
        "set1 = {\"Aryan\", \"Kabir\", \"Raj\", \"Paul\"}\n",
        "set2 = {1, 5, 7, 9, 3}\n",
        "set3 = {True, False, False}\n",
        "\n",
        "print(set1)\n",
        "print(set2)\n",
        "print(set3)"
      ],
      "metadata": {
        "colab": {
          "base_uri": "https://localhost:8080/"
        },
        "id": "_0m0PtaswvJM",
        "outputId": "699d4cce-c303-42e2-8399-ecd92ae0fcc2"
      },
      "execution_count": 8,
      "outputs": [
        {
          "output_type": "stream",
          "name": "stdout",
          "text": [
            "{'Paul', 'Kabir', 'Aryan', 'Raj'}\n",
            "{1, 3, 5, 7, 9}\n",
            "{False, True}\n"
          ]
        }
      ]
    },
    {
      "cell_type": "code",
      "source": [
        "# A set can contain different data types:\n",
        "\n",
        "set1 = {\"abc\", 34, True, 40, \"male\"}  # A set with strings, integers and boolean values.\n",
        "print(set1)"
      ],
      "metadata": {
        "colab": {
          "base_uri": "https://localhost:8080/"
        },
        "id": "Jjg_3QNp0FGo",
        "outputId": "7304cac6-0c0f-4fa0-e2ab-b664e1902a85"
      },
      "execution_count": 9,
      "outputs": [
        {
          "output_type": "stream",
          "name": "stdout",
          "text": [
            "{True, 34, 40, 'abc', 'male'}\n"
          ]
        }
      ]
    },
    {
      "cell_type": "markdown",
      "source": [
        "**type()**\n",
        "\n",
        "From Python's perspective, sets are defined as objects with the data type 'set':"
      ],
      "metadata": {
        "id": "CJYM_BkNwtqe"
      }
    },
    {
      "cell_type": "code",
      "source": [
        "set = {\"Aryan\", \"Kabir\", \"Raj\", \"Paul\"}\n",
        "print(type(set))"
      ],
      "metadata": {
        "colab": {
          "base_uri": "https://localhost:8080/"
        },
        "id": "EjqatxyUwvt8",
        "outputId": "0f07abae-5f70-40e7-802a-fa9a1da757e0"
      },
      "execution_count": 10,
      "outputs": [
        {
          "output_type": "stream",
          "name": "stdout",
          "text": [
            "<class 'set'>\n"
          ]
        }
      ]
    },
    {
      "cell_type": "markdown",
      "source": [
        "# **Access Set Items**"
      ],
      "metadata": {
        "id": "_Z5K26wmwtj7"
      }
    },
    {
      "cell_type": "markdown",
      "source": [
        "**Access Items**\n",
        "\n",
        "You cannot access items in a set by referring to an index or a key.\n",
        "\n",
        "But you can loop through the set items using a **for** loop, or ask if a specified value is present in a set, by using the **in** keyword."
      ],
      "metadata": {
        "id": "yhElserc4bjZ"
      }
    },
    {
      "cell_type": "code",
      "source": [
        "set = {\"Aryan\", \"Kabir\", \"Raj\", \"Paul\"}\n",
        "for x in set:\n",
        "  print(x)"
      ],
      "metadata": {
        "colab": {
          "base_uri": "https://localhost:8080/"
        },
        "id": "L2Xlz1Vgwqvm",
        "outputId": "17827bca-9b83-48c1-a188-de70ac31e956"
      },
      "execution_count": 14,
      "outputs": [
        {
          "output_type": "stream",
          "name": "stdout",
          "text": [
            "Paul\n",
            "Kabir\n",
            "Aryan\n",
            "Raj\n"
          ]
        }
      ]
    },
    {
      "cell_type": "code",
      "source": [
        "set = {\"Aryan\", \"Kabir\", \"Raj\", \"Paul\"} # Check if \"Aryan\" is present in the set:\n",
        "print(\"Aryan\" in set)"
      ],
      "metadata": {
        "colab": {
          "base_uri": "https://localhost:8080/"
        },
        "id": "ufnPXyoJ56GW",
        "outputId": "74bb1a1e-3e18-40d6-8560-972baeb305aa"
      },
      "execution_count": 15,
      "outputs": [
        {
          "output_type": "stream",
          "name": "stdout",
          "text": [
            "True\n"
          ]
        }
      ]
    },
    {
      "cell_type": "code",
      "source": [
        "set = {\"Aryan\", \"Kabir\", \"Raj\", \"Paul\"} # Check if \"Aryan\" is NOT present in the set:\n",
        "print(\"Aryan\" not in set)"
      ],
      "metadata": {
        "colab": {
          "base_uri": "https://localhost:8080/"
        },
        "id": "yg63JGRD6evC",
        "outputId": "97e092fb-82bc-43f7-e574-1a6c086f6ee6"
      },
      "execution_count": 16,
      "outputs": [
        {
          "output_type": "stream",
          "name": "stdout",
          "text": [
            "False\n"
          ]
        }
      ]
    },
    {
      "cell_type": "markdown",
      "source": [
        "# **Add Set Items**"
      ],
      "metadata": {
        "id": "6OVOEEG9wyMB"
      }
    },
    {
      "cell_type": "markdown",
      "source": [
        "\n",
        "**Add Items**\n",
        "\n",
        "Once a set is created, you cannot change its items, but you can add new items.\n",
        "\n",
        "To add one item to a set use the **add()** method."
      ],
      "metadata": {
        "id": "eIyIA-tG65wY"
      }
    },
    {
      "cell_type": "code",
      "source": [
        "# Add an item to a set, using the add() method:\n",
        "\n",
        "set = {\"Aryan\", \"Kabir\", \"Raj\", \"Paul\"}\n",
        "set.add(\"Jessi\")\n",
        "print(set)"
      ],
      "metadata": {
        "colab": {
          "base_uri": "https://localhost:8080/"
        },
        "id": "W206ABTrwxni",
        "outputId": "f5d9d30d-5941-478e-e17d-c50cc5d2b5ec"
      },
      "execution_count": 17,
      "outputs": [
        {
          "output_type": "stream",
          "name": "stdout",
          "text": [
            "{'Kabir', 'Jessi', 'Paul', 'Raj', 'Aryan'}\n"
          ]
        }
      ]
    },
    {
      "cell_type": "markdown",
      "source": [
        "**Add Sets**\n",
        "\n",
        "To add items from another set into the current set, use the **update()** method."
      ],
      "metadata": {
        "id": "0ej4L-FBwznz"
      }
    },
    {
      "cell_type": "code",
      "source": [
        "set = {\"Aryan\", \"Kabir\", \"Raj\", \"Paul\"}\n",
        "set1 = {\"Jessi\", \"John\"}\n",
        "set.update(set1)\n",
        "print(set)"
      ],
      "metadata": {
        "colab": {
          "base_uri": "https://localhost:8080/"
        },
        "id": "Ktb52fdV8I11",
        "outputId": "eb4784d7-2b32-4436-dfed-bcb49568c1b9"
      },
      "execution_count": 18,
      "outputs": [
        {
          "output_type": "stream",
          "name": "stdout",
          "text": [
            "{'Kabir', 'John', 'Raj', 'Paul', 'Aryan', 'Jessi'}\n"
          ]
        }
      ]
    },
    {
      "cell_type": "markdown",
      "source": [
        "**Add Any Iterable**\n",
        "\n",
        "The object in the update() method does not have to be a set, it can be any iterable object (tuples, lists, dictionaries etc.)."
      ],
      "metadata": {
        "id": "QYtTT8uGwzGh"
      }
    },
    {
      "cell_type": "code",
      "source": [
        "set = {\"Aryan\", \"Kabir\", \"Raj\", \"Paul\"}\n",
        "list = [\"Jessi\", \"John\"]\n",
        "set.update(list)\n",
        "print(set)"
      ],
      "metadata": {
        "colab": {
          "base_uri": "https://localhost:8080/"
        },
        "id": "rP0F2074wxBC",
        "outputId": "3eec4d31-65c1-4411-ba5d-73da2a947f62"
      },
      "execution_count": 19,
      "outputs": [
        {
          "output_type": "stream",
          "name": "stdout",
          "text": [
            "{'Kabir', 'Jessi', 'Paul', 'Raj', 'John', 'Aryan'}\n"
          ]
        }
      ]
    },
    {
      "cell_type": "markdown",
      "source": [
        "# **Remove Set Items**"
      ],
      "metadata": {
        "id": "gJY2p7xq8MAQ"
      }
    },
    {
      "cell_type": "markdown",
      "source": [
        "**Remove Item**\n",
        "\n",
        "To remove an item in a set, use the **remove()**, or the **discard()** method."
      ],
      "metadata": {
        "id": "WBacWvjX800M"
      }
    },
    {
      "cell_type": "code",
      "source": [
        "set = {\"Aryan\", \"Kabir\", \"Raj\", \"Paul\"}\n",
        "set.remove(\"Paul\")\n",
        "print(set)"
      ],
      "metadata": {
        "colab": {
          "base_uri": "https://localhost:8080/"
        },
        "id": "FNODkJ8I8MiB",
        "outputId": "4b00ead2-6aa8-4080-a726-f17a8b98ca4f"
      },
      "execution_count": 20,
      "outputs": [
        {
          "output_type": "stream",
          "name": "stdout",
          "text": [
            "{'Kabir', 'Aryan', 'Raj'}\n"
          ]
        }
      ]
    },
    {
      "cell_type": "code",
      "source": [
        "set = {\"Aryan\", \"Kabir\", \"Raj\", \"Paul\"}\n",
        "set.discard(\"Paul\")\n",
        "print(set)"
      ],
      "metadata": {
        "colab": {
          "base_uri": "https://localhost:8080/"
        },
        "id": "qiekeEgU9R46",
        "outputId": "3313b7a3-51ed-4370-d9ce-0be43829f1ad"
      },
      "execution_count": 21,
      "outputs": [
        {
          "output_type": "stream",
          "name": "stdout",
          "text": [
            "{'Kabir', 'Aryan', 'Raj'}\n"
          ]
        }
      ]
    },
    {
      "cell_type": "markdown",
      "source": [
        "**pop()**\n",
        "\n",
        "You can also use the **pop()** method to remove an item, but this method will remove a random item, so you cannot be sure what item that gets removed.\n",
        "\n",
        "The return value of the **pop()** method is the removed item."
      ],
      "metadata": {
        "id": "BDwCaiqr-QGP"
      }
    },
    {
      "cell_type": "code",
      "source": [
        "# Note: Sets are unordered, so when using the pop() method, you do not know which item that gets removed.\n",
        "\n",
        "set = {\"Aryan\", \"Kabir\", \"Raj\", \"Paul\"}\n",
        "x = set.pop()\n",
        "print(x)\n",
        "print(set)"
      ],
      "metadata": {
        "colab": {
          "base_uri": "https://localhost:8080/"
        },
        "id": "Sb6sqVbo9xeA",
        "outputId": "90a6e7c4-be36-4060-bf7a-415b8dabdad0"
      },
      "execution_count": 22,
      "outputs": [
        {
          "output_type": "stream",
          "name": "stdout",
          "text": [
            "Paul\n",
            "{'Kabir', 'Aryan', 'Raj'}\n"
          ]
        }
      ]
    },
    {
      "cell_type": "code",
      "source": [
        "# The clear() method empties the set.\n",
        "\n",
        "set = {\"Aryan\", \"Kabir\", \"Raj\", \"Paul\"}\n",
        "set.clear()\n",
        "print(set)"
      ],
      "metadata": {
        "colab": {
          "base_uri": "https://localhost:8080/"
        },
        "id": "jSLE75xv_9N6",
        "outputId": "9d82941b-303d-4804-d6be-69b6504ba9d8"
      },
      "execution_count": 23,
      "outputs": [
        {
          "output_type": "stream",
          "name": "stdout",
          "text": [
            "set()\n"
          ]
        }
      ]
    },
    {
      "cell_type": "code",
      "source": [
        "# The del keyword will delete the set completely.\n",
        "\n",
        "set = {\"Aryan\", \"Kabir\", \"Raj\", \"Paul\"}\n",
        "del set\n",
        "print(set)"
      ],
      "metadata": {
        "colab": {
          "base_uri": "https://localhost:8080/"
        },
        "id": "lQ4RAv9wE67H",
        "outputId": "2e373f14-db45-45ae-8c70-687997ee47cf"
      },
      "execution_count": 24,
      "outputs": [
        {
          "output_type": "stream",
          "name": "stdout",
          "text": [
            "<class 'set'>\n"
          ]
        }
      ]
    },
    {
      "cell_type": "markdown",
      "source": [
        "# **Loop Sets**"
      ],
      "metadata": {
        "id": "V3qjfIgqFoq-"
      }
    },
    {
      "cell_type": "markdown",
      "source": [
        "You can loop through the set items by using a for loop."
      ],
      "metadata": {
        "id": "bCyJe0U8FrxR"
      }
    },
    {
      "cell_type": "code",
      "source": [
        "set = {\"Aryan\", \"Kabir\", \"Raj\", \"Paul\"}\n",
        "for x in set:\n",
        "  print(x)"
      ],
      "metadata": {
        "colab": {
          "base_uri": "https://localhost:8080/"
        },
        "id": "oV26KlIwFa29",
        "outputId": "180937e5-ec37-4506-e10f-8519939291ac"
      },
      "execution_count": 25,
      "outputs": [
        {
          "output_type": "stream",
          "name": "stdout",
          "text": [
            "Paul\n",
            "Kabir\n",
            "Aryan\n",
            "Raj\n"
          ]
        }
      ]
    },
    {
      "cell_type": "markdown",
      "source": [
        "# **Join Sets**"
      ],
      "metadata": {
        "id": "Mo9GssvHG0j0"
      }
    },
    {
      "cell_type": "markdown",
      "source": [
        "**Join Sets**\n",
        "\n",
        "There are several ways to join two or more sets in Python.\n",
        "\n",
        "The union() and update() methods joins all items from both sets.\n",
        "\n",
        "The intersection() method keeps ONLY the duplicates.\n",
        "\n",
        "The difference() method keeps the items from the first set that are not in the other set(s).\n",
        "\n",
        "The symmetric_difference() method keeps all items EXCEPT the duplicates."
      ],
      "metadata": {
        "id": "u6ijItS8HGs0"
      }
    },
    {
      "cell_type": "markdown",
      "source": [
        "**Union()**\n",
        "\n",
        "The union() method returns a new set with all items from both sets."
      ],
      "metadata": {
        "id": "MgwywwVAJX3t"
      }
    },
    {
      "cell_type": "code",
      "source": [
        "set1 = {\"Aryan\", \"Kabir\", \"Raj\", \"Paul\"}\n",
        "set2 = {1, 5, 7, 9, 3}\n",
        "set3 = set1.union(set2)\n",
        "print(set3)"
      ],
      "metadata": {
        "colab": {
          "base_uri": "https://localhost:8080/"
        },
        "id": "Kv8zt_8uGHxN",
        "outputId": "7e8f42d1-0338-42a6-c6cf-d67c58da52d7"
      },
      "execution_count": 26,
      "outputs": [
        {
          "output_type": "stream",
          "name": "stdout",
          "text": [
            "{'Kabir', 1, 3, 5, 'Raj', 'Paul', 7, 9, 'Aryan'}\n"
          ]
        }
      ]
    },
    {
      "cell_type": "markdown",
      "source": [
        "You can use the | operator instead of the union() method, and you will get the same result."
      ],
      "metadata": {
        "id": "x0cBg_SBG5uv"
      }
    },
    {
      "cell_type": "code",
      "source": [
        "set1 = {\"Aryan\", \"Kabir\", \"Raj\", \"Paul\"}\n",
        "set2 = {1, 5, 7, 9, 3}\n",
        "set3 = set1 | set2    # Use | to join two sets.\n",
        "print(set3)"
      ],
      "metadata": {
        "colab": {
          "base_uri": "https://localhost:8080/"
        },
        "id": "YMrjSQmxG6OU",
        "outputId": "a01b6233-22a8-4fef-f743-a7dca3a37964"
      },
      "execution_count": 27,
      "outputs": [
        {
          "output_type": "stream",
          "name": "stdout",
          "text": [
            "{'Kabir', 1, 3, 5, 'Raj', 'Paul', 7, 9, 'Aryan'}\n"
          ]
        }
      ]
    },
    {
      "cell_type": "markdown",
      "source": [
        "**Join Multiple Sets**\n",
        "\n",
        "All the joining methods and operators can be used to join multiple sets.\n",
        "\n",
        "When using a method, just add more sets in the parentheses, separated by commas:"
      ],
      "metadata": {
        "id": "QzHtWZvfG627"
      }
    },
    {
      "cell_type": "code",
      "source": [
        "set1 = {\"Aryan\", \"Kabir\", \"Raj\", \"Paul\"}\n",
        "set2 = {1, 5, 7, 9, 3}\n",
        "set3 = {True, False, False}\n",
        "set4 = set1.union(set2, set3)\n",
        "print(set4)"
      ],
      "metadata": {
        "colab": {
          "base_uri": "https://localhost:8080/"
        },
        "id": "IXlPo9BWG7bz",
        "outputId": "8a3eef4f-fc69-47ed-caba-17787df2849a"
      },
      "execution_count": 28,
      "outputs": [
        {
          "output_type": "stream",
          "name": "stdout",
          "text": [
            "{False, 'Kabir', 1, 3, 5, 'Raj', 'Paul', 7, 9, 'Aryan'}\n"
          ]
        }
      ]
    },
    {
      "cell_type": "markdown",
      "source": [
        "When using the | operator, separate the sets with more | operators:"
      ],
      "metadata": {
        "id": "eofehzNOG8O6"
      }
    },
    {
      "cell_type": "code",
      "source": [
        "# Note: The  | operator only allows you to join sets with sets, and not with other data types like you can with the  union() method.\n",
        "\n",
        "\n",
        "set1 = {\"Aryan\", \"Kabir\", \"Raj\", \"Paul\"}\n",
        "set2 = {1, 5, 7, 9, 3}\n",
        "set3 = {True, False, False}\n",
        "set4 = set1 | set2 | set3     # Use | to join two sets.\n",
        "print(set4)"
      ],
      "metadata": {
        "colab": {
          "base_uri": "https://localhost:8080/"
        },
        "id": "d_-8-hNvG8uD",
        "outputId": "a3d9280b-4840-45bf-88c9-4e447edd2194"
      },
      "execution_count": 29,
      "outputs": [
        {
          "output_type": "stream",
          "name": "stdout",
          "text": [
            "{False, 'Kabir', 1, 3, 5, 'Raj', 'Paul', 7, 9, 'Aryan'}\n"
          ]
        }
      ]
    },
    {
      "cell_type": "markdown",
      "source": [
        "**Join a Set and a Tuple**\n",
        "\n",
        "The union() method allows you to join a set with other data types, like lists or tuples.\n",
        "\n",
        "The result will be a set."
      ],
      "metadata": {
        "id": "dz2OrCGZG9XL"
      }
    },
    {
      "cell_type": "code",
      "source": [
        "x = {\"apple\", \"banana\", \"cherry\"}\n",
        "y = (\"kiwi\", \"orange\")\n",
        "z = x.union(y)    # Join a set with a tuple.\n",
        "print(z)\n",
        "print(type(z))"
      ],
      "metadata": {
        "colab": {
          "base_uri": "https://localhost:8080/"
        },
        "id": "gcL73qaAG92e",
        "outputId": "c4ab2ab2-7608-4605-c777-d44909ce8c76"
      },
      "execution_count": 30,
      "outputs": [
        {
          "output_type": "stream",
          "name": "stdout",
          "text": [
            "{'apple', 'orange', 'cherry', 'banana', 'kiwi'}\n",
            "<class 'set'>\n"
          ]
        }
      ]
    },
    {
      "cell_type": "markdown",
      "source": [
        "**Update**\n",
        "\n",
        "The update() method inserts all items from one set into another.\n",
        "\n",
        "The update() changes the original set, and does not return a new set."
      ],
      "metadata": {
        "id": "DhMbOLN1G-s7"
      }
    },
    {
      "cell_type": "code",
      "source": [
        "# The update() method inserts the items in set2 into set1:\n",
        "\n",
        "set1 = {\"Aryan\", \"Kabir\", \"Raj\", \"Paul\"}\n",
        "set2 = {1, 5, 7, 9, 3}\n",
        "set1.update(set2)\n",
        "print(set1)"
      ],
      "metadata": {
        "colab": {
          "base_uri": "https://localhost:8080/"
        },
        "id": "ClcLFK3BG_UE",
        "outputId": "c7ea3964-03fd-4b2f-c630-51103a8a6339"
      },
      "execution_count": 1,
      "outputs": [
        {
          "output_type": "stream",
          "name": "stdout",
          "text": [
            "{1, 3, 5, 7, 9, 'Paul', 'Raj', 'Kabir', 'Aryan'}\n"
          ]
        }
      ]
    },
    {
      "cell_type": "markdown",
      "source": [
        "**Intersection**\n",
        "\n",
        "Keep ONLY the duplicates\n",
        "\n",
        "The **intersection()** method will return a new set, that only contains the items that are present in both sets."
      ],
      "metadata": {
        "id": "siJcR097G_yR"
      }
    },
    {
      "cell_type": "code",
      "source": [
        "# Join set1 and set2, but keep only the duplicates:\n",
        "\n",
        "set1 = {\"Aryan\", \"Kabir\", \"Raj\", \"Paul\"}\n",
        "set2 = {\"Aryan\", \"John\", \"Raj\", \"Paul\"}\n",
        "set3 = set1.intersection(set2)\n",
        "print(set3)"
      ],
      "metadata": {
        "colab": {
          "base_uri": "https://localhost:8080/"
        },
        "id": "eWZblTxMHA5g",
        "outputId": "97657fae-8f55-4e4f-dea5-53ab32b85527"
      },
      "execution_count": 2,
      "outputs": [
        {
          "output_type": "stream",
          "name": "stdout",
          "text": [
            "{'Raj', 'Aryan', 'Paul'}\n"
          ]
        }
      ]
    },
    {
      "cell_type": "code",
      "source": [
        "# You can use the & operator instead of the intersection() method, and you will get the same result.\n",
        "# Note: The & operator only allows you to join sets with sets, and not with other data types like you can with the intersection() method.\n",
        "\n",
        "set1 = {\"Aryan\", \"Kabir\", \"Raj\", \"Paul\"}\n",
        "set2 = {\"Aryan\", \"John\", \"Raj\", \"Paul\"}\n",
        "set3 = set1 & set2    # Use & to join two sets.\n",
        "print(set3)"
      ],
      "metadata": {
        "colab": {
          "base_uri": "https://localhost:8080/"
        },
        "id": "mh1xpMKoS7dy",
        "outputId": "ab8afb9d-e605-469c-8e83-d66ef921612e"
      },
      "execution_count": 3,
      "outputs": [
        {
          "output_type": "stream",
          "name": "stdout",
          "text": [
            "{'Raj', 'Aryan', 'Paul'}\n"
          ]
        }
      ]
    },
    {
      "cell_type": "code",
      "source": [
        "# The intersection_update() method will also keep ONLY the duplicates, but it will change the original set instead of returning a new set.\n",
        "\n",
        "set1 = {\"Aryan\", \"Kabir\", \"Raj\", \"Paul\"}\n",
        "set2 = {\"Aryan\", \"John\", \"Raj\", \"Paul\"}\n",
        "set1.intersection_update(set2)\n",
        "print(set1)"
      ],
      "metadata": {
        "colab": {
          "base_uri": "https://localhost:8080/"
        },
        "id": "-_0xmPApTi0w",
        "outputId": "c8c24718-433f-494b-e931-8eaa27448b0d"
      },
      "execution_count": 4,
      "outputs": [
        {
          "output_type": "stream",
          "name": "stdout",
          "text": [
            "{'Raj', 'Aryan', 'Paul'}\n"
          ]
        }
      ]
    },
    {
      "cell_type": "markdown",
      "source": [
        "The values True and 1 are considered the same value. The same goes for False and 0."
      ],
      "metadata": {
        "id": "P4p8wSPcHBxd"
      }
    },
    {
      "cell_type": "code",
      "source": [
        "# Join sets that contains the values True, False, 1, and 0, and see what is considered as duplicates:\n",
        "\n",
        "set1 = {\"Aryan\", \"Kabir\", \"Raj\", \"Paul\", True, 1, 2}\n",
        "set2 = {\"Aryan\", \"John\", \"Raj\", \"Paul\", False, 0, 1}\n",
        "set3 = set1.intersection(set2)\n",
        "print(set3)"
      ],
      "metadata": {
        "colab": {
          "base_uri": "https://localhost:8080/"
        },
        "id": "_Wn-KF1AU5aX",
        "outputId": "dc127c10-f5f4-42d9-c008-b8d6fe7e51fd"
      },
      "execution_count": 8,
      "outputs": [
        {
          "output_type": "stream",
          "name": "stdout",
          "text": [
            "{1, 'Raj', 'Aryan', 'Paul'}\n"
          ]
        }
      ]
    },
    {
      "cell_type": "markdown",
      "source": [
        "**Difference**\n",
        "\n",
        "The difference() method will return a new set that will contain only the items from the first set that are not present in the other set."
      ],
      "metadata": {
        "id": "DBjuvwBEHD2h"
      }
    },
    {
      "cell_type": "code",
      "source": [
        "# Keep all items from set1 that are not in set2:\n",
        "\n",
        "set1 = {\"Aryan\", \"Kabir\", \"Raj\", \"Paul\"}\n",
        "set2 = {\"Aryan\", \"John\", \"Raj\", \"Paul\"}\n",
        "set3 = set1.difference(set2)\n",
        "print(set3)"
      ],
      "metadata": {
        "colab": {
          "base_uri": "https://localhost:8080/"
        },
        "id": "d22bxcsJHEZa",
        "outputId": "f864318d-deac-4977-d3a6-1ebcb31be1d9"
      },
      "execution_count": 9,
      "outputs": [
        {
          "output_type": "stream",
          "name": "stdout",
          "text": [
            "{'Kabir'}\n"
          ]
        }
      ]
    },
    {
      "cell_type": "code",
      "source": [
        "# You can use the - operator instead of the difference() method, and you will get the same result.\n",
        "\n",
        "set1 = {\"Aryan\", \"Kabir\", \"Raj\", \"Paul\"}\n",
        "set2 = {\"Aryan\", \"John\", \"Raj\", \"Paul\"}\n",
        "set3 = set1 - set2    # Use - to join two sets.\n",
        "print(set3)"
      ],
      "metadata": {
        "colab": {
          "base_uri": "https://localhost:8080/"
        },
        "id": "aCFv_SiLVvF3",
        "outputId": "05cdf63a-b66d-4e86-cb13-189c17f945af"
      },
      "execution_count": 10,
      "outputs": [
        {
          "output_type": "stream",
          "name": "stdout",
          "text": [
            "{'Kabir'}\n"
          ]
        }
      ]
    },
    {
      "cell_type": "markdown",
      "source": [
        "The difference_update() method will also keep the items from the first set that are not in the other set, but it will change the original set instead of returning a new set."
      ],
      "metadata": {
        "id": "O0KUsjMzWc_s"
      }
    },
    {
      "cell_type": "code",
      "source": [
        "set1 = {\"Aryan\", \"Kabir\", \"Raj\", \"Paul\"}\n",
        "set2 = {\"Aryan\", \"John\", \"Raj\", \"Paul\"}\n",
        "set1.difference_update(set2)\n",
        "print(set1)"
      ],
      "metadata": {
        "colab": {
          "base_uri": "https://localhost:8080/"
        },
        "id": "r4nRa3FbVvB_",
        "outputId": "4266044a-1c98-49b1-85f6-b2fcf4ec145d"
      },
      "execution_count": 11,
      "outputs": [
        {
          "output_type": "stream",
          "name": "stdout",
          "text": [
            "{'Kabir'}\n"
          ]
        }
      ]
    },
    {
      "cell_type": "markdown",
      "source": [
        "**Symmetric Differences**\n",
        "\n",
        "The symmetric_difference() method will keep only the elements that are NOT present in both sets."
      ],
      "metadata": {
        "id": "cUx-tb9YWvT1"
      }
    },
    {
      "cell_type": "code",
      "source": [
        "# Keep the items that are not present in both sets:\n",
        "\n",
        "set1 = {\"Aryan\", \"Kabir\", \"Raj\", \"Paul\"}\n",
        "set2 = {\"Aryan\", \"John\", \"Raj\", \"Paul\"}\n",
        "set3 = set1.symmetric_difference(set2)\n",
        "print(set3)"
      ],
      "metadata": {
        "colab": {
          "base_uri": "https://localhost:8080/"
        },
        "id": "O-i2rHdzVu9z",
        "outputId": "8f7fcbc8-fa5f-4400-d55b-0666b82c60f4"
      },
      "execution_count": 12,
      "outputs": [
        {
          "output_type": "stream",
          "name": "stdout",
          "text": [
            "{'Kabir', 'John'}\n"
          ]
        }
      ]
    },
    {
      "cell_type": "code",
      "source": [
        "# You can use the ^ operator instead of the symmetric_difference() method, and you will get the same result.\n",
        "\n",
        "set1 = {\"Aryan\", \"Kabir\", \"Raj\", \"Paul\"}\n",
        "set2 = {\"Aryan\", \"John\", \"Raj\", \"Paul\"}\n",
        "set3 = set1 ^ set2    # Use ^ to join two sets.\n",
        "print(set3)"
      ],
      "metadata": {
        "colab": {
          "base_uri": "https://localhost:8080/"
        },
        "id": "0zwdQlV_XjOd",
        "outputId": "7b5ed576-aa06-4d1e-87c7-67fc2e0613b1"
      },
      "execution_count": 13,
      "outputs": [
        {
          "output_type": "stream",
          "name": "stdout",
          "text": [
            "{'Kabir', 'John'}\n"
          ]
        }
      ]
    },
    {
      "cell_type": "markdown",
      "source": [
        "The symmetric_difference_update() method will also keep all but the duplicates, but it will change the original set instead of returning a new set."
      ],
      "metadata": {
        "id": "ti9j7XHIHE_3"
      }
    },
    {
      "cell_type": "code",
      "source": [
        "# Use the symmetric_difference_update() method to keep the items that are not present in both sets:\n",
        "\n",
        "set1 = {\"Aryan\", \"Kabir\", \"Raj\", \"Paul\"}\n",
        "set2 = {\"Aryan\", \"John\", \"Raj\", \"Paul\"}\n",
        "set1.symmetric_difference_update(set2)\n",
        "print(set1)"
      ],
      "metadata": {
        "colab": {
          "base_uri": "https://localhost:8080/"
        },
        "id": "-4kd1nrZX946",
        "outputId": "06eec1e1-f14b-46e0-f5a0-448c418671c0"
      },
      "execution_count": 15,
      "outputs": [
        {
          "output_type": "stream",
          "name": "stdout",
          "text": [
            "{'Kabir', 'John'}\n"
          ]
        }
      ]
    },
    {
      "cell_type": "markdown",
      "source": [
        "# **Set Methods**"
      ],
      "metadata": {
        "id": "d3vJu7_2ZGAm"
      }
    },
    {
      "cell_type": "markdown",
      "source": [
        "**Set Methods**\n",
        "\n",
        "Python has a set of built-in methods that you can use on sets.\n",
        "\n",
        "add() \tAdds an element to the set.                                         \n",
        "clear() \tRemoves all the elements from the set.                            \n",
        "copy() \tReturns a copy of the set.                                            \n",
        "difference() \t- \tReturns a set containing the difference between two or more sets.                                                                           \n",
        "difference_update() \t-= \tRemoves the items in this set that are also included in another, specified set.                                                      \n",
        "discard() \t  \tRemove the specified item.                                     \n",
        "intersection() \t& \tReturns a set, that is the intersection of two other sets.   \n",
        "intersection_update() \t&= \tRemoves the items in this set that are not present in other, specified set(s).                                              \n",
        "isdisjoint() \t  \tReturns whether two sets have a intersection or not.           \n",
        "issubset() \t<= \tReturns whether another set contains this set or not.            \n",
        "< \tReturns whether all items in this set is present in other, specified set(s).                                                                         \n",
        "issuperset() \t>= \tReturns whether this set contains another set or not.          \n",
        "(>) Returns whether all items in other, specified set(s) is present in this set.\n",
        "\n",
        "pop() \t  \tRemoves an element from the set.                                    \n",
        "remove() \t  \tRemoves the specified element.                                     \n",
        "symmetric_difference() \t^ \tReturns a set with the symmetric differences of two sets.                                                                            \n",
        "symmetric_difference_update() \t^= \tInserts the symmetric differences from this set and another.                                                                 \n",
        "union() \t| \tReturn a set containing the union of sets.                         \n",
        "update() \t|= \tUpdate the set with the union of this set and others.              "
      ],
      "metadata": {
        "id": "rLMWEH1xZJaG"
      }
    },
    {
      "cell_type": "code",
      "source": [],
      "metadata": {
        "id": "rk4q6u4HYbnh"
      },
      "execution_count": null,
      "outputs": []
    }
  ]
}