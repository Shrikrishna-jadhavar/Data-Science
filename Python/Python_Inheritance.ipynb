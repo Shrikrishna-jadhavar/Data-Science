{
  "nbformat": 4,
  "nbformat_minor": 0,
  "metadata": {
    "colab": {
      "provenance": []
    },
    "kernelspec": {
      "name": "python3",
      "display_name": "Python 3"
    },
    "language_info": {
      "name": "python"
    }
  },
  "cells": [
    {
      "cell_type": "markdown",
      "source": [
        "# **Python Inheritance**\n",
        "\n",
        "Inheritance allows us to define a class that inherits all the methods and properties from another class.\n",
        "\n",
        "**Parent class** is the class being inherited from, also called base class.\n",
        "\n",
        "**Child class** is the class that inherits from another class, also called derived class."
      ],
      "metadata": {
        "id": "BfCJIoe9t7cg"
      }
    },
    {
      "cell_type": "markdown",
      "source": [
        "# **Create a Parent Class**\n",
        "\n",
        "Any class can be a parent class, so the syntax is the same as creating any other class:"
      ],
      "metadata": {
        "id": "HxSFQsECuGb8"
      }
    },
    {
      "cell_type": "code",
      "source": [
        "# Create a class named Person, with firstname and lastname properties, and a printname method:\n",
        "\n",
        "class Person:\n",
        "  def __init__(self, fname, lname):\n",
        "    self.firstname = fname\n",
        "    self.lastname = lname\n",
        "\n",
        "  def printname(self):\n",
        "    print(self.firstname, self.lastname)\n",
        "\n",
        "#Use the Person class to create an object, and then execute the printname method:\n",
        "\n",
        "x = Person(\"Monika\", \"Ghuge\")\n",
        "x.printname()"
      ],
      "metadata": {
        "colab": {
          "base_uri": "https://localhost:8080/"
        },
        "id": "spmyJKyOt5c_",
        "outputId": "3b02dfc0-ec3a-4d4d-ee17-050f601461fe"
      },
      "execution_count": 1,
      "outputs": [
        {
          "output_type": "stream",
          "name": "stdout",
          "text": [
            "Monika Ghuge\n"
          ]
        }
      ]
    },
    {
      "cell_type": "markdown",
      "source": [
        "# **Create a Child Class**\n",
        "\n",
        "To create a class that inherits the functionality from another class, send the parent class as a parameter when creating the child class:"
      ],
      "metadata": {
        "id": "KRyC62Xmv8S0"
      }
    },
    {
      "cell_type": "code",
      "execution_count": 2,
      "metadata": {
        "id": "PdqkVG4SdUOy"
      },
      "outputs": [],
      "source": [
        "# Create a class named Student, which will inherit the properties and methods from the Person class:\n",
        "\n",
        "class Student(Person):\n",
        "  pass"
      ]
    },
    {
      "cell_type": "markdown",
      "source": [
        "*Note: Use the pass keyword when you do not want to add any other properties or methods to the class.*"
      ],
      "metadata": {
        "id": "tFbT5UwzwZY8"
      }
    },
    {
      "cell_type": "markdown",
      "source": [
        "Now the Student class has the same properties and methods as the Person class."
      ],
      "metadata": {
        "id": "8h1RXAMhwC8-"
      }
    },
    {
      "cell_type": "code",
      "source": [
        "# Use the Student class to create an object, and then execute the printname method:\n",
        "\n",
        "x = Student(\"Monika\", \"Ghuge\")\n",
        "x.printname()"
      ],
      "metadata": {
        "colab": {
          "base_uri": "https://localhost:8080/"
        },
        "id": "5TEzHq62w1RU",
        "outputId": "02ea073b-b1b7-4a91-fa93-fdf0b5df8850"
      },
      "execution_count": 3,
      "outputs": [
        {
          "output_type": "stream",
          "name": "stdout",
          "text": [
            "Monika Ghuge\n"
          ]
        }
      ]
    },
    {
      "cell_type": "markdown",
      "source": [
        "# **Add the _ _ init _ _() Function**\n",
        "\n",
        "So far we have created a child class that inherits the properties and methods from its parent.\n",
        "\n",
        "We want to add the _ _ init_ _() function to the child class (instead of the pass keyword).\n",
        "\n",
        "*Note: The _ _ init _ _() function is called automatically every time the class is being used to create a new object.*"
      ],
      "metadata": {
        "id": "a_EXplNVwDy1"
      }
    },
    {
      "cell_type": "code",
      "source": [
        "# Add the __init__() function to the Student class:\n",
        "\n",
        "class Student(Person):\n",
        "  def __init__(self, fname, lname):"
      ],
      "metadata": {
        "colab": {
          "base_uri": "https://localhost:8080/",
          "height": 108
        },
        "id": "vcG3FiEtwETj",
        "outputId": "855af689-48e9-4db2-b18d-cf0199367ba6"
      },
      "execution_count": 4,
      "outputs": [
        {
          "output_type": "error",
          "ename": "SyntaxError",
          "evalue": "incomplete input (<ipython-input-4-c51ce068fe6e>, line 4)",
          "traceback": [
            "\u001b[0;36m  File \u001b[0;32m\"<ipython-input-4-c51ce068fe6e>\"\u001b[0;36m, line \u001b[0;32m4\u001b[0m\n\u001b[0;31m    def __init__(self, fname, lname):\u001b[0m\n\u001b[0m                                     ^\u001b[0m\n\u001b[0;31mSyntaxError\u001b[0m\u001b[0;31m:\u001b[0m incomplete input\n"
          ]
        }
      ]
    },
    {
      "cell_type": "markdown",
      "source": [
        "When you add the _ _ init _ _ () function, the child class will no longer inherit the parent's _ _ init _ _ () function.\n",
        "\n",
        "*Note: The child's _ _ init _ _ () function overrides the inheritance of the parent's _ _ init _ _ () function.*\n",
        "\n",
        "To keep the inheritance of the parent's _ _ init _ _ () function, add a call to the parent's _ _ init _ _() function:"
      ],
      "metadata": {
        "id": "7bRBm4CfwEwY"
      }
    },
    {
      "cell_type": "code",
      "source": [
        "class Student(Person):\n",
        "  def __init__(self, fname, lname):\n",
        "    Person.__init__(self, fname, lname)"
      ],
      "metadata": {
        "id": "6AwFQMzdzW73"
      },
      "execution_count": 5,
      "outputs": []
    },
    {
      "cell_type": "markdown",
      "source": [
        "Now we have successfully added the __init__() function, and kept the inheritance of the parent class, and we are ready to add functionality in the __init__() function."
      ],
      "metadata": {
        "id": "PnUE1s9Dzf8L"
      }
    },
    {
      "cell_type": "markdown",
      "source": [
        "# **Use the super() Function**\n",
        "\n",
        "Python also has a super() function that will make the child class inherit all the methods and properties from its parent:"
      ],
      "metadata": {
        "id": "YGYeCBqrzhG8"
      }
    },
    {
      "cell_type": "code",
      "source": [
        "class Student(Person):\n",
        "  def __init__(self, fname, lname):\n",
        "    super().__init__(fname, lname)"
      ],
      "metadata": {
        "id": "IGjBfWa5z3io"
      },
      "execution_count": 6,
      "outputs": []
    },
    {
      "cell_type": "markdown",
      "source": [
        "By using the super() function, you do not have to use the name of the parent element, it will automatically inherit the methods and properties from its parent."
      ],
      "metadata": {
        "id": "3NZ7qHQ7z52I"
      }
    },
    {
      "cell_type": "markdown",
      "source": [
        "# **Add Properties**"
      ],
      "metadata": {
        "id": "T9q5ySG40A0S"
      }
    },
    {
      "cell_type": "code",
      "source": [
        "# Add a property called graduationyear to the Student class:\n",
        "\n",
        "class Student(Person):\n",
        "  def __init__(self, fname, lname):\n",
        "    super().__init__(fname, lname)\n",
        "    self.graduationyear = 2020"
      ],
      "metadata": {
        "id": "9uyChXUOz3gN"
      },
      "execution_count": 7,
      "outputs": []
    },
    {
      "cell_type": "markdown",
      "source": [
        "In the example below, the year 2019 should be a variable, and passed into the Student class when creating student objects. To do so, add another parameter in the _ _ init _ _() function:"
      ],
      "metadata": {
        "id": "qsA2R6oY0cCE"
      }
    },
    {
      "cell_type": "code",
      "source": [
        "# Add a year parameter, and pass the correct year when creating objects:\n",
        "\n",
        "class Student(Person):\n",
        "  def __init__(self, fname, lname, year):\n",
        "    super().__init__(fname, lname)\n",
        "    self.graduationyear = year\n",
        "\n",
        "x = Student(\"Monika\", \"Ghuge\", 2020)"
      ],
      "metadata": {
        "id": "UxBMR9VNz3d3"
      },
      "execution_count": 8,
      "outputs": []
    },
    {
      "cell_type": "markdown",
      "source": [
        "# **Add Methods**"
      ],
      "metadata": {
        "id": "iST9I8JF05pE"
      }
    },
    {
      "cell_type": "code",
      "source": [
        "class Student(Person):\n",
        "  def __init__(self, fname, lname, year):\n",
        "    super().__init__(fname, lname)\n",
        "    self.graduationyear = year\n",
        "\n",
        "  def welcome(self):\n",
        "    print(\"Welcome\", self.firstname, self.lastname, \"to the class of\", self.graduationyear)"
      ],
      "metadata": {
        "id": "jij874Piz3Qg"
      },
      "execution_count": 9,
      "outputs": []
    },
    {
      "cell_type": "code",
      "source": [
        "class Student(Person):\n",
        "  def __init__(self, fname, lname, year):\n",
        "    super().__init__(fname, lname)\n",
        "    self.graduationyear = year\n",
        "\n",
        "  def welcome(self):\n",
        "    print(\"Welcome\", self.firstname, self.lastname, \"to the class of\", self.graduationyear)"
      ],
      "metadata": {
        "id": "RQ6zZjj11PE0"
      },
      "execution_count": 10,
      "outputs": []
    },
    {
      "cell_type": "markdown",
      "source": [
        "If you add a method in the child class with the same name as a function in the parent class, the inheritance of the parent method will be overridden."
      ],
      "metadata": {
        "id": "4w_bPm1w1904"
      }
    }
  ]
}