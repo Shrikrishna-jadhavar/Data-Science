{
  "nbformat": 4,
  "nbformat_minor": 0,
  "metadata": {
    "colab": {
      "provenance": []
    },
    "kernelspec": {
      "name": "python3",
      "display_name": "Python 3"
    },
    "language_info": {
      "name": "python"
    }
  },
  "cells": [
    {
      "cell_type": "markdown",
      "source": [
        "# **Python Polymorphism**\n",
        "\n",
        "The word \"polymorphism\" means \"many forms\", and in programming it refers to methods/functions/operators with the same name that can be executed on many objects or classes."
      ],
      "metadata": {
        "id": "w-9KTaG5Pikq"
      }
    },
    {
      "cell_type": "markdown",
      "source": [
        "# **Function Polymorphism**\n",
        "\n",
        "An example of a Python function that can be used on different objects is the len() function.\n",
        "\n",
        "**String**\n",
        "\n",
        "For strings len() returns the number of characters:"
      ],
      "metadata": {
        "id": "EMwGSViMPvXQ"
      }
    },
    {
      "cell_type": "code",
      "execution_count": 1,
      "metadata": {
        "colab": {
          "base_uri": "https://localhost:8080/"
        },
        "id": "sf6An7ItPaZn",
        "outputId": "5df46769-1e0b-4fdf-c2c3-1388428b6aaa"
      },
      "outputs": [
        {
          "output_type": "stream",
          "name": "stdout",
          "text": [
            "12\n"
          ]
        }
      ],
      "source": [
        "x = \"Hello Python\"\n",
        "print(len(x))"
      ]
    },
    {
      "cell_type": "markdown",
      "source": [
        "**Tuple**\n",
        "\n",
        "For tuples len() returns the number of items in the tuple:"
      ],
      "metadata": {
        "id": "n8ehkJSRQLYv"
      }
    },
    {
      "cell_type": "code",
      "source": [
        "mytuple = (\"apple\", \"banana\", \"cherry\")\n",
        "print(len(mytuple))"
      ],
      "metadata": {
        "colab": {
          "base_uri": "https://localhost:8080/"
        },
        "id": "qrh8X7bXQA7y",
        "outputId": "f0fdd714-f2b2-4e0d-ddda-dc48ba232fc7"
      },
      "execution_count": 2,
      "outputs": [
        {
          "output_type": "stream",
          "name": "stdout",
          "text": [
            "3\n"
          ]
        }
      ]
    },
    {
      "cell_type": "markdown",
      "source": [
        "**Dictionary**\n",
        "\n",
        "For dictionaries len() returns the number of key/value pairs in the dictionary:"
      ],
      "metadata": {
        "id": "NbPhihdPQh2P"
      }
    },
    {
      "cell_type": "code",
      "source": [
        "thisdict = {\n",
        "  \"brand\": \"Ford\",\n",
        "  \"model\": \"Mustang\",\n",
        "  \"year\": 1964\n",
        "}\n",
        "print(len(thisdict))"
      ],
      "metadata": {
        "colab": {
          "base_uri": "https://localhost:8080/"
        },
        "id": "BHjKrS9vQb0f",
        "outputId": "3fa0677e-d546-4d0a-81d6-eebd560e7428"
      },
      "execution_count": 3,
      "outputs": [
        {
          "output_type": "stream",
          "name": "stdout",
          "text": [
            "3\n"
          ]
        }
      ]
    },
    {
      "cell_type": "markdown",
      "source": [
        "# **Class Polymorphism**\n",
        "\n",
        "Polymorphism is often used in Class methods, where we can have multiple classes with the same method name.\n",
        "\n",
        "For example, say we have three classes: Car, Boat, and Plane, and they all have a method called move():"
      ],
      "metadata": {
        "id": "Qn55hPHPQ79K"
      }
    },
    {
      "cell_type": "code",
      "source": [
        "class Car:\n",
        "  def __init__(self, brand, model):\n",
        "    self.brand = brand\n",
        "    self.model = model\n",
        "\n",
        "  def move(self):\n",
        "    print(\"Drive!\")\n",
        "\n",
        "class Boat:\n",
        "  def __init__(self, brand, model):\n",
        "    self.brand = brand\n",
        "    self.brand = model\n",
        "\n",
        "  def move(self):\n",
        "    print(\"Sail!\")\n",
        "\n",
        "class Plane:\n",
        "  def __init__(self, brand, model):\n",
        "    self.brand = brand\n",
        "    self.model = model\n",
        "\n",
        "  def move(self):\n",
        "    print(\"Fly!\")\n",
        "\n",
        "car1 = Car(\"Ford\", \"Mustang\")   # Car Object.\n",
        "boat1 = Boat(\"Ibiza\", \"Touring 20\") # Boat Object\n",
        "plane1 = Plane(\"Boeing\", \"994\")   # Plane Object\n",
        "\n",
        "for x in (car1, boat1, plane1):\n",
        "  x.move()"
      ],
      "metadata": {
        "colab": {
          "base_uri": "https://localhost:8080/"
        },
        "id": "ZS_STqdTTWmx",
        "outputId": "939f321d-8e29-4465-b852-aa433befbd14"
      },
      "execution_count": 4,
      "outputs": [
        {
          "output_type": "stream",
          "name": "stdout",
          "text": [
            "Drive!\n",
            "Sail!\n",
            "Fly!\n"
          ]
        }
      ]
    },
    {
      "cell_type": "markdown",
      "source": [
        "Look at the for loop at the end. Because of polymorphism we can execute the same method for all three classes."
      ],
      "metadata": {
        "id": "QY48ENl2RXnv"
      }
    },
    {
      "cell_type": "markdown",
      "source": [
        "# **Inheritance Class Polymorphism**\n",
        "\n",
        "What about classes with child classes with the same name? Can we use polymorphism there?\n",
        "\n",
        "Yes. If we use the example above and make a parent class called Vehicle, and make Car, Boat, Plane child classes of Vehicle, the child classes inherits the Vehicle methods, but can override them:"
      ],
      "metadata": {
        "id": "qscr82kOTjvi"
      }
    },
    {
      "cell_type": "code",
      "source": [
        "# Create a class called Vehicle and make Car, Boat, Plane child classes of Vehicle:\n",
        "\n",
        "class Vehicle:\n",
        "  def __init__(self, brand, model):\n",
        "    self.brand = brand\n",
        "    self.model = model\n",
        "\n",
        "  def move(self):\n",
        "    print(\"Move!\")\n",
        "\n",
        "class Car(Vehicle):\n",
        "  pass\n",
        "\n",
        "class Boat(Vehicle):\n",
        "  def move(self):\n",
        "    print(\"Sail!\")\n",
        "\n",
        "class Plane(Vehicle):\n",
        "  def move(self):\n",
        "    print(\"Fly!\")\n",
        "\n",
        "car1 = Car(\"Ford\", \"Mustang\")       #Create a Car object\n",
        "boat1 = Boat(\"Ibiza\", \"Touring 20\") #Create a Boat object\n",
        "plane1 = Plane(\"Boeing\", \"747\")     #Create a Plane object\n",
        "\n",
        "for x in (car1, boat1, plane1):\n",
        "  print(x.brand)\n",
        "  print(x.model)\n",
        "  x.move()"
      ],
      "metadata": {
        "colab": {
          "base_uri": "https://localhost:8080/"
        },
        "id": "pS4Y_Tp6TTec",
        "outputId": "6d7618ee-459b-429c-c0ca-83d95191380a"
      },
      "execution_count": 5,
      "outputs": [
        {
          "output_type": "stream",
          "name": "stdout",
          "text": [
            "Ford\n",
            "Mustang\n",
            "Move!\n",
            "Ibiza\n",
            "Touring 20\n",
            "Sail!\n",
            "Boeing\n",
            "747\n",
            "Fly!\n"
          ]
        }
      ]
    },
    {
      "cell_type": "markdown",
      "source": [
        "Child classes inherits the properties and methods from the parent class.\n",
        "\n",
        "In the example above you can see that the Car class is empty, but it inherits brand, model, and move() from Vehicle.\n",
        "\n",
        "The Boat and Plane classes also inherit brand, model, and move() from Vehicle, but they both override the move() method.\n",
        "\n",
        "Because of polymorphism we can execute the same method for all classes."
      ],
      "metadata": {
        "id": "-qZhDD23UsA6"
      }
    }
  ]
}