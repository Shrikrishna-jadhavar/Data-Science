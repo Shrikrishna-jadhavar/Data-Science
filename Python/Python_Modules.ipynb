{
  "nbformat": 4,
  "nbformat_minor": 0,
  "metadata": {
    "colab": {
      "provenance": []
    },
    "kernelspec": {
      "name": "python3",
      "display_name": "Python 3"
    },
    "language_info": {
      "name": "python"
    }
  },
  "cells": [
    {
      "cell_type": "markdown",
      "source": [
        "# **Python Modules**\n",
        "What is a Module?\n",
        "\n",
        "Consider a module to be the same as a code library.\n",
        "\n",
        "A file containing a set of functions you want to include in your application."
      ],
      "metadata": {
        "id": "LKsWI7glEo77"
      }
    },
    {
      "cell_type": "markdown",
      "source": [
        "# **Create a Module**\n",
        "\n",
        "To create a module just save the code you want in a file with the file extension .py:"
      ],
      "metadata": {
        "id": "8CLpvxxhFFPQ"
      }
    },
    {
      "cell_type": "code",
      "source": [
        "# Save this code in a file named mymodule.py\n",
        "\n",
        "def greeting(name):\n",
        "  print(\"Hello, \" + name)"
      ],
      "metadata": {
        "id": "Hoi3jfH3FXo6"
      },
      "execution_count": 13,
      "outputs": []
    },
    {
      "cell_type": "markdown",
      "source": [
        "# **Use a Module**\n",
        "\n",
        "Now we can use the module we just created, by using the import statement:"
      ],
      "metadata": {
        "id": "9wYSk9arFhME"
      }
    },
    {
      "cell_type": "code",
      "source": [
        "# Import the module named mymodule, and call the greeting function:\n",
        "\n",
        "import mymodule\n",
        "\n",
        "mymodule.greeting(\"Shrikrishna\")"
      ],
      "metadata": {
        "colab": {
          "base_uri": "https://localhost:8080/"
        },
        "id": "TlvsldeKFnRr",
        "outputId": "3d58e696-071e-4bde-a2c8-77fc4ec2f1f1"
      },
      "execution_count": 14,
      "outputs": [
        {
          "output_type": "stream",
          "name": "stdout",
          "text": [
            "Hello, Shrikrishna\n"
          ]
        }
      ]
    },
    {
      "cell_type": "markdown",
      "source": [
        "*Note: When using a function from a module, use the syntax: module_name.function_name.*"
      ],
      "metadata": {
        "id": "uxlrMayUGdr9"
      }
    },
    {
      "cell_type": "markdown",
      "source": [
        "# **Variables in Module**\n",
        "\n",
        "The module can contain functions, as already described, but also variables of all types (arrays, dictionaries, objects etc):"
      ],
      "metadata": {
        "id": "FCPHCEHyGPR3"
      }
    },
    {
      "cell_type": "code",
      "source": [
        "# Save this code in the file mymodule.py\n",
        "\n",
        "person1 = {\n",
        "  \"name\": \"Raj\",\n",
        "  \"age\": 16,\n",
        "  \"country\": \"India\"\n",
        "}"
      ],
      "metadata": {
        "id": "UFBCCET4Fu49"
      },
      "execution_count": 15,
      "outputs": []
    },
    {
      "cell_type": "markdown",
      "source": [
        "Import the module named mymodule, and access the person1 dictionary:"
      ],
      "metadata": {
        "id": "ajPHH2QvHClN"
      }
    },
    {
      "cell_type": "code",
      "source": [
        "import mymodule\n",
        "\n",
        "a = mymodule.person1[\"age\"]\n",
        "print(a)"
      ],
      "metadata": {
        "colab": {
          "base_uri": "https://localhost:8080/"
        },
        "id": "QVCDjp99HEUF",
        "outputId": "a7bf7ca2-4eff-4037-d87f-ec78eb664759",
        "collapsed": true
      },
      "execution_count": 16,
      "outputs": [
        {
          "output_type": "stream",
          "name": "stdout",
          "text": [
            "16\n"
          ]
        }
      ]
    },
    {
      "cell_type": "markdown",
      "source": [
        "# **Re-naming a Module**\n",
        "\n",
        "You can create an alias when you import a module, by using the as keyword:"
      ],
      "metadata": {
        "id": "SoTJmk60_CpB"
      }
    },
    {
      "cell_type": "code",
      "source": [
        "# Create an alias for mymodule called mx:\n",
        "\n",
        "import mymodule as mx\n",
        "\n",
        "a = mx.person1[\"age\"]\n",
        "print(a)"
      ],
      "metadata": {
        "colab": {
          "base_uri": "https://localhost:8080/"
        },
        "id": "9XghUnBv_Lcu",
        "outputId": "bcd692bd-0f8a-44e2-bb7c-2c0e8ae12f90"
      },
      "execution_count": 17,
      "outputs": [
        {
          "output_type": "stream",
          "name": "stdout",
          "text": [
            "16\n"
          ]
        }
      ]
    },
    {
      "cell_type": "markdown",
      "source": [
        "# **Built-in Modules**\n",
        "\n",
        "There are several built-in modules in Python, which you can import whenever you like."
      ],
      "metadata": {
        "id": "58AxQsep_XSa"
      }
    },
    {
      "cell_type": "code",
      "source": [
        "# Import and use the platform module:\n",
        "\n",
        "import platform\n",
        "\n",
        "x = platform.system()\n",
        "print(x)"
      ],
      "metadata": {
        "colab": {
          "base_uri": "https://localhost:8080/"
        },
        "id": "2W80jv_a_blh",
        "outputId": "6c8aa157-0480-4451-e41b-c34c6ab676bc"
      },
      "execution_count": 18,
      "outputs": [
        {
          "output_type": "stream",
          "name": "stdout",
          "text": [
            "Linux\n"
          ]
        }
      ]
    },
    {
      "cell_type": "markdown",
      "source": [
        "# **Using the dir() Function**\n",
        "\n",
        "There is a built-in function to list all the function names (or variable names) in a module. The dir() function:"
      ],
      "metadata": {
        "id": "nVBFZkhQWIOY"
      }
    },
    {
      "cell_type": "code",
      "source": [
        "# List all the defined names belonging to the platform module:\n",
        "\n",
        "import platform\n",
        "\n",
        "x = dir(platform)\n",
        "print(x)"
      ],
      "metadata": {
        "colab": {
          "base_uri": "https://localhost:8080/"
        },
        "id": "5kYMOdvi_vHA",
        "outputId": "b30e56fc-eb25-4011-8176-bc4dd2747412"
      },
      "execution_count": 19,
      "outputs": [
        {
          "output_type": "stream",
          "name": "stdout",
          "text": [
            "['_Processor', '_WIN32_CLIENT_RELEASES', '_WIN32_SERVER_RELEASES', '__builtins__', '__cached__', '__copyright__', '__doc__', '__file__', '__loader__', '__name__', '__package__', '__spec__', '__version__', '_comparable_version', '_component_re', '_default_architecture', '_follow_symlinks', '_get_machine_win32', '_ironpython26_sys_version_parser', '_ironpython_sys_version_parser', '_java_getprop', '_libc_search', '_mac_ver_xml', '_node', '_norm_version', '_os_release_cache', '_os_release_candidates', '_os_release_line', '_os_release_unescape', '_parse_os_release', '_platform', '_platform_cache', '_pypy_sys_version_parser', '_sys_version', '_sys_version_cache', '_sys_version_parser', '_syscmd_file', '_syscmd_ver', '_uname_cache', '_unknown_as_blank', '_ver_output', '_ver_stages', 'architecture', 'collections', 'freedesktop_os_release', 'functools', 'itertools', 'java_ver', 'libc_ver', 'mac_ver', 'machine', 'node', 'os', 'platform', 'processor', 'python_branch', 'python_build', 'python_compiler', 'python_implementation', 'python_revision', 'python_version', 'python_version_tuple', 're', 'release', 'sys', 'system', 'system_alias', 'uname', 'uname_result', 'version', 'win32_edition', 'win32_is_iot', 'win32_ver']\n"
          ]
        }
      ]
    },
    {
      "cell_type": "markdown",
      "source": [
        "Note: The dir() function can be used on all modules, also the ones you create yourself."
      ],
      "metadata": {
        "id": "4rD5jTyPWuky"
      }
    },
    {
      "cell_type": "code",
      "source": [
        "import mymodule\n",
        "\n",
        "x = dir(mymodule)\n",
        "print(x)"
      ],
      "metadata": {
        "colab": {
          "base_uri": "https://localhost:8080/"
        },
        "id": "o8WpTWkSJJlY",
        "outputId": "1b75e702-8a07-4d11-828a-aa9bc7d49352"
      },
      "execution_count": 20,
      "outputs": [
        {
          "output_type": "stream",
          "name": "stdout",
          "text": [
            "['__builtins__', '__cached__', '__doc__', '__file__', '__loader__', '__name__', '__package__', '__spec__', 'greeting', 'person1']\n"
          ]
        }
      ]
    },
    {
      "cell_type": "code",
      "source": [
        "from mymodule import person1\n",
        "\n",
        "print (person1['name'])"
      ],
      "metadata": {
        "colab": {
          "base_uri": "https://localhost:8080/"
        },
        "id": "YK-L4MepJR8N",
        "outputId": "a51baeb7-2c64-4e69-8c3c-ca3c7a86e801"
      },
      "execution_count": 21,
      "outputs": [
        {
          "output_type": "stream",
          "name": "stdout",
          "text": [
            "Raj\n"
          ]
        }
      ]
    }
  ]
}