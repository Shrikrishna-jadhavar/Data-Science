{
  "nbformat": 4,
  "nbformat_minor": 0,
  "metadata": {
    "colab": {
      "provenance": []
    },
    "kernelspec": {
      "name": "python3",
      "display_name": "Python 3"
    },
    "language_info": {
      "name": "python"
    }
  },
  "cells": [
    {
      "cell_type": "markdown",
      "source": [
        "# **User Input**\n",
        "\n",
        "Python allows for user input.\n",
        "\n",
        "That means we are able to ask the user for input.\n",
        "\n",
        "The method is a bit different in Python 3.6 than Python 2.7.\n",
        "\n",
        "Python 3.6 uses the input() method.\n",
        "\n",
        "Python 2.7 uses the raw_input() method.\n",
        "\n",
        "The following example asks for the username, and when you entered the username, it gets printed on the screen:"
      ],
      "metadata": {
        "id": "Nyd31sgGLDEO"
      }
    },
    {
      "cell_type": "code",
      "execution_count": 1,
      "metadata": {
        "colab": {
          "base_uri": "https://localhost:8080/"
        },
        "id": "nQma3UYlK8_l",
        "outputId": "6c858526-f40b-40ab-93c3-9a6f4dab1fda"
      },
      "outputs": [
        {
          "output_type": "stream",
          "name": "stdout",
          "text": [
            "Enter username:Shrikrishna\n",
            "Username is: Shrikrishna\n"
          ]
        }
      ],
      "source": [
        "# Python 3.6\n",
        "\n",
        "username = input(\"Enter username:\")\n",
        "print(\"Username is: \" + username)"
      ]
    },
    {
      "cell_type": "code",
      "source": [
        "# Python 2.7\n",
        "\n",
        "username = raw_input(\"Enter username\")\n",
        "print(\"Username is: \" + username)"
      ],
      "metadata": {
        "colab": {
          "base_uri": "https://localhost:8080/",
          "height": 198
        },
        "id": "VePriF5NLlZl",
        "outputId": "43c00fc9-2c7b-4e5d-f4f8-86e09ed1ed17"
      },
      "execution_count": 2,
      "outputs": [
        {
          "output_type": "error",
          "ename": "NameError",
          "evalue": "name 'raw_input' is not defined",
          "traceback": [
            "\u001b[0;31m---------------------------------------------------------------------------\u001b[0m",
            "\u001b[0;31mNameError\u001b[0m                                 Traceback (most recent call last)",
            "\u001b[0;32m<ipython-input-2-a7e1f30d27f9>\u001b[0m in \u001b[0;36m<cell line: 0>\u001b[0;34m()\u001b[0m\n\u001b[1;32m      1\u001b[0m \u001b[0;31m# Python 2.7\u001b[0m\u001b[0;34m\u001b[0m\u001b[0;34m\u001b[0m\u001b[0m\n\u001b[1;32m      2\u001b[0m \u001b[0;34m\u001b[0m\u001b[0m\n\u001b[0;32m----> 3\u001b[0;31m \u001b[0musername\u001b[0m \u001b[0;34m=\u001b[0m \u001b[0mraw_input\u001b[0m\u001b[0;34m(\u001b[0m\u001b[0;34m\"Enter username\"\u001b[0m\u001b[0;34m)\u001b[0m\u001b[0;34m\u001b[0m\u001b[0;34m\u001b[0m\u001b[0m\n\u001b[0m\u001b[1;32m      4\u001b[0m \u001b[0mprint\u001b[0m\u001b[0;34m(\u001b[0m\u001b[0;34m\"Username is: \"\u001b[0m \u001b[0;34m+\u001b[0m \u001b[0musername\u001b[0m\u001b[0;34m)\u001b[0m\u001b[0;34m\u001b[0m\u001b[0;34m\u001b[0m\u001b[0m\n",
            "\u001b[0;31mNameError\u001b[0m: name 'raw_input' is not defined"
          ]
        }
      ]
    },
    {
      "cell_type": "markdown",
      "source": [
        "Python stops executing when it comes to the input() function, and continues when the user has given some input."
      ],
      "metadata": {
        "id": "i-YOfWa3MTcy"
      }
    }
  ]
}