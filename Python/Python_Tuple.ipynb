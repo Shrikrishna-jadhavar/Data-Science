{
  "nbformat": 4,
  "nbformat_minor": 0,
  "metadata": {
    "colab": {
      "provenance": [],
      "collapsed_sections": [
        "Fjw-D0MLdnVF",
        "ZFz0ntiRlIUU",
        "qotZXFuXtgdN",
        "MQVmx12CueFS",
        "z-hlH8hdudz2",
        "jYZ-4RN1u0bR",
        "6SLwQO9l7Bvf",
        "o-bjwTGz7DEZ"
      ]
    },
    "kernelspec": {
      "name": "python3",
      "display_name": "Python 3"
    },
    "language_info": {
      "name": "python"
    }
  },
  "cells": [
    {
      "cell_type": "markdown",
      "source": [
        "# **Python Tuples**"
      ],
      "metadata": {
        "id": "Fjw-D0MLdnVF"
      }
    },
    {
      "cell_type": "markdown",
      "source": [
        "Tuples are used to store multiple items in a single variable.\n",
        "\n",
        "Tuple is one of 4 built-in data types in Python used to store collections of data, List, Set, and Dictionary, all with different qualities and usage.\n",
        "\n",
        "A tuple is a collection which is ordered and unchangeable.\n",
        "\n",
        "Tuples are written with round brackets."
      ],
      "metadata": {
        "id": "Y_5fDgu1dz_I"
      }
    },
    {
      "cell_type": "code",
      "execution_count": 1,
      "metadata": {
        "id": "D83TSPg9Yc74",
        "colab": {
          "base_uri": "https://localhost:8080/"
        },
        "outputId": "e5cc2b43-d4e7-4ad6-8c99-6ab5cdcfa8db"
      },
      "outputs": [
        {
          "output_type": "stream",
          "name": "stdout",
          "text": [
            "('apple', 'banana', 'cherry', 'mango', 'guava')\n",
            "<class 'tuple'>\n"
          ]
        }
      ],
      "source": [
        "t = (\"apple\", \"banana\", \"cherry\", \"mango\", \"guava\")\n",
        "print(t)\n",
        "print(type(t))"
      ]
    },
    {
      "cell_type": "markdown",
      "source": [
        "**Tuple Items :-**                     \n",
        "\n",
        "Tuple items are ordered, unchangeable, and allow duplicate values.\n",
        "\n",
        "Tuple items are indexed, the first item has index [0], the second item has index [1] etc.\n",
        "\n",
        "**Ordered**\n",
        "\n",
        "When we say that tuples are ordered, it means that the items have a defined order, and that order will not change.\n",
        "\n",
        "**Unchangeable**\n",
        "\n",
        "Tuples are unchangeable, meaning that we cannot change, add or remove items after the tuple has been created.\n",
        "\n",
        "**Allow Duplicates**\n",
        "\n",
        "Since tuples are indexed, they can have items with the same value:"
      ],
      "metadata": {
        "id": "43hNaNXwha8v"
      }
    },
    {
      "cell_type": "code",
      "source": [
        "t = (\"apple\", \"banana\", \"cherry\", \"mango\", \"guava\", \"apple\")\n",
        "print(t)"
      ],
      "metadata": {
        "colab": {
          "base_uri": "https://localhost:8080/"
        },
        "id": "KOIZqpMxhLJ0",
        "outputId": "8d152a91-80cb-4b74-fd18-8d933345ebc9"
      },
      "execution_count": 2,
      "outputs": [
        {
          "output_type": "stream",
          "name": "stdout",
          "text": [
            "('apple', 'banana', 'cherry', 'mango', 'guava', 'apple')\n"
          ]
        }
      ]
    },
    {
      "cell_type": "markdown",
      "source": [
        "**Tuple Length**\n",
        "\n",
        "To determine how many items a tuple has, use the len() function:"
      ],
      "metadata": {
        "id": "exXX-XzaiP_V"
      }
    },
    {
      "cell_type": "code",
      "source": [
        "t = (\"apple\", \"banana\", \"cherry\", \"mango\", \"guava\", \"apple\")\n",
        "print(len(t))"
      ],
      "metadata": {
        "colab": {
          "base_uri": "https://localhost:8080/"
        },
        "id": "5GmPxxiFiKwn",
        "outputId": "7b7ed6bc-c263-49cd-acbe-6ad2a9eae96a"
      },
      "execution_count": 3,
      "outputs": [
        {
          "output_type": "stream",
          "name": "stdout",
          "text": [
            "6\n"
          ]
        }
      ]
    },
    {
      "cell_type": "markdown",
      "source": [
        "**Create Tuple With One Item**\n",
        "\n",
        "To create a tuple with only one item, you have to add a comma after the item, otherwise Python will not recognize it as a tuple."
      ],
      "metadata": {
        "id": "8GlmviQVimEQ"
      }
    },
    {
      "cell_type": "code",
      "source": [
        "#One item tuple, remember the comma:\n",
        "\n",
        "t = (\"apple\",)\n",
        "print(t)\n",
        "print(type(t))"
      ],
      "metadata": {
        "colab": {
          "base_uri": "https://localhost:8080/"
        },
        "id": "qykcGUXOim9X",
        "outputId": "feab4e1c-753c-4f60-fb7a-6cd7b51a2e10"
      },
      "execution_count": 5,
      "outputs": [
        {
          "output_type": "stream",
          "name": "stdout",
          "text": [
            "('apple',)\n",
            "<class 'tuple'>\n"
          ]
        }
      ]
    },
    {
      "cell_type": "code",
      "source": [
        "#NOT a tuple\n",
        "\n",
        "t = (\"apple\")\n",
        "print(t)\n",
        "print(type(t))"
      ],
      "metadata": {
        "colab": {
          "base_uri": "https://localhost:8080/"
        },
        "id": "tzFilK8fiyaK",
        "outputId": "fde1889d-c9a1-490d-9899-990dff5639c2"
      },
      "execution_count": 6,
      "outputs": [
        {
          "output_type": "stream",
          "name": "stdout",
          "text": [
            "apple\n",
            "<class 'str'>\n"
          ]
        }
      ]
    },
    {
      "cell_type": "markdown",
      "source": [
        "**Tuple Items - Data Types**\n",
        "\n",
        "Tuple items can be of any data type:"
      ],
      "metadata": {
        "id": "CIUMzUAuil_7"
      }
    },
    {
      "cell_type": "code",
      "source": [
        "t = (\"apple\", \"banana\", \"cherry\")\n",
        "t1 = (1,5,9,7,5,3)\n",
        "t2 = (True, False, False, True)\n",
        "print(t)\n",
        "print(t1)\n",
        "print(t2)"
      ],
      "metadata": {
        "colab": {
          "base_uri": "https://localhost:8080/"
        },
        "id": "SN1ysxKpinh9",
        "outputId": "e31854cd-3854-4c3c-fd0c-8f5a6917cbae"
      },
      "execution_count": 7,
      "outputs": [
        {
          "output_type": "stream",
          "name": "stdout",
          "text": [
            "('apple', 'banana', 'cherry')\n",
            "(1, 5, 9, 7, 5, 3)\n",
            "(True, False, False, True)\n"
          ]
        }
      ]
    },
    {
      "cell_type": "code",
      "source": [
        "# A tuple with strings, integers and boolean values:\n",
        "\n",
        "t = (\"abc\", 34, True, 40, \"male\")\n",
        "print(t)"
      ],
      "metadata": {
        "colab": {
          "base_uri": "https://localhost:8080/"
        },
        "id": "Glz09lmRj8Xy",
        "outputId": "01583482-f139-461e-a1f6-a5e7d34207df"
      },
      "execution_count": 8,
      "outputs": [
        {
          "output_type": "stream",
          "name": "stdout",
          "text": [
            "('abc', 34, True, 40, 'male')\n"
          ]
        }
      ]
    },
    {
      "cell_type": "markdown",
      "source": [
        "**type()**\n",
        "\n",
        "From Python's perspective, tuples are defined as objects with the data type 'tuple':"
      ],
      "metadata": {
        "id": "Rz2nf3tKil7X"
      }
    },
    {
      "cell_type": "code",
      "source": [
        "t = (\"apple\", \"banana\", \"cherry\")\n",
        "print(type(t))"
      ],
      "metadata": {
        "colab": {
          "base_uri": "https://localhost:8080/"
        },
        "id": "UscDxcV0iXzr",
        "outputId": "d1511947-b2d9-4d77-b343-6fcd81440495"
      },
      "execution_count": 9,
      "outputs": [
        {
          "output_type": "stream",
          "name": "stdout",
          "text": [
            "<class 'tuple'>\n"
          ]
        }
      ]
    },
    {
      "cell_type": "markdown",
      "source": [
        "**The tuple() Constructor**\n",
        "\n",
        "It is also possible to use the tuple() constructor to make a tuple."
      ],
      "metadata": {
        "id": "bQXLmLiZkC95"
      }
    },
    {
      "cell_type": "code",
      "source": [
        "t = tuple((\"apple\", \"banana\", \"cherry\")) # note the double round-brackets\n",
        "print(t)\n",
        "print(type(t))"
      ],
      "metadata": {
        "colab": {
          "base_uri": "https://localhost:8080/"
        },
        "id": "kU6tci4PkDet",
        "outputId": "f98e7a65-adeb-49b8-b9b0-e271fe3d51b9"
      },
      "execution_count": 10,
      "outputs": [
        {
          "output_type": "stream",
          "name": "stdout",
          "text": [
            "('apple', 'banana', 'cherry')\n",
            "<class 'tuple'>\n"
          ]
        }
      ]
    },
    {
      "cell_type": "markdown",
      "source": [
        "# **Python Collections (Arrays)**"
      ],
      "metadata": {
        "id": "ZFz0ntiRlIUU"
      }
    },
    {
      "cell_type": "markdown",
      "source": [
        "There are four collection data types in the Python programming language:\n",
        "\n",
        "**List** is a collection which is ordered and changeable. Allows duplicate members.\n",
        "\n",
        "**Tuple** is a collection which is ordered and unchangeable. Allows duplicate members.\n",
        "   \n",
        "**Set** is a collection which is unordered, unchangeable*, and unindexed. No duplicate members.\n",
        "\n",
        "**Dictionary** is a collection which is ordered** and changeable. No duplicate members.\n",
        "\n",
        "***Set** items are unchangeable, but you can remove and/or add items whenever you like.\n",
        "\n",
        "**As of Python version 3.7, dictionaries are ordered. In Python 3.6 and earlier, dictionaries are unordered."
      ],
      "metadata": {
        "id": "1XZ9olsFnkWQ"
      }
    },
    {
      "cell_type": "markdown",
      "source": [
        "# **Access Tuple Items**"
      ],
      "metadata": {
        "id": "qotZXFuXtgdN"
      }
    },
    {
      "cell_type": "markdown",
      "source": [
        "**Access Tuple Items**\n",
        "\n",
        "You can access tuple items by referring to the index number, inside square brackets:\n"
      ],
      "metadata": {
        "id": "YSptDt-qnVD7"
      }
    },
    {
      "cell_type": "code",
      "source": [
        "t = (\"apple\", \"banana\", \"cherry\", \"mango\", \"guava\")\n",
        "print(t[3]) #The first item has index 0."
      ],
      "metadata": {
        "colab": {
          "base_uri": "https://localhost:8080/"
        },
        "id": "eAtwrMfKk3U-",
        "outputId": "d74b994f-5a11-4608-e06c-2d793f29f3fc"
      },
      "execution_count": 11,
      "outputs": [
        {
          "output_type": "stream",
          "name": "stdout",
          "text": [
            "mango\n"
          ]
        }
      ]
    },
    {
      "cell_type": "markdown",
      "source": [
        "**Negative Indexing**\n",
        "\n",
        "Negative indexing means start from the end.\n",
        "\n",
        "-1 refers to the last item, -2 refers to the second last item etc."
      ],
      "metadata": {
        "id": "-IoIl_Osocm1"
      }
    },
    {
      "cell_type": "code",
      "source": [
        "t = (\"apple\", \"banana\", \"cherry\", \"mango\", \"guava\")\n",
        "print(t[-1])"
      ],
      "metadata": {
        "colab": {
          "base_uri": "https://localhost:8080/"
        },
        "id": "Qwr4jzwaodXf",
        "outputId": "2e32315a-2005-43f7-d8cb-8de1e6d5dee0"
      },
      "execution_count": 12,
      "outputs": [
        {
          "output_type": "stream",
          "name": "stdout",
          "text": [
            "guava\n"
          ]
        }
      ]
    },
    {
      "cell_type": "markdown",
      "source": [
        "**Range of Indexes**\n",
        "\n",
        "You can specify a range of indexes by specifying where to start and where to end the range.\n",
        "\n",
        "When specifying a range, the return value will be a new tuple with the specified items."
      ],
      "metadata": {
        "id": "IBd7EQDYocjt"
      }
    },
    {
      "cell_type": "code",
      "source": [
        "t = (\"apple\", \"banana\", \"cherry\", \"mango\", \"guava\", \"pineapple\", \"orange\")\n",
        "print(t[2:5]) # Return the third, fourth, and fifth item"
      ],
      "metadata": {
        "colab": {
          "base_uri": "https://localhost:8080/"
        },
        "id": "92btRVmroeB4",
        "outputId": "d1c29dd1-d4cf-4c88-8e3a-afe737fbb5cd"
      },
      "execution_count": 13,
      "outputs": [
        {
          "output_type": "stream",
          "name": "stdout",
          "text": [
            "('cherry', 'mango', 'guava')\n"
          ]
        }
      ]
    },
    {
      "cell_type": "code",
      "source": [
        "# By leaving out the start value, the range will start at the first item:\n",
        "\n",
        "t = (\"apple\", \"banana\", \"cherry\", \"mango\", \"guava\", \"pineapple\", \"orange\")\n",
        "print(t[:4]) #This example returns the items from the beginning to, but NOT included, \"guava\""
      ],
      "metadata": {
        "colab": {
          "base_uri": "https://localhost:8080/"
        },
        "id": "XcpPcKOcp4LU",
        "outputId": "becdbf51-faf5-49ef-ac9f-3eada19a3741"
      },
      "execution_count": 14,
      "outputs": [
        {
          "output_type": "stream",
          "name": "stdout",
          "text": [
            "('apple', 'banana', 'cherry', 'mango')\n"
          ]
        }
      ]
    },
    {
      "cell_type": "code",
      "source": [
        "# By leaving out the end value, the range will go on to the end of the tuple:\n",
        "\n",
        "t = (\"apple\", \"banana\", \"cherry\", \"mango\", \"guava\", \"pineapple\", \"orange\")\n",
        "print(t[2:]) #This example returns the items from \"cherry\" and to the end"
      ],
      "metadata": {
        "colab": {
          "base_uri": "https://localhost:8080/"
        },
        "id": "KzUkzjN0qL5c",
        "outputId": "a659bf42-3285-4b65-ad49-f32f97147b61"
      },
      "execution_count": 15,
      "outputs": [
        {
          "output_type": "stream",
          "name": "stdout",
          "text": [
            "('cherry', 'mango', 'guava', 'pineapple', 'orange')\n"
          ]
        }
      ]
    },
    {
      "cell_type": "markdown",
      "source": [
        "**Range of Negative Indexes**\n",
        "\n",
        "Specify negative indexes if you want to start the search from the end of the tuple:"
      ],
      "metadata": {
        "id": "yCQa78GRocgV"
      }
    },
    {
      "cell_type": "code",
      "source": [
        "t = (\"apple\", \"banana\", \"cherry\", \"mango\", \"guava\", \"pineapple\", \"orange\")\n",
        "print(t[-4:-1]) #This example returns the items from index -4 (included) to index -1 (excluded"
      ],
      "metadata": {
        "colab": {
          "base_uri": "https://localhost:8080/"
        },
        "id": "iLlp5K30oesp",
        "outputId": "43ea8fd2-2e51-4ac2-afe4-6758868faf55"
      },
      "execution_count": 16,
      "outputs": [
        {
          "output_type": "stream",
          "name": "stdout",
          "text": [
            "('mango', 'guava', 'pineapple')\n"
          ]
        }
      ]
    },
    {
      "cell_type": "markdown",
      "source": [
        "**Check if Item Exists**\n",
        "\n",
        "To determine if a specified item is present in a tuple use the in keyword:"
      ],
      "metadata": {
        "id": "6_iRxBXhocJG"
      }
    },
    {
      "cell_type": "code",
      "source": [
        "t = (\"apple\", \"banana\", \"cherry\", \"mango\", \"guava\", \"pineapple\", \"orange\")\n",
        "if \"apple\" in t:\n",
        "  print(\"Yes, 'apple' is in the fruits tuple\")"
      ],
      "metadata": {
        "colab": {
          "base_uri": "https://localhost:8080/"
        },
        "id": "a0-Vw3edr1FK",
        "outputId": "74bbe4f4-effb-491d-dd2c-795d1b6317f7"
      },
      "execution_count": 24,
      "outputs": [
        {
          "output_type": "stream",
          "name": "stdout",
          "text": [
            "Yes, 'apple' is in the fruits tuple\n"
          ]
        }
      ]
    },
    {
      "cell_type": "markdown",
      "source": [
        "# **Update Tuples**"
      ],
      "metadata": {
        "id": "MQVmx12CueFS"
      }
    },
    {
      "cell_type": "markdown",
      "source": [
        "**Change Tuple Values**\n",
        "\n",
        "Once a tuple is created, you cannot change its values. Tuples are unchangeable, or immutable as it also is called.\n",
        "\n",
        "But there is a workaround. You can convert the tuple into a list, change the list, and convert the list back into a tuple."
      ],
      "metadata": {
        "id": "M8i0Nfu2ueB3"
      }
    },
    {
      "cell_type": "code",
      "source": [
        "# Convert the tuple into a list to be able to change it:\n",
        "\n",
        "t = (\"apple\", \"banana\", \"cherry\")\n",
        "y = list(t)\n",
        "y[1] = \"kiwi\"\n",
        "t = tuple(y)\n",
        "\n",
        "print(t)"
      ],
      "metadata": {
        "colab": {
          "base_uri": "https://localhost:8080/"
        },
        "id": "JKe7rmMjux89",
        "outputId": "6171af2a-c9c9-44f3-cac7-a200a67d22b3"
      },
      "execution_count": 25,
      "outputs": [
        {
          "output_type": "stream",
          "name": "stdout",
          "text": [
            "('apple', 'kiwi', 'cherry')\n"
          ]
        }
      ]
    },
    {
      "cell_type": "markdown",
      "source": [
        "**Add Items**\n",
        "\n",
        "Since tuples are immutable, they do not have a built-in append() method, but there are other ways to add items to a tuple.\n",
        "\n",
        "1. Convert into a list: Just like the workaround for changing a tuple, you can convert it into a list, add your item(s), and convert it back into a tuple."
      ],
      "metadata": {
        "id": "PScLG-Lvv8IR"
      }
    },
    {
      "cell_type": "code",
      "source": [
        "t = (\"apple\",\"banana\", \"cherry\")\n",
        "y = list(t)\n",
        "y.append(\"orange\")\n",
        "t = tuple(y)\n",
        "\n",
        "print(t)"
      ],
      "metadata": {
        "colab": {
          "base_uri": "https://localhost:8080/"
        },
        "id": "Q2qiGyV4wGh3",
        "outputId": "c3a8a9ac-e161-46b0-d64d-3c21adabd902"
      },
      "execution_count": 27,
      "outputs": [
        {
          "output_type": "stream",
          "name": "stdout",
          "text": [
            "('apple', 'banana', 'cherry', 'orange')\n"
          ]
        }
      ]
    },
    {
      "cell_type": "markdown",
      "source": [
        "2. Add tuple to a tuple. You are allowed to add tuples to tuples, so if you want to add one item, (or many), create a new tuple with the item(s), and add it to the existing tuple:"
      ],
      "metadata": {
        "id": "UpFui27lud-S"
      }
    },
    {
      "cell_type": "code",
      "source": [
        "t = (\"apple\", \"banana\", \"cherry\")\n",
        "y = (\"orange\")\n",
        "y = (y,)\n",
        "t += y\n",
        "print(t)"
      ],
      "metadata": {
        "colab": {
          "base_uri": "https://localhost:8080/"
        },
        "id": "C9V6nKZsuyha",
        "outputId": "a037ee3a-a8ef-4fad-9d51-0b6aca64b0c2"
      },
      "execution_count": 28,
      "outputs": [
        {
          "output_type": "stream",
          "name": "stdout",
          "text": [
            "('apple', 'banana', 'cherry', 'orange')\n"
          ]
        }
      ]
    },
    {
      "cell_type": "markdown",
      "source": [
        "**Remove Items**\n",
        "\n",
        "Note: You cannot remove items in a tuple.\n",
        "\n",
        "Tuples are unchangeable, so you cannot remove items from it, but you can use the same workaround as we used for changing and adding tuple items:"
      ],
      "metadata": {
        "id": "TZ2oJe_Rud6Q"
      }
    },
    {
      "cell_type": "code",
      "source": [
        "t = (\"apple\", \"banana\", \"cherry\")\n",
        "y = list(t)\n",
        "y.remove(\"apple\")\n",
        "t = tuple(y)\n",
        "print(t)"
      ],
      "metadata": {
        "colab": {
          "base_uri": "https://localhost:8080/"
        },
        "id": "ltT6dbrVsppV",
        "outputId": "df7bd011-6b0d-4e1d-90bd-fd9f49044f75"
      },
      "execution_count": 29,
      "outputs": [
        {
          "output_type": "stream",
          "name": "stdout",
          "text": [
            "('banana', 'cherry')\n"
          ]
        }
      ]
    },
    {
      "cell_type": "code",
      "source": [
        "# The del keyword can delete the tuple completely:\n",
        "\n",
        "tuple = (\"apple\", \"banana\", \"cherry\")\n",
        "del tuple\n",
        "print(tuple) #this will raise an error because the tuple no longer exists"
      ],
      "metadata": {
        "colab": {
          "base_uri": "https://localhost:8080/"
        },
        "id": "ngIn24_Jy2Q8",
        "outputId": "576aaf74-af8d-4ec6-c0c4-9f284305696d"
      },
      "execution_count": 31,
      "outputs": [
        {
          "output_type": "stream",
          "name": "stdout",
          "text": [
            "<class 'tuple'>\n"
          ]
        }
      ]
    },
    {
      "cell_type": "markdown",
      "source": [
        "# **Unpack Tuples**"
      ],
      "metadata": {
        "id": "z-hlH8hdudz2"
      }
    },
    {
      "cell_type": "markdown",
      "source": [
        "**Unpacking a Tuple**\n",
        "\n",
        "When we create a tuple, we normally assign values to it. This is called \"packing\" a tuple:"
      ],
      "metadata": {
        "id": "TngVG2Zhzdt6"
      }
    },
    {
      "cell_type": "code",
      "source": [
        "# Packing a tuple:\n",
        "\n",
        "fruit = (\"apple\", \"banana\", \"cherry\")\n",
        "\n",
        "# But, in Python, we are also allowed to extract the values back into variables. This is called \"unpacking\":\n",
        "# Unpacking a tuple:\n",
        "\n",
        "fruit = (\"apple\", \"banana\", \"cherry\")\n",
        "\n",
        "(green, yellow, red) = fruit\n",
        "\n",
        "print(green)\n",
        "print(yellow)\n",
        "print(red)"
      ],
      "metadata": {
        "colab": {
          "base_uri": "https://localhost:8080/"
        },
        "id": "iRZUFQQL0Z10",
        "outputId": "2f6c01d4-f4cd-4433-8e80-26ba3ef6c6c4"
      },
      "execution_count": 33,
      "outputs": [
        {
          "output_type": "stream",
          "name": "stdout",
          "text": [
            "apple\n",
            "banana\n",
            "cherry\n"
          ]
        }
      ]
    },
    {
      "cell_type": "markdown",
      "source": [
        "**Using Asterisk***\n",
        "\n",
        "If the number of variables is less than the number of values, you can add an * to the variable name and the values will be assigned to the variable as a list:"
      ],
      "metadata": {
        "id": "xvAwMV2bu0h9"
      }
    },
    {
      "cell_type": "code",
      "source": [
        "# Assign the rest of the values as a list called \"red\":\n",
        "\n",
        "t = (\"apple\", \"banana\", \"cherry\", \"strawberry\", \"raspberry\")\n",
        "\n",
        "(green, yellow, *red) = t\n",
        "\n",
        "print(green)\n",
        "print(yellow)\n",
        "print(red)"
      ],
      "metadata": {
        "colab": {
          "base_uri": "https://localhost:8080/"
        },
        "id": "cErqBLmeu1jQ",
        "outputId": "08dcae6e-2a7f-459c-f921-369dcf2a7f0c"
      },
      "execution_count": 34,
      "outputs": [
        {
          "output_type": "stream",
          "name": "stdout",
          "text": [
            "apple\n",
            "banana\n",
            "['cherry', 'strawberry', 'raspberry']\n"
          ]
        }
      ]
    },
    {
      "cell_type": "markdown",
      "source": [
        "If the asterisk is added to another variable name than the last, Python will assign values to the variable until the number of values left matches the number of variables left."
      ],
      "metadata": {
        "id": "PlT9QbrMu0eu"
      }
    },
    {
      "cell_type": "code",
      "source": [
        "# Add a list of values the \"tropic\" variable:\n",
        "t = (\"apple\", \"mango\", \"papaya\", \"pineapple\", \"cherry\")\n",
        "\n",
        "(green, *tropic, red) = t\n",
        "\n",
        "print(green)\n",
        "print(tropic)\n",
        "print(red)"
      ],
      "metadata": {
        "colab": {
          "base_uri": "https://localhost:8080/"
        },
        "id": "s8AxJok0u2Ij",
        "outputId": "ca489db9-f1ce-4d69-c530-c685e7228513"
      },
      "execution_count": 35,
      "outputs": [
        {
          "output_type": "stream",
          "name": "stdout",
          "text": [
            "apple\n",
            "['mango', 'papaya', 'pineapple']\n",
            "cherry\n"
          ]
        }
      ]
    },
    {
      "cell_type": "markdown",
      "source": [
        "# **Loop Tuples**"
      ],
      "metadata": {
        "id": "jYZ-4RN1u0bR"
      }
    },
    {
      "cell_type": "markdown",
      "source": [
        "**Loop Through a Tuple**\n",
        "\n",
        "You can loop through the tuple items by using a for loop."
      ],
      "metadata": {
        "id": "P0i7zH3y6_X4"
      }
    },
    {
      "cell_type": "code",
      "source": [
        "# Iterate through the items and print the values:\n",
        "\n",
        "t = (\"apple\", \"banana\", \"cherry\")\n",
        "for x in t:\n",
        "  print(x)"
      ],
      "metadata": {
        "colab": {
          "base_uri": "https://localhost:8080/"
        },
        "id": "m6gk8Gwg7jzb",
        "outputId": "b38c0ee9-8daf-4942-84b8-788a13c8cbb8"
      },
      "execution_count": 36,
      "outputs": [
        {
          "output_type": "stream",
          "name": "stdout",
          "text": [
            "apple\n",
            "banana\n",
            "cherry\n"
          ]
        }
      ]
    },
    {
      "cell_type": "markdown",
      "source": [
        "**Loop Through the Index Numbers**\n",
        "\n",
        "You can also loop through the tuple items by referring to their index number.\n",
        "\n",
        "Use the range() and len() functions to create a suitable iterable."
      ],
      "metadata": {
        "id": "tFd3Phkw7AGu"
      }
    },
    {
      "cell_type": "code",
      "source": [
        "# Print all items by referring to their index number:\n",
        "\n",
        "t = (\"apple\", \"banana\", \"cherry\")\n",
        "for i in range (len(t)):\n",
        "  print(t[i])"
      ],
      "metadata": {
        "colab": {
          "base_uri": "https://localhost:8080/"
        },
        "id": "QWoB9aXP6-dk",
        "outputId": "70f92376-92f4-4ef7-e094-fd2ad59a76b3"
      },
      "execution_count": 38,
      "outputs": [
        {
          "output_type": "stream",
          "name": "stdout",
          "text": [
            "apple\n",
            "banana\n",
            "cherry\n"
          ]
        }
      ]
    },
    {
      "cell_type": "markdown",
      "source": [
        "**Using a While Loop**\n",
        "\n",
        "You can loop through the tuple items by using a while loop.\n",
        "\n",
        "Use the len() function to determine the length of the tuple, then start at 0 and loop your way through the tuple items by referring to their indexes.\n",
        "\n",
        "Remember to increase the index by 1 after each iteration."
      ],
      "metadata": {
        "id": "s4Yynf1O7BAO"
      }
    },
    {
      "cell_type": "code",
      "source": [
        "# Print all items, using a while loop to go through all the index numbers:\n",
        "\n",
        "t = (\"apple\", \"banana\", \"cherry\")\n",
        "i = 0\n",
        "while i < len(t):\n",
        "  print(t[i])\n",
        "  i = i + 1"
      ],
      "metadata": {
        "colab": {
          "base_uri": "https://localhost:8080/"
        },
        "id": "iQOfsLN-6-Ed",
        "outputId": "7df508d8-68b1-4d39-fc24-2ac3407a5033"
      },
      "execution_count": 39,
      "outputs": [
        {
          "output_type": "stream",
          "name": "stdout",
          "text": [
            "apple\n",
            "banana\n",
            "cherry\n"
          ]
        }
      ]
    },
    {
      "cell_type": "markdown",
      "source": [
        "# **Join Tuples**"
      ],
      "metadata": {
        "id": "6SLwQO9l7Bvf"
      }
    },
    {
      "cell_type": "markdown",
      "source": [
        "**Join Two Tuples**\n",
        "\n",
        "To join two or more tuples you can use the + operator:"
      ],
      "metadata": {
        "id": "QG_penrW-zPP"
      }
    },
    {
      "cell_type": "code",
      "source": [
        "t = (\"apple\", \"banana\", \"cherry\")\n",
        "t1 = (1,5,9,7,5,3)\n",
        "t2 = t + t1\n",
        "print(t2)"
      ],
      "metadata": {
        "colab": {
          "base_uri": "https://localhost:8080/"
        },
        "id": "Qwr-9UYe6-Aj",
        "outputId": "0025aae7-6982-42c2-8b97-4c47a0f94fe6"
      },
      "execution_count": 40,
      "outputs": [
        {
          "output_type": "stream",
          "name": "stdout",
          "text": [
            "('apple', 'banana', 'cherry', 1, 5, 9, 7, 5, 3)\n"
          ]
        }
      ]
    },
    {
      "cell_type": "markdown",
      "source": [
        "**Multiply Tuples**\n",
        "\n",
        "If you want to multiply the content of a tuple a given number of times, you can use the * operator:"
      ],
      "metadata": {
        "id": "XGjFCrw07CWe"
      }
    },
    {
      "cell_type": "code",
      "source": [
        "# Multiply the fruits tuple by 2:\n",
        "\n",
        "t = (\"apple\", \"banana\", \"cherry\")\n",
        "t1 = t * 2\n",
        "\n",
        "print(t1)"
      ],
      "metadata": {
        "colab": {
          "base_uri": "https://localhost:8080/"
        },
        "id": "nx-O3Ljo698Q",
        "outputId": "76af3719-0da6-489b-8a14-6bf4c0a11251"
      },
      "execution_count": 41,
      "outputs": [
        {
          "output_type": "stream",
          "name": "stdout",
          "text": [
            "('apple', 'banana', 'cherry', 'apple', 'banana', 'cherry')\n"
          ]
        }
      ]
    },
    {
      "cell_type": "markdown",
      "source": [
        "# **Tuple Methods**"
      ],
      "metadata": {
        "id": "o-bjwTGz7DEZ"
      }
    },
    {
      "cell_type": "markdown",
      "source": [
        "Python has two built-in methods that you can use on tuples.\n",
        "\n",
        "**count()**\t- Returns the number of times a specified value occurs in a tuple.   \n",
        "**index()**\t- Searches the tuple for a specified value and returns the position of where it was found\n",
        "\n",
        "Other -                                                                          \n",
        "Min(),                                                                         \n",
        "max(),                                                                        \n",
        "sum()"
      ],
      "metadata": {
        "id": "wYM7QU7nADXv"
      }
    },
    {
      "cell_type": "code",
      "source": [
        "t = (1,5,9,7,5,3)\n",
        "print(t.count(5)) #  how many times 5 numbers."
      ],
      "metadata": {
        "colab": {
          "base_uri": "https://localhost:8080/"
        },
        "id": "w1n_fljlu2vN",
        "outputId": "e5fe2913-2d01-40a9-b6a1-39ba25c03d37"
      },
      "execution_count": 42,
      "outputs": [
        {
          "output_type": "stream",
          "name": "stdout",
          "text": [
            "2\n"
          ]
        }
      ]
    },
    {
      "cell_type": "code",
      "source": [
        "t = (10,20,30,40,50)\n",
        "i = t.index(50)  # Index  number of 50.\n",
        "print(i)"
      ],
      "metadata": {
        "colab": {
          "base_uri": "https://localhost:8080/"
        },
        "id": "UcTbrUkfCKSC",
        "outputId": "a25db400-1526-4347-85b2-48e72004fca3"
      },
      "execution_count": 48,
      "outputs": [
        {
          "output_type": "stream",
          "name": "stdout",
          "text": [
            "4\n"
          ]
        }
      ]
    },
    {
      "cell_type": "code",
      "source": [
        "t = (10,20,30,40,50)\n",
        "m = min(t)  # Minimum Number.\n",
        "print(m)"
      ],
      "metadata": {
        "colab": {
          "base_uri": "https://localhost:8080/"
        },
        "id": "iWEfZ8fsBKx8",
        "outputId": "4ba03294-b1cf-4508-c916-634f801276d8"
      },
      "execution_count": 43,
      "outputs": [
        {
          "output_type": "stream",
          "name": "stdout",
          "text": [
            "10\n"
          ]
        }
      ]
    },
    {
      "cell_type": "code",
      "source": [
        "t = (10,20,30,40,50)\n",
        "m = max(t)  # Maximum Number.\n",
        "print(m)"
      ],
      "metadata": {
        "colab": {
          "base_uri": "https://localhost:8080/"
        },
        "id": "ITOIYZuDBKlP",
        "outputId": "193bb80b-ff51-44ff-e5ef-3539ec64b7c2"
      },
      "execution_count": 44,
      "outputs": [
        {
          "output_type": "stream",
          "name": "stdout",
          "text": [
            "50\n"
          ]
        }
      ]
    },
    {
      "cell_type": "code",
      "source": [
        "t = (10,20,30,40,50)\n",
        "m = sum(t)  # Sum of all numbers.\n",
        "print(m)"
      ],
      "metadata": {
        "colab": {
          "base_uri": "https://localhost:8080/"
        },
        "id": "cYSm1dPOBKhw",
        "outputId": "04eb492e-980c-4739-ce58-5d76edba7315"
      },
      "execution_count": 45,
      "outputs": [
        {
          "output_type": "stream",
          "name": "stdout",
          "text": [
            "150\n"
          ]
        }
      ]
    },
    {
      "cell_type": "code",
      "source": [
        "t = (10,20,30,40,50)\n",
        "m = sum(t, 50)  # Sum of all numbers.\n",
        "print(m)"
      ],
      "metadata": {
        "colab": {
          "base_uri": "https://localhost:8080/"
        },
        "id": "JYTpZG8GBKcY",
        "outputId": "5275512e-db03-4d3c-ae31-87ac51b3fe9e"
      },
      "execution_count": 47,
      "outputs": [
        {
          "output_type": "stream",
          "name": "stdout",
          "text": [
            "200\n"
          ]
        }
      ]
    }
  ]
}