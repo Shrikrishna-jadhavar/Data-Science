{
  "nbformat": 4,
  "nbformat_minor": 0,
  "metadata": {
    "colab": {
      "provenance": [],
      "collapsed_sections": [
        "IC2Fmp2FmOwB",
        "jT221__ZmO04",
        "SEONBgcPmPGK",
        "423mfCvZqWYV"
      ]
    },
    "kernelspec": {
      "name": "python3",
      "display_name": "Python 3"
    },
    "language_info": {
      "name": "python"
    }
  },
  "cells": [
    {
      "cell_type": "markdown",
      "source": [
        "# **Python Data Types**"
      ],
      "metadata": {
        "id": "IC2Fmp2FmOwB"
      }
    },
    {
      "cell_type": "markdown",
      "source": [
        "**Built-in Data Types**\n",
        "\n",
        "In programming, data type is an important concept.\n",
        "\n",
        "Variables can store data of different types, and different types can do different things.\n",
        "\n",
        "Python has the following data types built-in by default, in these categories:\n",
        "\n",
        "Text Type : \tstr\n",
        "\n",
        "Numeric Types : \tint, float, complex\n",
        "\n",
        "Sequence Types : \tlist, tuple, range\n",
        "\n",
        "Mapping Type : \tdict\n",
        "\n",
        "Set Types : \tset, frozenset\n",
        "\n",
        "Boolean Type : \tbool\n",
        "\n",
        "Binary Types : \tbytes, bytearray, memoryview\n",
        "\n",
        "None Type : \tNoneType"
      ],
      "metadata": {
        "id": "_Y0Qr0CEmV87"
      }
    },
    {
      "cell_type": "markdown",
      "source": [
        "# **Getting the Data Type**\n",
        "\n",
        "You can get the data type of any object by using the type() function:"
      ],
      "metadata": {
        "id": "jT221__ZmO04"
      }
    },
    {
      "cell_type": "code",
      "execution_count": 1,
      "metadata": {
        "colab": {
          "base_uri": "https://localhost:8080/"
        },
        "id": "GhRzm9H5mCou",
        "outputId": "35a4b73f-cef3-4182-deeb-62c8aaa9b6fd"
      },
      "outputs": [
        {
          "output_type": "stream",
          "name": "stdout",
          "text": [
            "<class 'int'>\n"
          ]
        }
      ],
      "source": [
        "x = 10\n",
        "print(type(x))  # Print the data type of the variable x"
      ]
    },
    {
      "cell_type": "markdown",
      "source": [
        "# **Setting the Data Type**\n",
        "\n",
        "The data type is set when you assign a value to a variable:"
      ],
      "metadata": {
        "id": "SEONBgcPmPGK"
      }
    },
    {
      "cell_type": "code",
      "source": [
        "x = \"Hello World\"\n",
        "print(type(x))"
      ],
      "metadata": {
        "colab": {
          "base_uri": "https://localhost:8080/"
        },
        "id": "KqbuEkuSoSDP",
        "outputId": "6da73073-b657-4d45-840f-ce6e7ae03de3"
      },
      "execution_count": 2,
      "outputs": [
        {
          "output_type": "stream",
          "name": "stdout",
          "text": [
            "<class 'str'>\n"
          ]
        }
      ]
    },
    {
      "cell_type": "code",
      "source": [
        "x = 10\n",
        "print(type(x))"
      ],
      "metadata": {
        "colab": {
          "base_uri": "https://localhost:8080/"
        },
        "id": "XjkQima5oSAZ",
        "outputId": "781204f0-d4ab-4d6c-c846-db33d68e9337"
      },
      "execution_count": 3,
      "outputs": [
        {
          "output_type": "stream",
          "name": "stdout",
          "text": [
            "<class 'int'>\n"
          ]
        }
      ]
    },
    {
      "cell_type": "code",
      "source": [
        "x = 20.5\n",
        "print(type(x))"
      ],
      "metadata": {
        "colab": {
          "base_uri": "https://localhost:8080/"
        },
        "id": "tcSdlI3AoR83",
        "outputId": "000dcd95-376a-4453-92fc-72c4fe4f4b0b"
      },
      "execution_count": 4,
      "outputs": [
        {
          "output_type": "stream",
          "name": "stdout",
          "text": [
            "<class 'float'>\n"
          ]
        }
      ]
    },
    {
      "cell_type": "code",
      "source": [
        "x = 1j\n",
        "print(type(x))"
      ],
      "metadata": {
        "colab": {
          "base_uri": "https://localhost:8080/"
        },
        "id": "h6RSR0O3oR5p",
        "outputId": "83841422-3abc-4fe7-ceda-9c0d82df03db"
      },
      "execution_count": 5,
      "outputs": [
        {
          "output_type": "stream",
          "name": "stdout",
          "text": [
            "<class 'complex'>\n"
          ]
        }
      ]
    },
    {
      "cell_type": "code",
      "source": [
        "x = [\"apple\", \"banana\", \"cherry\"]\n",
        "print(type(x))"
      ],
      "metadata": {
        "colab": {
          "base_uri": "https://localhost:8080/"
        },
        "id": "Ioe8gwCloR2k",
        "outputId": "18e7e33c-6b00-4ac1-dc3b-dcc8e7d757d6"
      },
      "execution_count": 6,
      "outputs": [
        {
          "output_type": "stream",
          "name": "stdout",
          "text": [
            "<class 'list'>\n"
          ]
        }
      ]
    },
    {
      "cell_type": "code",
      "source": [
        "x = (\"apple\", \"banana\", \"cherry\")\n",
        "print(type(x))"
      ],
      "metadata": {
        "colab": {
          "base_uri": "https://localhost:8080/"
        },
        "id": "smObX-TJoRyz",
        "outputId": "2fceb356-164e-48c3-8d34-df329da21955"
      },
      "execution_count": 7,
      "outputs": [
        {
          "output_type": "stream",
          "name": "stdout",
          "text": [
            "<class 'tuple'>\n"
          ]
        }
      ]
    },
    {
      "cell_type": "code",
      "source": [
        "x = range(6)\n",
        "print(type(x))"
      ],
      "metadata": {
        "colab": {
          "base_uri": "https://localhost:8080/"
        },
        "id": "45TU-pDOoRwN",
        "outputId": "1080f2de-feb1-46d9-f7fa-9b9155e0eefc"
      },
      "execution_count": 8,
      "outputs": [
        {
          "output_type": "stream",
          "name": "stdout",
          "text": [
            "<class 'range'>\n"
          ]
        }
      ]
    },
    {
      "cell_type": "code",
      "source": [
        "x = {\"name\" : \"John\", \"age\" : 36}\n",
        "print(type(x))"
      ],
      "metadata": {
        "colab": {
          "base_uri": "https://localhost:8080/"
        },
        "id": "qzYbNZ9IoRs8",
        "outputId": "d93286bd-8926-45a4-d4d4-1051030845d8"
      },
      "execution_count": 9,
      "outputs": [
        {
          "output_type": "stream",
          "name": "stdout",
          "text": [
            "<class 'dict'>\n"
          ]
        }
      ]
    },
    {
      "cell_type": "code",
      "source": [
        "x = {\"apple\", \"banana\", \"cherry\"}\n",
        "print(type(x))"
      ],
      "metadata": {
        "colab": {
          "base_uri": "https://localhost:8080/"
        },
        "id": "J7ao3JVYpKc_",
        "outputId": "02e43878-a338-4b75-b907-275964973640"
      },
      "execution_count": 11,
      "outputs": [
        {
          "output_type": "stream",
          "name": "stdout",
          "text": [
            "<class 'set'>\n"
          ]
        }
      ]
    },
    {
      "cell_type": "code",
      "source": [
        "x = frozenset({\"apple\", \"banana\", \"cherry\"})\n",
        "print(type(x))"
      ],
      "metadata": {
        "colab": {
          "base_uri": "https://localhost:8080/"
        },
        "id": "OfNHtcPApKaH",
        "outputId": "a09cfa2b-d8b7-4afb-9cd2-d76cf14bcc27"
      },
      "execution_count": 12,
      "outputs": [
        {
          "output_type": "stream",
          "name": "stdout",
          "text": [
            "<class 'frozenset'>\n"
          ]
        }
      ]
    },
    {
      "cell_type": "code",
      "source": [
        "x = True\n",
        "print(type(x))"
      ],
      "metadata": {
        "colab": {
          "base_uri": "https://localhost:8080/"
        },
        "id": "H_D9qeL-pKWx",
        "outputId": "30b5d84a-570b-4f8a-bde2-500bb3497807"
      },
      "execution_count": 13,
      "outputs": [
        {
          "output_type": "stream",
          "name": "stdout",
          "text": [
            "<class 'bool'>\n"
          ]
        }
      ]
    },
    {
      "cell_type": "code",
      "source": [
        "x = b\"Hello\"\n",
        "print(type(x))"
      ],
      "metadata": {
        "colab": {
          "base_uri": "https://localhost:8080/"
        },
        "id": "YNVDaagCpJ2o",
        "outputId": "f9feec6e-1e4f-4574-ba84-b9518b46c8a0"
      },
      "execution_count": 14,
      "outputs": [
        {
          "output_type": "stream",
          "name": "stdout",
          "text": [
            "<class 'bytes'>\n"
          ]
        }
      ]
    },
    {
      "cell_type": "code",
      "source": [
        "x = bytearray(5)\n",
        "print(type(x))"
      ],
      "metadata": {
        "colab": {
          "base_uri": "https://localhost:8080/"
        },
        "id": "hdAkZEfFpJwM",
        "outputId": "96b612e6-1c85-424b-af4d-71e4fdefa832"
      },
      "execution_count": 15,
      "outputs": [
        {
          "output_type": "stream",
          "name": "stdout",
          "text": [
            "<class 'bytearray'>\n"
          ]
        }
      ]
    },
    {
      "cell_type": "code",
      "source": [
        "x = memoryview(bytes(5))\n",
        "print(type(x))"
      ],
      "metadata": {
        "colab": {
          "base_uri": "https://localhost:8080/"
        },
        "id": "cBx2u5sXp2P4",
        "outputId": "e841fd86-9dbf-4a25-d530-e8850e1439cb"
      },
      "execution_count": 16,
      "outputs": [
        {
          "output_type": "stream",
          "name": "stdout",
          "text": [
            "<class 'memoryview'>\n"
          ]
        }
      ]
    },
    {
      "cell_type": "code",
      "source": [
        "x = None\n",
        "print(type(x))"
      ],
      "metadata": {
        "colab": {
          "base_uri": "https://localhost:8080/"
        },
        "id": "ZVwvbSqWp2H0",
        "outputId": "386a5d53-1b43-45b7-bb74-a58334e11b35"
      },
      "execution_count": 17,
      "outputs": [
        {
          "output_type": "stream",
          "name": "stdout",
          "text": [
            "<class 'NoneType'>\n"
          ]
        }
      ]
    },
    {
      "cell_type": "markdown",
      "source": [
        "# **Setting the Specific Data Type**\n",
        "\n",
        "If you want to specify the data type, you can use the following constructor functions:"
      ],
      "metadata": {
        "id": "423mfCvZqWYV"
      }
    },
    {
      "cell_type": "code",
      "source": [
        "x = str(\"Hello World\")\n",
        "print(type(x))"
      ],
      "metadata": {
        "colab": {
          "base_uri": "https://localhost:8080/"
        },
        "id": "HpNkwFqOp_Al",
        "outputId": "fe0d8c5f-5742-463f-9390-a3fd1a2f9691"
      },
      "execution_count": 18,
      "outputs": [
        {
          "output_type": "stream",
          "name": "stdout",
          "text": [
            "<class 'str'>\n"
          ]
        }
      ]
    },
    {
      "cell_type": "code",
      "source": [
        "x = int(20)\n",
        "print(type(x))"
      ],
      "metadata": {
        "colab": {
          "base_uri": "https://localhost:8080/"
        },
        "id": "pEilN5YIp-8-",
        "outputId": "60aef790-6f08-46de-a6af-374ca3885604"
      },
      "execution_count": 19,
      "outputs": [
        {
          "output_type": "stream",
          "name": "stdout",
          "text": [
            "<class 'int'>\n"
          ]
        }
      ]
    },
    {
      "cell_type": "code",
      "source": [
        "x = float(20.5)\n",
        "print(type(x))"
      ],
      "metadata": {
        "colab": {
          "base_uri": "https://localhost:8080/"
        },
        "id": "o0QR4MSnqeSy",
        "outputId": "05b74a5b-8340-41b0-f541-f423e621d94a"
      },
      "execution_count": 20,
      "outputs": [
        {
          "output_type": "stream",
          "name": "stdout",
          "text": [
            "<class 'float'>\n"
          ]
        }
      ]
    },
    {
      "cell_type": "code",
      "source": [
        "x = complex(1j)\n",
        "print(type(x))"
      ],
      "metadata": {
        "colab": {
          "base_uri": "https://localhost:8080/"
        },
        "id": "9dwb7Ay9qeQB",
        "outputId": "d82c4cc7-fd6a-4962-a0bc-89e4fc6e34ac"
      },
      "execution_count": 21,
      "outputs": [
        {
          "output_type": "stream",
          "name": "stdout",
          "text": [
            "<class 'complex'>\n"
          ]
        }
      ]
    },
    {
      "cell_type": "code",
      "source": [
        "x = list((\"apple\", \"banana\", \"cherry\"))\n",
        "print(type(x))"
      ],
      "metadata": {
        "colab": {
          "base_uri": "https://localhost:8080/"
        },
        "id": "h7ukjCnYqeNY",
        "outputId": "0890c479-7d6f-4b4a-8b10-7611c3682b69"
      },
      "execution_count": 22,
      "outputs": [
        {
          "output_type": "stream",
          "name": "stdout",
          "text": [
            "<class 'list'>\n"
          ]
        }
      ]
    },
    {
      "cell_type": "code",
      "source": [
        "x = tuple((\"apple\", \"banana\", \"cherry\"))\n",
        "print(type(x))"
      ],
      "metadata": {
        "colab": {
          "base_uri": "https://localhost:8080/"
        },
        "id": "vwwBNyRMqeK-",
        "outputId": "26825aab-2ee7-47e7-c369-c2e2d6180537"
      },
      "execution_count": 23,
      "outputs": [
        {
          "output_type": "stream",
          "name": "stdout",
          "text": [
            "<class 'tuple'>\n"
          ]
        }
      ]
    },
    {
      "cell_type": "code",
      "source": [
        "x = range(6)\n",
        "print(type(x))"
      ],
      "metadata": {
        "colab": {
          "base_uri": "https://localhost:8080/"
        },
        "id": "ifCPGNGdqeIO",
        "outputId": "25f0079c-af78-4ed4-e3d0-3b00cf9504fe"
      },
      "execution_count": 24,
      "outputs": [
        {
          "output_type": "stream",
          "name": "stdout",
          "text": [
            "<class 'range'>\n"
          ]
        }
      ]
    },
    {
      "cell_type": "code",
      "source": [
        "x = dict(name=\"John\", age=36)\n",
        "print(type(x))"
      ],
      "metadata": {
        "colab": {
          "base_uri": "https://localhost:8080/"
        },
        "id": "yMEFcCaJqeFo",
        "outputId": "c1e1138d-c7a9-43d4-fa4e-7fc531c533e2"
      },
      "execution_count": 25,
      "outputs": [
        {
          "output_type": "stream",
          "name": "stdout",
          "text": [
            "<class 'dict'>\n"
          ]
        }
      ]
    },
    {
      "cell_type": "code",
      "source": [
        "x = set((\"apple\", \"banana\", \"cherry\"))\n",
        "print(type(x))"
      ],
      "metadata": {
        "colab": {
          "base_uri": "https://localhost:8080/"
        },
        "id": "wgmI1L8yqdmV",
        "outputId": "7c4af0d7-f5e6-49f6-aa03-49df7d012d04"
      },
      "execution_count": 26,
      "outputs": [
        {
          "output_type": "stream",
          "name": "stdout",
          "text": [
            "<class 'set'>\n"
          ]
        }
      ]
    },
    {
      "cell_type": "code",
      "source": [
        "x = frozenset((\"apple\", \"banana\", \"cherry\"))\n",
        "print(type(x))"
      ],
      "metadata": {
        "colab": {
          "base_uri": "https://localhost:8080/"
        },
        "id": "dfU7ZUaDqdjK",
        "outputId": "8cb752e8-57c0-41ff-cb1c-a0d7b1938750"
      },
      "execution_count": 27,
      "outputs": [
        {
          "output_type": "stream",
          "name": "stdout",
          "text": [
            "<class 'frozenset'>\n"
          ]
        }
      ]
    },
    {
      "cell_type": "code",
      "source": [
        "x = bool(5)\n",
        "print(type(x))"
      ],
      "metadata": {
        "colab": {
          "base_uri": "https://localhost:8080/"
        },
        "id": "BuKwxMflqdgT",
        "outputId": "8a075148-1e98-447e-a4c4-3e759977b18e"
      },
      "execution_count": 28,
      "outputs": [
        {
          "output_type": "stream",
          "name": "stdout",
          "text": [
            "<class 'bool'>\n"
          ]
        }
      ]
    },
    {
      "cell_type": "code",
      "source": [
        "x = bytes(5)\n",
        "print(type(x))"
      ],
      "metadata": {
        "colab": {
          "base_uri": "https://localhost:8080/"
        },
        "id": "G7DTJ8dhqddN",
        "outputId": "51d3aab8-1436-4c29-8a6d-8103f09fe7ed"
      },
      "execution_count": 29,
      "outputs": [
        {
          "output_type": "stream",
          "name": "stdout",
          "text": [
            "<class 'bytes'>\n"
          ]
        }
      ]
    },
    {
      "cell_type": "code",
      "source": [
        "x = bytearray(5)\n",
        "print(type(x))"
      ],
      "metadata": {
        "colab": {
          "base_uri": "https://localhost:8080/"
        },
        "id": "DURdxerfqdam",
        "outputId": "653020f0-b531-44d0-c0d3-8c6deb83da8e"
      },
      "execution_count": 30,
      "outputs": [
        {
          "output_type": "stream",
          "name": "stdout",
          "text": [
            "<class 'bytearray'>\n"
          ]
        }
      ]
    },
    {
      "cell_type": "code",
      "source": [
        "x = memoryview(bytes(5))\n",
        "print(type(x))"
      ],
      "metadata": {
        "colab": {
          "base_uri": "https://localhost:8080/"
        },
        "id": "ovVovBb0qdXc",
        "outputId": "50ec6749-54e7-436e-d6e6-b09a1fb8aff2"
      },
      "execution_count": 31,
      "outputs": [
        {
          "output_type": "stream",
          "name": "stdout",
          "text": [
            "<class 'memoryview'>\n"
          ]
        }
      ]
    },
    {
      "cell_type": "markdown",
      "source": [
        "# **Python Numbers**"
      ],
      "metadata": {
        "id": "xlOaaUP9sHZc"
      }
    },
    {
      "cell_type": "markdown",
      "source": [
        "Python Numbers\n",
        "\n",
        "There are three numeric types in Python:\n",
        "*   int\n",
        "*   float\n",
        "*   complex\n",
        "\n",
        "Variables of numeric types are created when you assign a value to them:\n",
        "\n"
      ],
      "metadata": {
        "id": "za7xwvE8sYER"
      }
    },
    {
      "cell_type": "code",
      "source": [
        "x = 1    # int\n",
        "y = 2.8  # float\n",
        "z = 1j   # complex\n",
        "\n",
        "print(type(x))\n",
        "print(type(y))\n",
        "print(type(z))"
      ],
      "metadata": {
        "colab": {
          "base_uri": "https://localhost:8080/"
        },
        "id": "CWgQqHHvrMWc",
        "outputId": "500f40d5-4176-4313-edbf-ab42d4acd92a"
      },
      "execution_count": 32,
      "outputs": [
        {
          "output_type": "stream",
          "name": "stdout",
          "text": [
            "<class 'int'>\n",
            "<class 'float'>\n",
            "<class 'complex'>\n"
          ]
        }
      ]
    },
    {
      "cell_type": "markdown",
      "source": [
        "**Int**\n",
        "\n",
        "Int, or integer, is a whole number, positive or negative, without decimals, of unlimited length."
      ],
      "metadata": {
        "id": "EBfRY90guB23"
      }
    },
    {
      "cell_type": "code",
      "source": [
        "x = 1\n",
        "y = 1213154564655\n",
        "z = -123456789\n",
        "\n",
        "print(type(x))\n",
        "print(type(y))\n",
        "print(type(z))"
      ],
      "metadata": {
        "colab": {
          "base_uri": "https://localhost:8080/"
        },
        "id": "QPy2j67brMTd",
        "outputId": "837e82ba-07c2-42ea-a9dc-ad7d940d595f"
      },
      "execution_count": 33,
      "outputs": [
        {
          "output_type": "stream",
          "name": "stdout",
          "text": [
            "<class 'int'>\n",
            "<class 'int'>\n",
            "<class 'int'>\n"
          ]
        }
      ]
    },
    {
      "cell_type": "markdown",
      "source": [
        "**Float**\n",
        "\n",
        "Float, or \"floating point number\" is a number, positive or negative, containing one or more decimals."
      ],
      "metadata": {
        "id": "Qij-4LleuVDg"
      }
    },
    {
      "cell_type": "code",
      "source": [
        "x = 1.0\n",
        "y = 1.5\n",
        "z = -35.59\n",
        "\n",
        "print(type(x))\n",
        "print(type(y))\n",
        "print(type(z))"
      ],
      "metadata": {
        "colab": {
          "base_uri": "https://localhost:8080/"
        },
        "id": "_oGLnnXDrMQJ",
        "outputId": "c794653d-7044-4435-d150-50791f75383e"
      },
      "execution_count": 34,
      "outputs": [
        {
          "output_type": "stream",
          "name": "stdout",
          "text": [
            "<class 'float'>\n",
            "<class 'float'>\n",
            "<class 'float'>\n"
          ]
        }
      ]
    },
    {
      "cell_type": "code",
      "source": [
        "# Float can also be scientific numbers with an \"e\" to indicate the power of 10.\n",
        "\n",
        "x = 35e3\n",
        "y = 12E4\n",
        "z = -87.7e100\n",
        "\n",
        "print(type(x))\n",
        "print(type(y))\n",
        "print(type(z))"
      ],
      "metadata": {
        "colab": {
          "base_uri": "https://localhost:8080/"
        },
        "id": "pr7Wdf-4ukqC",
        "outputId": "901047c5-ad52-44a8-cc2d-5946af20909c"
      },
      "execution_count": 35,
      "outputs": [
        {
          "output_type": "stream",
          "name": "stdout",
          "text": [
            "<class 'float'>\n",
            "<class 'float'>\n",
            "<class 'float'>\n"
          ]
        }
      ]
    },
    {
      "cell_type": "markdown",
      "source": [
        "**Complex**\n",
        "\n",
        "Complex numbers are written with a \"j\" as the imaginary part:"
      ],
      "metadata": {
        "id": "WL7flJjAueUc"
      }
    },
    {
      "cell_type": "code",
      "source": [
        "x = 8+5j\n",
        "y = -5j\n",
        "z = 10j\n",
        "\n",
        "print(type(x))\n",
        "print(type(y))\n",
        "print(type(z))"
      ],
      "metadata": {
        "colab": {
          "base_uri": "https://localhost:8080/"
        },
        "id": "W9Ogp16-rMMc",
        "outputId": "f8e8e7d3-3453-4962-9c42-c0308b291cb3"
      },
      "execution_count": 36,
      "outputs": [
        {
          "output_type": "stream",
          "name": "stdout",
          "text": [
            "<class 'complex'>\n",
            "<class 'complex'>\n",
            "<class 'complex'>\n"
          ]
        }
      ]
    },
    {
      "cell_type": "markdown",
      "source": [
        "**Type Conversion**\n",
        "\n",
        "You can convert from one type to another with the int(), float(), and complex() methods:"
      ],
      "metadata": {
        "id": "lmS7UIkrvZDR"
      }
    },
    {
      "cell_type": "code",
      "source": [
        "# Convert from one type to another:\n",
        "\n",
        "x = 1    # int\n",
        "y = 2.8  # float\n",
        "z = 1j   # complex      Note: You cannot convert complex numbers into another number type.\n",
        "\n",
        "\n",
        "#convert from int to float:\n",
        "a = float(x)\n",
        "\n",
        "#convert from float to int:\n",
        "b = int(y)\n",
        "\n",
        "#convert from int to complex:\n",
        "c = complex(x)\n",
        "\n",
        "print(a)\n",
        "print(b)\n",
        "print(c)\n",
        "\n",
        "print(type(a))\n",
        "print(type(b))\n",
        "print(type(c))"
      ],
      "metadata": {
        "colab": {
          "base_uri": "https://localhost:8080/"
        },
        "id": "wzD9mvg1vGxd",
        "outputId": "cf866754-b821-44ee-8588-b24c2a7b0822"
      },
      "execution_count": 40,
      "outputs": [
        {
          "output_type": "stream",
          "name": "stdout",
          "text": [
            "1.0\n",
            "2\n",
            "(1+0j)\n",
            "<class 'float'>\n",
            "<class 'int'>\n",
            "<class 'complex'>\n"
          ]
        }
      ]
    },
    {
      "cell_type": "markdown",
      "source": [
        "**Random Number**\n",
        "\n",
        "Python does not have a random() function to make a random number, but Python has a built-in module called random that can be used to make random numbers:"
      ],
      "metadata": {
        "id": "KNlhDHXXmPJk"
      }
    },
    {
      "cell_type": "code",
      "source": [
        "# Import the random module, and display a random number between 1 and 9:\n",
        "\n",
        "import random\n",
        "\n",
        "print(random.randrange(1, 10))"
      ],
      "metadata": {
        "colab": {
          "base_uri": "https://localhost:8080/"
        },
        "id": "KDIi-kJXwOdN",
        "outputId": "e492307f-8358-44ae-d40a-e68e330bd6ef"
      },
      "execution_count": 44,
      "outputs": [
        {
          "output_type": "stream",
          "name": "stdout",
          "text": [
            "8\n"
          ]
        }
      ]
    },
    {
      "cell_type": "markdown",
      "source": [
        "# **Python Casting**"
      ],
      "metadata": {
        "id": "cqXTVEiHxNwt"
      }
    },
    {
      "cell_type": "markdown",
      "source": [
        "**Specify a Variable Type**\n",
        "\n",
        "There may be times when you want to specify a type on to a variable. This can be done with casting. Python is an object-orientated language, and as such it uses classes to define data types, including its primitive types.\n",
        "\n",
        "Casting in python is therefore done using constructor functions:\n",
        "\n",
        "int() - constructs an integer number from an integer literal, a float literal (by removing all decimals), or a string literal (providing the string represents a whole number)\n",
        "\n",
        "float() - constructs a float number from an integer literal, a float literal or a string literal (providing the string represents a float or an integer)\n",
        "\n",
        "str() - constructs a string from a wide variety of data types, including strings, integer literals and float literals\n"
      ],
      "metadata": {
        "id": "vMQHSZsD-4GM"
      }
    },
    {
      "cell_type": "code",
      "source": [
        "# Integers:\n",
        "\n",
        "x = int(1)   # x will be 1\n",
        "y = int(2.8) # y will be 2\n",
        "z = int(\"3\") # z will be 3\n",
        "\n",
        "print(x)\n",
        "print(y)\n",
        "print(z)"
      ],
      "metadata": {
        "colab": {
          "base_uri": "https://localhost:8080/"
        },
        "id": "vRRzrQeawhaw",
        "outputId": "50a50687-fdc1-4ed0-feb4-0c92d146a265"
      },
      "execution_count": 47,
      "outputs": [
        {
          "output_type": "stream",
          "name": "stdout",
          "text": [
            "1\n",
            "2\n",
            "3\n"
          ]
        }
      ]
    },
    {
      "cell_type": "code",
      "source": [
        "# Floats:\n",
        "\n",
        "x = float(1)     # x will be 1.0\n",
        "y = float(2.8)   # y will be 2.8\n",
        "z = float(\"3\")   # z will be 3.0\n",
        "w = float(\"4.2\") # w will be 4.2\n",
        "\n",
        "print(x)\n",
        "print(y)\n",
        "print(z)\n",
        "print(w)"
      ],
      "metadata": {
        "colab": {
          "base_uri": "https://localhost:8080/"
        },
        "id": "ItuxSLuB_4AT",
        "outputId": "f5291614-44e0-4ca1-d28f-260141ac9292"
      },
      "execution_count": 48,
      "outputs": [
        {
          "output_type": "stream",
          "name": "stdout",
          "text": [
            "1.0\n",
            "2.8\n",
            "3.0\n",
            "4.2\n"
          ]
        }
      ]
    },
    {
      "cell_type": "code",
      "source": [
        "# Strings:\n",
        "\n",
        "x = str(\"s1\") # x will be 's1'\n",
        "y = str(2)    # y will be '2'\n",
        "z = str(3.0)  # z will be '3.0'\n",
        "\n",
        "print(x)\n",
        "print(y)\n",
        "print(z)"
      ],
      "metadata": {
        "colab": {
          "base_uri": "https://localhost:8080/"
        },
        "id": "WpXuuZL1AlHt",
        "outputId": "80230ef4-d426-46e9-eb2f-9d165b8dfdb9"
      },
      "execution_count": 45,
      "outputs": [
        {
          "output_type": "stream",
          "name": "stdout",
          "text": [
            "s1\n",
            "2\n",
            "3.0\n"
          ]
        }
      ]
    },
    {
      "cell_type": "code",
      "source": [],
      "metadata": {
        "id": "4KZNiV0MBGFW"
      },
      "execution_count": null,
      "outputs": []
    }
  ]
}