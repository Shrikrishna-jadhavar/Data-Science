{
  "nbformat": 4,
  "nbformat_minor": 0,
  "metadata": {
    "colab": {
      "provenance": []
    },
    "kernelspec": {
      "name": "python3",
      "display_name": "Python 3"
    },
    "language_info": {
      "name": "python"
    }
  },
  "cells": [
    {
      "cell_type": "markdown",
      "source": [
        "# **Python Try Except**\n",
        "\n",
        "The **try** block lets you test a block of code for errors.\n",
        "\n",
        "The **except** block lets you handle the error.\n",
        "\n",
        "The **else** block lets you execute code when there is no error.\n",
        "\n",
        "The **finally** block lets you execute code, regardless of the result of the try- and except blocks.\n"
      ],
      "metadata": {
        "id": "IbTw8-0VDPdz"
      }
    },
    {
      "cell_type": "markdown",
      "source": [
        "**Exception Handling**\n",
        "\n",
        "When an error occurs, or exception as we call it, Python will normally stop and generate an error message.\n",
        "\n",
        "These exceptions can be handled using the try statement:"
      ],
      "metadata": {
        "id": "Xw3JbqSoDPUi"
      }
    },
    {
      "cell_type": "code",
      "execution_count": 2,
      "metadata": {
        "colab": {
          "base_uri": "https://localhost:8080/"
        },
        "id": "sLZOxYcYDGFJ",
        "outputId": "37ebe7e2-cfe2-4942-8f16-b84d1def1793"
      },
      "outputs": [
        {
          "output_type": "stream",
          "name": "stdout",
          "text": [
            "An Exception Occurred\n"
          ]
        }
      ],
      "source": [
        "# The try block will generate an exception, because x is not defined:\n",
        "\n",
        "try:\n",
        "  print(x)\n",
        "except:\n",
        "  print('An Exception Occurred')"
      ]
    },
    {
      "cell_type": "markdown",
      "source": [
        "Since the try block raises an error, the except block will be executed.\n",
        "\n",
        "Without the try block, the program will crash and raise an error:"
      ],
      "metadata": {
        "id": "C2XqmlmHEdx_"
      }
    },
    {
      "cell_type": "code",
      "source": [
        "# This statement will raise an error, because x is not defined:\n",
        "\n",
        "print(x)"
      ],
      "metadata": {
        "colab": {
          "base_uri": "https://localhost:8080/",
          "height": 180
        },
        "id": "8mTcMThpEEcJ",
        "outputId": "610b6d48-5e71-4a33-bf84-cd62edb437af"
      },
      "execution_count": 3,
      "outputs": [
        {
          "output_type": "error",
          "ename": "NameError",
          "evalue": "name 'x' is not defined",
          "traceback": [
            "\u001b[0;31m---------------------------------------------------------------------------\u001b[0m",
            "\u001b[0;31mNameError\u001b[0m                                 Traceback (most recent call last)",
            "\u001b[0;32m<ipython-input-3-541044748b45>\u001b[0m in \u001b[0;36m<cell line: 0>\u001b[0;34m()\u001b[0m\n\u001b[1;32m      1\u001b[0m \u001b[0;31m# This statement will raise an error, because x is not defined:\u001b[0m\u001b[0;34m\u001b[0m\u001b[0;34m\u001b[0m\u001b[0m\n\u001b[1;32m      2\u001b[0m \u001b[0;34m\u001b[0m\u001b[0m\n\u001b[0;32m----> 3\u001b[0;31m \u001b[0mprint\u001b[0m\u001b[0;34m(\u001b[0m\u001b[0mx\u001b[0m\u001b[0;34m)\u001b[0m\u001b[0;34m\u001b[0m\u001b[0;34m\u001b[0m\u001b[0m\n\u001b[0m",
            "\u001b[0;31mNameError\u001b[0m: name 'x' is not defined"
          ]
        }
      ]
    },
    {
      "cell_type": "markdown",
      "source": [
        "# **Many Exceptions**\n",
        "\n",
        "You can define as many exception blocks as you want, e.g. if you want to execute a special block of code for a special kind of error:"
      ],
      "metadata": {
        "id": "OCD075ORE3hV"
      }
    },
    {
      "cell_type": "code",
      "source": [
        "# Print one message if the try block raises a NameError and another for other errors:\n",
        "\n",
        "try:\n",
        "  print(x)\n",
        "except NameError:\n",
        "  print(\"Variable x is not defined\")\n",
        "except:\n",
        "  print(\"Something else went wrong\")"
      ],
      "metadata": {
        "colab": {
          "base_uri": "https://localhost:8080/"
        },
        "id": "Pbvzpg4CEl1e",
        "outputId": "43e9807d-32ae-490c-b124-aaba4edc88e8"
      },
      "execution_count": 4,
      "outputs": [
        {
          "output_type": "stream",
          "name": "stdout",
          "text": [
            "Variable x is not defined\n"
          ]
        }
      ]
    },
    {
      "cell_type": "markdown",
      "source": [
        "# **Else**\n",
        "\n",
        "You can use the else keyword to define a block of code to be executed if no errors were raised:"
      ],
      "metadata": {
        "id": "9FWAOiwwFqN6"
      }
    },
    {
      "cell_type": "code",
      "source": [
        "# In this example, the try block does not generate any error:\n",
        "\n",
        "try:\n",
        "  print(\"Hello\")\n",
        "except:\n",
        "  print(\"Something went wrong\")\n",
        "else:\n",
        "  print(\"Nothing went wrong\")"
      ],
      "metadata": {
        "colab": {
          "base_uri": "https://localhost:8080/"
        },
        "id": "y-HYDgr7FtSN",
        "outputId": "c8c9c981-53d0-481e-e1c6-c610ab036d9c"
      },
      "execution_count": 5,
      "outputs": [
        {
          "output_type": "stream",
          "name": "stdout",
          "text": [
            "Hello\n",
            "Nothing went wrong\n"
          ]
        }
      ]
    },
    {
      "cell_type": "markdown",
      "source": [
        "# **Finally**\n",
        "\n",
        "The finally block, if specified, will be executed regardless if the try block raises an error or not."
      ],
      "metadata": {
        "id": "-PSPCq5cGN2W"
      }
    },
    {
      "cell_type": "code",
      "source": [
        "try:\n",
        "  print(x)\n",
        "except:\n",
        "  print(\"Something went wrong\")\n",
        "finally:\n",
        "  print(\"The 'try except' is finished\")"
      ],
      "metadata": {
        "colab": {
          "base_uri": "https://localhost:8080/"
        },
        "id": "Iwn_sShQF99m",
        "outputId": "2c1aae3a-5f3c-4631-a1d8-d46ab78b0532"
      },
      "execution_count": 6,
      "outputs": [
        {
          "output_type": "stream",
          "name": "stdout",
          "text": [
            "Something went wrong\n",
            "The 'try except' is finished\n"
          ]
        }
      ]
    },
    {
      "cell_type": "markdown",
      "source": [
        "This can be useful to close objects and clean up resources:"
      ],
      "metadata": {
        "id": "dk07K-oDG19S"
      }
    },
    {
      "cell_type": "code",
      "source": [
        "# Try to open and write to a file that is not writable:\n",
        "\n",
        "try:\n",
        "  f = open(\"demofile.txt\")\n",
        "  try:\n",
        "    f.write(\"Lorum Ipsum\")\n",
        "  except:\n",
        "    print(\"Something went wrong when writing to the file\")\n",
        "  finally:\n",
        "    f.close()\n",
        "except:\n",
        "  print(\"Something went wrong when opening the file\")"
      ],
      "metadata": {
        "colab": {
          "base_uri": "https://localhost:8080/"
        },
        "id": "5KUajbTaGrGy",
        "outputId": "0bfe1df5-4086-41e5-f7fe-46e8c7cdaf7a"
      },
      "execution_count": 8,
      "outputs": [
        {
          "output_type": "stream",
          "name": "stdout",
          "text": [
            "Something went wrong when opening the file\n"
          ]
        }
      ]
    },
    {
      "cell_type": "markdown",
      "source": [
        "The program can continue, without leaving the file object open."
      ],
      "metadata": {
        "id": "fYsoPQjSHsxc"
      }
    },
    {
      "cell_type": "markdown",
      "source": [
        "# **Raise an exception**\n",
        "\n",
        "As a Python developer you can choose to throw an exception if a condition occurs.\n",
        "\n",
        "To throw (or raise) an exception, use the raise keyword."
      ],
      "metadata": {
        "id": "6arANKr6HyTU"
      }
    },
    {
      "cell_type": "code",
      "source": [
        "# Raise an error and stop the program if x is lower than 0:\n",
        "\n",
        "x = -1\n",
        "\n",
        "if x < 0:\n",
        "  raise Exception(\"Sorry, no numbers below zero\")"
      ],
      "metadata": {
        "colab": {
          "base_uri": "https://localhost:8080/",
          "height": 180
        },
        "id": "SIDJ_CzXH-nc",
        "outputId": "bccd34f4-a158-48d5-9c56-b4f4d20e13d4"
      },
      "execution_count": 9,
      "outputs": [
        {
          "output_type": "error",
          "ename": "Exception",
          "evalue": "Sorry, no numbers below zero",
          "traceback": [
            "\u001b[0;31m---------------------------------------------------------------------------\u001b[0m",
            "\u001b[0;31mException\u001b[0m                                 Traceback (most recent call last)",
            "\u001b[0;32m<ipython-input-9-bffe1812e7e2>\u001b[0m in \u001b[0;36m<cell line: 0>\u001b[0;34m()\u001b[0m\n\u001b[1;32m      4\u001b[0m \u001b[0;34m\u001b[0m\u001b[0m\n\u001b[1;32m      5\u001b[0m \u001b[0;32mif\u001b[0m \u001b[0mx\u001b[0m \u001b[0;34m<\u001b[0m \u001b[0;36m0\u001b[0m\u001b[0;34m:\u001b[0m\u001b[0;34m\u001b[0m\u001b[0;34m\u001b[0m\u001b[0m\n\u001b[0;32m----> 6\u001b[0;31m   \u001b[0;32mraise\u001b[0m \u001b[0mException\u001b[0m\u001b[0;34m(\u001b[0m\u001b[0;34m\"Sorry, no numbers below zero\"\u001b[0m\u001b[0;34m)\u001b[0m\u001b[0;34m\u001b[0m\u001b[0;34m\u001b[0m\u001b[0m\n\u001b[0m",
            "\u001b[0;31mException\u001b[0m: Sorry, no numbers below zero"
          ]
        }
      ]
    },
    {
      "source": [
        "x = -1  # or any other number\n",
        "\n",
        "#Check to see if x is less than 0\n",
        "if x < 0:\n",
        "  # Print a message if x < 0 instead of raising an exception.\n",
        "  print(\"Sorry, no numbers below zero\")\n",
        "# If x is greater or equal to 0, continue as usual\n",
        "else:\n",
        "  print(\"x is a non-negative number.\")"
      ],
      "cell_type": "code",
      "metadata": {
        "colab": {
          "base_uri": "https://localhost:8080/"
        },
        "id": "qhZYpSV3I8QR",
        "outputId": "8d71d1c8-c391-4a8a-f2ac-745c1586fd65"
      },
      "execution_count": 10,
      "outputs": [
        {
          "output_type": "stream",
          "name": "stdout",
          "text": [
            "Sorry, no numbers below zero\n"
          ]
        }
      ]
    },
    {
      "cell_type": "markdown",
      "source": [
        "The raise keyword is used to raise an exception.\n",
        "\n",
        "You can define what kind of error to raise, and the text to print to the user."
      ],
      "metadata": {
        "id": "EtmeiS_tInLI"
      }
    },
    {
      "cell_type": "code",
      "source": [
        "# Raise a TypeError if x is not an integer:\n",
        "\n",
        "x = \"Hello\"\n",
        "\n",
        "if not type(x) is int:\n",
        "  raise TypeError(\"Only integers are allowed\")"
      ],
      "metadata": {
        "colab": {
          "base_uri": "https://localhost:8080/",
          "height": 180
        },
        "id": "3AZyecQyJQ83",
        "outputId": "31faf259-ec60-4eff-c097-e61cafa495a9"
      },
      "execution_count": 11,
      "outputs": [
        {
          "output_type": "error",
          "ename": "TypeError",
          "evalue": "Only integers are allowed",
          "traceback": [
            "\u001b[0;31m---------------------------------------------------------------------------\u001b[0m",
            "\u001b[0;31mTypeError\u001b[0m                                 Traceback (most recent call last)",
            "\u001b[0;32m<ipython-input-11-5ce6c84eb6cc>\u001b[0m in \u001b[0;36m<cell line: 0>\u001b[0;34m()\u001b[0m\n\u001b[1;32m      4\u001b[0m \u001b[0;34m\u001b[0m\u001b[0m\n\u001b[1;32m      5\u001b[0m \u001b[0;32mif\u001b[0m \u001b[0;32mnot\u001b[0m \u001b[0mtype\u001b[0m\u001b[0;34m(\u001b[0m\u001b[0mx\u001b[0m\u001b[0;34m)\u001b[0m \u001b[0;32mis\u001b[0m \u001b[0mint\u001b[0m\u001b[0;34m:\u001b[0m\u001b[0;34m\u001b[0m\u001b[0;34m\u001b[0m\u001b[0m\n\u001b[0;32m----> 6\u001b[0;31m   \u001b[0;32mraise\u001b[0m \u001b[0mTypeError\u001b[0m\u001b[0;34m(\u001b[0m\u001b[0;34m\"Only integers are allowed\"\u001b[0m\u001b[0;34m)\u001b[0m\u001b[0;34m\u001b[0m\u001b[0;34m\u001b[0m\u001b[0m\n\u001b[0m",
            "\u001b[0;31mTypeError\u001b[0m: Only integers are allowed"
          ]
        }
      ]
    },
    {
      "cell_type": "markdown",
      "source": [
        "The error is a TypeError and it's raised because the variable x is assigned a string value (\"Hello\") instead of an integer. The code specifically checks if x is an integer using type(x) is int and raises a TypeError if it's not. Since x is a string, the condition is True, causing the TypeError to be raised."
      ],
      "metadata": {
        "id": "T-uT3WjKJ8D9"
      }
    },
    {
      "source": [
        "# Raise a TypeError if x is not an integer:\n",
        "\n",
        "x = 5 # Changed the value of x to an integer\n",
        "\n",
        "if not type(x) is int:\n",
        "  raise TypeError(\"Only integers are allowed\")"
      ],
      "cell_type": "code",
      "metadata": {
        "id": "ac_YeS3lJ_kR"
      },
      "execution_count": 12,
      "outputs": []
    },
    {
      "cell_type": "markdown",
      "source": [
        "By changing the value of x to an integer (like 5 in the example), the type(x) is int condition will evaluate to False, and the TypeError will not be raised. Alternatively, you can change the type checking to isinstance(x, int), which allows subclasses of int to pass:"
      ],
      "metadata": {
        "id": "5O3VsyWTKVma"
      }
    },
    {
      "source": [
        "# Raise a TypeError if x is not an integer:\n",
        "\n",
        "x = \"Hello\"\n",
        "\n",
        "if not isinstance(x, int):\n",
        "    try:\n",
        "        x = int(x) # Attempt to convert to int\n",
        "    except ValueError:\n",
        "        raise TypeError(\"Only integers are allowed\")"
      ],
      "cell_type": "code",
      "metadata": {
        "colab": {
          "base_uri": "https://localhost:8080/",
          "height": 359
        },
        "id": "szQ1jFC2KXlW",
        "outputId": "dcbead56-a6df-4817-a4f9-5b40be9de0b0"
      },
      "execution_count": 13,
      "outputs": [
        {
          "output_type": "error",
          "ename": "TypeError",
          "evalue": "Only integers are allowed",
          "traceback": [
            "\u001b[0;31m---------------------------------------------------------------------------\u001b[0m",
            "\u001b[0;31mValueError\u001b[0m                                Traceback (most recent call last)",
            "\u001b[0;32m<ipython-input-13-1ef8cfd19ebc>\u001b[0m in \u001b[0;36m<cell line: 0>\u001b[0;34m()\u001b[0m\n\u001b[1;32m      6\u001b[0m     \u001b[0;32mtry\u001b[0m\u001b[0;34m:\u001b[0m\u001b[0;34m\u001b[0m\u001b[0;34m\u001b[0m\u001b[0m\n\u001b[0;32m----> 7\u001b[0;31m         \u001b[0mx\u001b[0m \u001b[0;34m=\u001b[0m \u001b[0mint\u001b[0m\u001b[0;34m(\u001b[0m\u001b[0mx\u001b[0m\u001b[0;34m)\u001b[0m \u001b[0;31m# Attempt to convert to int\u001b[0m\u001b[0;34m\u001b[0m\u001b[0;34m\u001b[0m\u001b[0m\n\u001b[0m\u001b[1;32m      8\u001b[0m     \u001b[0;32mexcept\u001b[0m \u001b[0mValueError\u001b[0m\u001b[0;34m:\u001b[0m\u001b[0;34m\u001b[0m\u001b[0;34m\u001b[0m\u001b[0m\n",
            "\u001b[0;31mValueError\u001b[0m: invalid literal for int() with base 10: 'Hello'",
            "\nDuring handling of the above exception, another exception occurred:\n",
            "\u001b[0;31mTypeError\u001b[0m                                 Traceback (most recent call last)",
            "\u001b[0;32m<ipython-input-13-1ef8cfd19ebc>\u001b[0m in \u001b[0;36m<cell line: 0>\u001b[0;34m()\u001b[0m\n\u001b[1;32m      7\u001b[0m         \u001b[0mx\u001b[0m \u001b[0;34m=\u001b[0m \u001b[0mint\u001b[0m\u001b[0;34m(\u001b[0m\u001b[0mx\u001b[0m\u001b[0;34m)\u001b[0m \u001b[0;31m# Attempt to convert to int\u001b[0m\u001b[0;34m\u001b[0m\u001b[0;34m\u001b[0m\u001b[0m\n\u001b[1;32m      8\u001b[0m     \u001b[0;32mexcept\u001b[0m \u001b[0mValueError\u001b[0m\u001b[0;34m:\u001b[0m\u001b[0;34m\u001b[0m\u001b[0;34m\u001b[0m\u001b[0m\n\u001b[0;32m----> 9\u001b[0;31m         \u001b[0;32mraise\u001b[0m \u001b[0mTypeError\u001b[0m\u001b[0;34m(\u001b[0m\u001b[0;34m\"Only integers are allowed\"\u001b[0m\u001b[0;34m)\u001b[0m\u001b[0;34m\u001b[0m\u001b[0;34m\u001b[0m\u001b[0m\n\u001b[0m",
            "\u001b[0;31mTypeError\u001b[0m: Only integers are allowed"
          ]
        }
      ]
    }
  ]
}