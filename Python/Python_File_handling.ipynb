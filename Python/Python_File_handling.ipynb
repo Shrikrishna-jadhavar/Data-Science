{
  "nbformat": 4,
  "nbformat_minor": 0,
  "metadata": {
    "colab": {
      "provenance": []
    },
    "kernelspec": {
      "name": "python3",
      "display_name": "Python 3"
    },
    "language_info": {
      "name": "python"
    }
  },
  "cells": [
    {
      "cell_type": "markdown",
      "source": [
        "# **Python File Open**\n",
        "\n",
        "File handling is an important part of any web application.\n",
        "\n",
        "Python has several functions for creating, reading, updating, and deleting files."
      ],
      "metadata": {
        "id": "of2DnkwwAEJn"
      }
    },
    {
      "cell_type": "markdown",
      "source": [
        "# **File Handling**\n",
        "\n",
        "The key function for working with files in Python is the open() function.\n",
        "\n",
        "The open() function takes two parameters; filename, and mode.\n",
        "\n",
        "There are four different methods (modes) for opening a file:\n",
        "\n",
        "\"r\" - Read - Default value. Opens a file for reading, error if the file does not exist\n",
        "\n",
        "\"a\" - Append - Opens a file for appending, creates the file if it does not exist\n",
        "\n",
        "\"w\" - Write - Opens a file for writing, creates the file if it does not exist\n",
        "\n",
        "\"x\" - Create - Creates the specified file, returns an error if the file exists\n",
        "\n",
        "In addition you can specify if the file should be handled as binary or text mode\n",
        "\n",
        "\"t\" - Text - Default value. Text mode\n",
        "\n",
        "\"b\" - Binary - Binary mode (e.g. images)\n"
      ],
      "metadata": {
        "id": "G_SX35wOANgU"
      }
    },
    {
      "cell_type": "markdown",
      "source": [
        "# **Syntax**\n",
        "\n",
        "To open a file for reading it is enough to specify the name of the file:"
      ],
      "metadata": {
        "id": "PFBYrEuZAqpE"
      }
    },
    {
      "cell_type": "code",
      "execution_count": 1,
      "metadata": {
        "colab": {
          "base_uri": "https://localhost:8080/",
          "height": 144
        },
        "id": "OEKziIpP_9xZ",
        "outputId": "4a350b87-1029-483a-d98f-cb11a88d1d8a"
      },
      "outputs": [
        {
          "output_type": "error",
          "ename": "FileNotFoundError",
          "evalue": "[Errno 2] No such file or directory: 'demofile.txt'",
          "traceback": [
            "\u001b[0;31m---------------------------------------------------------------------------\u001b[0m",
            "\u001b[0;31mFileNotFoundError\u001b[0m                         Traceback (most recent call last)",
            "\u001b[0;32m<ipython-input-1-979141717ea2>\u001b[0m in \u001b[0;36m<cell line: 0>\u001b[0;34m()\u001b[0m\n\u001b[0;32m----> 1\u001b[0;31m \u001b[0mf\u001b[0m \u001b[0;34m=\u001b[0m \u001b[0mopen\u001b[0m\u001b[0;34m(\u001b[0m\u001b[0;34m\"demofile.txt\"\u001b[0m\u001b[0;34m)\u001b[0m\u001b[0;34m\u001b[0m\u001b[0;34m\u001b[0m\u001b[0m\n\u001b[0m",
            "\u001b[0;31mFileNotFoundError\u001b[0m: [Errno 2] No such file or directory: 'demofile.txt'"
          ]
        }
      ],
      "source": [
        "f = open(\"demofile.txt\")"
      ]
    },
    {
      "cell_type": "markdown",
      "source": [
        "The code above is the same as:"
      ],
      "metadata": {
        "id": "-5-0tAbiCEt6"
      }
    },
    {
      "cell_type": "code",
      "source": [
        "f = open(\"demofile.txt\", \"rt\")"
      ],
      "metadata": {
        "colab": {
          "base_uri": "https://localhost:8080/",
          "height": 144
        },
        "id": "vZYBdF2BBvvg",
        "outputId": "67da8aba-093b-4333-bc16-f926058a1578"
      },
      "execution_count": 2,
      "outputs": [
        {
          "output_type": "error",
          "ename": "FileNotFoundError",
          "evalue": "[Errno 2] No such file or directory: 'demofile.txt'",
          "traceback": [
            "\u001b[0;31m---------------------------------------------------------------------------\u001b[0m",
            "\u001b[0;31mFileNotFoundError\u001b[0m                         Traceback (most recent call last)",
            "\u001b[0;32m<ipython-input-2-b0ea3bc5e267>\u001b[0m in \u001b[0;36m<cell line: 0>\u001b[0;34m()\u001b[0m\n\u001b[0;32m----> 1\u001b[0;31m \u001b[0mf\u001b[0m \u001b[0;34m=\u001b[0m \u001b[0mopen\u001b[0m\u001b[0;34m(\u001b[0m\u001b[0;34m\"demofile.txt\"\u001b[0m\u001b[0;34m,\u001b[0m \u001b[0;34m\"rt\"\u001b[0m\u001b[0;34m)\u001b[0m\u001b[0;34m\u001b[0m\u001b[0;34m\u001b[0m\u001b[0m\n\u001b[0m",
            "\u001b[0;31mFileNotFoundError\u001b[0m: [Errno 2] No such file or directory: 'demofile.txt'"
          ]
        }
      ]
    },
    {
      "cell_type": "markdown",
      "source": [
        "Because \"r\" for read, and \"t\" for text are the default values, you do not need to specify them.\n",
        "\n",
        "*Note: Make sure the file exists, or else you will get an error.*"
      ],
      "metadata": {
        "id": "p-AikxV0CQRv"
      }
    },
    {
      "cell_type": "markdown",
      "source": [
        "# **Open a File on the Server**\n",
        "\n",
        "Assume we have the following file, located in the same folder as Python:"
      ],
      "metadata": {
        "id": "69eFD7xeC91d"
      }
    },
    {
      "cell_type": "markdown",
      "source": [
        "To open the file, use the built-in open() function.\n",
        "\n",
        "The open() function returns a file object, which has a read() method for reading the content of the file:"
      ],
      "metadata": {
        "id": "wVLTUzVhDci5"
      }
    },
    {
      "cell_type": "code",
      "source": [
        "f = open(\"demofile.txt\", \"r\")\n",
        "print(f.read())"
      ],
      "metadata": {
        "colab": {
          "base_uri": "https://localhost:8080/"
        },
        "id": "RM0g6L5RDgBJ",
        "outputId": "064eab22-ffa9-4a52-97b4-6e5b8234f850"
      },
      "execution_count": 3,
      "outputs": [
        {
          "output_type": "stream",
          "name": "stdout",
          "text": [
            "Hello! Welcome to demofile.txt\n",
            "This file is for testing purposes.\n",
            "Good Luck!\n"
          ]
        }
      ]
    },
    {
      "cell_type": "markdown",
      "source": [
        "If the file is located in a different location, you will have to specify the file path, like this:"
      ],
      "metadata": {
        "id": "WnDLrxppDA9s"
      }
    },
    {
      "cell_type": "code",
      "source": [
        "f = open(\"D:\\\\myfiles\\welcome.txt\", \"r\")\n",
        "print(f.read())"
      ],
      "metadata": {
        "colab": {
          "base_uri": "https://localhost:8080/",
          "height": 162
        },
        "id": "EsJejbV1D7ib",
        "outputId": "6e6f0516-b760-40a4-e7da-f05f2509f16e"
      },
      "execution_count": 7,
      "outputs": [
        {
          "output_type": "error",
          "ename": "FileNotFoundError",
          "evalue": "[Errno 2] No such file or directory: 'D:\\\\myfiles\\\\welcome.txt'",
          "traceback": [
            "\u001b[0;31m---------------------------------------------------------------------------\u001b[0m",
            "\u001b[0;31mFileNotFoundError\u001b[0m                         Traceback (most recent call last)",
            "\u001b[0;32m<ipython-input-7-d738e8d8c62e>\u001b[0m in \u001b[0;36m<cell line: 0>\u001b[0;34m()\u001b[0m\n\u001b[0;32m----> 1\u001b[0;31m \u001b[0mf\u001b[0m \u001b[0;34m=\u001b[0m \u001b[0mopen\u001b[0m\u001b[0;34m(\u001b[0m\u001b[0;34m\"D:\\\\myfiles\\welcome.txt\"\u001b[0m\u001b[0;34m,\u001b[0m \u001b[0;34m\"r\"\u001b[0m\u001b[0;34m)\u001b[0m\u001b[0;34m\u001b[0m\u001b[0;34m\u001b[0m\u001b[0m\n\u001b[0m\u001b[1;32m      2\u001b[0m \u001b[0mprint\u001b[0m\u001b[0;34m(\u001b[0m\u001b[0mf\u001b[0m\u001b[0;34m.\u001b[0m\u001b[0mread\u001b[0m\u001b[0;34m(\u001b[0m\u001b[0;34m)\u001b[0m\u001b[0;34m)\u001b[0m\u001b[0;34m\u001b[0m\u001b[0;34m\u001b[0m\u001b[0m\n",
            "\u001b[0;31mFileNotFoundError\u001b[0m: [Errno 2] No such file or directory: 'D:\\\\myfiles\\\\welcome.txt'"
          ]
        }
      ]
    },
    {
      "cell_type": "markdown",
      "source": [
        "# **Read Only Parts of the File**\n",
        "\n",
        "By default the read() method returns the whole text, but you can also specify how many characters you want to return:"
      ],
      "metadata": {
        "id": "T2MXWgrnEuVK"
      }
    },
    {
      "cell_type": "code",
      "source": [
        "# Return the 5 first characters of the file:\n",
        "\n",
        "f = open(\"demofile.txt\", \"r\")\n",
        "print(f.read(5))"
      ],
      "metadata": {
        "colab": {
          "base_uri": "https://localhost:8080/"
        },
        "id": "ek1VpSlpEYIp",
        "outputId": "471b4930-6f34-423d-a05e-beee505b92f0"
      },
      "execution_count": 10,
      "outputs": [
        {
          "output_type": "stream",
          "name": "stdout",
          "text": [
            "Hello\n"
          ]
        }
      ]
    },
    {
      "cell_type": "markdown",
      "source": [
        "# **Read Lines**\n",
        "\n",
        "You can return one line by using the readline() method:"
      ],
      "metadata": {
        "id": "yAqZPRqMFHGf"
      }
    },
    {
      "cell_type": "code",
      "source": [
        "# Read one line of the file:.\n",
        "\n",
        "f = open(\"demofile.txt\", \"r\")\n",
        "print(f.readline())"
      ],
      "metadata": {
        "colab": {
          "base_uri": "https://localhost:8080/"
        },
        "id": "gypaHdubE_HU",
        "outputId": "711eda9f-47e2-483f-aec2-af11025882fc"
      },
      "execution_count": 11,
      "outputs": [
        {
          "output_type": "stream",
          "name": "stdout",
          "text": [
            "Hello! Welcome to demofile.txt\n",
            "\n"
          ]
        }
      ]
    },
    {
      "cell_type": "markdown",
      "source": [
        "By calling readline() two times, you can read the two first lines:"
      ],
      "metadata": {
        "id": "1PjIESrFFfsA"
      }
    },
    {
      "cell_type": "code",
      "source": [
        "# Read two lines of the file:\n",
        "\n",
        "f = open(\"demofile.txt\", \"r\")\n",
        "print(f.readline())\n",
        "print(f.readline())"
      ],
      "metadata": {
        "colab": {
          "base_uri": "https://localhost:8080/"
        },
        "id": "QGTAe4y7Foj9",
        "outputId": "d581c3d4-161e-469e-a72f-5a8541b9d7a8"
      },
      "execution_count": 12,
      "outputs": [
        {
          "output_type": "stream",
          "name": "stdout",
          "text": [
            "Hello! Welcome to demofile.txt\n",
            "\n",
            "This file is for testing purposes.\n",
            "\n"
          ]
        }
      ]
    },
    {
      "cell_type": "markdown",
      "source": [
        "By looping through the lines of the file, you can read the whole file, line by line:"
      ],
      "metadata": {
        "id": "rzU0pSk7F1ir"
      }
    },
    {
      "cell_type": "code",
      "source": [
        "# Loop through the file line by line:\n",
        "\n",
        "f = open(\"demofile.txt\", \"r\")\n",
        "\n",
        "for x in f:\n",
        "  print(x)"
      ],
      "metadata": {
        "colab": {
          "base_uri": "https://localhost:8080/"
        },
        "id": "6QDkjUlfF4nZ",
        "outputId": "0a4190aa-9b15-40b8-f138-ea743a484a51"
      },
      "execution_count": 13,
      "outputs": [
        {
          "output_type": "stream",
          "name": "stdout",
          "text": [
            "Hello! Welcome to demofile.txt\n",
            "\n",
            "This file is for testing purposes.\n",
            "\n",
            "Good Luck!\n"
          ]
        }
      ]
    },
    {
      "cell_type": "markdown",
      "source": [
        "# **Close Files**\n",
        "\n",
        "It is a good practice to always close the file when you are done with it."
      ],
      "metadata": {
        "id": "OMkokmv3GPsn"
      }
    },
    {
      "cell_type": "code",
      "source": [
        "# Close the file when you are finished with it:\n",
        "\n",
        "f = open(\"demofile.txt\", \"r\")\n",
        "print(f.readline())\n",
        "f.close()"
      ],
      "metadata": {
        "colab": {
          "base_uri": "https://localhost:8080/"
        },
        "id": "EgRL-M9VGHVX",
        "outputId": "fd154aea-0de0-436a-ee84-a05575a33099"
      },
      "execution_count": 14,
      "outputs": [
        {
          "output_type": "stream",
          "name": "stdout",
          "text": [
            "Hello! Welcome to demofile.txt\n",
            "\n"
          ]
        }
      ]
    },
    {
      "cell_type": "markdown",
      "source": [
        "*Note: You should always close your files. In some cases, due to buffering, changes made to a file may not show until you close the file.*"
      ],
      "metadata": {
        "id": "QnU_OvTwGe2A"
      }
    },
    {
      "cell_type": "markdown",
      "source": [
        "# **Python File Write**\n",
        "\n",
        "# **Write to an Existing File**\n",
        "\n",
        "To write to an existing file, you must add a parameter to the open() function:\n",
        "\n",
        "\"a\" - Append - will append to the end of the file\n",
        "\n",
        "\"w\" - Write - will overwrite any existing content"
      ],
      "metadata": {
        "id": "HMb_Np-xG6KL"
      }
    },
    {
      "cell_type": "code",
      "source": [
        "# Open the file \"demofile2.txt\" and append content to the file:\n",
        "\n",
        "f = open(\"demofile2.txt\", \"a\")\n",
        "f.write(\"Now the file has more content!\")\n",
        "f.close()\n",
        "\n",
        "#open and read the file after the appending:\n",
        "f = open(\"demofile2.txt\", \"r\")\n",
        "print(f.read())"
      ],
      "metadata": {
        "colab": {
          "base_uri": "https://localhost:8080/"
        },
        "id": "YlRJ4yMOHWFH",
        "outputId": "c6a5d421-a234-411a-922b-c56082690011"
      },
      "execution_count": 15,
      "outputs": [
        {
          "output_type": "stream",
          "name": "stdout",
          "text": [
            "Now the file has more content!\n"
          ]
        }
      ]
    },
    {
      "cell_type": "code",
      "source": [
        "# Open the file \"demofile3.txt\" and overwrite the content:\n",
        "\n",
        "f = open(\"demofile3.txt\", \"w\")\n",
        "f.write(\"Woops! I have deleted the content!\")\n",
        "f.close()\n",
        "\n",
        "#open and read the file after the overwriting:\n",
        "f = open(\"demofile3.txt\", \"r\")\n",
        "print(f.read())"
      ],
      "metadata": {
        "colab": {
          "base_uri": "https://localhost:8080/"
        },
        "id": "nk5zb8LqHe0-",
        "outputId": "cb6a8f09-3377-4a80-a193-99a0bba181e4"
      },
      "execution_count": 16,
      "outputs": [
        {
          "output_type": "stream",
          "name": "stdout",
          "text": [
            "Woops! I have deleted the content!\n"
          ]
        }
      ]
    },
    {
      "cell_type": "markdown",
      "source": [
        "*Note: the \"w\" method will overwrite the entire file.*"
      ],
      "metadata": {
        "id": "zsmbTLj5Hupv"
      }
    },
    {
      "cell_type": "markdown",
      "source": [
        "# **Create a New File**\n",
        "\n",
        "To create a new file in Python, use the open() method, with one of the following parameters:\n",
        "\n",
        "\"x\" - Create - will create a file, returns an error if the file exists\n",
        "\n",
        "\"a\" - Append - will create a file if the specified file does not exists\n",
        "\n",
        "\"w\" - Write - will create a file if the specified file does not exists"
      ],
      "metadata": {
        "id": "xDCxhQc7HxEn"
      }
    },
    {
      "cell_type": "code",
      "source": [
        "# Create a file called \"myfile.txt\":\n",
        "\n",
        "f = open(\"myfile.txt\", \"x\")"
      ],
      "metadata": {
        "id": "QTdfjnwIHqt-"
      },
      "execution_count": 17,
      "outputs": []
    },
    {
      "cell_type": "markdown",
      "source": [
        "Result: a new empty file is created!"
      ],
      "metadata": {
        "id": "t2ENfqL0ICj8"
      }
    },
    {
      "cell_type": "code",
      "source": [
        "# Create a new file if it does not exist:\n",
        "\n",
        "f = open(\"myfile.txt\", \"w\")"
      ],
      "metadata": {
        "id": "4CnC1VyjID2S"
      },
      "execution_count": 18,
      "outputs": []
    },
    {
      "cell_type": "markdown",
      "source": [
        "# **Python Delete File**\n",
        "\n",
        "# **Delete a File**\n",
        "\n",
        "To delete a file, you must import the OS module, and run its os.remove() function:"
      ],
      "metadata": {
        "id": "ZIocUv6rIm5h"
      }
    },
    {
      "cell_type": "code",
      "source": [
        "# Remove the file \"demofile.txt\":\n",
        "\n",
        "import os\n",
        "os.remove(\"demofile.txt\")"
      ],
      "metadata": {
        "id": "WOm1cZyZIt42"
      },
      "execution_count": 19,
      "outputs": []
    },
    {
      "cell_type": "markdown",
      "source": [
        "# **Check if File exist:**\n",
        "\n",
        "To avoid getting an error, you might want to check if the file exists before you try to delete it:"
      ],
      "metadata": {
        "id": "TiJjPVhKI5hI"
      }
    },
    {
      "cell_type": "code",
      "source": [
        "# Check if file exists, then delete it:\n",
        "\n",
        "import os\n",
        "if os.path.exists(\"demofile.txt\"):\n",
        "  os.remove(\"demofile.txt\")\n",
        "else:\n",
        "  print(\"The file does not exist\")"
      ],
      "metadata": {
        "colab": {
          "base_uri": "https://localhost:8080/"
        },
        "id": "aep3_9L8Iz_9",
        "outputId": "3a939f2e-3038-4dfd-c165-bbf8a7ceb3c9"
      },
      "execution_count": 20,
      "outputs": [
        {
          "output_type": "stream",
          "name": "stdout",
          "text": [
            "The file does not exist\n"
          ]
        }
      ]
    },
    {
      "cell_type": "markdown",
      "source": [
        "# **Delete Folder**\n",
        "\n",
        "To delete an entire folder, use the os.rmdir() method:"
      ],
      "metadata": {
        "id": "Ahs_4CgtJNJG"
      }
    },
    {
      "cell_type": "code",
      "source": [
        "# Remove the folder \"myfolder\":\n",
        "\n",
        "import os\n",
        "os.rmdir(\"myfolder\")"
      ],
      "metadata": {
        "colab": {
          "base_uri": "https://localhost:8080/",
          "height": 180
        },
        "id": "7gJkQ946JEBB",
        "outputId": "157fc719-d7f5-4d0f-abdb-099c2a524c3f"
      },
      "execution_count": 21,
      "outputs": [
        {
          "output_type": "error",
          "ename": "FileNotFoundError",
          "evalue": "[Errno 2] No such file or directory: 'myfolder'",
          "traceback": [
            "\u001b[0;31m---------------------------------------------------------------------------\u001b[0m",
            "\u001b[0;31mFileNotFoundError\u001b[0m                         Traceback (most recent call last)",
            "\u001b[0;32m<ipython-input-21-d8d4d265fb05>\u001b[0m in \u001b[0;36m<cell line: 0>\u001b[0;34m()\u001b[0m\n\u001b[1;32m      2\u001b[0m \u001b[0;34m\u001b[0m\u001b[0m\n\u001b[1;32m      3\u001b[0m \u001b[0;32mimport\u001b[0m \u001b[0mos\u001b[0m\u001b[0;34m\u001b[0m\u001b[0;34m\u001b[0m\u001b[0m\n\u001b[0;32m----> 4\u001b[0;31m \u001b[0mos\u001b[0m\u001b[0;34m.\u001b[0m\u001b[0mrmdir\u001b[0m\u001b[0;34m(\u001b[0m\u001b[0;34m\"myfolder\"\u001b[0m\u001b[0;34m)\u001b[0m\u001b[0;34m\u001b[0m\u001b[0;34m\u001b[0m\u001b[0m\n\u001b[0m",
            "\u001b[0;31mFileNotFoundError\u001b[0m: [Errno 2] No such file or directory: 'myfolder'"
          ]
        }
      ]
    },
    {
      "cell_type": "markdown",
      "source": [
        "Note: You can only remove empty folders."
      ],
      "metadata": {
        "id": "CdJAef9SJfyf"
      }
    }
  ]
}