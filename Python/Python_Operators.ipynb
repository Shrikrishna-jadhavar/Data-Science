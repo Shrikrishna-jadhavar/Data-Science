{
  "nbformat": 4,
  "nbformat_minor": 0,
  "metadata": {
    "colab": {
      "provenance": [],
      "collapsed_sections": [
        "C-5iT7KHb0SI",
        "wfHQy2piAR23",
        "WmUlwlCjgMWN",
        "65nC-K1npCm0",
        "_SpNBc3K2Yc_",
        "uVZbBoce-GjZ",
        "86r685wA-s1Q",
        "vlCsTgJ-ADTw",
        "ILytp3FKElOc"
      ]
    },
    "kernelspec": {
      "name": "python3",
      "display_name": "Python 3"
    },
    "language_info": {
      "name": "python"
    }
  },
  "cells": [
    {
      "cell_type": "markdown",
      "source": [
        "# **Python Operators**"
      ],
      "metadata": {
        "id": "C-5iT7KHb0SI"
      }
    },
    {
      "cell_type": "markdown",
      "source": [
        "Operators are used to perform operations on variables and values.\n",
        "\n",
        "In the example below, we use the + operator to add together two values:"
      ],
      "metadata": {
        "id": "L6EvrY5sbohi"
      }
    },
    {
      "cell_type": "code",
      "execution_count": 1,
      "metadata": {
        "colab": {
          "base_uri": "https://localhost:8080/"
        },
        "id": "9WYss7pSbfDp",
        "outputId": "90955795-6f5a-4447-dea3-8810aa0ec3c0"
      },
      "outputs": [
        {
          "output_type": "stream",
          "name": "stdout",
          "text": [
            "40\n"
          ]
        }
      ],
      "source": [
        "print(20 + 20)"
      ]
    },
    {
      "cell_type": "markdown",
      "source": [
        "# **Python Arithmetic Operators**"
      ],
      "metadata": {
        "id": "wfHQy2piAR23"
      }
    },
    {
      "cell_type": "markdown",
      "source": [
        "Python divides the operators in the following groups:\n",
        "\n",
        "    Arithmetic operators\n",
        "    Assignment operators\n",
        "    Comparison operators\n",
        "    Logical operators\n",
        "    Identity operators\n",
        "    Membership operators\n",
        "    Bitwise operators\n"
      ],
      "metadata": {
        "id": "0Wj-OOcWcKaM"
      }
    },
    {
      "cell_type": "markdown",
      "source": [],
      "metadata": {
        "id": "TwVMIwmVAQgB"
      }
    },
    {
      "cell_type": "markdown",
      "source": [
        "Arithmetic operators are used with numeric values to perform common mathematical operations:\n",
        "\n",
        "     Operator \t   Name \t      Example\n",
        "        + \t     Addition \t     x + y\n",
        "        - \t    Subtraction \t   x - y\n",
        "        * \t   Multiplication \t x * y\n",
        "        / \t     Division \t     x / y\n",
        "        % \t     Modulus \t      x % y\n",
        "        ** \t   Exponentiation \tx ** y\n",
        "       // \t   Floor division \t x // y"
      ],
      "metadata": {
        "id": "t9M_nWx6cL3b"
      }
    },
    {
      "cell_type": "code",
      "source": [
        "a = 10\n",
        "b = 20\n",
        "print(a + b)\n",
        "print(a - b)\n",
        "print(a * b)\n",
        "print(a / b)\n",
        "print(a % b)  # The modulus operator, also known as the remainder operator, is a mathematical operation that returns the remainder when one number is divided by another\n",
        "print(a ** b) # This operator raises the left operand (base) to the power of the right operand (exponent). It is also called the power operator or exponent operator.\n",
        "print(a // b) # This operator will divide the first argument by the second and round the result down to the nearest whole number,"
      ],
      "metadata": {
        "colab": {
          "base_uri": "https://localhost:8080/"
        },
        "id": "KLYmqASvb_lR",
        "outputId": "17b58a28-82b9-4444-ee77-ede62b9c13dc"
      },
      "execution_count": 2,
      "outputs": [
        {
          "output_type": "stream",
          "name": "stdout",
          "text": [
            "30\n",
            "-10\n",
            "200\n",
            "0.5\n",
            "10\n",
            "100000000000000000000\n",
            "0\n"
          ]
        }
      ]
    },
    {
      "cell_type": "markdown",
      "source": [
        "# **Assignment Operator in Python**\n",
        "\n",
        "An assignment operator in Python is used to assign values or expressions to the left-hand side operand. These operators assign the value of the right-hand side operand to the left-hand side operand.\n",
        "\n",
        "The symbol of the Python assignment operator is “=”, which is used in assignment expressions and statements in Python programming."
      ],
      "metadata": {
        "id": "WmUlwlCjgMWN"
      }
    },
    {
      "cell_type": "markdown",
      "source": [
        "Operator    |   Name        |       Description       |      Syntax\n",
        "\n",
        "=\n",
        "\n",
        "\n",
        "Assignment Operator\n",
        "\n",
        "\n",
        "It assigns the value of the right-hand side expression to the operand on the left-hand side.\n",
        "\n",
        "\n",
        "a=b+c\n",
        "\n",
        "\n",
        "---\n",
        "\n",
        "\n",
        "\n",
        "+=\n",
        "\n",
        "\n",
        "Addition Assignment Operator\n",
        "\n",
        "\n",
        "This operator adds the left and right operands of the expression and then assigns the calculated value to the left side operand.\n",
        "\n",
        "\n",
        "a+=b or a=a+b\n",
        "\n",
        "\n",
        "---\n",
        "\n",
        "\n",
        "\n",
        "-=\n",
        "\n",
        "\n",
        "Subtraction Assignment Operator\n",
        "\n",
        "\n",
        "It subtracts the right-hand side operand of the expression from the left operand and then assigns the calculated value to the left operand. It returns true if both operands are equal.\n",
        "\n",
        "\n",
        "a-=b or a=a-b\n",
        "\n",
        "\n",
        "---\n",
        "\n",
        "\n",
        "\n",
        "*=\n",
        "\n",
        "\n",
        "Multiplication Assignment Operator\n",
        "\n",
        "\n",
        "It multiplies the left operand by the right operand and then assigns the calculated value to the left-hand operand.\n",
        "\n",
        "\n",
        "a*=b or a=a*b\n",
        "\n",
        "\n",
        "---\n",
        "\n",
        "\n",
        "\n",
        "/=\n",
        "\n",
        "\n",
        "Division Assignment Operator\n",
        "\n",
        "\n",
        "It divides the left operand by the right operand and then assigns the resultant value to the left-hand operand.\n",
        "\n",
        "\n",
        "a/=b or a=a/b\n",
        "\n",
        "\n",
        "---\n",
        "\n",
        "\n",
        "\n",
        "%=\n",
        "\n",
        "\n",
        "Modulus Assignment Operator\n",
        "\n",
        "\n",
        "It divides the left operand by the right operand and then assigns the reminder value to the left-hand operand.\n",
        "\n",
        "\n",
        "a%=b or a=a%b\n",
        "\n",
        "\n",
        "---\n",
        "\n",
        "\n",
        "\n",
        "**=\n",
        "\n",
        "\n",
        "Exponentiation Assignment Operator\n",
        "\n",
        "\n",
        "This operator calculates the exponent and raises the left-hand side operand to the power of the right operand, and assigns the resultant value to the left-side value.\n",
        "\n",
        "\n",
        "a ** = b or a = a ** b\n",
        "\n",
        "\n",
        "---\n",
        "\n",
        "\n",
        "\n",
        "//=\n",
        "\n",
        "\n",
        "Floor Division Assignment Operator\n",
        "\n",
        "\n",
        "It divides the left operand by the right operand and then assigns the quotient value (in the form of an integer) to the left operand.\n",
        "\n",
        "\n",
        "a//=b or a=a//b\n",
        "\n",
        "\n",
        "---\n",
        "\n",
        "\n",
        "\n",
        "&=\n",
        "\n",
        "\n",
        "Bitwise AND Assignment Operator\n",
        "\n",
        "\n",
        "This operator performs the bitwise operation on the left and right operands and then assigns the resultant value to the left operand.\n",
        "\n",
        "\n",
        "a&=b or a=a&b\n",
        "\n",
        "\n",
        "---\n",
        "\n",
        "\n",
        "\n",
        "|=\n",
        "\n",
        "\n",
        "Bitwise OR Assignment Operator\n",
        "\n",
        "\n",
        "This operator performs the bitwise OR operation on left and right operands and assigns the resultant value to the left operand.\n",
        "\n",
        "\n",
        "a|=b or a=a|b\n",
        "\n",
        "\n",
        "---\n",
        "\n",
        "\n",
        "\n",
        "^=\n",
        "\n",
        "\n",
        "Bitwise XOR Assignment Operator\n",
        "\n",
        "\n",
        "This operator performs the bitwise XOR operation on the left and right operands and then assigns the resultant value to the left operand.\n",
        "\n",
        "\n",
        "a^=b or a=a^b\n",
        "\n",
        "\n",
        "---\n",
        "\n",
        "\n",
        "\n",
        "  >>=\n",
        "\n",
        "\n",
        "Bitwise Right Shift Assignment Operator\n",
        "\n",
        "\n",
        "This operator right-shifts the left operand by the specified position and then assigns the resultant value to the left operand.\n",
        "\n",
        "\n",
        "a>>=b or a=a>>b\n",
        "\n",
        "\n",
        "---\n",
        "\n",
        "\n",
        "\n",
        "<<=\n",
        "\n",
        "\n",
        "Bitwise Left Shift Assignment Operator\n",
        "\n",
        "\n",
        "This operator left-shifts the left operand by the specified position and assigns the resultant value to the left operand.\n",
        "\n",
        "\n",
        "a<<=b or a=a<<b\n",
        "\n",
        "\n",
        "---"
      ],
      "metadata": {
        "id": "56acIDethdLv"
      }
    },
    {
      "cell_type": "code",
      "source": [
        "# =\n",
        "\n",
        "a = 10\n",
        "\n",
        "print(a)"
      ],
      "metadata": {
        "colab": {
          "base_uri": "https://localhost:8080/"
        },
        "id": "yAseBhJrePIi",
        "outputId": "9bf0859d-813f-454a-f80e-f79f54a24cd9"
      },
      "execution_count": 4,
      "outputs": [
        {
          "output_type": "stream",
          "name": "stdout",
          "text": [
            "10\n"
          ]
        }
      ]
    },
    {
      "cell_type": "code",
      "source": [
        "# x+=y\n",
        "\n",
        "x = 10\n",
        "y = 20\n",
        "\n",
        "x += y\n",
        "\n",
        "print(x)"
      ],
      "metadata": {
        "colab": {
          "base_uri": "https://localhost:8080/"
        },
        "id": "wgAZDR6zpf5a",
        "outputId": "7d9996d3-17df-4662-e74a-c8acb35c627e"
      },
      "execution_count": 21,
      "outputs": [
        {
          "output_type": "stream",
          "name": "stdout",
          "text": [
            "30\n"
          ]
        }
      ]
    },
    {
      "cell_type": "code",
      "source": [
        "# OR\n",
        "\n",
        "x = 2\n",
        "y = 1\n",
        "y += x        #y = y + x\n",
        "print(\"x = \", x , \"and y = \", y)"
      ],
      "metadata": {
        "colab": {
          "base_uri": "https://localhost:8080/"
        },
        "id": "dGwgxAwXpf2a",
        "outputId": "5b222bb6-76f4-47a3-9271-34328f952f69"
      },
      "execution_count": 22,
      "outputs": [
        {
          "output_type": "stream",
          "name": "stdout",
          "text": [
            "x =  2 and y =  3\n"
          ]
        }
      ]
    },
    {
      "cell_type": "code",
      "source": [
        "# x-=y or x=x-y\n",
        "\n",
        "x = 2\n",
        "y = 1\n",
        "y -= x        #y = y - x\n",
        "print(\"x = \", x , \"and y = \", y)\n",
        "print(y)"
      ],
      "metadata": {
        "colab": {
          "base_uri": "https://localhost:8080/"
        },
        "id": "MZhNphUjpfzB",
        "outputId": "f1ed2ff5-e2b2-42df-de1e-82eb970f22e5"
      },
      "execution_count": 24,
      "outputs": [
        {
          "output_type": "stream",
          "name": "stdout",
          "text": [
            "x =  2 and y =  -1\n",
            "-1\n"
          ]
        }
      ]
    },
    {
      "cell_type": "code",
      "source": [
        "# x * = y or x = x * y\n",
        "\n",
        "x = 2\n",
        "y = 3\n",
        "y *= x        #y = y * x\n",
        "print(\"x = \", x , \"and y = \", y)"
      ],
      "metadata": {
        "colab": {
          "base_uri": "https://localhost:8080/"
        },
        "id": "4movrs5zpfvB",
        "outputId": "cba5eed4-2c92-4c5a-a1a7-f6963302c8b8"
      },
      "execution_count": 26,
      "outputs": [
        {
          "output_type": "stream",
          "name": "stdout",
          "text": [
            "x =  2 and y =  6\n"
          ]
        }
      ]
    },
    {
      "cell_type": "code",
      "source": [
        "# x / = y or x = x / y\n",
        "\n",
        "x = 2\n",
        "y = 3\n",
        "y /= x        #y = y / x\n",
        "print(\"x = \", x , \"and y = \", y)"
      ],
      "metadata": {
        "colab": {
          "base_uri": "https://localhost:8080/"
        },
        "id": "LpKJf-3Npfr8",
        "outputId": "828bafcc-0daa-4131-f043-87ca6874fb6e"
      },
      "execution_count": 27,
      "outputs": [
        {
          "output_type": "stream",
          "name": "stdout",
          "text": [
            "x =  2 and y =  1.5\n"
          ]
        }
      ]
    },
    {
      "cell_type": "code",
      "source": [
        "# x % = y or x = x % y\n",
        "\n",
        "x = 2\n",
        "y = 3\n",
        "y %= x        #y = y % x\n",
        "print(\"x = \", x , \"and y = \", y)"
      ],
      "metadata": {
        "colab": {
          "base_uri": "https://localhost:8080/"
        },
        "id": "mpFh--aSpfob",
        "outputId": "28607b4c-c34f-486f-d7bf-b1d2d862f9e8"
      },
      "execution_count": 29,
      "outputs": [
        {
          "output_type": "stream",
          "name": "stdout",
          "text": [
            "x =  2 and y =  1\n"
          ]
        }
      ]
    },
    {
      "cell_type": "code",
      "source": [
        "# x ** = y or x = x ** y\n",
        "\n",
        "x = 2\n",
        "y = 3\n",
        "y **= x        #y = y ** x\n",
        "print(\"x = \", x , \"and y = \", y)"
      ],
      "metadata": {
        "colab": {
          "base_uri": "https://localhost:8080/"
        },
        "id": "TONeS8j1pflM",
        "outputId": "24ce1732-8212-4a70-a99f-9b02327cd272"
      },
      "execution_count": 30,
      "outputs": [
        {
          "output_type": "stream",
          "name": "stdout",
          "text": [
            "x =  2 and y =  9\n"
          ]
        }
      ]
    },
    {
      "cell_type": "code",
      "source": [
        "# x // = y or x = x // y\n",
        "\n",
        "x = 2\n",
        "y = 3\n",
        "y //= x        #y = y // x\n",
        "print(\"x = \", x , \"and y = \", y)"
      ],
      "metadata": {
        "colab": {
          "base_uri": "https://localhost:8080/"
        },
        "id": "fXJxBxEYpffY",
        "outputId": "55d8caf9-8cc8-4752-b8ce-2775a23b86e4"
      },
      "execution_count": 28,
      "outputs": [
        {
          "output_type": "stream",
          "name": "stdout",
          "text": [
            "x =  2 and y =  1\n"
          ]
        }
      ]
    },
    {
      "cell_type": "code",
      "source": [
        "# x&=y or x=x&y\n",
        "\n",
        "x = 10  # 10 in binary is 1010\n",
        "y = 5   # 5 in binary is 0101\n",
        "x &= y  # Result: 0000 (0 in decimal)\n",
        "print(\"Result after &amp;= operation:\", x)"
      ],
      "metadata": {
        "colab": {
          "base_uri": "https://localhost:8080/"
        },
        "id": "1TilXWr1rf2a",
        "outputId": "06650e53-0b74-4e6e-9c75-6f2ca09a5f98"
      },
      "execution_count": 31,
      "outputs": [
        {
          "output_type": "stream",
          "name": "stdout",
          "text": [
            "Result after &amp;= operation: 0\n"
          ]
        }
      ]
    },
    {
      "cell_type": "code",
      "source": [
        "# x|=y or x=x|y\n",
        "\n",
        "x = 10  # 10 in binary is 1010\n",
        "y = 5   # 5 in binary is 0101\n",
        "x |= y  # Result: 1111 (15 in decimal)\n",
        "print(\"Result after |= operation:\", x)"
      ],
      "metadata": {
        "colab": {
          "base_uri": "https://localhost:8080/"
        },
        "id": "iwmt052JrfrN",
        "outputId": "15bf489a-2651-463e-81cc-7a67544e6d1f"
      },
      "execution_count": 32,
      "outputs": [
        {
          "output_type": "stream",
          "name": "stdout",
          "text": [
            "Result after |= operation: 15\n"
          ]
        }
      ]
    },
    {
      "cell_type": "code",
      "source": [
        "# x^=y or x=x^y\n",
        "\n",
        "x = 10  # 10 in binary is 1010\n",
        "y = 5   # 5 in binary is 0101\n",
        "x ^= y\n",
        "print(\"Result after ^= operation:\", x)"
      ],
      "metadata": {
        "colab": {
          "base_uri": "https://localhost:8080/"
        },
        "id": "NeHpH-V-rfll",
        "outputId": "7f7f4160-2ed9-4843-b577-20504b57c59b"
      },
      "execution_count": 33,
      "outputs": [
        {
          "output_type": "stream",
          "name": "stdout",
          "text": [
            "Result after ^= operation: 15\n"
          ]
        }
      ]
    },
    {
      "cell_type": "code",
      "source": [
        "# x>>=y or x=x>>y\n",
        "\n",
        "x = 10  # 10 in binary is 1010\n",
        "y = 5   # 5 in binary is 0101\n",
        "x >>= y\n",
        "print(\"Result after >>= operation:\", x)"
      ],
      "metadata": {
        "colab": {
          "base_uri": "https://localhost:8080/"
        },
        "id": "ptbQ0iUKtFYj",
        "outputId": "f54ef418-f279-4c4b-f318-3924c67a038f"
      },
      "execution_count": 36,
      "outputs": [
        {
          "output_type": "stream",
          "name": "stdout",
          "text": [
            "Result after >>= operation: 0\n"
          ]
        }
      ]
    },
    {
      "cell_type": "code",
      "source": [
        "# x<<=y or x=x<<y\n",
        "\n",
        "x = 10  # 10 in binary is 1010\n",
        "y = 10   # 5 in binary is 0101\n",
        "x <<= y\n",
        "print(\"Result after <<= operation:\", x)"
      ],
      "metadata": {
        "colab": {
          "base_uri": "https://localhost:8080/"
        },
        "id": "tTmmfLkOtFN1",
        "outputId": "f84d3732-3c60-49f8-e8c5-e4a69212d607"
      },
      "execution_count": 37,
      "outputs": [
        {
          "output_type": "stream",
          "name": "stdout",
          "text": [
            "Result after <<= operation: 10240\n"
          ]
        }
      ]
    },
    {
      "cell_type": "markdown",
      "source": [
        "# **Comparison Operators in Python**\n",
        "\n",
        "Python comparison operators, or relational operators, are symbols used to compare two values and evaluate the relationship between the two. Relational and comparison operators are always the same regardless of the Python version. Based on the comparison, they allow us to test certain conditions and return a Boolean value, True or False."
      ],
      "metadata": {
        "id": "65nC-K1npCm0"
      }
    },
    {
      "cell_type": "markdown",
      "source": [
        "Operator   |   Name |   Description    |  Syntax\n",
        "\n",
        "---\n",
        "\n",
        "\n",
        "\n",
        "==\n",
        "\n",
        "\n",
        "Equal to Operator\n",
        "\n",
        "\n",
        "Returns True if both operand values are equal.\n",
        "\n",
        "\n",
        "a == b\n",
        "\n",
        "---\n",
        "\n",
        "\n",
        "\n",
        "!=\n",
        "\n",
        "\n",
        "Not Equal to Operator\n",
        "\n",
        "\n",
        "Returns True if operands are not equal.\n",
        "\n",
        "\n",
        "a != b\n",
        "\n",
        "---\n",
        "\n",
        "\n",
        "\n",
        ".>\n",
        "\n",
        "\n",
        "Greater than\n",
        "\n",
        "\n",
        "Returns True if the left operand is greater than the right operand.\n",
        "\n",
        "\n",
        "a > b\n",
        "\n",
        "---\n",
        "\n",
        "\n",
        "\n",
        "<\n",
        "\n",
        "Less than\n",
        "\n",
        "\n",
        "Returns True if the left operand is less than the right operand value.\n",
        "\n",
        "\n",
        "a < b\n",
        "\n",
        "---\n",
        "\n",
        "\n",
        "\n",
        "\n",
        ".>=\n",
        "\n",
        "\n",
        "Greater than or Equal to\n",
        "\n",
        "\n",
        "Returns True if the left operand value is greater than or equal to the right.  \n",
        "\n",
        "\n",
        "a >= b\n",
        "\n",
        "\n",
        "---\n",
        "\n",
        "\n",
        "\n",
        "<=\n",
        "\n",
        "\n",
        "Less than or Equal to\n",
        "\n",
        "\n",
        "Returns True if the left operand is less than or equal to the right operand.\n",
        "\n",
        "\n",
        "a <= b\n",
        "\n",
        "---"
      ],
      "metadata": {
        "id": "LHqME9SZyyBY"
      }
    },
    {
      "cell_type": "code",
      "source": [
        "# a == b\n",
        "\n",
        "a = 10\n",
        "b = 20\n",
        "\n",
        "print(a == b)"
      ],
      "metadata": {
        "colab": {
          "base_uri": "https://localhost:8080/"
        },
        "id": "b3L078420bQH",
        "outputId": "ec111669-7e8c-4557-b984-9c5b6724be12"
      },
      "execution_count": 38,
      "outputs": [
        {
          "output_type": "stream",
          "name": "stdout",
          "text": [
            "False\n"
          ]
        }
      ]
    },
    {
      "cell_type": "code",
      "source": [
        "# OR\n",
        "\n",
        "a = 6\n",
        "b = 6\n",
        "c = 8\n",
        "\n",
        "print(a == b)\n",
        "print(a == c)"
      ],
      "metadata": {
        "colab": {
          "base_uri": "https://localhost:8080/"
        },
        "id": "2x9eAeFr0bKF",
        "outputId": "6c835f4e-d04b-4778-b587-05ca4c428d4c"
      },
      "execution_count": 39,
      "outputs": [
        {
          "output_type": "stream",
          "name": "stdout",
          "text": [
            "True\n",
            "False\n"
          ]
        }
      ]
    },
    {
      "cell_type": "code",
      "source": [
        "# a != b\n",
        "\n",
        "a = 10\n",
        "b = 20\n",
        "c = 10\n",
        "\n",
        "print(a != b)\n",
        "print(a != c)"
      ],
      "metadata": {
        "colab": {
          "base_uri": "https://localhost:8080/"
        },
        "id": "M2Zz51Ce0bBf",
        "outputId": "ccb77135-0e8f-4b7e-a12f-bd7104b09ff9"
      },
      "execution_count": 40,
      "outputs": [
        {
          "output_type": "stream",
          "name": "stdout",
          "text": [
            "True\n",
            "False\n"
          ]
        }
      ]
    },
    {
      "cell_type": "code",
      "source": [
        "# a < b\n",
        "\n",
        "a = 10\n",
        "b = 20\n",
        "\n",
        "print(a < b)"
      ],
      "metadata": {
        "colab": {
          "base_uri": "https://localhost:8080/"
        },
        "id": "d1saxI450a-Y",
        "outputId": "634aa184-7731-47b0-c4b9-123681e9fd5a"
      },
      "execution_count": 41,
      "outputs": [
        {
          "output_type": "stream",
          "name": "stdout",
          "text": [
            "True\n"
          ]
        }
      ]
    },
    {
      "cell_type": "code",
      "source": [
        "# a > b\n",
        "\n",
        "a = 10\n",
        "b = 20\n",
        "\n",
        "print(a > b)"
      ],
      "metadata": {
        "colab": {
          "base_uri": "https://localhost:8080/"
        },
        "id": "Gjj3FFBC0a7F",
        "outputId": "e97a5002-68e3-4578-b7e3-12f6c920ae3a"
      },
      "execution_count": 42,
      "outputs": [
        {
          "output_type": "stream",
          "name": "stdout",
          "text": [
            "False\n"
          ]
        }
      ]
    },
    {
      "cell_type": "code",
      "source": [
        "# a >= b\n",
        "\n",
        "a = 30\n",
        "b = 20\n",
        "\n",
        "print(a >= b)"
      ],
      "metadata": {
        "colab": {
          "base_uri": "https://localhost:8080/"
        },
        "id": "gHkN3TDoo7pJ",
        "outputId": "e78ec1b5-7963-4902-e22f-e8f8a81c8829"
      },
      "execution_count": 45,
      "outputs": [
        {
          "output_type": "stream",
          "name": "stdout",
          "text": [
            "True\n"
          ]
        }
      ]
    },
    {
      "cell_type": "code",
      "source": [
        "# a <= b\n",
        "\n",
        "a = 30\n",
        "b = 20\n",
        "\n",
        "print(a <= b)"
      ],
      "metadata": {
        "colab": {
          "base_uri": "https://localhost:8080/"
        },
        "id": "1Xkv1A3v1q4h",
        "outputId": "b5f0a0ba-bdb7-49d9-96fc-a26176f9039e"
      },
      "execution_count": 46,
      "outputs": [
        {
          "output_type": "stream",
          "name": "stdout",
          "text": [
            "False\n"
          ]
        }
      ]
    },
    {
      "cell_type": "markdown",
      "source": [
        "# **Logical Operators in Python**\n",
        "\n",
        "Logical operators in Python combine conditional statements so you can perform different operations based on given conditions. They are used to carry out logical operations, returning Boolean values.\n",
        "\n",
        "Along with arithmetic operators, logical operators include special symbols that you use to compute values and variables. There are three types of Python logical operators:\n",
        "\n",
        "*    Logical AND operator\n",
        "\n",
        "*   Logical OR operator\n",
        "\n",
        "*    Logical NOT operator"
      ],
      "metadata": {
        "id": "_SpNBc3K2Yc_"
      }
    },
    {
      "cell_type": "markdown",
      "source": [
        "Operator    |  Description  |  Syntax |  Example\n",
        "\n",
        "---\n",
        "\n",
        "AND\n",
        "\n",
        "\n",
        "Returns True if both the operands are true; else returns False.\n",
        "\n",
        "\n",
        "a and b\n",
        "\n",
        "\n",
        "a>6 and a>11\n",
        "\n",
        "---\n",
        "\n",
        "OR\n",
        "\n",
        "\n",
        "Returns True if at least one operand is true. If both operands are False, the result is False.\n",
        "\n",
        "\n",
        "a or b\n",
        "\n",
        "\n",
        "a<6 or a>11\n",
        "\n",
        "---\n",
        "\n",
        "NOT\n",
        "\n",
        "\n",
        "Returns True if the operand is false\n",
        "\n",
        "\n",
        "not a\n",
        "\n",
        "\n",
        "not(a>6 and a> 11)\n",
        "\n",
        "---"
      ],
      "metadata": {
        "id": "swVJ6Ajs2mlx"
      }
    },
    {
      "cell_type": "markdown",
      "source": [
        "**Logical AND Operator Example**"
      ],
      "metadata": {
        "id": "XEdyYn2V5UnS"
      }
    },
    {
      "cell_type": "code",
      "source": [
        "n = 4\n",
        "n > 2 and n < 7"
      ],
      "metadata": {
        "colab": {
          "base_uri": "https://localhost:8080/"
        },
        "id": "bWhjs3sv4QBy",
        "outputId": "073c3a6e-0080-47e2-c868-9e8867c38d22"
      },
      "execution_count": 47,
      "outputs": [
        {
          "output_type": "execute_result",
          "data": {
            "text/plain": [
              "True"
            ]
          },
          "metadata": {},
          "execution_count": 47
        }
      ]
    },
    {
      "cell_type": "code",
      "source": [
        "n < 2 and n < 7"
      ],
      "metadata": {
        "colab": {
          "base_uri": "https://localhost:8080/"
        },
        "id": "UfxPu6pu122e",
        "outputId": "422c3ef0-e44f-4875-e559-ee6a8d1aa858"
      },
      "execution_count": 49,
      "outputs": [
        {
          "output_type": "execute_result",
          "data": {
            "text/plain": [
              "False"
            ]
          },
          "metadata": {},
          "execution_count": 49
        }
      ]
    },
    {
      "cell_type": "markdown",
      "source": [
        "The example checks whether the given conditions are true or false. If the first two conditions are true, it returns True, but if only one of the second two conditions is true, it returns False."
      ],
      "metadata": {
        "id": "1M9JX4g538qr"
      }
    },
    {
      "cell_type": "markdown",
      "source": [
        "Truth Table for the Logical AND Operator\n",
        "\n",
        "The following truth table shows all the possible combinations of operands and their corresponding output.\n",
        "\n",
        "     Operand 1        Operand 2               Result\n",
        "     \n",
        "      True              True                  True\n",
        "\n",
        "      True             False                  False\n",
        "\n",
        "      False            True                   False\n",
        "\n",
        "      False            False                  False"
      ],
      "metadata": {
        "id": "fg9NlIDW5jJp"
      }
    },
    {
      "cell_type": "markdown",
      "source": [
        " **Logical OR Operator**"
      ],
      "metadata": {
        "id": "TWDhRRSf6gC0"
      }
    },
    {
      "cell_type": "markdown",
      "source": [
        "Here are the possible conditions that can occur in the OR operator:\n",
        "\n",
        "*  If one condition is True and the second condition is False, it returns True.\n",
        "* If both conditions are True, it returns True.\n",
        "*  If both conditions are False, it returns False."
      ],
      "metadata": {
        "id": "LU08HNnh7C8a"
      }
    },
    {
      "cell_type": "code",
      "source": [
        "n = 8\n",
        "n < 4 or n < 13"
      ],
      "metadata": {
        "colab": {
          "base_uri": "https://localhost:8080/"
        },
        "id": "MauElI0J4fJS",
        "outputId": "92e816c7-9723-48fa-c124-b4f7110ceb86"
      },
      "execution_count": 50,
      "outputs": [
        {
          "output_type": "execute_result",
          "data": {
            "text/plain": [
              "True"
            ]
          },
          "metadata": {},
          "execution_count": 50
        }
      ]
    },
    {
      "cell_type": "code",
      "source": [
        "n < 4 or n < 7"
      ],
      "metadata": {
        "colab": {
          "base_uri": "https://localhost:8080/"
        },
        "id": "4z4EZgpw7bkZ",
        "outputId": "af10a3fb-b547-4edf-cfa2-989e31248f80"
      },
      "execution_count": 51,
      "outputs": [
        {
          "output_type": "execute_result",
          "data": {
            "text/plain": [
              "False"
            ]
          },
          "metadata": {},
          "execution_count": 51
        }
      ]
    },
    {
      "cell_type": "markdown",
      "source": [
        "The first two conditions are true, so it returns True. However, the second two conditions are False, so the output is False."
      ],
      "metadata": {
        "id": "4IL8L2Dd7nlH"
      }
    },
    {
      "cell_type": "markdown",
      "source": [
        "Truth Table for the Logical OR Operator\n",
        "\n",
        "The following truth table demonstrates all the possible combinations of operands and corresponding outputs.\n",
        "\n",
        "     Operand 1       Operand 2          Result  \n",
        "\n",
        "     True              True             True\n",
        "\n",
        "     True              False            True\n",
        "\n",
        "     False             True             True\n",
        "\n",
        "     False             False           False"
      ],
      "metadata": {
        "id": "pQ9Gh6lu7onu"
      }
    },
    {
      "cell_type": "markdown",
      "source": [
        "**Logical NOT Operator**"
      ],
      "metadata": {
        "id": "UpSRLyKn8fpA"
      }
    },
    {
      "cell_type": "markdown",
      "source": [
        "The NOT operator in Python works with a single Boolean value. It inverts the value of the operand. We use it to invert the logic of an expression. So, if the operand is True, it returns the Boolean value False; if the operand is False, it returns the Boolean value True.\n",
        "\n",
        "Here are the possible conditions that can occur in the NOT operator:\n",
        "\n",
        "* If the condition is False, the resultant value is True.\n",
        "* If the condition is True, the resultant value is False.\n",
        "\n",
        "Logical not operator in python"
      ],
      "metadata": {
        "id": "XVTFHmGz8ho-"
      }
    },
    {
      "cell_type": "code",
      "source": [
        "not True"
      ],
      "metadata": {
        "colab": {
          "base_uri": "https://localhost:8080/"
        },
        "id": "AtG3YHSO7ixk",
        "outputId": "086cd912-746b-466b-f3d8-dd7e5c541697"
      },
      "execution_count": 52,
      "outputs": [
        {
          "output_type": "execute_result",
          "data": {
            "text/plain": [
              "False"
            ]
          },
          "metadata": {},
          "execution_count": 52
        }
      ]
    },
    {
      "cell_type": "code",
      "source": [
        "not False"
      ],
      "metadata": {
        "colab": {
          "base_uri": "https://localhost:8080/"
        },
        "id": "kiP7Jd008yC2",
        "outputId": "1f714806-3cac-45d3-aa62-c6d3a25dacac"
      },
      "execution_count": 53,
      "outputs": [
        {
          "output_type": "execute_result",
          "data": {
            "text/plain": [
              "True"
            ]
          },
          "metadata": {},
          "execution_count": 53
        }
      ]
    },
    {
      "cell_type": "markdown",
      "source": [
        "We can see that the NOT operator changes True to False and False to True."
      ],
      "metadata": {
        "id": "Tbmm_JUa85AB"
      }
    },
    {
      "cell_type": "markdown",
      "source": [
        "**Order of Evaluation of Logical Operators**"
      ],
      "metadata": {
        "id": "AHXyuQe-9hU9"
      }
    },
    {
      "cell_type": "code",
      "source": [
        "a = True\n",
        "b = False\n",
        "c = True\n",
        "\n",
        "result = not a or b and c\n",
        "print(result)"
      ],
      "metadata": {
        "colab": {
          "base_uri": "https://localhost:8080/"
        },
        "id": "tMTyY58Y80yg",
        "outputId": "2284119e-af4c-4940-8883-3f7ed13b9b79"
      },
      "execution_count": 57,
      "outputs": [
        {
          "output_type": "stream",
          "name": "stdout",
          "text": [
            "False\n"
          ]
        }
      ]
    },
    {
      "cell_type": "markdown",
      "source": [
        "# **Python Identity Operators**\n",
        "\n",
        "Identity operators are used to compare the objects, not if they are equal, but if they are actually the same object, with the same memory location:"
      ],
      "metadata": {
        "id": "uVZbBoce-GjZ"
      }
    },
    {
      "cell_type": "markdown",
      "source": [
        "     Operator  |            \tDescription                        | \tExample\n",
        "        is  \t  Returns True if both variables are the same object \tx is y\n",
        "       is not   Returns True if both variables are not the same object  x is not y"
      ],
      "metadata": {
        "id": "9e_SeN7e9jdt"
      }
    },
    {
      "cell_type": "code",
      "source": [
        "x = [\"apple\", \"banana\"]\n",
        "y = [\"apple\", \"banana\"]\n",
        "z = x\n",
        "\n",
        "print(x is z)\n",
        "\n",
        "# returns True because z is the same object as x\n",
        "\n",
        "print(x is y)\n",
        "\n",
        "# returns False because x is not the same object as y, even if they have the same content\n",
        "\n",
        "print(x == y)\n",
        "\n",
        "# to demonstrate the difference betweeen \"is\" and \"==\": this comparison returns True because x is equal to y\n"
      ],
      "metadata": {
        "colab": {
          "base_uri": "https://localhost:8080/"
        },
        "id": "FViXJfiT9F2F",
        "outputId": "0342a110-8610-4876-932d-c7acffeb697e"
      },
      "execution_count": 58,
      "outputs": [
        {
          "output_type": "stream",
          "name": "stdout",
          "text": [
            "True\n",
            "False\n",
            "True\n"
          ]
        }
      ]
    },
    {
      "cell_type": "code",
      "source": [
        "x = [\"apple\", \"banana\"]\n",
        "y = [\"apple\", \"banana\"]\n",
        "z = x\n",
        "\n",
        "print(x is not z)\n",
        "\n",
        "# returns False because z is the same object as x\n",
        "\n",
        "print(x is not y)\n",
        "\n",
        "# returns True because x is not the same object as y, even if they have the same content\n",
        "\n",
        "print(x != y)\n",
        "\n",
        "# to demonstrate the difference betweeen \"is not\" and \"!=\": this comparison returns False because x is equal to y"
      ],
      "metadata": {
        "colab": {
          "base_uri": "https://localhost:8080/"
        },
        "id": "U6M51mlY_35n",
        "outputId": "1c70759e-aaed-43ee-e747-a22ddd0b7ebc"
      },
      "execution_count": 59,
      "outputs": [
        {
          "output_type": "stream",
          "name": "stdout",
          "text": [
            "False\n",
            "True\n",
            "False\n"
          ]
        }
      ]
    },
    {
      "cell_type": "markdown",
      "source": [
        "# **Python Membership Operators**\n",
        "\n",
        "Membership operators are used to test if a sequence is presented in an object:"
      ],
      "metadata": {
        "id": "86r685wA-s1Q"
      }
    },
    {
      "cell_type": "markdown",
      "source": [
        "      Operator  |       \tDescription \t           |                                                Example\n",
        "        in  \t   Returns True if a sequence with the specified value is present in the object \t     x in y\n",
        "       not in \tReturns True if a sequence with the specified value is not present in the object \tx not in y"
      ],
      "metadata": {
        "id": "emytkMxPAZxE"
      }
    },
    {
      "cell_type": "code",
      "source": [
        "x = [\"apple\", \"banana\"]\n",
        "\n",
        "print(\"banana\" in x)\n",
        "\n",
        "# returns True because a sequence with the value \"banana\" is in the list"
      ],
      "metadata": {
        "colab": {
          "base_uri": "https://localhost:8080/"
        },
        "id": "FGYggwg1BDup",
        "outputId": "18def43c-55cb-40f5-e953-fed3a82a1954"
      },
      "execution_count": 60,
      "outputs": [
        {
          "output_type": "stream",
          "name": "stdout",
          "text": [
            "True\n"
          ]
        }
      ]
    },
    {
      "cell_type": "code",
      "source": [
        "x = [\"apple\", \"banana\"]\n",
        "\n",
        "print(\"pineapple\" not in x)\n",
        "\n",
        "# returns True because a sequence with the value \"pineapple\" is not in the list"
      ],
      "metadata": {
        "colab": {
          "base_uri": "https://localhost:8080/"
        },
        "id": "tcdkdtziBUsd",
        "outputId": "11524db0-ac72-4933-9d2c-705ceda12d40"
      },
      "execution_count": 61,
      "outputs": [
        {
          "output_type": "stream",
          "name": "stdout",
          "text": [
            "True\n"
          ]
        }
      ]
    },
    {
      "cell_type": "markdown",
      "source": [
        "# **Python Bitwise Operators**\n",
        "\n",
        "Bitwise operators are used to compare (binary) numbers:"
      ],
      "metadata": {
        "id": "vlCsTgJ-ADTw"
      }
    },
    {
      "cell_type": "markdown",
      "source": [
        "    Operator    Name \t         Description                     \tExample\n",
        "      &  \t   AND \tSets each bit to 1 if both bits are 1 \t     x & y\n",
        "      | \t    OR \t Sets each bit to 1 if one of two bits is 1 \tx | y\n",
        "      ^ \t   XOR \tSets each bit to 1 if only one of two bits is 1   x ^ y\n",
        "      ~ \t   NOT \tInverts all the bits \t                          ~x\n",
        "      << \tZero fill left shift \tShift left by pushing zeros in from the right and let the leftmost bits fall off \tx << 2\n",
        "      >> \tSigned right shift \tShift right by pushing copies of the leftmost bit in from the left, and let the rightmost bits fall off \tx >> 2"
      ],
      "metadata": {
        "id": "l6ts0zuzBgSM"
      }
    },
    {
      "cell_type": "code",
      "source": [
        "print(6 & 3)\n",
        "\n",
        "# The & operator compares each bit and set it to 1 if both are 1, otherwise it is set to 0:\n",
        "\n",
        "# 6 = 0000000000000110\n",
        "# 3 = 0000000000000011\n",
        "# --------------------\n",
        "# 2 = 0000000000000010\n",
        "# ====================\n",
        "\n",
        "# Decimal numbers and their binary values:\n",
        "# 0 = 0000000000000000\n",
        "# 1 = 0000000000000001\n",
        "# 2 = 0000000000000010\n",
        "# 3 = 0000000000000011\n",
        "# 4 = 0000000000000100\n",
        "# 5 = 0000000000000101\n",
        "# 6 = 0000000000000110\n",
        "# 7 = 0000000000000111"
      ],
      "metadata": {
        "colab": {
          "base_uri": "https://localhost:8080/"
        },
        "id": "Bym6hFM3CyH9",
        "outputId": "8821b8b3-a4d4-49cd-f355-9dd0f83b4ed5"
      },
      "execution_count": 63,
      "outputs": [
        {
          "output_type": "stream",
          "name": "stdout",
          "text": [
            "2\n"
          ]
        }
      ]
    },
    {
      "cell_type": "code",
      "source": [
        "print(6 | 3)\n",
        "\n",
        "\n",
        "# The | operator compares each bit and set it to 1 if one or both is 1, otherwise it is set to 0:\n",
        "\n",
        "# 6 = 0000000000000110\n",
        "# 3 = 0000000000000011\n",
        "# --------------------\n",
        "# 7 = 0000000000000111"
      ],
      "metadata": {
        "colab": {
          "base_uri": "https://localhost:8080/"
        },
        "id": "KojPZGTFC_B8",
        "outputId": "5a3f601e-15d8-4650-d7f0-cc8739fe9f32"
      },
      "execution_count": 66,
      "outputs": [
        {
          "output_type": "stream",
          "name": "stdout",
          "text": [
            "7\n"
          ]
        }
      ]
    },
    {
      "cell_type": "code",
      "source": [
        "print(6 ^ 3)\n",
        "\n",
        "\n",
        "# The ^ operator compares each bit and set it to 1 if only one is 1, otherwise (if both are 1 or both are 0) it is set to 0:\n",
        "\n",
        "# 6 = 0000000000000110\n",
        "# 3 = 0000000000000011\n",
        "# --------------------\n",
        "# 5 = 0000000000000101"
      ],
      "metadata": {
        "colab": {
          "base_uri": "https://localhost:8080/"
        },
        "id": "ihIEZeJ8DceT",
        "outputId": "69ee2685-1627-4aba-a23a-05ece34f6547"
      },
      "execution_count": 67,
      "outputs": [
        {
          "output_type": "stream",
          "name": "stdout",
          "text": [
            "5\n"
          ]
        }
      ]
    },
    {
      "cell_type": "code",
      "source": [
        "print(~3)\n",
        "\n",
        "# The ~ operator inverts each bit (0 becomes 1 and 1 becomes 0).\n",
        "\n",
        "# Inverted 3 becomes -4:\n",
        "#  3 = 0000000000000011\n",
        "# -4 = 1111111111111100\n",
        "\n",
        "# Decimal numbers and their binary values:\n",
        "#  4 = 0000000000000100\n",
        "#  3 = 0000000000000011\n",
        "#  2 = 0000000000000010\n",
        "#  1 = 0000000000000001\n",
        "#  0 = 0000000000000000\n",
        "# -1 = 1111111111111111\n",
        "# -2 = 1111111111111110\n",
        "# -3 = 1111111111111101\n",
        "# -4 = 1111111111111100"
      ],
      "metadata": {
        "colab": {
          "base_uri": "https://localhost:8080/"
        },
        "id": "x9JCWDvpDzMY",
        "outputId": "1869bc96-1185-4207-cbc6-04a1e1455026"
      },
      "execution_count": 68,
      "outputs": [
        {
          "output_type": "stream",
          "name": "stdout",
          "text": [
            "-4\n"
          ]
        }
      ]
    },
    {
      "cell_type": "code",
      "source": [
        "print(3 << 2)\n",
        "\n",
        "# The << operator inserts the specified number of 0's (in this case 2) from the right and let the same amount of leftmost bits fall off:\n",
        "\n",
        "# If you push 00 in from the left:\n",
        "#  3 = 0000000000000011\n",
        "# becomes\n",
        "# 12 = 0000000000001100\n",
        "\n",
        "# Decimal numbers and their binary values:\n",
        "#  0 = 0000000000000000\n",
        "#  1 = 0000000000000001\n",
        "#  2 = 0000000000000010\n",
        "#  3 = 0000000000000011\n",
        "#  4 = 0000000000000100\n",
        "#  5 = 0000000000000101\n",
        "#  6 = 0000000000000110\n",
        "#  7 = 0000000000000111\n",
        "#  8 = 0000000000001000\n",
        "#  9 = 0000000000001001\n",
        "# 10 = 0000000000001010\n",
        "# 11 = 0000000000001011\n",
        "# 12 = 0000000000001100"
      ],
      "metadata": {
        "colab": {
          "base_uri": "https://localhost:8080/"
        },
        "id": "y0LuuvnPEFyL",
        "outputId": "af5b670d-b9c6-4a72-f46c-cabd87e83614"
      },
      "execution_count": 69,
      "outputs": [
        {
          "output_type": "stream",
          "name": "stdout",
          "text": [
            "12\n"
          ]
        }
      ]
    },
    {
      "cell_type": "code",
      "source": [
        "print(8 >> 2)\n",
        "\n",
        "# The >> operator moves each bit the specified number of times to the right. Empty holes at the left are filled with 0's.\n",
        "\n",
        "# If you move each bit 2 times to the right, 8 becomes 2:\n",
        "#  8 = 0000000000001000\n",
        "# becomes\n",
        "#  2 = 0000000000000010"
      ],
      "metadata": {
        "colab": {
          "base_uri": "https://localhost:8080/"
        },
        "id": "M1m3xAXvEWFc",
        "outputId": "cade9019-c84c-4434-dd3e-8525db73d0be"
      },
      "execution_count": 70,
      "outputs": [
        {
          "output_type": "stream",
          "name": "stdout",
          "text": [
            "2\n"
          ]
        }
      ]
    },
    {
      "cell_type": "markdown",
      "source": [
        "# **Operator Precedence**"
      ],
      "metadata": {
        "id": "ILytp3FKElOc"
      }
    },
    {
      "cell_type": "markdown",
      "source": [
        "Python Operators Precedence Rule - PEMDAS\n",
        "\n",
        "Operator precedence in Python adheres to the PEMDAS rule to compute arithmetic expressions. PEMDAS stands for:\n",
        "\n",
        "P – Parentheses\n",
        "\n",
        "E – Exponents\n",
        "\n",
        "M – Multiplication\n",
        "\n",
        "D – Division\n",
        "\n",
        "A – Addition\n",
        "\n",
        "S – Subtraction\n",
        "\n",
        "Using this acronym as a mnemonic, you can understand the order of precedence. Familiarity with this rule will help you avoid errors while writing Python code. It ensures that operations are performed hierarchically, which mitigates errors and avoids ambiguity, especially while writing complex expressions."
      ],
      "metadata": {
        "id": "0KH1RWYGFCIm"
      }
    },
    {
      "cell_type": "code",
      "source": [
        "# In the following code, the interpreter will execute the if block even if the age is 0 because the logical AND has higher precedence than the logical OR operator.\n",
        "\n",
        "name = \"Ram\"\n",
        "age = 0\n",
        "if name == \"Ram\" or name == \"Shyam\" and age >= 7:\n",
        "    print(\"Good Morning.\")\n",
        "else:\n",
        "    print(\"Good Night\")"
      ],
      "metadata": {
        "colab": {
          "base_uri": "https://localhost:8080/"
        },
        "id": "3GOyDQHhEewu",
        "outputId": "8d320869-a786-4295-d6c8-42fe49a1b4d9"
      },
      "execution_count": 75,
      "outputs": [
        {
          "output_type": "stream",
          "name": "stdout",
          "text": [
            "Good Morning.\n"
          ]
        }
      ]
    },
    {
      "cell_type": "code",
      "source": [
        "# Parentheses has the highest precedence, meaning that expressions inside parentheses must be evaluated first:\n",
        "print((6 + 3) - (6 + 3))"
      ],
      "metadata": {
        "colab": {
          "base_uri": "https://localhost:8080/"
        },
        "id": "B1SUFBhpFqfq",
        "outputId": "079d024f-310e-4c78-c09f-941434bf3562"
      },
      "execution_count": 76,
      "outputs": [
        {
          "output_type": "stream",
          "name": "stdout",
          "text": [
            "0\n"
          ]
        }
      ]
    },
    {
      "cell_type": "code",
      "source": [
        "# Multiplication * has higher precedence than addition +, and therefor multiplications are evaluated before additions:\n",
        "print(100 + 5 * 3)"
      ],
      "metadata": {
        "colab": {
          "base_uri": "https://localhost:8080/"
        },
        "id": "zkP11qYKHBjh",
        "outputId": "98af5243-4778-45b6-931a-2dbb9fa9fa86"
      },
      "execution_count": 77,
      "outputs": [
        {
          "output_type": "stream",
          "name": "stdout",
          "text": [
            "115\n"
          ]
        }
      ]
    },
    {
      "cell_type": "markdown",
      "source": [
        "     Operator \t          Description\n",
        "       () \t              Parentheses\n",
        "       ** \t             Exponentiation\n",
        "     +x  -x  ~x \t   Unary plus, unary minus, and bitwise NOT\n",
        "    *  /  //  % \t Multiplication, division, floor division, and modulus\n",
        "      +  - \t        Addition and subtraction\n",
        "     <<  >> \t       Bitwise left and right shifts\n",
        "       & \t          Bitwise AND\n",
        "       ^ \t          Bitwise XOR\n",
        "       | \t          Bitwise OR\n",
        "       ==  !=  >  >=  <  <=  is  is not  in  not in  \tComparisons, identity, and membership operators\n",
        "      not \t        Logical NOT\n",
        "      and \t         AND\n",
        "      or \t          OR"
      ],
      "metadata": {
        "id": "URlOtCe3G9aB"
      }
    },
    {
      "cell_type": "code",
      "source": [
        "print((6 + 3) - (6 + 3))\n",
        "\n",
        "# Parenthesis have the highest precedence, and need to be evaluated first.\n",
        "# The calculation above reads 9 - 9 = 0"
      ],
      "metadata": {
        "colab": {
          "base_uri": "https://localhost:8080/"
        },
        "id": "_dGBsV7XG6zT",
        "outputId": "28e4f167-40d2-43b4-de79-fc0fad1c5140"
      },
      "execution_count": 78,
      "outputs": [
        {
          "output_type": "stream",
          "name": "stdout",
          "text": [
            "0\n"
          ]
        }
      ]
    },
    {
      "cell_type": "code",
      "source": [
        "print(100 - 3 ** 3)\n",
        "\n",
        "# Exponentiation has higher precedence than subtraction, and needs to be evaluated first.\n",
        "# The calculation above reads 100 - 27 = 73"
      ],
      "metadata": {
        "colab": {
          "base_uri": "https://localhost:8080/"
        },
        "id": "eTGtiI7pIMRA",
        "outputId": "3e955d5d-aa17-4c19-fb5f-a45f9d6ef2ff"
      },
      "execution_count": 79,
      "outputs": [
        {
          "output_type": "stream",
          "name": "stdout",
          "text": [
            "73\n"
          ]
        }
      ]
    },
    {
      "cell_type": "code",
      "source": [
        "print(100 + ~3)\n",
        "\n",
        "# Bitwise NOT has higher precedence than addition, and needs to be evaluated first.\n",
        "# The calculation above reads 100 + -4 = 96"
      ],
      "metadata": {
        "colab": {
          "base_uri": "https://localhost:8080/"
        },
        "id": "ajgO45D2IMMP",
        "outputId": "514bf0c3-d67f-4673-b680-df46a1fb5c0d"
      },
      "execution_count": 80,
      "outputs": [
        {
          "output_type": "stream",
          "name": "stdout",
          "text": [
            "96\n"
          ]
        }
      ]
    },
    {
      "cell_type": "code",
      "source": [
        "print(100 + 5 * 3)\n",
        "\n",
        "# Multiplication has higher precedence than addition, and needs to be evaluated first.\n",
        "# The calculation above reads 100 + 15 = 115"
      ],
      "metadata": {
        "colab": {
          "base_uri": "https://localhost:8080/"
        },
        "id": "mtDTunomIMGe",
        "outputId": "6fa1cbcd-8bce-45d1-dfe6-820ab9268fa1"
      },
      "execution_count": 81,
      "outputs": [
        {
          "output_type": "stream",
          "name": "stdout",
          "text": [
            "115\n"
          ]
        }
      ]
    },
    {
      "cell_type": "code",
      "source": [
        "print(100 - 5 * 3)\n",
        "\n",
        "# Subtraction has a lower precedence than multiplication, and we need to calculate the multiplication first.\n",
        "# The calculation above reads 100 - 15 = 85"
      ],
      "metadata": {
        "colab": {
          "base_uri": "https://localhost:8080/"
        },
        "id": "9J44Mc50IMC6",
        "outputId": "324466a1-eae5-491d-d111-2fa5d3c268c8"
      },
      "execution_count": 82,
      "outputs": [
        {
          "output_type": "stream",
          "name": "stdout",
          "text": [
            "85\n"
          ]
        }
      ]
    },
    {
      "cell_type": "code",
      "source": [
        "print(8 >> 4 - 2)\n",
        "\n",
        "# Bitwise right shift has a lower precedence than subtraction, and we need to calculate the subtraction first.\n",
        "# The calculation above reads 8 >> 2 = 2\n",
        "\n",
        "# More explanation:\n",
        "# The >> operator moves each bit the specified number of times to the right. Empty holes at the left are filled with 0's.\n",
        "\n",
        "# If you move each bit 2 times to the right, 8 becomes 2:\n",
        "#  8 = 0000000000001000\n",
        "# becomes\n",
        "#  2 = 0000000000000010"
      ],
      "metadata": {
        "colab": {
          "base_uri": "https://localhost:8080/"
        },
        "id": "sCgUiA-oIL_T",
        "outputId": "5aaff196-e044-4b2d-eb53-37b35886bbd1"
      },
      "execution_count": 83,
      "outputs": [
        {
          "output_type": "stream",
          "name": "stdout",
          "text": [
            "2\n"
          ]
        }
      ]
    },
    {
      "cell_type": "code",
      "source": [
        "print(6 & 2 + 1)\n",
        "\n",
        "# Bitwise AND has a lower precedence than addition, and we need to calculate the addition first.\n",
        "# The calculation above reads 6 & 3 = 2\n",
        "\n",
        "# More explanation:\n",
        "# The & operator compares each bit and set it to 1 if both are 1, otherwise it is set to 0:\n",
        "\n",
        "# 6 = 0000000000000110\n",
        "# 3 = 0000000000000011\n",
        "# --------------------\n",
        "# 2 = 0000000000000010"
      ],
      "metadata": {
        "colab": {
          "base_uri": "https://localhost:8080/"
        },
        "id": "jQbcIJqGIL7Z",
        "outputId": "b89ef1ff-5033-44e0-b036-ad6f3a4cad73"
      },
      "execution_count": 84,
      "outputs": [
        {
          "output_type": "stream",
          "name": "stdout",
          "text": [
            "2\n"
          ]
        }
      ]
    },
    {
      "cell_type": "code",
      "source": [
        "print(6 ^ 2 + 1)\n",
        "\n",
        "# Bitwise XOR has a lower precedence than addition, and we need to calculate the addition first.\n",
        "# The calculation above reads 6 ^ 3 = 5\n",
        "\n",
        "# More explanation:\n",
        "# The ^ operator compares each bit and set it to 1 if only one is 1, otherwise (if both are 1 or both are 0) it is set to 0:\n",
        "\n",
        "# 6 = 0000000000000110\n",
        "# 3 = 0000000000000011\n",
        "# --------------------\n",
        "# 5 = 0000000000000101"
      ],
      "metadata": {
        "colab": {
          "base_uri": "https://localhost:8080/"
        },
        "id": "Kod6CeppIL3i",
        "outputId": "6121ecca-5684-4b4b-8cc8-bfb4357db220"
      },
      "execution_count": 85,
      "outputs": [
        {
          "output_type": "stream",
          "name": "stdout",
          "text": [
            "5\n"
          ]
        }
      ]
    },
    {
      "cell_type": "code",
      "source": [
        "print(6 | 2 + 1)\n",
        "\n",
        "# Bitwise OR has a lower precedence than addition, and we need to calculate the addition first.\n",
        "# The calculation above reads 6 | 3 = 7\n",
        "\n",
        "# More explanation:\n",
        "# The | operator compares each bit and set it to 1 if one or both is 1, otherwise it is set to 0:\n",
        "\n",
        "# 6 = 0000000000000110\n",
        "# 3 = 0000000000000011\n",
        "# --------------------\n",
        "# 7 = 0000000000000111"
      ],
      "metadata": {
        "colab": {
          "base_uri": "https://localhost:8080/"
        },
        "id": "ze6-h1bmILra",
        "outputId": "0944f419-50cb-4062-8146-e6535374469b"
      },
      "execution_count": 86,
      "outputs": [
        {
          "output_type": "stream",
          "name": "stdout",
          "text": [
            "7\n"
          ]
        }
      ]
    },
    {
      "cell_type": "code",
      "source": [
        "print(5 == 4 + 1)\n",
        "\n",
        "# The \"like\" comparison has a lower precedence than addition, and we need to calculate the addition first.\n",
        "# The calculation above reads 5 == 5 = True"
      ],
      "metadata": {
        "colab": {
          "base_uri": "https://localhost:8080/"
        },
        "id": "6My5YjxkJVjm",
        "outputId": "839267f0-d7c6-4723-d8db-2f792bb3b847"
      },
      "execution_count": 87,
      "outputs": [
        {
          "output_type": "stream",
          "name": "stdout",
          "text": [
            "True\n"
          ]
        }
      ]
    },
    {
      "cell_type": "code",
      "source": [
        "print(not 5 == 5)\n",
        "\n",
        "# The logical NOT operator has a lower precedence than \"like\" comparison, and we need to calculate the comparison first.\n",
        "# The calculation above reads: not True = False"
      ],
      "metadata": {
        "colab": {
          "base_uri": "https://localhost:8080/"
        },
        "id": "bj3OfC8QJdjv",
        "outputId": "df207f9c-d112-43dd-8709-95ea2b95e155"
      },
      "execution_count": 88,
      "outputs": [
        {
          "output_type": "stream",
          "name": "stdout",
          "text": [
            "False\n"
          ]
        }
      ]
    },
    {
      "cell_type": "code",
      "source": [
        "print(1 or 2 and 3)\n",
        "\n",
        "# The and operator has a higher precedence than or, and we need to calculate the and expression first.\n",
        "# The calculation above reads: 1 or 3 = 1"
      ],
      "metadata": {
        "colab": {
          "base_uri": "https://localhost:8080/"
        },
        "id": "NEx27Tt_JdcR",
        "outputId": "5ee47b42-5e20-45b9-cc04-3d1b07c0844c"
      },
      "execution_count": 89,
      "outputs": [
        {
          "output_type": "stream",
          "name": "stdout",
          "text": [
            "1\n"
          ]
        }
      ]
    },
    {
      "cell_type": "code",
      "source": [
        "print(4 or 5 + 10 or 8)\n",
        "\n",
        "# The or operator has a lower precedence than addition, and we need to calculate the addition first.\n",
        "# The calculation above reads: 4 or 15 or 8 = 4"
      ],
      "metadata": {
        "colab": {
          "base_uri": "https://localhost:8080/"
        },
        "id": "r7PFmRgxJVgC",
        "outputId": "ae28702c-9697-46cd-f0cc-c99b3fe26826"
      },
      "execution_count": 90,
      "outputs": [
        {
          "output_type": "stream",
          "name": "stdout",
          "text": [
            "4\n"
          ]
        }
      ]
    },
    {
      "cell_type": "code",
      "source": [
        "# Addition + and subtraction - has the same precedence, and therefor we evaluate the expression from left to right:\n",
        "\n",
        "print(5 + 4 - 7 + 3)"
      ],
      "metadata": {
        "colab": {
          "base_uri": "https://localhost:8080/"
        },
        "id": "rgxOfrUNKCih",
        "outputId": "ba4db23d-853e-4915-f038-54c405266722"
      },
      "execution_count": 91,
      "outputs": [
        {
          "output_type": "stream",
          "name": "stdout",
          "text": [
            "5\n"
          ]
        }
      ]
    }
  ]
}