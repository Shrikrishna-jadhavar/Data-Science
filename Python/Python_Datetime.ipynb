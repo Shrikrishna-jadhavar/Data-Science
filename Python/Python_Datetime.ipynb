{
  "nbformat": 4,
  "nbformat_minor": 0,
  "metadata": {
    "colab": {
      "provenance": []
    },
    "kernelspec": {
      "name": "python3",
      "display_name": "Python 3"
    },
    "language_info": {
      "name": "python"
    }
  },
  "cells": [
    {
      "cell_type": "markdown",
      "source": [
        "Python Dates\n",
        "\n",
        "A date in Python is not a data type of its own, but we can import a module named datetime to work with dates as date objects."
      ],
      "metadata": {
        "id": "b93ImM9A4ATG"
      }
    },
    {
      "cell_type": "code",
      "execution_count": 2,
      "metadata": {
        "colab": {
          "base_uri": "https://localhost:8080/"
        },
        "id": "BpF0Mmpx2u68",
        "outputId": "0fd0b8bf-beae-4ccb-de62-c30498c067e5"
      },
      "outputs": [
        {
          "output_type": "stream",
          "name": "stdout",
          "text": [
            "2025-01-23 11:20:50.354947\n"
          ]
        }
      ],
      "source": [
        "# Import the datetime module and display the current date:\n",
        "\n",
        "import datetime\n",
        "\n",
        "x = datetime.datetime.now()\n",
        "print(x)"
      ]
    },
    {
      "cell_type": "code",
      "source": [
        "# Return the year and name of weekday:\n",
        "\n",
        "import datetime\n",
        "\n",
        "x = datetime.datetime.now()\n",
        "\n",
        "print(x.year)\n",
        "print(x.strftime(\"%A\"))"
      ],
      "metadata": {
        "colab": {
          "base_uri": "https://localhost:8080/"
        },
        "id": "fJDd-LKw4Rbn",
        "outputId": "40c7ab4c-d4a3-4b7d-e2b3-44b099b90840"
      },
      "execution_count": 3,
      "outputs": [
        {
          "output_type": "stream",
          "name": "stdout",
          "text": [
            "2025\n",
            "Thursday\n"
          ]
        }
      ]
    },
    {
      "cell_type": "markdown",
      "source": [
        "# **Creating Date Objects**\n",
        "\n",
        "To create a date, we can use the datetime() class (constructor) of the datetime module.\n",
        "\n",
        "The datetime() class requires three parameters to create a date: year, month, day."
      ],
      "metadata": {
        "id": "p8BpWAf76cd1"
      }
    },
    {
      "cell_type": "code",
      "source": [
        "# Create a date object:\n",
        "\n",
        "import datetime\n",
        "\n",
        "x = datetime.datetime(2021, 11, 21)\n",
        "print(x)"
      ],
      "metadata": {
        "colab": {
          "base_uri": "https://localhost:8080/"
        },
        "id": "1L5iaVO_6HIw",
        "outputId": "d130165f-5575-465d-da6c-bc44f892c54e"
      },
      "execution_count": 6,
      "outputs": [
        {
          "output_type": "stream",
          "name": "stdout",
          "text": [
            "2021-11-21 00:00:00\n"
          ]
        }
      ]
    },
    {
      "cell_type": "markdown",
      "source": [
        "The datetime() class also takes parameters for time and timezone (hour, minute, second, microsecond, tzone), but they are optional, and has a default value of 0, (None for timezone)."
      ],
      "metadata": {
        "id": "N8K5FgsL7L_9"
      }
    },
    {
      "cell_type": "markdown",
      "source": [
        "# **The strftime() Method**\n",
        "\n",
        "The datetime object has a method for formatting date objects into readable strings.\n",
        "\n",
        "The method is called strftime(), and takes one parameter, format, to specify the format of the returned string:"
      ],
      "metadata": {
        "id": "y2BW_OOE7NFD"
      }
    },
    {
      "cell_type": "code",
      "source": [
        "# Display the name of the month:\n",
        "\n",
        "import datetime\n",
        "\n",
        "x = datetime.datetime(2021, 11, 21)\n",
        "\n",
        "print(x.strftime(\"%B\"))"
      ],
      "metadata": {
        "colab": {
          "base_uri": "https://localhost:8080/"
        },
        "id": "Hupnnsfm64Qv",
        "outputId": "0ad568a4-6ba8-48f6-de64-bdeea9f9d75c"
      },
      "execution_count": 7,
      "outputs": [
        {
          "output_type": "stream",
          "name": "stdout",
          "text": [
            "November\n"
          ]
        }
      ]
    },
    {
      "cell_type": "markdown",
      "source": [
        "# **A reference of all the legal format codes:**"
      ],
      "metadata": {
        "id": "-nYUI-gp763K"
      }
    },
    {
      "cell_type": "code",
      "source": [
        "import datetime\n",
        "\n",
        "x = datetime.datetime.now()\n",
        "\n",
        "print(x.strftime(\"%a\")) #  \tWeekday, short version"
      ],
      "metadata": {
        "colab": {
          "base_uri": "https://localhost:8080/"
        },
        "id": "cp0pFtZu7ryn",
        "outputId": "8a5e5b8c-156d-4059-df3f-20064c620aee"
      },
      "execution_count": 8,
      "outputs": [
        {
          "output_type": "stream",
          "name": "stdout",
          "text": [
            "Thu\n"
          ]
        }
      ]
    },
    {
      "cell_type": "code",
      "source": [
        "import datetime\n",
        "\n",
        "x = datetime.datetime.now()\n",
        "\n",
        "print(x.strftime(\"%A\")) # Weekday, full version"
      ],
      "metadata": {
        "colab": {
          "base_uri": "https://localhost:8080/"
        },
        "id": "tt9IKBxh7_S0",
        "outputId": "0522959a-2e8d-4577-e80e-469d5033e44b"
      },
      "execution_count": 9,
      "outputs": [
        {
          "output_type": "stream",
          "name": "stdout",
          "text": [
            "Thursday\n"
          ]
        }
      ]
    },
    {
      "cell_type": "code",
      "source": [
        "import datetime\n",
        "\n",
        "x = datetime.datetime.now()\n",
        "\n",
        "print(x.strftime(\"%w\")) # Weekday as a number 0-6, 0 is Sunday"
      ],
      "metadata": {
        "colab": {
          "base_uri": "https://localhost:8080/"
        },
        "id": "5WhqNTcq8gxu",
        "outputId": "babdfa69-f473-4097-ccf7-f74ca3861c75"
      },
      "execution_count": 10,
      "outputs": [
        {
          "output_type": "stream",
          "name": "stdout",
          "text": [
            "4\n"
          ]
        }
      ]
    },
    {
      "cell_type": "code",
      "source": [
        "import datetime\n",
        "\n",
        "x = datetime.datetime.now()\n",
        "\n",
        "print(x.strftime(\"%d\")) # Day of month 01-31"
      ],
      "metadata": {
        "colab": {
          "base_uri": "https://localhost:8080/"
        },
        "id": "Ch96Uuss8nDF",
        "outputId": "24b41798-1c9d-465f-bf2a-eb423d9fa29f"
      },
      "execution_count": 11,
      "outputs": [
        {
          "output_type": "stream",
          "name": "stdout",
          "text": [
            "23\n"
          ]
        }
      ]
    },
    {
      "cell_type": "code",
      "source": [
        "import datetime\n",
        "\n",
        "x = datetime.datetime.now()\n",
        "\n",
        "print(x.strftime(\"%b\")) # Month name, short version"
      ],
      "metadata": {
        "colab": {
          "base_uri": "https://localhost:8080/"
        },
        "id": "ZaTl0htY83ds",
        "outputId": "fc7db299-d6df-4140-be98-d665f107667e"
      },
      "execution_count": 12,
      "outputs": [
        {
          "output_type": "stream",
          "name": "stdout",
          "text": [
            "Jan\n"
          ]
        }
      ]
    },
    {
      "cell_type": "code",
      "source": [
        "import datetime\n",
        "\n",
        "x = datetime.datetime.now()\n",
        "\n",
        "print(x.strftime(\"%B\")) # Month name, full version"
      ],
      "metadata": {
        "colab": {
          "base_uri": "https://localhost:8080/"
        },
        "id": "sVFfbC3o9Ct3",
        "outputId": "aa21a235-6c6f-49eb-cfee-2e0bec47bbac"
      },
      "execution_count": 13,
      "outputs": [
        {
          "output_type": "stream",
          "name": "stdout",
          "text": [
            "January\n"
          ]
        }
      ]
    },
    {
      "cell_type": "code",
      "source": [
        "import datetime\n",
        "\n",
        "x = datetime.datetime.now()\n",
        "\n",
        "print(x.strftime(\"%m\")) # Month as a number 01-12"
      ],
      "metadata": {
        "colab": {
          "base_uri": "https://localhost:8080/"
        },
        "id": "xapaHeZx9Dod",
        "outputId": "fc7f3128-edc7-4994-83f8-fed0058d9dfe"
      },
      "execution_count": 14,
      "outputs": [
        {
          "output_type": "stream",
          "name": "stdout",
          "text": [
            "01\n"
          ]
        }
      ]
    },
    {
      "cell_type": "code",
      "source": [
        "import datetime\n",
        "\n",
        "x = datetime.datetime.now()\n",
        "\n",
        "print(x.strftime(\"%y\")) # Year, short version, without century"
      ],
      "metadata": {
        "colab": {
          "base_uri": "https://localhost:8080/"
        },
        "id": "lv6g1Nq09Zi1",
        "outputId": "9e57d9ab-ce64-413c-9477-86da6d0fab39"
      },
      "execution_count": 15,
      "outputs": [
        {
          "output_type": "stream",
          "name": "stdout",
          "text": [
            "25\n"
          ]
        }
      ]
    },
    {
      "cell_type": "code",
      "source": [
        "import datetime\n",
        "\n",
        "x = datetime.datetime.now()\n",
        "\n",
        "print(x.strftime(\"%Y\")) # Year, full version"
      ],
      "metadata": {
        "colab": {
          "base_uri": "https://localhost:8080/"
        },
        "id": "fiiBY8539ddB",
        "outputId": "dbcd2b1d-cca3-42a5-e6dc-cfb79c0f96fa"
      },
      "execution_count": 16,
      "outputs": [
        {
          "output_type": "stream",
          "name": "stdout",
          "text": [
            "2025\n"
          ]
        }
      ]
    },
    {
      "cell_type": "code",
      "source": [
        "import datetime\n",
        "\n",
        "x = datetime.datetime.now()\n",
        "\n",
        "print(x.strftime(\"%H\")) # Hour 00-23"
      ],
      "metadata": {
        "colab": {
          "base_uri": "https://localhost:8080/"
        },
        "id": "NUNnL4839ldR",
        "outputId": "c57e6d82-5982-4118-8867-ade55a359f17"
      },
      "execution_count": 17,
      "outputs": [
        {
          "output_type": "stream",
          "name": "stdout",
          "text": [
            "11\n"
          ]
        }
      ]
    },
    {
      "cell_type": "code",
      "source": [
        "import datetime\n",
        "\n",
        "x = datetime.datetime.now()\n",
        "\n",
        "print(x.strftime(\"%I\")) # Hour 00-12"
      ],
      "metadata": {
        "colab": {
          "base_uri": "https://localhost:8080/"
        },
        "id": "cF4qtkNX9yxm",
        "outputId": "aa04717d-e636-4ac8-c473-63b10aaf1e79"
      },
      "execution_count": 18,
      "outputs": [
        {
          "output_type": "stream",
          "name": "stdout",
          "text": [
            "11\n"
          ]
        }
      ]
    },
    {
      "cell_type": "code",
      "source": [
        "import datetime\n",
        "\n",
        "x = datetime.datetime.now()\n",
        "\n",
        "print(x.strftime(\"%p\")) # AM/PM"
      ],
      "metadata": {
        "colab": {
          "base_uri": "https://localhost:8080/"
        },
        "id": "SQ8-WumV-A69",
        "outputId": "93d1f3f0-5f09-4123-eb2a-11554450e8ce"
      },
      "execution_count": 19,
      "outputs": [
        {
          "output_type": "stream",
          "name": "stdout",
          "text": [
            "AM\n"
          ]
        }
      ]
    },
    {
      "cell_type": "code",
      "source": [
        "import datetime\n",
        "\n",
        "x = datetime.datetime.now()\n",
        "\n",
        "print(x.strftime(\"%M\")) # Minute 00-59"
      ],
      "metadata": {
        "colab": {
          "base_uri": "https://localhost:8080/"
        },
        "id": "EDVCEAES-TV_",
        "outputId": "006dca3c-dcac-4df5-c998-0f74c5cab57e"
      },
      "execution_count": 20,
      "outputs": [
        {
          "output_type": "stream",
          "name": "stdout",
          "text": [
            "44\n"
          ]
        }
      ]
    },
    {
      "cell_type": "code",
      "source": [
        "import datetime\n",
        "\n",
        "x = datetime.datetime.now()\n",
        "\n",
        "print(x.strftime(\"%S\")) # Second 00-59"
      ],
      "metadata": {
        "colab": {
          "base_uri": "https://localhost:8080/"
        },
        "id": "vidY0PSb-grn",
        "outputId": "0c9d5ec1-0d9f-4f46-dc3f-9bf0aee5257f"
      },
      "execution_count": 21,
      "outputs": [
        {
          "output_type": "stream",
          "name": "stdout",
          "text": [
            "46\n"
          ]
        }
      ]
    },
    {
      "cell_type": "code",
      "source": [
        "import datetime\n",
        "\n",
        "x = datetime.datetime.now()\n",
        "\n",
        "print(x.strftime(\"%f\")) # Microsecond 000000-999999"
      ],
      "metadata": {
        "colab": {
          "base_uri": "https://localhost:8080/"
        },
        "id": "-zsMLzMR-qVT",
        "outputId": "31faefd5-71bd-49d0-d52f-be2362656be5"
      },
      "execution_count": 22,
      "outputs": [
        {
          "output_type": "stream",
          "name": "stdout",
          "text": [
            "114565\n"
          ]
        }
      ]
    },
    {
      "cell_type": "code",
      "source": [
        "import datetime\n",
        "\n",
        "x = datetime.datetime.now()\n",
        "\n",
        "print(x.strftime(\"%z\")) # UTC offset"
      ],
      "metadata": {
        "colab": {
          "base_uri": "https://localhost:8080/"
        },
        "id": "God4laI__J2H",
        "outputId": "484fe227-b1af-444f-cb0e-376afb0ee6bc"
      },
      "execution_count": 23,
      "outputs": [
        {
          "output_type": "stream",
          "name": "stdout",
          "text": [
            "\n"
          ]
        }
      ]
    },
    {
      "cell_type": "code",
      "source": [
        "import datetime\n",
        "\n",
        "x = datetime.datetime.now()\n",
        "\n",
        "print(x.strftime(\"%Z\")) # Timezone"
      ],
      "metadata": {
        "colab": {
          "base_uri": "https://localhost:8080/"
        },
        "id": "0tRle5OS_SeS",
        "outputId": "2a70bc13-2e68-4551-b35e-fa1272345f2f"
      },
      "execution_count": 24,
      "outputs": [
        {
          "output_type": "stream",
          "name": "stdout",
          "text": [
            "\n"
          ]
        }
      ]
    },
    {
      "cell_type": "code",
      "source": [
        "import datetime\n",
        "\n",
        "x = datetime.datetime.now()\n",
        "\n",
        "print(x.strftime(\"%j\")) # Day number of year 001-366"
      ],
      "metadata": {
        "colab": {
          "base_uri": "https://localhost:8080/"
        },
        "id": "C2cUahcI_bvq",
        "outputId": "6b3ade19-7f5e-4808-8898-6e6fb60c2c36"
      },
      "execution_count": 25,
      "outputs": [
        {
          "output_type": "stream",
          "name": "stdout",
          "text": [
            "023\n"
          ]
        }
      ]
    },
    {
      "cell_type": "code",
      "source": [
        "import datetime\n",
        "\n",
        "x = datetime.datetime.now()\n",
        "\n",
        "print(x.strftime(\"%U\")) # Week number of year, Sunday as the first day of week, 00-53"
      ],
      "metadata": {
        "colab": {
          "base_uri": "https://localhost:8080/"
        },
        "id": "TmsNxavO_qaQ",
        "outputId": "dde37964-aeff-4508-a5a5-d0604d4099e8"
      },
      "execution_count": 26,
      "outputs": [
        {
          "output_type": "stream",
          "name": "stdout",
          "text": [
            "03\n"
          ]
        }
      ]
    },
    {
      "cell_type": "code",
      "source": [
        "import datetime\n",
        "\n",
        "x = datetime.datetime.now()\n",
        "\n",
        "print(x.strftime(\"%W\")) # Week number of year, Monday as the first day of week, 00-53"
      ],
      "metadata": {
        "colab": {
          "base_uri": "https://localhost:8080/"
        },
        "id": "aUArIIq8_xFx",
        "outputId": "a125ceaa-37de-40b7-d66e-c7f36ec7ec32"
      },
      "execution_count": 27,
      "outputs": [
        {
          "output_type": "stream",
          "name": "stdout",
          "text": [
            "03\n"
          ]
        }
      ]
    },
    {
      "cell_type": "code",
      "source": [
        "import datetime\n",
        "\n",
        "x = datetime.datetime.now()\n",
        "\n",
        "print(x.strftime(\"%c\")) # Local version of date and time"
      ],
      "metadata": {
        "colab": {
          "base_uri": "https://localhost:8080/"
        },
        "id": "-_P1I2zI_6ZE",
        "outputId": "6441771b-14e0-4544-9543-dae1a6174115"
      },
      "execution_count": 28,
      "outputs": [
        {
          "output_type": "stream",
          "name": "stdout",
          "text": [
            "Thu Jan 23 11:50:53 2025\n"
          ]
        }
      ]
    },
    {
      "cell_type": "code",
      "source": [
        "import datetime\n",
        "\n",
        "x = datetime.datetime.now()\n",
        "\n",
        "print(x.strftime(\"%x\")) # Local version of date"
      ],
      "metadata": {
        "colab": {
          "base_uri": "https://localhost:8080/"
        },
        "id": "j0eUtPPnAQdd",
        "outputId": "50448090-3121-4ea6-89d5-20cf07621fb2"
      },
      "execution_count": 29,
      "outputs": [
        {
          "output_type": "stream",
          "name": "stdout",
          "text": [
            "01/23/25\n"
          ]
        }
      ]
    },
    {
      "cell_type": "code",
      "source": [
        "import datetime\n",
        "\n",
        "x = datetime.datetime.now()\n",
        "\n",
        "print(x.strftime(\"%X\")) # Local version of time"
      ],
      "metadata": {
        "colab": {
          "base_uri": "https://localhost:8080/"
        },
        "id": "VvteGHSSAbxW",
        "outputId": "5a46459f-16ba-4b9d-e703-eb7aebd6eed6"
      },
      "execution_count": 30,
      "outputs": [
        {
          "output_type": "stream",
          "name": "stdout",
          "text": [
            "11:52:37\n"
          ]
        }
      ]
    },
    {
      "cell_type": "code",
      "source": [
        "import datetime\n",
        "\n",
        "x = datetime.datetime.now()\n",
        "\n",
        "print(x.strftime(\"%%\")) # A % character"
      ],
      "metadata": {
        "colab": {
          "base_uri": "https://localhost:8080/"
        },
        "id": "xoXV7JwRAdGd",
        "outputId": "0c613394-5800-40f8-d850-69d60452363a"
      },
      "execution_count": 31,
      "outputs": [
        {
          "output_type": "stream",
          "name": "stdout",
          "text": [
            "%\n"
          ]
        }
      ]
    },
    {
      "cell_type": "code",
      "source": [
        "import datetime\n",
        "\n",
        "x = datetime.datetime.now()\n",
        "\n",
        "print(x.strftime(\"%G\")) # ISO 8601 year"
      ],
      "metadata": {
        "colab": {
          "base_uri": "https://localhost:8080/"
        },
        "id": "ZLGKuNOaAueW",
        "outputId": "6b7b8b33-47b5-4480-8f4f-008444294d06"
      },
      "execution_count": 32,
      "outputs": [
        {
          "output_type": "stream",
          "name": "stdout",
          "text": [
            "2025\n"
          ]
        }
      ]
    },
    {
      "cell_type": "code",
      "source": [
        "import datetime\n",
        "\n",
        "x = datetime.datetime.now()\n",
        "\n",
        "print(x.strftime(\"%u\")) # ISO 8601 weekday (1-7)"
      ],
      "metadata": {
        "colab": {
          "base_uri": "https://localhost:8080/"
        },
        "id": "JGOAQXOBA_ds",
        "outputId": "d27bfecc-7897-4966-b0c6-5d1654e8be2e"
      },
      "execution_count": 33,
      "outputs": [
        {
          "output_type": "stream",
          "name": "stdout",
          "text": [
            "4\n"
          ]
        }
      ]
    },
    {
      "cell_type": "code",
      "source": [
        "import datetime\n",
        "\n",
        "x = datetime.datetime.now()\n",
        "\n",
        "print(x.strftime(\"%V\")) # ISO 8601 weeknumber (01-53)"
      ],
      "metadata": {
        "colab": {
          "base_uri": "https://localhost:8080/"
        },
        "id": "n044RLrkBKUI",
        "outputId": "b345e2e6-bf19-41e2-e328-ad56f03fc9eb"
      },
      "execution_count": 34,
      "outputs": [
        {
          "output_type": "stream",
          "name": "stdout",
          "text": [
            "04\n"
          ]
        }
      ]
    }
  ]
}