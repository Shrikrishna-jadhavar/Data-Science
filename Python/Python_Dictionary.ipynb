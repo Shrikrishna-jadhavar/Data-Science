{
  "nbformat": 4,
  "nbformat_minor": 0,
  "metadata": {
    "colab": {
      "provenance": []
    },
    "kernelspec": {
      "name": "python3",
      "display_name": "Python 3"
    },
    "language_info": {
      "name": "python"
    }
  },
  "cells": [
    {
      "cell_type": "markdown",
      "source": [
        "#Dictionary\n",
        "\n",
        "Dictionaries are mutable data structures that allow you to store key-value pairs.\n",
        "\n",
        "A dictionary is a collection which is ordered, changeable and do not allow duplicates.                                                                      \n",
        "\n",
        "Dictionaries are written with curly brackets, and have keys and values."
      ],
      "metadata": {
        "id": "4n5IpX_ScHSk"
      }
    },
    {
      "cell_type": "code",
      "execution_count": 2,
      "metadata": {
        "colab": {
          "base_uri": "https://localhost:8080/"
        },
        "id": "U2UgWdn5bjMX",
        "outputId": "a312b547-9ef9-41f6-cee9-6e76f3d507bb"
      },
      "outputs": [
        {
          "output_type": "stream",
          "name": "stdout",
          "text": [
            " 'Name':  Zara\n",
            " 'Age':  7\n"
          ]
        }
      ],
      "source": [
        "d = {'Name': 'Zara', 'Age': 7, 'Class': 'First'}    # Create and print a dictionary.\n",
        "print (\" 'Name': \", d['Name'])\n",
        "print (\" 'Age': \", d['Age'])\n",
        "#print(d['Class'])"
      ]
    },
    {
      "cell_type": "code",
      "source": [
        "for a in d:\n",
        "  print(a)"
      ],
      "metadata": {
        "colab": {
          "base_uri": "https://localhost:8080/"
        },
        "id": "3Whx4wb-fszn",
        "outputId": "c1ae2609-d878-4923-b5aa-9351802fec50"
      },
      "execution_count": 3,
      "outputs": [
        {
          "output_type": "stream",
          "name": "stdout",
          "text": [
            "Name\n",
            "Age\n",
            "Class\n"
          ]
        }
      ]
    },
    {
      "cell_type": "code",
      "source": [
        "for a in d:\n",
        "  print(d[a])"
      ],
      "metadata": {
        "colab": {
          "base_uri": "https://localhost:8080/"
        },
        "id": "zmMkACuQgh9a",
        "outputId": "74be260e-6b4b-4e84-e90c-7f59c9d8bff5"
      },
      "execution_count": 4,
      "outputs": [
        {
          "output_type": "stream",
          "name": "stdout",
          "text": [
            "Zara\n",
            "7\n",
            "First\n"
          ]
        }
      ]
    },
    {
      "cell_type": "code",
      "source": [
        "for a in d:\n",
        "  print(a)\n",
        "  print(d[a])"
      ],
      "metadata": {
        "colab": {
          "base_uri": "https://localhost:8080/"
        },
        "id": "okMnIn9Bg7_v",
        "outputId": "b06084bc-765c-4039-d567-3fd6882b4666"
      },
      "execution_count": 5,
      "outputs": [
        {
          "output_type": "stream",
          "name": "stdout",
          "text": [
            "Name\n",
            "Zara\n",
            "Age\n",
            "7\n",
            "Class\n",
            "First\n"
          ]
        }
      ]
    },
    {
      "cell_type": "markdown",
      "source": [
        "# Dictionary Function.\n",
        "\n",
        "**Accessing Items**\n",
        "\n",
        "You can access the items of a dictionary by referring to its key name, inside square brackets:"
      ],
      "metadata": {
        "id": "fIDffv6RvLNO"
      }
    },
    {
      "cell_type": "markdown",
      "source": [
        "**get()**"
      ],
      "metadata": {
        "id": "m1yvpCDMvlQj"
      }
    },
    {
      "cell_type": "code",
      "source": [
        "n = d.get(\"Name\")\n",
        "print(n)"
      ],
      "metadata": {
        "colab": {
          "base_uri": "https://localhost:8080/"
        },
        "id": "E12e8QGahanP",
        "outputId": "4b732f6d-97bb-4009-8e69-6c611c106875"
      },
      "execution_count": 6,
      "outputs": [
        {
          "output_type": "stream",
          "name": "stdout",
          "text": [
            "Zara\n"
          ]
        }
      ]
    },
    {
      "cell_type": "code",
      "source": [
        "n = d['Name']\n",
        "print(n)"
      ],
      "metadata": {
        "colab": {
          "base_uri": "https://localhost:8080/"
        },
        "id": "BAlTD9O7v3a4",
        "outputId": "f8a9f980-5bb1-4cad-9b3a-9a247eec1108"
      },
      "execution_count": 7,
      "outputs": [
        {
          "output_type": "stream",
          "name": "stdout",
          "text": [
            "Zara\n"
          ]
        }
      ]
    },
    {
      "cell_type": "markdown",
      "source": [
        "**Keys()**                                            \n",
        "The keys() method will return a list of all the keys in the dictionary."
      ],
      "metadata": {
        "id": "8nB3qpbhwpRN"
      }
    },
    {
      "cell_type": "code",
      "source": [
        "#d.keys()\n",
        "\n",
        "n = d.keys()\n",
        "print(n)"
      ],
      "metadata": {
        "colab": {
          "base_uri": "https://localhost:8080/"
        },
        "id": "ggKxCiihwJ96",
        "outputId": "0015b310-f69b-45bf-946f-85555d48d59f"
      },
      "execution_count": 8,
      "outputs": [
        {
          "output_type": "stream",
          "name": "stdout",
          "text": [
            "dict_keys(['Name', 'Age', 'Class'])\n"
          ]
        }
      ]
    },
    {
      "cell_type": "code",
      "source": [
        "for n in d.keys():\n",
        "  print(n)"
      ],
      "metadata": {
        "colab": {
          "base_uri": "https://localhost:8080/"
        },
        "id": "-EtgUtpUw5xf",
        "outputId": "cf0c3434-b416-4fc6-bd6d-2c82f896d329"
      },
      "execution_count": 9,
      "outputs": [
        {
          "output_type": "stream",
          "name": "stdout",
          "text": [
            "Name\n",
            "Age\n",
            "Class\n"
          ]
        }
      ]
    },
    {
      "cell_type": "markdown",
      "source": [
        "**values()**\n",
        "\n",
        "The values() method will return a list of all the values in the dictionary."
      ],
      "metadata": {
        "id": "qt_4B1PkxRGS"
      }
    },
    {
      "cell_type": "code",
      "source": [
        "#d.values()\n",
        "\n",
        "n = d.values()\n",
        "print(n)"
      ],
      "metadata": {
        "colab": {
          "base_uri": "https://localhost:8080/"
        },
        "id": "P3ihztoUw_zM",
        "outputId": "e2828e91-6b17-4646-f79c-211b293554e9"
      },
      "execution_count": 10,
      "outputs": [
        {
          "output_type": "stream",
          "name": "stdout",
          "text": [
            "dict_values(['Zara', 7, 'First'])\n"
          ]
        }
      ]
    },
    {
      "cell_type": "code",
      "source": [
        "for n in d.values():\n",
        "  print(n)"
      ],
      "metadata": {
        "colab": {
          "base_uri": "https://localhost:8080/"
        },
        "id": "9vbP3h-uxoE0",
        "outputId": "32f14d9c-4af1-445f-f5f2-d5d2b16900c2"
      },
      "execution_count": 11,
      "outputs": [
        {
          "output_type": "stream",
          "name": "stdout",
          "text": [
            "Zara\n",
            "7\n",
            "First\n"
          ]
        }
      ]
    },
    {
      "cell_type": "markdown",
      "source": [
        "**Items()**"
      ],
      "metadata": {
        "id": "ECdE9iNLyT0J"
      }
    },
    {
      "cell_type": "code",
      "source": [
        "#d.items()\n",
        "\n",
        "n = d.items()\n",
        "print(n)"
      ],
      "metadata": {
        "colab": {
          "base_uri": "https://localhost:8080/"
        },
        "id": "__9PpM5cyNf5",
        "outputId": "bee51ae5-abbd-4ad3-afc1-5c6ec17cb0bd"
      },
      "execution_count": 12,
      "outputs": [
        {
          "output_type": "stream",
          "name": "stdout",
          "text": [
            "dict_items([('Name', 'Zara'), ('Age', 7), ('Class', 'First')])\n"
          ]
        }
      ]
    },
    {
      "cell_type": "code",
      "source": [
        "for n in d.items():\n",
        "  print(n)"
      ],
      "metadata": {
        "colab": {
          "base_uri": "https://localhost:8080/"
        },
        "id": "MR6TvABWykUc",
        "outputId": "f475f44c-6780-479b-f3a0-abc072de9343"
      },
      "execution_count": 13,
      "outputs": [
        {
          "output_type": "stream",
          "name": "stdout",
          "text": [
            "('Name', 'Zara')\n",
            "('Age', 7)\n",
            "('Class', 'First')\n"
          ]
        }
      ]
    },
    {
      "cell_type": "markdown",
      "source": [
        "**Change Values**\n",
        "\n",
        "You can change the value of a specific item by referring to its key name:"
      ],
      "metadata": {
        "id": "8jIsYrYRztsS"
      }
    },
    {
      "cell_type": "code",
      "source": [
        "d['Age'] = 8; # update existing entry\n",
        "d['School'] = \"DPS School\"; # Add new entry\n",
        "\n",
        "print (\"'Age': \", d['Age'])\n",
        "print (\"'School': \", d['School'])"
      ],
      "metadata": {
        "id": "YIWayhvhy0Jv",
        "colab": {
          "base_uri": "https://localhost:8080/"
        },
        "outputId": "a0213ff1-d305-450a-aac5-814d1613705f"
      },
      "execution_count": 19,
      "outputs": [
        {
          "output_type": "stream",
          "name": "stdout",
          "text": [
            "'Age':  8\n",
            "'School':  DPS School\n"
          ]
        }
      ]
    },
    {
      "cell_type": "code",
      "source": [
        "d"
      ],
      "metadata": {
        "id": "VVWl1f_C0OIj",
        "colab": {
          "base_uri": "https://localhost:8080/"
        },
        "outputId": "44951e59-0cd3-4502-d243-1f88d16f7383"
      },
      "execution_count": 20,
      "outputs": [
        {
          "output_type": "execute_result",
          "data": {
            "text/plain": [
              "{'Name': 'Zara', 'Class': 'First', 'Age': 8, 'School': 'DPS School'}"
            ]
          },
          "metadata": {},
          "execution_count": 20
        }
      ]
    },
    {
      "cell_type": "markdown",
      "source": [
        "**Removing Items**\n",
        "\n",
        "**pop() & del()**\n",
        "\n",
        "The pop() & del() method removes the item with the specified key name:"
      ],
      "metadata": {
        "id": "1wrrpzKtMI0M"
      }
    },
    {
      "cell_type": "code",
      "source": [
        "# d.pop(\"Age\")\n",
        "# print(d)\n",
        "\n",
        "del d[\"Age\"]\n",
        "print(d)"
      ],
      "metadata": {
        "colab": {
          "base_uri": "https://localhost:8080/"
        },
        "id": "_F5xurWkMlIt",
        "outputId": "e02b6c38-4a87-4701-8e7d-7c4c480d1316"
      },
      "execution_count": 21,
      "outputs": [
        {
          "output_type": "stream",
          "name": "stdout",
          "text": [
            "{'Name': 'Zara', 'Class': 'First', 'School': 'DPS School'}\n"
          ]
        }
      ]
    },
    {
      "cell_type": "code",
      "source": [
        "# The del keyword can also delete the dictionary completely:\n",
        "\n",
        "# del d\n",
        "# print (d)"
      ],
      "metadata": {
        "id": "1RqUuIBOOTBB"
      },
      "execution_count": null,
      "outputs": []
    },
    {
      "cell_type": "markdown",
      "source": [
        "**clear()**                                                                   \n",
        "The clear() method empties the dictionary:"
      ],
      "metadata": {
        "id": "H58aByEaOsdw"
      }
    },
    {
      "cell_type": "code",
      "source": [
        "# d.clear()\n",
        "# print(d)"
      ],
      "metadata": {
        "id": "ljxEDuQ7O0EO"
      },
      "execution_count": null,
      "outputs": []
    },
    {
      "cell_type": "markdown",
      "source": [
        "**popitem()**\n",
        "\n",
        "The popitem() method removes the last inserted item"
      ],
      "metadata": {
        "id": "fsmH7EQNM-nv"
      }
    },
    {
      "cell_type": "code",
      "source": [
        "d.popitem()\n",
        "print(d)"
      ],
      "metadata": {
        "colab": {
          "base_uri": "https://localhost:8080/"
        },
        "id": "nayKelmLMs1Q",
        "outputId": "038fb7c4-beec-4fcf-ae8f-114e42533eb2"
      },
      "execution_count": 22,
      "outputs": [
        {
          "output_type": "stream",
          "name": "stdout",
          "text": [
            "{'Name': 'Zara', 'Class': 'First'}\n"
          ]
        }
      ]
    },
    {
      "cell_type": "markdown",
      "source": [
        "**Copy a Dictionary**\n",
        "\n",
        "**copy()**"
      ],
      "metadata": {
        "id": "8tHV7ENpPpDY"
      }
    },
    {
      "cell_type": "code",
      "source": [
        "d = {'Name': 'Zara', 'Age': 7, 'Class': 'First'}\n",
        "d1 = d.copy()\n",
        "print(d1)"
      ],
      "metadata": {
        "colab": {
          "base_uri": "https://localhost:8080/"
        },
        "id": "7CcugmYQNOOZ",
        "outputId": "6c00854c-b232-4d05-e902-ced9cf72d6a6"
      },
      "execution_count": 23,
      "outputs": [
        {
          "output_type": "stream",
          "name": "stdout",
          "text": [
            "{'Name': 'Zara', 'Age': 7, 'Class': 'First'}\n"
          ]
        }
      ]
    },
    {
      "cell_type": "code",
      "source": [
        "# Make a copy of a dictionary with the dict() function:\n",
        "\n",
        "d = {'Name': 'Zara', 'Age': 7, 'Class': 'First'}\n",
        "d1 = dict(d)\n",
        "print(d1)"
      ],
      "metadata": {
        "colab": {
          "base_uri": "https://localhost:8080/"
        },
        "id": "Nr5ke_ibNiYM",
        "outputId": "7b551732-4c57-4760-fe01-12ae82d7ca30"
      },
      "execution_count": 24,
      "outputs": [
        {
          "output_type": "stream",
          "name": "stdout",
          "text": [
            "{'Name': 'Zara', 'Age': 7, 'Class': 'First'}\n"
          ]
        }
      ]
    },
    {
      "cell_type": "markdown",
      "source": [
        "**Nested Dictionaries**\n",
        "\n",
        "A dictionary can contain dictionaries, this is called nested dictionaries."
      ],
      "metadata": {
        "id": "FDRQZeRVQct9"
      }
    },
    {
      "cell_type": "code",
      "source": [
        "myfam = {\n",
        "     \"child1\" : {\n",
        "    \"name\" : \"Emily\",\n",
        "    \"year\" : 2004\n",
        "  },\n",
        "  \"child2\" : {\n",
        "    \"name\" : \"Tobias\",\n",
        "    \"year\" : 2007\n",
        "  },\n",
        "  \"child3\" : {\n",
        "    \"name\" : \"Linus\",\n",
        "    \"year\" : 2011\n",
        "  }\n",
        "}\n",
        "print (myfam)"
      ],
      "metadata": {
        "colab": {
          "base_uri": "https://localhost:8080/"
        },
        "id": "7zxw7TVGQOrE",
        "outputId": "5489bfee-69eb-4a0f-a4f0-ccecac397dd9"
      },
      "execution_count": 25,
      "outputs": [
        {
          "output_type": "stream",
          "name": "stdout",
          "text": [
            "{'child1': {'name': 'Emily', 'year': 2004}, 'child2': {'name': 'Tobias', 'year': 2007}, 'child3': {'name': 'Linus', 'year': 2011}}\n"
          ]
        }
      ]
    },
    {
      "cell_type": "code",
      "source": [
        "# Print the name of child 2:\n",
        "\n",
        "print(myfam['child2']['name'])"
      ],
      "metadata": {
        "colab": {
          "base_uri": "https://localhost:8080/"
        },
        "id": "CTLJ5AjKTM1x",
        "outputId": "40f84338-530e-4196-970d-90101cfa1854"
      },
      "execution_count": 27,
      "outputs": [
        {
          "output_type": "stream",
          "name": "stdout",
          "text": [
            "Tobias\n"
          ]
        }
      ]
    },
    {
      "cell_type": "code",
      "source": [
        "# Print the Update name of child 2:\n",
        "\n",
        "myfam['child2']['name'] = 'Tom'\n",
        "print(myfam['child2']['name'])"
      ],
      "metadata": {
        "colab": {
          "base_uri": "https://localhost:8080/"
        },
        "id": "1bVDwENkUBPe",
        "outputId": "7ea323a9-7c2c-4840-cc9d-6a15f5ebd79e"
      },
      "execution_count": 31,
      "outputs": [
        {
          "output_type": "stream",
          "name": "stdout",
          "text": [
            "Tom\n"
          ]
        }
      ]
    },
    {
      "cell_type": "markdown",
      "source": [
        "**Loop Through Nested Dictionaries**\n",
        "\n",
        "You can loop through a dictionary by using the **items()** method like this:"
      ],
      "metadata": {
        "id": "fQ5-4CQ-WrKw"
      }
    },
    {
      "cell_type": "code",
      "source": [
        "for x,y in myfam.items():\n",
        "  print(x,y)"
      ],
      "metadata": {
        "colab": {
          "base_uri": "https://localhost:8080/"
        },
        "id": "Hn5ka5l8VwWP",
        "outputId": "719dcdab-eef6-46a1-894f-8d4e388a9297"
      },
      "execution_count": 32,
      "outputs": [
        {
          "output_type": "stream",
          "name": "stdout",
          "text": [
            "child1 {'name': 'Emily', 'year': 2004}\n",
            "child2 {'name': 'Tom', 'year': 2007}\n",
            "child3 {'name': 'Linus', 'year': 2011}\n"
          ]
        }
      ]
    },
    {
      "cell_type": "code",
      "source": [
        "# Loop through the keys and values of all nested dictionaries:\n",
        "\n",
        "for x, obj in myfam.items():\n",
        "  print(x)\n",
        "\n",
        "  for y in obj:\n",
        "    print(y + ':', obj[y] )"
      ],
      "metadata": {
        "colab": {
          "base_uri": "https://localhost:8080/"
        },
        "id": "l9rOhT4uXFQe",
        "outputId": "7edf0382-b48f-41fc-be7e-abcb35e794c5"
      },
      "execution_count": 34,
      "outputs": [
        {
          "output_type": "stream",
          "name": "stdout",
          "text": [
            "child1\n",
            "name: Emily\n",
            "year: 2004\n",
            "child2\n",
            "name: Tom\n",
            "year: 2007\n",
            "child3\n",
            "name: Linus\n",
            "year: 2011\n"
          ]
        }
      ]
    },
    {
      "cell_type": "markdown",
      "source": [
        "\n",
        "\n",
        "---\n",
        "\n",
        "\n",
        "\n",
        "---\n",
        "\n"
      ],
      "metadata": {
        "id": "1MUnqkK3a6qd"
      }
    },
    {
      "cell_type": "markdown",
      "source": [
        "#Dictionary Methods\n",
        "\n",
        "Python has a set of built-in methods that you can use on dictionaries."
      ],
      "metadata": {
        "id": "8Jki2-q1Y8bc"
      }
    },
    {
      "cell_type": "markdown",
      "source": [
        "Method and\tDescription -->\n",
        "\n",
        "clear() -\tRemoves all the elements from the dictionary.                                  \n",
        "copy() -\tReturns a copy of the dictionary.                                      \n",
        "fromkeys() - Returns a dictionary with the specified keys and value.             \n",
        "get()\t- Returns the value of the specified key.                                  \n",
        "items()\t- Returns a list containing a tuple for each key value pair.             \n",
        "keys() - Returns a list containing the dictionary's keys.                        \n",
        "pop() -\tRemoves the element with the specified key.                              \n",
        "popitem() -\tRemoves the last inserted key-value pair.                            \n",
        "setdefault() - Returns the value of the specified key. If the key does not exist: insert the key, with the specified value.                                 \n",
        "update() - Updates the dictionary with the specified key-value pairs.            \n",
        "values() - Returns a list of all the values in the dictionary.\n",
        "\n",
        "\n",
        "---\n",
        "\n",
        "\n",
        "---\n",
        "\n",
        "\n",
        "\n"
      ],
      "metadata": {
        "id": "iIRe1BVnY_9Q"
      }
    }
  ]
}