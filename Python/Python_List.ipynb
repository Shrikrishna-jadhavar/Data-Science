{
  "nbformat": 4,
  "nbformat_minor": 0,
  "metadata": {
    "colab": {
      "provenance": []
    },
    "kernelspec": {
      "name": "python3",
      "display_name": "Python 3"
    },
    "language_info": {
      "name": "python"
    }
  },
  "cells": [
    {
      "cell_type": "markdown",
      "source": [
        "# **Python Lists**"
      ],
      "metadata": {
        "id": "T1UuNRuO5VsM"
      }
    },
    {
      "cell_type": "markdown",
      "source": [
        "A list is a data structure in Python that is a mutable, or changeable, ordered sequence of elements. Each element or value that is inside of a list is called an item. Just as strings are defined as characters between quotes, lists are defined by having values between square brackets [ ] ."
      ],
      "metadata": {
        "id": "QLx56ViD5NXJ"
      }
    },
    {
      "cell_type": "markdown",
      "source": [
        "**List Slicing**"
      ],
      "metadata": {
        "id": "vG-rGiat9sPC"
      }
    },
    {
      "cell_type": "code",
      "source": [
        "l = [10,20,30,40,\"Hello\"]\n",
        "print(type(l))"
      ],
      "metadata": {
        "colab": {
          "base_uri": "https://localhost:8080/"
        },
        "id": "riQrItiP5M4w",
        "outputId": "d64fc70c-d765-446c-93dc-9ddf81e2ca10"
      },
      "execution_count": 11,
      "outputs": [
        {
          "output_type": "stream",
          "name": "stdout",
          "text": [
            "<class 'list'>\n"
          ]
        }
      ]
    },
    {
      "cell_type": "code",
      "source": [
        "l = [10,20,30,40,\"Hello\"]\n",
        "print(l)"
      ],
      "metadata": {
        "colab": {
          "base_uri": "https://localhost:8080/"
        },
        "id": "67rlnP3S5M0O",
        "outputId": "a90f0f3c-1f9c-4e3c-a22f-886f0a6f2c4b"
      },
      "execution_count": 12,
      "outputs": [
        {
          "output_type": "stream",
          "name": "stdout",
          "text": [
            "[10, 20, 30, 40, 'Hello']\n"
          ]
        }
      ]
    },
    {
      "cell_type": "code",
      "source": [
        "#print(l[1])\n",
        "\n",
        "print(l[0],l[4])"
      ],
      "metadata": {
        "colab": {
          "base_uri": "https://localhost:8080/"
        },
        "id": "qD07TqhE5MvC",
        "outputId": "e97c930a-d01c-4a2d-df57-8b360cc8355f"
      },
      "execution_count": 15,
      "outputs": [
        {
          "output_type": "stream",
          "name": "stdout",
          "text": [
            "10 Hello\n"
          ]
        }
      ]
    },
    {
      "cell_type": "code",
      "source": [
        "# print(l[0:2])\n",
        "\n",
        "print(l[0::2])\n",
        "\n",
        "#print(l[3:])"
      ],
      "metadata": {
        "colab": {
          "base_uri": "https://localhost:8080/"
        },
        "id": "bG2BBZQ96Owo",
        "outputId": "504fcf55-8db9-42d2-8789-450aebec82ff"
      },
      "execution_count": 16,
      "outputs": [
        {
          "output_type": "stream",
          "name": "stdout",
          "text": [
            "[10, 30, 'Hello']\n"
          ]
        }
      ]
    },
    {
      "cell_type": "code",
      "source": [
        "print(l[-1::-1])  # Reverse Slicing"
      ],
      "metadata": {
        "colab": {
          "base_uri": "https://localhost:8080/"
        },
        "id": "KkrognIw6Or_",
        "outputId": "9f3f0c9e-900d-4c22-8e25-e2d0a53746fd"
      },
      "execution_count": 17,
      "outputs": [
        {
          "output_type": "stream",
          "name": "stdout",
          "text": [
            "['Hello', 40, 30, 20, 10]\n"
          ]
        }
      ]
    },
    {
      "cell_type": "markdown",
      "source": [
        "**List Iteration**\n",
        "\n",
        "process of accessing each element in a list is known as iteration."
      ],
      "metadata": {
        "id": "LayNGog29iws"
      }
    },
    {
      "cell_type": "code",
      "source": [
        "l = [10,20,30,40,50,60]\n",
        "t = len(l)\n",
        "print(t)"
      ],
      "metadata": {
        "colab": {
          "base_uri": "https://localhost:8080/"
        },
        "collapsed": true,
        "id": "oKuYB4OR6Onw",
        "outputId": "bcd5436a-516e-4b38-d578-c83eb01755b7"
      },
      "execution_count": 24,
      "outputs": [
        {
          "output_type": "stream",
          "name": "stdout",
          "text": [
            "6\n"
          ]
        }
      ]
    },
    {
      "cell_type": "code",
      "source": [
        "for a in range(t):\n",
        "    print(l[a])"
      ],
      "metadata": {
        "colab": {
          "base_uri": "https://localhost:8080/"
        },
        "id": "Jyku7g68AtTr",
        "outputId": "830abb58-23b2-4405-e7c4-3e548b511ecf"
      },
      "execution_count": 25,
      "outputs": [
        {
          "output_type": "stream",
          "name": "stdout",
          "text": [
            "10\n",
            "20\n",
            "30\n",
            "40\n",
            "50\n",
            "60\n"
          ]
        }
      ]
    },
    {
      "cell_type": "code",
      "source": [
        "for a in l:\n",
        "    print(a)"
      ],
      "metadata": {
        "colab": {
          "base_uri": "https://localhost:8080/"
        },
        "collapsed": true,
        "id": "Rlu8cZUq6OiS",
        "outputId": "bc2b8c8a-5b52-44f6-c4aa-faea7fcb4beb"
      },
      "execution_count": 20,
      "outputs": [
        {
          "output_type": "stream",
          "name": "stdout",
          "text": [
            "10\n",
            "20\n",
            "30\n",
            "40\n",
            "50\n",
            "60\n"
          ]
        }
      ]
    },
    {
      "cell_type": "code",
      "source": [
        "for a in range(t-1,-1,-1):    # Reverse.\n",
        "    print(l[a])"
      ],
      "metadata": {
        "colab": {
          "base_uri": "https://localhost:8080/"
        },
        "id": "WEjRWPdA_XEh",
        "outputId": "c718bbb3-fc88-4230-e271-14f9ed08a5ac"
      },
      "execution_count": 23,
      "outputs": [
        {
          "output_type": "stream",
          "name": "stdout",
          "text": [
            "60\n",
            "50\n",
            "40\n",
            "30\n",
            "20\n",
            "10\n"
          ]
        }
      ]
    },
    {
      "cell_type": "markdown",
      "source": [
        "**List Comprehension**\n",
        "\n",
        "List comprehension is an easy to read, compact, and elegant way of creating a list from any existing iterable object.                                          \n",
        "List Comprehension is an elegant way to define and create lists based on existing lists.                                                                        List Comprehension is generally more compact and faster than normal functions and loops for creating list."
      ],
      "metadata": {
        "id": "j-gmyzwn3S7f"
      }
    },
    {
      "cell_type": "code",
      "execution_count": null,
      "metadata": {
        "colab": {
          "base_uri": "https://localhost:8080/"
        },
        "collapsed": true,
        "id": "oReyYynq3D0r",
        "outputId": "dd4e7395-877f-4a1c-f835-a7a5daac2224"
      },
      "outputs": [
        {
          "output_type": "stream",
          "name": "stdout",
          "text": [
            "1\n",
            "2\n",
            "3\n",
            "4\n",
            "5\n",
            "6\n",
            "7\n",
            "8\n",
            "9\n",
            "10\n",
            "11\n",
            "12\n",
            "13\n",
            "14\n",
            "15\n",
            "16\n",
            "17\n",
            "18\n",
            "19\n",
            "20\n",
            "21\n",
            "22\n",
            "23\n",
            "24\n",
            "25\n",
            "26\n",
            "27\n",
            "28\n",
            "29\n",
            "30\n",
            "31\n",
            "32\n",
            "33\n",
            "34\n",
            "35\n",
            "36\n",
            "37\n",
            "38\n",
            "39\n",
            "40\n",
            "41\n",
            "42\n",
            "43\n",
            "44\n",
            "45\n",
            "46\n",
            "47\n",
            "48\n",
            "49\n",
            "50\n",
            "51\n",
            "52\n",
            "53\n",
            "54\n",
            "55\n",
            "56\n",
            "57\n",
            "58\n",
            "59\n",
            "60\n",
            "61\n",
            "62\n",
            "63\n",
            "64\n",
            "65\n",
            "66\n",
            "67\n",
            "68\n",
            "69\n",
            "70\n",
            "71\n",
            "72\n",
            "73\n",
            "74\n",
            "75\n",
            "76\n",
            "77\n",
            "78\n",
            "79\n",
            "80\n",
            "81\n",
            "82\n",
            "83\n",
            "84\n",
            "85\n",
            "86\n",
            "87\n",
            "88\n",
            "89\n",
            "90\n",
            "91\n",
            "92\n",
            "93\n",
            "94\n",
            "95\n",
            "96\n",
            "97\n",
            "98\n",
            "99\n",
            "100\n"
          ]
        }
      ],
      "source": [
        "l=[]\n",
        "for a in range (1,101):\n",
        "    print(a)"
      ]
    },
    {
      "cell_type": "code",
      "source": [
        "l=[]\n",
        "for a in range (1,101):\n",
        "    l.append(a)\n",
        "print(l)"
      ],
      "metadata": {
        "colab": {
          "base_uri": "https://localhost:8080/"
        },
        "id": "bAkw0I5m6t9I",
        "outputId": "c2cf1938-738c-4545-e54a-ece0bf2915c4"
      },
      "execution_count": null,
      "outputs": [
        {
          "output_type": "stream",
          "name": "stdout",
          "text": [
            "[1, 2, 3, 4, 5, 6, 7, 8, 9, 10, 11, 12, 13, 14, 15, 16, 17, 18, 19, 20, 21, 22, 23, 24, 25, 26, 27, 28, 29, 30, 31, 32, 33, 34, 35, 36, 37, 38, 39, 40, 41, 42, 43, 44, 45, 46, 47, 48, 49, 50, 51, 52, 53, 54, 55, 56, 57, 58, 59, 60, 61, 62, 63, 64, 65, 66, 67, 68, 69, 70, 71, 72, 73, 74, 75, 76, 77, 78, 79, 80, 81, 82, 83, 84, 85, 86, 87, 88, 89, 90, 91, 92, 93, 94, 95, 96, 97, 98, 99, 100]\n"
          ]
        }
      ]
    },
    {
      "cell_type": "code",
      "source": [
        "# List Comp.\n",
        "l=[m for m in range(1,101)]\n",
        "print(l)"
      ],
      "metadata": {
        "colab": {
          "base_uri": "https://localhost:8080/"
        },
        "id": "nQBQH0Tk7EmM",
        "outputId": "a35acd44-eefa-403c-ec9a-a968ba4c3d83"
      },
      "execution_count": null,
      "outputs": [
        {
          "output_type": "stream",
          "name": "stdout",
          "text": [
            "[1, 2, 3, 4, 5, 6, 7, 8, 9, 10, 11, 12, 13, 14, 15, 16, 17, 18, 19, 20, 21, 22, 23, 24, 25, 26, 27, 28, 29, 30, 31, 32, 33, 34, 35, 36, 37, 38, 39, 40, 41, 42, 43, 44, 45, 46, 47, 48, 49, 50, 51, 52, 53, 54, 55, 56, 57, 58, 59, 60, 61, 62, 63, 64, 65, 66, 67, 68, 69, 70, 71, 72, 73, 74, 75, 76, 77, 78, 79, 80, 81, 82, 83, 84, 85, 86, 87, 88, 89, 90, 91, 92, 93, 94, 95, 96, 97, 98, 99, 100]\n"
          ]
        }
      ]
    },
    {
      "cell_type": "code",
      "source": [
        "l=[m for m in range(1,101) if m % 2 == 0]  #Filter\n",
        "print(l)"
      ],
      "metadata": {
        "colab": {
          "base_uri": "https://localhost:8080/"
        },
        "id": "bGHhtJmu7xDi",
        "outputId": "d36bb9dd-3d16-4c96-e38f-4182114c4dd1"
      },
      "execution_count": null,
      "outputs": [
        {
          "output_type": "stream",
          "name": "stdout",
          "text": [
            "[2, 4, 6, 8, 10, 12, 14, 16, 18, 20, 22, 24, 26, 28, 30, 32, 34, 36, 38, 40, 42, 44, 46, 48, 50, 52, 54, 56, 58, 60, 62, 64, 66, 68, 70, 72, 74, 76, 78, 80, 82, 84, 86, 88, 90, 92, 94, 96, 98, 100]\n"
          ]
        }
      ]
    },
    {
      "cell_type": "code",
      "source": [
        "s=\"Hello\"\n",
        "d= [g for g in s]\n",
        "print(d)"
      ],
      "metadata": {
        "colab": {
          "base_uri": "https://localhost:8080/"
        },
        "id": "5S0DG_mk8UdE",
        "outputId": "81516c6e-9e2f-4f40-af95-fd8dec5a078a"
      },
      "execution_count": null,
      "outputs": [
        {
          "output_type": "stream",
          "name": "stdout",
          "text": [
            "['H', 'e', 'l', 'l', 'o']\n"
          ]
        }
      ]
    },
    {
      "cell_type": "code",
      "source": [
        "squares = [x**2 for x in range(5)]\n",
        "print(squares)"
      ],
      "metadata": {
        "colab": {
          "base_uri": "https://localhost:8080/"
        },
        "id": "271ZCOwSgwbs",
        "outputId": "09a964f1-9b95-4409-d04e-3ed9bf585ab9"
      },
      "execution_count": 1,
      "outputs": [
        {
          "output_type": "stream",
          "name": "stdout",
          "text": [
            "[0, 1, 4, 9, 16]\n"
          ]
        }
      ]
    },
    {
      "cell_type": "markdown",
      "source": [
        "**List - Function**                                                               \n",
        "function for delete element - del(), pop(), remove(), clear()."
      ],
      "metadata": {
        "id": "z9wWHoZU87kv"
      }
    },
    {
      "cell_type": "code",
      "source": [
        "l = [20,30,40,50]\n",
        "print(l)"
      ],
      "metadata": {
        "colab": {
          "base_uri": "https://localhost:8080/"
        },
        "id": "TbsKoIe481-n",
        "outputId": "71476faa-1f81-414b-f975-16e5371f4478"
      },
      "execution_count": null,
      "outputs": [
        {
          "output_type": "stream",
          "name": "stdout",
          "text": [
            "[20, 30, 40, 50]\n"
          ]
        }
      ]
    },
    {
      "cell_type": "code",
      "source": [
        "l = [20,30,40,50]\n",
        "del l[0]\n",
        "print(l)"
      ],
      "metadata": {
        "colab": {
          "base_uri": "https://localhost:8080/"
        },
        "id": "O3qnDIfJ9-NH",
        "outputId": "8908d0cf-2b54-4d5a-d60f-635bff9c899a"
      },
      "execution_count": null,
      "outputs": [
        {
          "output_type": "stream",
          "name": "stdout",
          "text": [
            "[30, 40, 50]\n"
          ]
        }
      ]
    },
    {
      "cell_type": "code",
      "source": [
        "l = [20,30,40,50]\n",
        "l.pop(2)\n",
        "print(l)"
      ],
      "metadata": {
        "colab": {
          "base_uri": "https://localhost:8080/"
        },
        "id": "AEQmjv_h-TQ4",
        "outputId": "0da97707-bad0-4a16-eed3-96141d22710b"
      },
      "execution_count": null,
      "outputs": [
        {
          "output_type": "stream",
          "name": "stdout",
          "text": [
            "[20, 30, 50]\n"
          ]
        }
      ]
    },
    {
      "cell_type": "code",
      "source": [
        "l = [20,30,40,50]\n",
        "print(l.pop(2))\n",
        "print(l)"
      ],
      "metadata": {
        "colab": {
          "base_uri": "https://localhost:8080/"
        },
        "id": "NWdrJKpJ-hjP",
        "outputId": "bd28785c-1b85-4703-fe48-0e00948883f6"
      },
      "execution_count": null,
      "outputs": [
        {
          "output_type": "stream",
          "name": "stdout",
          "text": [
            "40\n",
            "[20, 30, 50]\n"
          ]
        }
      ]
    },
    {
      "cell_type": "code",
      "source": [
        "l = [20,30,40,50]\n",
        "l.remove(30)\n",
        "print(l)"
      ],
      "metadata": {
        "colab": {
          "base_uri": "https://localhost:8080/"
        },
        "id": "zMzHLGo7-z3w",
        "outputId": "e6b7a656-ae87-4f0b-afd4-7ccdaeac7196"
      },
      "execution_count": null,
      "outputs": [
        {
          "output_type": "stream",
          "name": "stdout",
          "text": [
            "[20, 40, 50]\n"
          ]
        }
      ]
    },
    {
      "cell_type": "code",
      "source": [
        "l = [20,30,40,50]\n",
        "l.clear()\n",
        "print(l)"
      ],
      "metadata": {
        "colab": {
          "base_uri": "https://localhost:8080/"
        },
        "id": "wOTVpcow_A35",
        "outputId": "a12b2cbe-a2a2-4939-ac94-ae23d7207f29"
      },
      "execution_count": null,
      "outputs": [
        {
          "output_type": "stream",
          "name": "stdout",
          "text": [
            "[]\n"
          ]
        }
      ]
    },
    {
      "cell_type": "code",
      "source": [
        "# Update element from list.\n",
        "\n",
        "l = [20,30,40,50]\n",
        "l[0]=10\n",
        "print(l)"
      ],
      "metadata": {
        "colab": {
          "base_uri": "https://localhost:8080/"
        },
        "id": "-trecslD_Lba",
        "outputId": "1dcea3bb-0ea4-410f-f5c6-13f05bf977df"
      },
      "execution_count": null,
      "outputs": [
        {
          "output_type": "stream",
          "name": "stdout",
          "text": [
            "[10, 30, 40, 50]\n"
          ]
        }
      ]
    },
    {
      "cell_type": "code",
      "source": [
        "# Insert element from list.\n",
        "\n",
        "l = [20,30,40,50]\n",
        "l.insert(0,10)\n",
        "print(l)"
      ],
      "metadata": {
        "colab": {
          "base_uri": "https://localhost:8080/"
        },
        "id": "yUcSo9Z-_m30",
        "outputId": "53bdb434-c8c1-431b-90d7-e5e7b45731b8"
      },
      "execution_count": null,
      "outputs": [
        {
          "output_type": "stream",
          "name": "stdout",
          "text": [
            "[10, 20, 30, 40, 50]\n"
          ]
        }
      ]
    },
    {
      "cell_type": "code",
      "source": [
        "# append element from list.\n",
        "\n",
        "l = [20,30,40,50]\n",
        "l.append(60)\n",
        "print(l)"
      ],
      "metadata": {
        "colab": {
          "base_uri": "https://localhost:8080/"
        },
        "id": "Um3cXsp2AKRx",
        "outputId": "11dd133b-6245-4d53-9fb1-e6169a135168"
      },
      "execution_count": null,
      "outputs": [
        {
          "output_type": "stream",
          "name": "stdout",
          "text": [
            "[20, 30, 40, 50, 60]\n"
          ]
        }
      ]
    },
    {
      "cell_type": "code",
      "source": [
        "l = [20,30,40,50]\n",
        "n=[50,60,70]\n",
        "l.append(n)\n",
        "print(l)"
      ],
      "metadata": {
        "colab": {
          "base_uri": "https://localhost:8080/"
        },
        "id": "ZvtTfWGvAzND",
        "outputId": "10f4a9d2-569c-4583-d47c-c06c7da19040"
      },
      "execution_count": null,
      "outputs": [
        {
          "output_type": "stream",
          "name": "stdout",
          "text": [
            "[20, 30, 40, 50, [50, 60, 70]]\n"
          ]
        }
      ]
    },
    {
      "cell_type": "code",
      "source": [
        "# extend element from list.\n",
        "\n",
        "l = [20,30,40,50]\n",
        "n=[50,60,70]\n",
        "l.extend(n)\n",
        "print(l)"
      ],
      "metadata": {
        "colab": {
          "base_uri": "https://localhost:8080/"
        },
        "id": "ULLWruuvAJYY",
        "outputId": "f7f8fa2d-3e5a-4eeb-ddda-2b749e45210a"
      },
      "execution_count": null,
      "outputs": [
        {
          "output_type": "stream",
          "name": "stdout",
          "text": [
            "[20, 30, 40, 50, 50, 60, 70]\n"
          ]
        }
      ]
    },
    {
      "cell_type": "code",
      "source": [
        "# count element from list.\n",
        "\n",
        "l = [20,30,40,50,20]\n",
        "a = l.count(20)\n",
        "print(a)"
      ],
      "metadata": {
        "colab": {
          "base_uri": "https://localhost:8080/"
        },
        "id": "sSjWtsUvBRHC",
        "outputId": "0ea3cc98-3d9e-4001-f98d-e3aeee5dd88a"
      },
      "execution_count": null,
      "outputs": [
        {
          "output_type": "stream",
          "name": "stdout",
          "text": [
            "2\n"
          ]
        }
      ]
    },
    {
      "cell_type": "code",
      "source": [
        "# max element from list.\n",
        "\n",
        "l = [20,30,40,50,20]\n",
        "m = max(l)\n",
        "print(m)"
      ],
      "metadata": {
        "colab": {
          "base_uri": "https://localhost:8080/"
        },
        "id": "N4NGWOilI8TL",
        "outputId": "64c0c416-bd96-4641-a6f3-d79fb1e8e798"
      },
      "execution_count": null,
      "outputs": [
        {
          "output_type": "stream",
          "name": "stdout",
          "text": [
            "50\n"
          ]
        }
      ]
    },
    {
      "cell_type": "code",
      "source": [
        "# count element from list.\n",
        "\n",
        "l = [20,30,40,50,20]\n",
        "l.count(20)"
      ],
      "metadata": {
        "colab": {
          "base_uri": "https://localhost:8080/"
        },
        "id": "D9JHapsgJT_K",
        "outputId": "4bfea77e-954e-4011-f8fb-3d8aaf356a32"
      },
      "execution_count": null,
      "outputs": [
        {
          "output_type": "execute_result",
          "data": {
            "text/plain": [
              "2"
            ]
          },
          "metadata": {},
          "execution_count": 33
        }
      ]
    },
    {
      "cell_type": "code",
      "source": [
        "#max\n",
        "\n",
        "l = ['a','b','c']\n",
        "m = max(l)\n",
        "print(m)"
      ],
      "metadata": {
        "colab": {
          "base_uri": "https://localhost:8080/"
        },
        "id": "SpzCbUvMJcgM",
        "outputId": "66fca051-25a5-49c6-86ef-ac44f4720a73"
      },
      "execution_count": null,
      "outputs": [
        {
          "output_type": "stream",
          "name": "stdout",
          "text": [
            "c\n"
          ]
        }
      ]
    },
    {
      "cell_type": "code",
      "source": [
        "# min function.\n",
        "l = [20,30,40,50]\n",
        "n = min(l)\n",
        "print(n)"
      ],
      "metadata": {
        "colab": {
          "base_uri": "https://localhost:8080/"
        },
        "id": "nNw1sROkJcdi",
        "outputId": "950c81c7-ba43-457c-e234-bc677c2dd170"
      },
      "execution_count": null,
      "outputs": [
        {
          "output_type": "stream",
          "name": "stdout",
          "text": [
            "20\n"
          ]
        }
      ]
    },
    {
      "cell_type": "code",
      "source": [
        "l= ['a','b','c']\n",
        "n = min(l)\n",
        "print(n)"
      ],
      "metadata": {
        "colab": {
          "base_uri": "https://localhost:8080/"
        },
        "id": "sDNLR6E1JcZO",
        "outputId": "96dced71-7142-4cb2-e86b-095ba2a4034f"
      },
      "execution_count": null,
      "outputs": [
        {
          "output_type": "stream",
          "name": "stdout",
          "text": [
            "a\n"
          ]
        }
      ]
    },
    {
      "cell_type": "code",
      "source": [
        "# Sort..\n",
        "\n",
        "l = [20,30,40,50,10]\n",
        "l.sort()\n",
        "print(l)"
      ],
      "metadata": {
        "colab": {
          "base_uri": "https://localhost:8080/"
        },
        "id": "2PC8JllRK3Jl",
        "outputId": "eca6f17b-1bc6-4180-8221-ab5a23126270"
      },
      "execution_count": null,
      "outputs": [
        {
          "output_type": "stream",
          "name": "stdout",
          "text": [
            "[10, 20, 30, 40, 50]\n"
          ]
        }
      ]
    },
    {
      "cell_type": "code",
      "source": [
        "# Reverse..\n",
        "\n",
        "l= [10,20,30,40,50]\n",
        "l.reverse()\n",
        "print(l)"
      ],
      "metadata": {
        "colab": {
          "base_uri": "https://localhost:8080/"
        },
        "id": "hM5Mx0D0LVlY",
        "outputId": "01025294-51d1-4d21-e147-079bafe331df"
      },
      "execution_count": null,
      "outputs": [
        {
          "output_type": "stream",
          "name": "stdout",
          "text": [
            "[50, 40, 30, 20, 10]\n"
          ]
        }
      ]
    },
    {
      "cell_type": "code",
      "source": [
        "# Index..\n",
        "\n",
        "l = [10,20,30,40,50]\n",
        "l.index(20)"
      ],
      "metadata": {
        "colab": {
          "base_uri": "https://localhost:8080/"
        },
        "id": "VkWL0pBRL0Ep",
        "outputId": "55b22cd2-24a5-4462-f417-1a9c164fb979"
      },
      "execution_count": null,
      "outputs": [
        {
          "output_type": "execute_result",
          "data": {
            "text/plain": [
              "1"
            ]
          },
          "metadata": {},
          "execution_count": 31
        }
      ]
    },
    {
      "cell_type": "code",
      "source": [
        "# iterate over 2+ lists at the same time (zip function)\n",
        "\n",
        "l = [10,20,30,40]\n",
        "n = [50,60,70,80]\n",
        "for a,b in zip(l,n):\n",
        "    print(a,b)"
      ],
      "metadata": {
        "colab": {
          "base_uri": "https://localhost:8080/"
        },
        "id": "C3v6QHBLO62x",
        "outputId": "924e108a-b0e4-471e-de8d-8c5ae7535497"
      },
      "execution_count": null,
      "outputs": [
        {
          "output_type": "stream",
          "name": "stdout",
          "text": [
            "10 50\n",
            "20 60\n",
            "30 70\n",
            "40 80\n"
          ]
        }
      ]
    },
    {
      "cell_type": "code",
      "source": [
        "l = [10,20,30,40]\n",
        "n = [50,60,70,80,90]\n",
        "for a,b in zip(l,n):\n",
        "    print(a,b)"
      ],
      "metadata": {
        "colab": {
          "base_uri": "https://localhost:8080/"
        },
        "id": "QXjk__w9Vy0V",
        "outputId": "47a464f4-0957-4c0c-b128-f10dbd88315c"
      },
      "execution_count": null,
      "outputs": [
        {
          "output_type": "stream",
          "name": "stdout",
          "text": [
            "10 50\n",
            "20 60\n",
            "30 70\n",
            "40 80\n"
          ]
        }
      ]
    },
    {
      "cell_type": "code",
      "source": [
        "l = [10,20,30,40]\n",
        "n = [50,60,70,80]\n",
        "t = len(l)\n",
        "\n",
        "for a in range(t):\n",
        "    print(l[a],n[a])"
      ],
      "metadata": {
        "colab": {
          "base_uri": "https://localhost:8080/"
        },
        "id": "uqHzzwlqWGCJ",
        "outputId": "d86434e9-5c4e-4003-cc90-0d77f1522b93"
      },
      "execution_count": null,
      "outputs": [
        {
          "output_type": "stream",
          "name": "stdout",
          "text": [
            "10 50\n",
            "20 60\n",
            "30 70\n",
            "40 80\n"
          ]
        }
      ]
    },
    {
      "cell_type": "code",
      "source": [
        "# Convert String to a List.\n",
        "\n",
        "n = input(\"Enter a number: \")\n",
        "l = list(n)\n",
        "print(l)"
      ],
      "metadata": {
        "colab": {
          "base_uri": "https://localhost:8080/"
        },
        "id": "OzaLq6ajWu-G",
        "outputId": "61675715-1d19-4fef-a9d7-4e83e033a28d"
      },
      "execution_count": null,
      "outputs": [
        {
          "output_type": "stream",
          "name": "stdout",
          "text": [
            "Enter a number: Welcome Shri Krishna.\n",
            "['W', 'e', 'l', 'c', 'o', 'm', 'e', ' ', 'S', 'h', 'r', 'i', ' ', 'K', 'r', 'i', 's', 'h', 'n', 'a', '.']\n"
          ]
        }
      ]
    },
    {
      "cell_type": "code",
      "source": [
        "n = input(\"Enter a number: \")\n",
        "l = n.split();\n",
        "print(l)"
      ],
      "metadata": {
        "colab": {
          "base_uri": "https://localhost:8080/"
        },
        "id": "d62OkpQaXowl",
        "outputId": "2302c0a1-bb08-44d9-cd29-e8d6e6b38de6"
      },
      "execution_count": null,
      "outputs": [
        {
          "output_type": "stream",
          "name": "stdout",
          "text": [
            "Enter a number: Welcome Shri Krishna\n",
            "['Welcome', 'Shri', 'Krishna']\n"
          ]
        }
      ]
    },
    {
      "cell_type": "code",
      "source": [
        "l = []\n",
        "for a in range(5):\n",
        "    n = input(\"Enter a number: \")\n",
        "    l.append(n)\n",
        "print(l)"
      ],
      "metadata": {
        "colab": {
          "base_uri": "https://localhost:8080/"
        },
        "id": "wtK-6q2NYP_S",
        "outputId": "6de101f0-585e-4e4f-c762-6da4895848ce"
      },
      "execution_count": 2,
      "outputs": [
        {
          "output_type": "stream",
          "name": "stdout",
          "text": [
            "Enter a number: Welcome\n",
            "Enter a number: To\n",
            "Enter a number: Shrikrishna\n",
            "Enter a number: In\n",
            "Enter a number: Python\n",
            "['Welcome', 'To', 'Shrikrishna', 'In', 'Python']\n"
          ]
        }
      ]
    },
    {
      "cell_type": "markdown",
      "source": [
        "**Implement a Stack and Queue Using a list data type**\n",
        "\n",
        "Stack in python - The stack is a linear data structure.                   \n",
        "Stores items in a Last in- first out(LIFO) or First- in Last-out(FILO) manner."
      ],
      "metadata": {
        "id": "ScfxzQa4Z5Uu"
      }
    },
    {
      "cell_type": "markdown",
      "source": [
        "Stack Operations.-\n",
        "\n",
        "1- Push -> Inserting an Elements.                                             \n",
        "2- Pop -> Deleting an element(last Element).                                   \n",
        "3 - Peek -> Display the Last Element.                                          \n",
        "4 - Display -> Display list."
      ],
      "metadata": {
        "id": "mdtnGK0fr6gF"
      }
    },
    {
      "cell_type": "code",
      "source": [
        "l = []\n",
        "while True:\n",
        "  c = int(input('''\n",
        "                1.Push\n",
        "                2.Pop\n",
        "                3.Peek\n",
        "                4.Display\n",
        "                5.Exit:\n",
        "                '''))\n",
        "  if c == 1:\n",
        "    n = input(\"Enter a number: \")\n",
        "    l.append(n)\n",
        "    print(l)\n",
        "\n",
        "  elif c == 2:\n",
        "    if len(l) == 0:\n",
        "      print(\"List is empty\")\n",
        "    else:\n",
        "      l.pop()\n",
        "      print(l)\n",
        "\n",
        "  elif c == 3:\n",
        "    if len(l) == 0:\n",
        "      print(\"List is empty\")\n",
        "    else:\n",
        "      print(\"Last Stack Value- \", l[-1])\n",
        "      print(l)\n",
        "\n",
        "  elif c == 4:\n",
        "      print(\"display Stack\", l)\n",
        "\n",
        "  elif c == 5:\n",
        "      break;\n",
        "  else:\n",
        "      print(\"Invalid Opr...\")"
      ],
      "metadata": {
        "id": "nqxibc8LZZVY",
        "colab": {
          "base_uri": "https://localhost:8080/"
        },
        "collapsed": true,
        "outputId": "909b419f-8ade-4601-edaa-349ab851dcbc"
      },
      "execution_count": 6,
      "outputs": [
        {
          "name": "stdout",
          "output_type": "stream",
          "text": [
            "\n",
            "                1.Push \n",
            "                2.Pop \n",
            "                3.Peek \n",
            "                4.Display \n",
            "                5.Exit:\n",
            "                1\n",
            "Enter a number: 10\n",
            "['10']\n",
            "\n",
            "                1.Push \n",
            "                2.Pop \n",
            "                3.Peek \n",
            "                4.Display \n",
            "                5.Exit:\n",
            "                1\n",
            "Enter a number: 20\n",
            "['10', '20']\n",
            "\n",
            "                1.Push \n",
            "                2.Pop \n",
            "                3.Peek \n",
            "                4.Display \n",
            "                5.Exit:\n",
            "                1\n",
            "Enter a number: 30\n",
            "['10', '20', '30']\n",
            "\n",
            "                1.Push \n",
            "                2.Pop \n",
            "                3.Peek \n",
            "                4.Display \n",
            "                5.Exit:\n",
            "                2\n",
            "['10', '20']\n",
            "\n",
            "                1.Push \n",
            "                2.Pop \n",
            "                3.Peek \n",
            "                4.Display \n",
            "                5.Exit:\n",
            "                3\n",
            "Last Stack Value-  20\n",
            "['10', '20']\n",
            "\n",
            "                1.Push \n",
            "                2.Pop \n",
            "                3.Peek \n",
            "                4.Display \n",
            "                5.Exit:\n",
            "                4\n",
            "display Stack ['10', '20']\n",
            "\n",
            "                1.Push \n",
            "                2.Pop \n",
            "                3.Peek \n",
            "                4.Display \n",
            "                5.Exit:\n",
            "                5\n"
          ]
        }
      ]
    },
    {
      "cell_type": "markdown",
      "source": [
        "Queue in Python -\n",
        "\n",
        "The Queue is a linear data structure.                                      \n",
        "Stores items in First in First Out(FIFO) manner."
      ],
      "metadata": {
        "id": "uPABFjwxy8qz"
      }
    },
    {
      "cell_type": "markdown",
      "source": [
        "Queue Operations -                                                             \n",
        "1 - Enqueue : adds an items to the queue.                                      \n",
        "2 - Dequeue : Remove an items from the queue.                                  \n",
        "3 - front : get the front item from queue.                                                \n",
        "4 - Rear : Get the last Item from queue."
      ],
      "metadata": {
        "id": "oEy4Q1_azazo"
      }
    },
    {
      "cell_type": "code",
      "source": [
        "l = []\n",
        "while True:\n",
        "  c = int(input('''\n",
        "                1.Enqueue\n",
        "                2.Dequeue\n",
        "                3.Front\n",
        "                4.Rear\n",
        "                5.Display\n",
        "                6.Exit:\n",
        "                '''))\n",
        "  if c == 1:\n",
        "    n = input(\"Enter a number: \")\n",
        "    l.append(n)\n",
        "    print(l)\n",
        "\n",
        "  elif c == 2:\n",
        "    if len(l) == 0:\n",
        "      print(\"Queue is empty\")\n",
        "    else:\n",
        "        l.pop(0)\n",
        "        print(l)\n",
        "\n",
        "  elif c == 3:\n",
        "    if len(l) == 0:\n",
        "      print(\"Queue is empty\")\n",
        "    else:\n",
        "      print(\"First Queue Value- \", l[0])\n",
        "      print(l)\n",
        "\n",
        "  elif c == 4:\n",
        "    if len(l) == 0:\n",
        "      print(\"Queue is empty\")\n",
        "    else:\n",
        "      print(\"Last Queue Value- \", l[-1])\n",
        "      print(l)\n",
        "\n",
        "  elif c == 5:\n",
        "      print(\"display Queue\", l)\n",
        "\n",
        "  elif c == 6:\n",
        "      break;\n",
        "  else:\n",
        "      print(\"Invalid Opr...\")"
      ],
      "metadata": {
        "colab": {
          "base_uri": "https://localhost:8080/"
        },
        "collapsed": true,
        "id": "sRxPYgDPxLL2",
        "outputId": "195abdc3-d049-4c9c-8d43-3be6cc595d1b"
      },
      "execution_count": 9,
      "outputs": [
        {
          "name": "stdout",
          "output_type": "stream",
          "text": [
            "\n",
            "                1.Enqueue \n",
            "                2.Dequeue \n",
            "                3.Front \n",
            "                4.Rear \n",
            "                5.Display \n",
            "                6.Exit:\n",
            "                1\n",
            "Enter a number: 10\n",
            "['10']\n",
            "\n",
            "                1.Enqueue \n",
            "                2.Dequeue \n",
            "                3.Front \n",
            "                4.Rear \n",
            "                5.Display \n",
            "                6.Exit:\n",
            "                1\n",
            "Enter a number: 20\n",
            "['10', '20']\n",
            "\n",
            "                1.Enqueue \n",
            "                2.Dequeue \n",
            "                3.Front \n",
            "                4.Rear \n",
            "                5.Display \n",
            "                6.Exit:\n",
            "                2\n",
            "['20']\n",
            "\n",
            "                1.Enqueue \n",
            "                2.Dequeue \n",
            "                3.Front \n",
            "                4.Rear \n",
            "                5.Display \n",
            "                6.Exit:\n",
            "                1\n",
            "Enter a number: 30\n",
            "['20', '30']\n",
            "\n",
            "                1.Enqueue \n",
            "                2.Dequeue \n",
            "                3.Front \n",
            "                4.Rear \n",
            "                5.Display \n",
            "                6.Exit:\n",
            "                1\n",
            "Enter a number: 40\n",
            "['20', '30', '40']\n",
            "\n",
            "                1.Enqueue \n",
            "                2.Dequeue \n",
            "                3.Front \n",
            "                4.Rear \n",
            "                5.Display \n",
            "                6.Exit:\n",
            "                3\n",
            "First Queue Value-  20\n",
            "['20', '30', '40']\n",
            "\n",
            "                1.Enqueue \n",
            "                2.Dequeue \n",
            "                3.Front \n",
            "                4.Rear \n",
            "                5.Display \n",
            "                6.Exit:\n",
            "                4\n",
            "Last Queue Value-  40\n",
            "['20', '30', '40']\n",
            "\n",
            "                1.Enqueue \n",
            "                2.Dequeue \n",
            "                3.Front \n",
            "                4.Rear \n",
            "                5.Display \n",
            "                6.Exit:\n",
            "                5\n",
            "display Queue ['20', '30', '40']\n",
            "\n",
            "                1.Enqueue \n",
            "                2.Dequeue \n",
            "                3.Front \n",
            "                4.Rear \n",
            "                5.Display \n",
            "                6.Exit:\n",
            "                7\n",
            "Invalid Opr...\n",
            "\n",
            "                1.Enqueue \n",
            "                2.Dequeue \n",
            "                3.Front \n",
            "                4.Rear \n",
            "                5.Display \n",
            "                6.Exit:\n",
            "                6\n"
          ]
        }
      ]
    },
    {
      "cell_type": "markdown",
      "source": [
        "\n",
        "\n",
        "---\n",
        "\n",
        "\n",
        "\n",
        "---\n",
        "\n"
      ],
      "metadata": {
        "id": "tRN8RQ7842WP"
      }
    },
    {
      "cell_type": "code",
      "source": [],
      "metadata": {
        "id": "hOti5Pcn3eS_"
      },
      "execution_count": null,
      "outputs": []
    }
  ]
}