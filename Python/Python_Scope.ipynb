{
  "nbformat": 4,
  "nbformat_minor": 0,
  "metadata": {
    "colab": {
      "provenance": []
    },
    "kernelspec": {
      "name": "python3",
      "display_name": "Python 3"
    },
    "language_info": {
      "name": "python"
    }
  },
  "cells": [
    {
      "cell_type": "markdown",
      "source": [
        "# **Python Scope**\n",
        "\n",
        "A variable is only available from inside the region it is created. This is called scope."
      ],
      "metadata": {
        "id": "AhCPq2Sekc7I"
      }
    },
    {
      "cell_type": "markdown",
      "source": [
        "# **Local Scope**\n",
        "\n",
        "A variable created inside a function belongs to the local scope of that function, and can only be used inside that function."
      ],
      "metadata": {
        "id": "pWjYWi_Gkc4O"
      }
    },
    {
      "cell_type": "code",
      "execution_count": 1,
      "metadata": {
        "colab": {
          "base_uri": "https://localhost:8080/"
        },
        "id": "3cniMVLYhfbt",
        "outputId": "47cc711e-c2ee-45ee-a2c2-e6924b5f99ee"
      },
      "outputs": [
        {
          "output_type": "stream",
          "name": "stdout",
          "text": [
            "300\n"
          ]
        }
      ],
      "source": [
        "# A variable created inside a function is available inside that function:\n",
        "\n",
        "def myfunc():\n",
        "  a = 300\n",
        "  print(a)\n",
        "\n",
        "myfunc()"
      ]
    },
    {
      "cell_type": "markdown",
      "source": [
        "# **Function Inside Function**\n",
        "\n",
        "As explained in the example above, the variable x is not available outside the function, but it is available for any function inside the function:"
      ],
      "metadata": {
        "id": "UOXrVm4plTxP"
      }
    },
    {
      "cell_type": "code",
      "source": [
        "# The local variable can be accessed from a function within the function:\n",
        "\n",
        "def myfunc():\n",
        "  a = 200\n",
        "  def myinnerfunc():\n",
        "    print(a)\n",
        "  myinnerfunc()\n",
        "\n",
        "myfunc()"
      ],
      "metadata": {
        "colab": {
          "base_uri": "https://localhost:8080/"
        },
        "id": "9A4tvWmZlFkb",
        "outputId": "2e78bb21-9e8a-4699-cd66-e75d7cc21a65"
      },
      "execution_count": 3,
      "outputs": [
        {
          "output_type": "stream",
          "name": "stdout",
          "text": [
            "200\n"
          ]
        }
      ]
    },
    {
      "cell_type": "markdown",
      "source": [
        "# **Global Scope**\n",
        "\n",
        "A variable created in the main body of the Python code is a global variable and belongs to the global scope.\n",
        "\n",
        "Global variables are available from within any scope, global and local."
      ],
      "metadata": {
        "id": "VedEqwa1mhQ2"
      }
    },
    {
      "cell_type": "code",
      "source": [
        "# A variable created outside of a function is global and can be used by anyone:\n",
        "a = 300\n",
        "\n",
        "def myfunc():\n",
        "  print(a)\n",
        "\n",
        "myfunc()\n",
        "\n",
        "print(a)"
      ],
      "metadata": {
        "colab": {
          "base_uri": "https://localhost:8080/"
        },
        "id": "nuFu4upom4eU",
        "outputId": "f796c4aa-2757-4d4f-b736-fb8049cca506"
      },
      "execution_count": 5,
      "outputs": [
        {
          "output_type": "stream",
          "name": "stdout",
          "text": [
            "300\n",
            "300\n"
          ]
        }
      ]
    },
    {
      "cell_type": "markdown",
      "source": [
        "**Naming Variables**\n",
        "\n",
        "If you operate with the same variable name inside and outside of a function, Python will treat them as two separate variables, one available in the global scope (outside the function) and one available in the local scope (inside the function):"
      ],
      "metadata": {
        "id": "HAenA_GKnWWZ"
      }
    },
    {
      "cell_type": "code",
      "source": [
        "# The function will print the local x, and then the code will print the global x:\n",
        "\n",
        "x = 300\n",
        "\n",
        "def myfunc():\n",
        "  x = 200\n",
        "  print(x)\n",
        "\n",
        "myfunc()\n",
        "\n",
        "print(x)"
      ],
      "metadata": {
        "colab": {
          "base_uri": "https://localhost:8080/"
        },
        "id": "aqSHBPrXm5k8",
        "outputId": "700abe41-b66b-4290-c5c3-657a68953776"
      },
      "execution_count": 6,
      "outputs": [
        {
          "output_type": "stream",
          "name": "stdout",
          "text": [
            "200\n",
            "300\n"
          ]
        }
      ]
    },
    {
      "cell_type": "markdown",
      "source": [
        "# **Global Keyword**\n",
        "\n",
        "If you need to create a global variable, but are stuck in the local scope, you can use the global keyword.\n",
        "\n",
        "The global keyword makes the variable global."
      ],
      "metadata": {
        "id": "5eLJX8oan9fo"
      }
    },
    {
      "cell_type": "code",
      "source": [
        "# If you use the global keyword, the variable belongs to the global scope:\n",
        "\n",
        "def myfunc():\n",
        "  global a\n",
        "  a = 500\n",
        "\n",
        "myfunc()\n",
        "\n",
        "print(a)"
      ],
      "metadata": {
        "colab": {
          "base_uri": "https://localhost:8080/"
        },
        "id": "U4M_3FohntgL",
        "outputId": "1a58f439-ce53-4f7f-90f1-f9debd60234c"
      },
      "execution_count": 7,
      "outputs": [
        {
          "output_type": "stream",
          "name": "stdout",
          "text": [
            "500\n"
          ]
        }
      ]
    },
    {
      "cell_type": "markdown",
      "source": [
        "Also, use the global keyword if you want to make a change to a global variable inside a function."
      ],
      "metadata": {
        "id": "DUb_PCuErSnY"
      }
    },
    {
      "cell_type": "code",
      "source": [
        "# To change the value of a global variable inside a function, refer to the variable by using the global keyword:\n",
        "\n",
        "x = 300\n",
        "\n",
        "def myfunc():\n",
        "  global x\n",
        "  x = 500\n",
        "\n",
        "myfunc()\n",
        "\n",
        "print(x)"
      ],
      "metadata": {
        "colab": {
          "base_uri": "https://localhost:8080/"
        },
        "id": "xeFHYZbToTRJ",
        "outputId": "d78ba408-e017-4c28-ba0f-01feec2c7c55"
      },
      "execution_count": 9,
      "outputs": [
        {
          "output_type": "stream",
          "name": "stdout",
          "text": [
            "500\n"
          ]
        }
      ]
    },
    {
      "cell_type": "markdown",
      "source": [
        "# **Nonlocal Keyword**\n",
        "\n",
        "The nonlocal keyword is used to work with variables inside nested functions.\n",
        "\n",
        "The nonlocal keyword makes the variable belong to the outer function."
      ],
      "metadata": {
        "id": "aQ2C1NX_r6Ew"
      }
    },
    {
      "cell_type": "code",
      "source": [
        "# If you use the nonlocal keyword, the variable will belong to the outer function:\n",
        "\n",
        "def myfunc1():\n",
        "  x = 300\n",
        "  print(x)\n",
        "  def myfunc2():\n",
        "    nonlocal x\n",
        "    x = 200\n",
        "  myfunc2()\n",
        "  print(x)\n",
        "\n",
        "myfunc1()"
      ],
      "metadata": {
        "colab": {
          "base_uri": "https://localhost:8080/"
        },
        "id": "tB6PX5HZrntE",
        "outputId": "a16ac321-ec2d-478b-e46b-23e5dc7673d6"
      },
      "execution_count": 10,
      "outputs": [
        {
          "output_type": "stream",
          "name": "stdout",
          "text": [
            "300\n",
            "200\n"
          ]
        }
      ]
    }
  ]
}