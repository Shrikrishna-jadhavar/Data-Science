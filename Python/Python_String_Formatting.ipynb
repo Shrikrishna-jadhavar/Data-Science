{
  "nbformat": 4,
  "nbformat_minor": 0,
  "metadata": {
    "colab": {
      "provenance": []
    },
    "kernelspec": {
      "name": "python3",
      "display_name": "Python 3"
    },
    "language_info": {
      "name": "python"
    }
  },
  "cells": [
    {
      "cell_type": "markdown",
      "source": [
        "# **Python String Formatting**\n",
        "\n",
        "F-String was introduced in Python 3.6, and is now the preferred way of formatting strings.\n",
        "\n",
        "Before Python 3.6 we had to use the format() method."
      ],
      "metadata": {
        "id": "JX-AiXAacC6z"
      }
    },
    {
      "cell_type": "markdown",
      "source": [
        "# **F-Strings**\n",
        "\n",
        "F-string allows you to format selected parts of a string.\n",
        "\n",
        "To specify a string as an f-string, simply put an f in front of the string literal, like this:"
      ],
      "metadata": {
        "id": "oo8rJ5OGcI1A"
      }
    },
    {
      "cell_type": "code",
      "execution_count": null,
      "metadata": {
        "id": "URDgE_YolRU7",
        "colab": {
          "base_uri": "https://localhost:8080/"
        },
        "outputId": "265b29fd-715f-4882-e4fd-f24f157a05e6"
      },
      "outputs": [
        {
          "output_type": "stream",
          "name": "stdout",
          "text": [
            "Hello Alok\n"
          ]
        }
      ],
      "source": [
        "# Create an f-string:\n",
        "\n",
        "name = \"Alok\"\n",
        "\n",
        "print(f\"Hello {name}\")"
      ]
    },
    {
      "cell_type": "markdown",
      "source": [
        "# **Placeholders and Modifiers**\n",
        "\n",
        "To format values in an f-string, add placeholders {}, a placeholder can contain variables, operations, functions, and modifiers to format the value."
      ],
      "metadata": {
        "id": "0s-uFdHucle5"
      }
    },
    {
      "cell_type": "code",
      "source": [
        "# Add a placeholder for the price variable:\n",
        "\n",
        "name = \"Alok\"\n",
        "age = 11\n",
        "\n",
        "print(f\"Hello {name}, you are {age} years old.\")"
      ],
      "metadata": {
        "colab": {
          "base_uri": "https://localhost:8080/"
        },
        "id": "r2giADEBcZGA",
        "outputId": "5c5bd40b-0bf7-4359-b219-3dfdde3c4302"
      },
      "execution_count": null,
      "outputs": [
        {
          "output_type": "stream",
          "name": "stdout",
          "text": [
            "Hello Alok, you are 11 years old.\n"
          ]
        }
      ]
    },
    {
      "cell_type": "markdown",
      "source": [
        "A placeholder can also include a modifier to format the value.\n",
        "\n",
        "A modifier is included by adding a colon : followed by a legal formatting type, like .2f which means fixed point number with 2 decimals:"
      ],
      "metadata": {
        "id": "mwFZ_ROGdpMr"
      }
    },
    {
      "cell_type": "code",
      "source": [
        "# Display the price with 2 decimals:\n",
        "\n",
        "price = 49\n",
        "print(f\"price : ${price:.2f}\")"
      ],
      "metadata": {
        "colab": {
          "base_uri": "https://localhost:8080/"
        },
        "id": "8ZaL05WldP2G",
        "outputId": "5d8083f6-6eca-4a0f-d24c-5b509f450bac"
      },
      "execution_count": null,
      "outputs": [
        {
          "output_type": "stream",
          "name": "stdout",
          "text": [
            "price : $49.00\n"
          ]
        }
      ]
    },
    {
      "cell_type": "markdown",
      "source": [
        "You can also format a value directly without keeping it in a variable:"
      ],
      "metadata": {
        "id": "mp1cjIyeerFz"
      }
    },
    {
      "cell_type": "code",
      "source": [
        "# Display the value 95 with 2 decimals:\n",
        "\n",
        "print(f\"The price is ${95:.2f} dollars\")"
      ],
      "metadata": {
        "colab": {
          "base_uri": "https://localhost:8080/"
        },
        "id": "01bIFhSTeCk6",
        "outputId": "9ce8e01c-4dc0-4474-8d5c-b47d50c5a8b6"
      },
      "execution_count": null,
      "outputs": [
        {
          "output_type": "stream",
          "name": "stdout",
          "text": [
            "The price is $95.00 dollars\n"
          ]
        }
      ]
    },
    {
      "cell_type": "markdown",
      "source": [
        "# **Perform Operations in F-Strings**\n",
        "\n",
        "You can perform Python operations inside the placeholders.\n",
        "\n",
        "You can do math operations:"
      ],
      "metadata": {
        "id": "LXES1APAfeNP"
      }
    },
    {
      "cell_type": "code",
      "source": [
        "# Perform a math operation in the placeholder, and return the result:\n",
        "\n",
        "print(f\"The Price is {20 * 25} dollars\")"
      ],
      "metadata": {
        "colab": {
          "base_uri": "https://localhost:8080/"
        },
        "id": "wTlpeTdYe8xU",
        "outputId": "63111e88-6f60-4218-ba59-38f8329be4cc"
      },
      "execution_count": null,
      "outputs": [
        {
          "output_type": "stream",
          "name": "stdout",
          "text": [
            "The Price is 500 dollars\n"
          ]
        }
      ]
    },
    {
      "cell_type": "markdown",
      "source": [
        "You can perform math operations on variables:"
      ],
      "metadata": {
        "id": "LK8q5zu6pZCz"
      }
    },
    {
      "cell_type": "code",
      "source": [
        "# Add taxes before displaying the price:\n",
        "\n",
        "price = 59\n",
        "tax = 0.25\n",
        "\n",
        "print(f\"The price is {price +(price * tax)} dollars\")"
      ],
      "metadata": {
        "colab": {
          "base_uri": "https://localhost:8080/"
        },
        "id": "huytv_jzpNiy",
        "outputId": "8b336cc6-9c1b-49ea-e883-72ef21547796"
      },
      "execution_count": null,
      "outputs": [
        {
          "output_type": "stream",
          "name": "stdout",
          "text": [
            "The price is 73.75 dollars\n"
          ]
        }
      ]
    },
    {
      "cell_type": "markdown",
      "source": [
        "You can perform if...else statements inside the placeholders:"
      ],
      "metadata": {
        "id": "vfr33NNkqgpZ"
      }
    },
    {
      "cell_type": "code",
      "source": [
        "# Return \"Expensive\" if the price is over 50, otherwise return \"Cheap\":\n",
        "\n",
        "price = 52\n",
        "\n",
        "print(f\"It is a {'Expensive' if price > 50 else 'Cheap'}\")"
      ],
      "metadata": {
        "colab": {
          "base_uri": "https://localhost:8080/"
        },
        "id": "qxoTNoObqkPS",
        "outputId": "c31355b4-748e-4e84-f6bd-7372a2f4148e"
      },
      "execution_count": null,
      "outputs": [
        {
          "output_type": "stream",
          "name": "stdout",
          "text": [
            "It is a Expensive\n"
          ]
        }
      ]
    },
    {
      "cell_type": "markdown",
      "source": [
        "# **Execute Functions in F-Strings**\n",
        "\n",
        "You can execute functions inside the placeholder:"
      ],
      "metadata": {
        "id": "7Aa4z7V6reEF"
      }
    },
    {
      "cell_type": "code",
      "source": [
        "# Use the string method upper()to convert a value into upper case letters:\n",
        "\n",
        "fruit = \"apples\"\n",
        "\n",
        "print(f\" i Love {fruit.upper()}\")"
      ],
      "metadata": {
        "colab": {
          "base_uri": "https://localhost:8080/"
        },
        "id": "hSApur8SrKpS",
        "outputId": "27e83c6f-d5a1-4dbe-d2d8-fde1efac083c"
      },
      "execution_count": null,
      "outputs": [
        {
          "output_type": "stream",
          "name": "stdout",
          "text": [
            " i Love APPLES\n"
          ]
        }
      ]
    },
    {
      "cell_type": "markdown",
      "source": [
        "The function does not have to be a built-in Python method, you can create your own functions and use them:"
      ],
      "metadata": {
        "id": "wXGp3JFvtyIV"
      }
    },
    {
      "cell_type": "code",
      "source": [
        "# Create a function that converts feet into meters:\n",
        "\n",
        "def myconverter(x):\n",
        "  return x * 0.3048\n",
        "\n",
        "print(f\"The plane is flying at a {myconverter(30000)} meter altitude\")"
      ],
      "metadata": {
        "colab": {
          "base_uri": "https://localhost:8080/"
        },
        "id": "qcsGMk3Rr1Np",
        "outputId": "24eb0fe5-69b5-4c2b-9235-3f1b486bbebf"
      },
      "execution_count": null,
      "outputs": [
        {
          "output_type": "stream",
          "name": "stdout",
          "text": [
            "The plane is flying at a 9144.0 meter altitude\n"
          ]
        }
      ]
    },
    {
      "cell_type": "markdown",
      "source": [
        "# **More Modifiers**\n",
        "\n",
        "At the beginning of this chapter we explained how to use the .2f modifier to format a number into a fixed point number with 2 decimals.\n",
        "\n",
        "There are several other modifiers that can be used to format values:"
      ],
      "metadata": {
        "id": "ItCzt5Cdup7v"
      }
    },
    {
      "cell_type": "code",
      "source": [
        "# Use a comma as a thousand separator:\n",
        "\n",
        "price = 50500\n",
        "\n",
        "print(f\"The Price is ${price:,}\")"
      ],
      "metadata": {
        "colab": {
          "base_uri": "https://localhost:8080/"
        },
        "id": "69soDEibuhSt",
        "outputId": "4b4af09f-841c-4ab7-c4fe-b325157c575b"
      },
      "execution_count": null,
      "outputs": [
        {
          "output_type": "stream",
          "name": "stdout",
          "text": [
            "The Price is $50,500\n"
          ]
        }
      ]
    },
    {
      "cell_type": "code",
      "source": [
        "# :<  Left aligns the result (within the available space)\n",
        "\n",
        "print(f\"we have {50:<5}apples\")"
      ],
      "metadata": {
        "id": "Y9ECs8Weu9LL",
        "colab": {
          "base_uri": "https://localhost:8080/"
        },
        "outputId": "fc31306e-4c67-43b7-f7a4-518966e9addc"
      },
      "execution_count": 1,
      "outputs": [
        {
          "output_type": "stream",
          "name": "stdout",
          "text": [
            "we have 50   apples\n"
          ]
        }
      ]
    },
    {
      "cell_type": "code",
      "source": [
        "# :> \t Right aligns the result (within the available space)\n",
        "\n",
        "print(f\"we have {50:>1}apples\")"
      ],
      "metadata": {
        "colab": {
          "base_uri": "https://localhost:8080/"
        },
        "id": "bB30ujVTPFzd",
        "outputId": "36139ddd-cd4d-4daa-e5e2-202148941b15"
      },
      "execution_count": 3,
      "outputs": [
        {
          "output_type": "stream",
          "name": "stdout",
          "text": [
            "we have 50apples\n"
          ]
        }
      ]
    },
    {
      "cell_type": "code",
      "source": [
        "# :^ \tCenter aligns the result (within the available space)\n",
        "\n",
        "print(f\"we have {50:^1}apples\")"
      ],
      "metadata": {
        "colab": {
          "base_uri": "https://localhost:8080/"
        },
        "id": "mAthyt75PQ-U",
        "outputId": "52e388e7-2280-4760-c4cd-3d3a3dd09a9d"
      },
      "execution_count": 4,
      "outputs": [
        {
          "output_type": "stream",
          "name": "stdout",
          "text": [
            "we have 50apples\n"
          ]
        }
      ]
    },
    {
      "cell_type": "code",
      "source": [
        "# := \tPlaces the sign to the left most position\n",
        "\n",
        "print(f\"The price is {50:=10}\")"
      ],
      "metadata": {
        "colab": {
          "base_uri": "https://localhost:8080/"
        },
        "id": "YFnNiQ3xPQ7B",
        "outputId": "348c178d-2664-4f60-acf5-8e0bff7442a5"
      },
      "execution_count": 5,
      "outputs": [
        {
          "output_type": "stream",
          "name": "stdout",
          "text": [
            "The price is         50\n"
          ]
        }
      ]
    },
    {
      "cell_type": "code",
      "source": [
        "# :+ \tUse a plus sign to indicate if the result is positive or negative\n",
        "\n",
        "print(f\"The price is {50:+10}\")"
      ],
      "metadata": {
        "colab": {
          "base_uri": "https://localhost:8080/"
        },
        "id": "eYJWOsJmPQ4X",
        "outputId": "1fdc6a2d-f6d2-4443-8e77-228b320671d2"
      },
      "execution_count": 6,
      "outputs": [
        {
          "output_type": "stream",
          "name": "stdout",
          "text": [
            "The price is        +50\n"
          ]
        }
      ]
    },
    {
      "cell_type": "code",
      "source": [
        "# :- \tUse a minus sign for negative values only\n",
        "\n",
        "print(f\"The price is {50:-10}\")"
      ],
      "metadata": {
        "colab": {
          "base_uri": "https://localhost:8080/"
        },
        "id": "lf_RX30QPQzk",
        "outputId": "84c2af1a-78d2-4038-8a56-b5747af4f32d"
      },
      "execution_count": 7,
      "outputs": [
        {
          "output_type": "stream",
          "name": "stdout",
          "text": [
            "The price is         50\n"
          ]
        }
      ]
    },
    {
      "cell_type": "code",
      "source": [
        "# :  \tUse a space to insert an extra space before positive numbers (and a minus sign before negative numbers)\n",
        "\n",
        "print(f\"The price is {50: 10}\")"
      ],
      "metadata": {
        "colab": {
          "base_uri": "https://localhost:8080/"
        },
        "id": "uQhTfntqPQtc",
        "outputId": "719e1d93-f481-486c-8d1b-9d44251ceaf9"
      },
      "execution_count": 8,
      "outputs": [
        {
          "output_type": "stream",
          "name": "stdout",
          "text": [
            "The price is         50\n"
          ]
        }
      ]
    },
    {
      "cell_type": "code",
      "source": [
        "# :, \tUse a comma as a thousand separator\n",
        "\n",
        "print(f\"The price is {5000000:,}\")"
      ],
      "metadata": {
        "colab": {
          "base_uri": "https://localhost:8080/"
        },
        "id": "rArj9wnkPQq2",
        "outputId": "989de9eb-89a3-4b95-bfa7-ab9b74a0c602"
      },
      "execution_count": 9,
      "outputs": [
        {
          "output_type": "stream",
          "name": "stdout",
          "text": [
            "The price is 5,000,000\n"
          ]
        }
      ]
    },
    {
      "cell_type": "code",
      "source": [
        "# :_ \tUse a underscore as a thousand separator\n",
        "\n",
        "print(f\"The price is {5000000:_}\")"
      ],
      "metadata": {
        "colab": {
          "base_uri": "https://localhost:8080/"
        },
        "id": "PWkKBYnWPQn6",
        "outputId": "f94cfdaf-e15b-4df6-a83d-006bf252eacc"
      },
      "execution_count": 10,
      "outputs": [
        {
          "output_type": "stream",
          "name": "stdout",
          "text": [
            "The price is 5_000_000\n"
          ]
        }
      ]
    },
    {
      "cell_type": "code",
      "source": [
        "# :b \tBinary format\n",
        "\n",
        "print(f\"The price is {5000000:b}\")"
      ],
      "metadata": {
        "colab": {
          "base_uri": "https://localhost:8080/"
        },
        "id": "YChWeMgRQN7W",
        "outputId": "042f9550-6083-41e9-80cc-d77682ab14a8"
      },
      "execution_count": 11,
      "outputs": [
        {
          "output_type": "stream",
          "name": "stdout",
          "text": [
            "The price is 10011000100101101000000\n"
          ]
        }
      ]
    },
    {
      "cell_type": "code",
      "source": [
        "# :c \t\tConverts the value into the corresponding Unicode character\n",
        "\n",
        "print(f\"The price is {5000000:c}\")"
      ],
      "metadata": {
        "colab": {
          "base_uri": "https://localhost:8080/",
          "height": 180
        },
        "id": "6yVCvW1QQN4u",
        "outputId": "b178771d-319d-40ef-8d76-160f84bf45c7"
      },
      "execution_count": 12,
      "outputs": [
        {
          "output_type": "error",
          "ename": "OverflowError",
          "evalue": "%c arg not in range(0x110000)",
          "traceback": [
            "\u001b[0;31m---------------------------------------------------------------------------\u001b[0m",
            "\u001b[0;31mOverflowError\u001b[0m                             Traceback (most recent call last)",
            "\u001b[0;32m<ipython-input-12-2108e8058d0c>\u001b[0m in \u001b[0;36m<cell line: 0>\u001b[0;34m()\u001b[0m\n\u001b[1;32m      1\u001b[0m \u001b[0;31m# :c            Converts the value into the corresponding Unicode character\u001b[0m\u001b[0;34m\u001b[0m\u001b[0;34m\u001b[0m\u001b[0m\n\u001b[1;32m      2\u001b[0m \u001b[0;34m\u001b[0m\u001b[0m\n\u001b[0;32m----> 3\u001b[0;31m \u001b[0mprint\u001b[0m\u001b[0;34m(\u001b[0m\u001b[0;34mf\"The price is {5000000:c}\"\u001b[0m\u001b[0;34m)\u001b[0m\u001b[0;34m\u001b[0m\u001b[0;34m\u001b[0m\u001b[0m\n\u001b[0m",
            "\u001b[0;31mOverflowError\u001b[0m: %c arg not in range(0x110000)"
          ]
        }
      ]
    },
    {
      "cell_type": "markdown",
      "source": [
        "Replaced 5000000 with 97: Instead of using 5000000, which is outside the valid Unicode range, the code now uses 97. This value corresponds to the lowercase letter 'a' in Unicode. You can replace 97 with any other valid Unicode code point."
      ],
      "metadata": {
        "id": "AHzXosGFROpm"
      }
    },
    {
      "source": [
        "# :c \t\tConverts the value into the corresponding Unicode character\n",
        "\n",
        "# Use a valid Unicode code point within the range 0-0x10FFFF\n",
        "print(f\"The price is {97:c}\")  # Example using code point 97, which represents 'a'"
      ],
      "cell_type": "code",
      "metadata": {
        "colab": {
          "base_uri": "https://localhost:8080/"
        },
        "id": "HEweDcOaRBWF",
        "outputId": "96cd6d0e-8852-4a15-a922-fbd1b41cd83d"
      },
      "execution_count": 13,
      "outputs": [
        {
          "output_type": "stream",
          "name": "stdout",
          "text": [
            "The price is a\n"
          ]
        }
      ]
    },
    {
      "cell_type": "code",
      "source": [
        "# :d \tDecimal format\n",
        "\n",
        "print(f\"The price is {5000000:d}\")"
      ],
      "metadata": {
        "colab": {
          "base_uri": "https://localhost:8080/"
        },
        "id": "KArTTPVTQN2E",
        "outputId": "4a8db4ea-b73d-4e93-a763-4524e01b2387"
      },
      "execution_count": 14,
      "outputs": [
        {
          "output_type": "stream",
          "name": "stdout",
          "text": [
            "The price is 5000000\n"
          ]
        }
      ]
    },
    {
      "cell_type": "code",
      "source": [
        "# :e \tScientific format, with a lower case e\n",
        "\n",
        "print(f\"The price is {5000000:e}\")"
      ],
      "metadata": {
        "colab": {
          "base_uri": "https://localhost:8080/"
        },
        "id": "qFCKlsQ4QNzY",
        "outputId": "d1efbebc-e590-4bb5-cc30-fc3d26fced6e"
      },
      "execution_count": 15,
      "outputs": [
        {
          "output_type": "stream",
          "name": "stdout",
          "text": [
            "The price is 5.000000e+06\n"
          ]
        }
      ]
    },
    {
      "cell_type": "code",
      "source": [
        "# :E \tScientific format, with an upper case E\n",
        "\n",
        "print(f\"The price is {5000000:E}\")"
      ],
      "metadata": {
        "colab": {
          "base_uri": "https://localhost:8080/"
        },
        "id": "5bXOexpZRUeN",
        "outputId": "305da44b-0097-4fcc-ddf1-3f14e46955c5"
      },
      "execution_count": 16,
      "outputs": [
        {
          "output_type": "stream",
          "name": "stdout",
          "text": [
            "The price is 5.000000E+06\n"
          ]
        }
      ]
    },
    {
      "cell_type": "code",
      "source": [
        "# :f \tFix point number format\n",
        "\n",
        "print(f\"The price is {5000000:f}\")"
      ],
      "metadata": {
        "colab": {
          "base_uri": "https://localhost:8080/"
        },
        "id": "G5A1KxDjRUbr",
        "outputId": "65fb7ed1-f941-46e3-fef9-ff532f133489"
      },
      "execution_count": 17,
      "outputs": [
        {
          "output_type": "stream",
          "name": "stdout",
          "text": [
            "The price is 5000000.000000\n"
          ]
        }
      ]
    },
    {
      "cell_type": "code",
      "source": [
        "# :F \tFix point number format, in uppercase format (show inf and nan as INF and NAN)\n",
        "\n",
        "print(f\"The price is {5000000:F}\")"
      ],
      "metadata": {
        "colab": {
          "base_uri": "https://localhost:8080/"
        },
        "id": "qh0p2hQFRUYr",
        "outputId": "05e25106-c6f6-4315-d123-8dce10b5a5e6"
      },
      "execution_count": 18,
      "outputs": [
        {
          "output_type": "stream",
          "name": "stdout",
          "text": [
            "The price is 5000000.000000\n"
          ]
        }
      ]
    },
    {
      "cell_type": "code",
      "source": [
        "# :g \t\tGeneral format\n",
        "\n",
        "print(f\"The price is {5000000:g}\")"
      ],
      "metadata": {
        "colab": {
          "base_uri": "https://localhost:8080/"
        },
        "id": "3o3mOKiGRooO",
        "outputId": "56463978-3868-46e8-e9e5-8be25c98c75e"
      },
      "execution_count": 19,
      "outputs": [
        {
          "output_type": "stream",
          "name": "stdout",
          "text": [
            "The price is 5e+06\n"
          ]
        }
      ]
    },
    {
      "cell_type": "code",
      "source": [
        "# :G \t\tGeneral format (using a upper case E for scientific notations)\n",
        "\n",
        "print(f\"The price is {5000000:G}\")"
      ],
      "metadata": {
        "colab": {
          "base_uri": "https://localhost:8080/"
        },
        "id": "YygMz-dMRola",
        "outputId": "6a4c3f5b-c6c4-4668-9c07-46c72ed77e43"
      },
      "execution_count": 20,
      "outputs": [
        {
          "output_type": "stream",
          "name": "stdout",
          "text": [
            "The price is 5E+06\n"
          ]
        }
      ]
    },
    {
      "cell_type": "code",
      "source": [
        "# :o \tOctal format\n",
        "\n",
        "print(f\"The price is {5000000:o}\")"
      ],
      "metadata": {
        "colab": {
          "base_uri": "https://localhost:8080/"
        },
        "id": "NbPQaHKTRoaf",
        "outputId": "c18e1982-049f-4142-8595-06d1969cfa24"
      },
      "execution_count": 21,
      "outputs": [
        {
          "output_type": "stream",
          "name": "stdout",
          "text": [
            "The price is 23045500\n"
          ]
        }
      ]
    },
    {
      "cell_type": "code",
      "source": [
        "# :x \tHex format, lower case\n",
        "\n",
        "print(f\"The price is {5000000:x}\")"
      ],
      "metadata": {
        "colab": {
          "base_uri": "https://localhost:8080/"
        },
        "id": "Y9By-RVmTL06",
        "outputId": "d41832ab-cd25-4ed4-e071-3ff5512503e9"
      },
      "execution_count": 22,
      "outputs": [
        {
          "output_type": "stream",
          "name": "stdout",
          "text": [
            "The price is 4c4b40\n"
          ]
        }
      ]
    },
    {
      "cell_type": "code",
      "source": [
        "# :X \tHex format, upper case\n",
        "\n",
        "print(f\"The price is {5000000:X}\")"
      ],
      "metadata": {
        "colab": {
          "base_uri": "https://localhost:8080/"
        },
        "id": "ly33zhD6TLx7",
        "outputId": "203e3d5e-0c62-4d22-a96c-3c88f4c84e17"
      },
      "execution_count": 23,
      "outputs": [
        {
          "output_type": "stream",
          "name": "stdout",
          "text": [
            "The price is 4C4B40\n"
          ]
        }
      ]
    },
    {
      "cell_type": "code",
      "source": [
        "# :n \t\tNumber format\n",
        "\n",
        "print(f\"The price is {5000000:n}\")"
      ],
      "metadata": {
        "colab": {
          "base_uri": "https://localhost:8080/"
        },
        "id": "L9fnim6ATLu7",
        "outputId": "15c69234-6ba0-42a4-92e9-776c1f01cda1"
      },
      "execution_count": 24,
      "outputs": [
        {
          "output_type": "stream",
          "name": "stdout",
          "text": [
            "The price is 5000000\n"
          ]
        }
      ]
    },
    {
      "cell_type": "code",
      "source": [
        "# :% \tPercentage format\n",
        "\n",
        "print(f\"The price is {5000:%}\")"
      ],
      "metadata": {
        "colab": {
          "base_uri": "https://localhost:8080/"
        },
        "id": "YmVdUvRLTLqJ",
        "outputId": "eabcb383-358c-49a3-b826-1ce7c72a6bc4"
      },
      "execution_count": 26,
      "outputs": [
        {
          "output_type": "stream",
          "name": "stdout",
          "text": [
            "The price is 500000.000000%\n"
          ]
        }
      ]
    },
    {
      "cell_type": "markdown",
      "source": [
        "# **String format()**\n",
        "\n",
        "Before Python 3.6 we used the format() method to format strings.\n",
        "\n",
        "The format() method can still be used, but f-strings are faster and the preferred way to format strings.\n",
        "\n",
        "The next examples in this page demonstrates how to format strings with the format() method.\n",
        "\n",
        "The format() method also uses curly brackets as placeholders {}, but the syntax is slightly different:"
      ],
      "metadata": {
        "id": "I0mX9W3nT6F5"
      }
    },
    {
      "cell_type": "code",
      "source": [
        "# Add a placeholder where you want to display the price:\n",
        "\n",
        "price = 50\n",
        "\n",
        "print(\"The price is {}\".format(price))"
      ],
      "metadata": {
        "colab": {
          "base_uri": "https://localhost:8080/"
        },
        "id": "5xGhGWrFTqdF",
        "outputId": "d8ecf75a-e2c4-45bf-b679-de477a285752"
      },
      "execution_count": 27,
      "outputs": [
        {
          "output_type": "stream",
          "name": "stdout",
          "text": [
            "The price is 50\n"
          ]
        }
      ]
    },
    {
      "cell_type": "code",
      "source": [
        "price = 49\n",
        "txt = \"The price is {} dollars\"\n",
        "print(txt.format(price))"
      ],
      "metadata": {
        "colab": {
          "base_uri": "https://localhost:8080/"
        },
        "id": "KmwUn7bQUKKC",
        "outputId": "c2aaffac-1ec9-4804-cf18-26fd284a5e15"
      },
      "execution_count": 28,
      "outputs": [
        {
          "output_type": "stream",
          "name": "stdout",
          "text": [
            "The price is 49 dollars\n"
          ]
        }
      ]
    },
    {
      "cell_type": "markdown",
      "source": [
        "You can add parameters inside the curly brackets to specify how to convert the value:"
      ],
      "metadata": {
        "id": "t_QD7HqpUZUx"
      }
    },
    {
      "cell_type": "code",
      "source": [
        "# Format the price to be displayed as a number with two decimals:\n",
        "\n",
        "print(\"The price is {:.2f}dollars \")"
      ],
      "metadata": {
        "colab": {
          "base_uri": "https://localhost:8080/"
        },
        "id": "30IpKJKjUY1x",
        "outputId": "4e9c9cba-e625-403e-c493-46aed0befe9c"
      },
      "execution_count": 29,
      "outputs": [
        {
          "output_type": "stream",
          "name": "stdout",
          "text": [
            "The price is {:.2f}dollars \n"
          ]
        }
      ]
    },
    {
      "cell_type": "markdown",
      "source": [
        "# **Multiple Values**\n",
        "\n",
        "If you want to use more values, just add more values to the format() method:"
      ],
      "metadata": {
        "id": "Zk0L1AJkWLU_"
      }
    },
    {
      "cell_type": "code",
      "source": [
        "# And add more placeholders:\n",
        "\n",
        "quantity = 3\n",
        "itemno = 567\n",
        "price = 49\n",
        "myorder = \"I want {} pieces of item number {} for {:.2f} dollars.\"\n",
        "print(myorder.format(quantity, itemno, price))"
      ],
      "metadata": {
        "colab": {
          "base_uri": "https://localhost:8080/"
        },
        "id": "PjDlNKjGUvR7",
        "outputId": "355a8b9d-3d5c-4523-b823-8aaf78b54c89"
      },
      "execution_count": 33,
      "outputs": [
        {
          "output_type": "stream",
          "name": "stdout",
          "text": [
            "I want 3 pieces of item number 567 for 49.00 dollars.\n"
          ]
        }
      ]
    },
    {
      "cell_type": "markdown",
      "source": [
        "# **Index Numbers**\n",
        "\n",
        "You can use index numbers (a number inside the curly brackets {0}) to be sure the values are placed in the correct placeholders:"
      ],
      "metadata": {
        "id": "ij8PItusW7JW"
      }
    },
    {
      "cell_type": "code",
      "source": [
        "quantity = 3\n",
        "itemno = 567\n",
        "price = 49\n",
        "myorder = \"I want {0} pieces of item number {1} for {2:.2f} dollars.\"\n",
        "print(myorder.format(quantity, itemno, price))"
      ],
      "metadata": {
        "colab": {
          "base_uri": "https://localhost:8080/"
        },
        "id": "dB_qOCeoW9c_",
        "outputId": "808f9776-58de-44a8-f26e-ed626ea02bb9"
      },
      "execution_count": 34,
      "outputs": [
        {
          "output_type": "stream",
          "name": "stdout",
          "text": [
            "I want 3 pieces of item number 567 for 49.00 dollars.\n"
          ]
        }
      ]
    },
    {
      "cell_type": "markdown",
      "source": [
        "Also, if you want to refer to the same value more than once, use the index number:"
      ],
      "metadata": {
        "id": "h9QYDnHEXHzt"
      }
    },
    {
      "cell_type": "code",
      "source": [
        "age = 30\n",
        "name = \"Raj\"\n",
        "txt = \"His name is {1}. {1} is {0} years old.\"\n",
        "print(txt.format(age, name))"
      ],
      "metadata": {
        "colab": {
          "base_uri": "https://localhost:8080/"
        },
        "id": "u8HJiklKXI6E",
        "outputId": "ee19f59f-e56c-40d7-abf0-84b8bf6fec50"
      },
      "execution_count": 35,
      "outputs": [
        {
          "output_type": "stream",
          "name": "stdout",
          "text": [
            "His name is Raj. Raj is 30 years old.\n"
          ]
        }
      ]
    },
    {
      "cell_type": "markdown",
      "source": [
        "# **Named Indexes**\n",
        "\n",
        "You can also use named indexes by entering a name inside the curly brackets {carname}, but then you must use names when you pass the parameter values txt.format(carname = \"Ford\"):"
      ],
      "metadata": {
        "id": "CA_MzO1cXtYC"
      }
    },
    {
      "cell_type": "code",
      "source": [
        "myorder = \"I have a {carname}, it is a {model}.\"\n",
        "\n",
        "print(myorder.format(carname = \"Ford\", model = \"Mustang\"))"
      ],
      "metadata": {
        "colab": {
          "base_uri": "https://localhost:8080/"
        },
        "id": "ZigRPAMbXzYt",
        "outputId": "8cb0121d-e574-4998-be82-7570be7d6e03"
      },
      "execution_count": 36,
      "outputs": [
        {
          "output_type": "stream",
          "name": "stdout",
          "text": [
            "I have a Ford, it is a Mustang.\n"
          ]
        }
      ]
    }
  ]
}