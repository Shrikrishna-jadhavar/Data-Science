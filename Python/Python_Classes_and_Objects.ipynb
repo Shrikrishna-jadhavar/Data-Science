{
  "nbformat": 4,
  "nbformat_minor": 0,
  "metadata": {
    "colab": {
      "provenance": []
    },
    "kernelspec": {
      "name": "python3",
      "display_name": "Python 3"
    },
    "language_info": {
      "name": "python"
    }
  },
  "cells": [
    {
      "cell_type": "markdown",
      "source": [
        "# **Python Classes/Objects**\n",
        "\n",
        "Python is an object oriented programming language.\n",
        "\n",
        "Almost everything in Python is an object, with its properties and methods.\n",
        "\n",
        "A Class is like an object constructor, or a \"blueprint\" for creating objects."
      ],
      "metadata": {
        "id": "xJrTxczpOTvk"
      }
    },
    {
      "cell_type": "markdown",
      "source": [
        "# **Create a Class**\n",
        "\n",
        "To create a class, use the keyword class:"
      ],
      "metadata": {
        "id": "dR_sMjYROjrA"
      }
    },
    {
      "cell_type": "code",
      "execution_count": 23,
      "metadata": {
        "id": "qQOpIAXwNiS6"
      },
      "outputs": [],
      "source": [
        "# Create a class named MyClass, with a property named x:\n",
        "\n",
        "class MyClass:\n",
        "  x = 5"
      ]
    },
    {
      "cell_type": "markdown",
      "source": [
        "# **Create Object**\n",
        "\n",
        "Now we can use the class named MyClass to create objects:"
      ],
      "metadata": {
        "id": "vUnsX_mMOUXE"
      }
    },
    {
      "cell_type": "code",
      "source": [
        "# Create an object named p1, and print the value of x:\n",
        "\n",
        "p1 = MyClass()\n",
        "print(p1.x)"
      ],
      "metadata": {
        "colab": {
          "base_uri": "https://localhost:8080/"
        },
        "id": "6pCu8WYWOVCg",
        "outputId": "8370d5a8-c776-45d4-e3ce-d7168615cca1"
      },
      "execution_count": 24,
      "outputs": [
        {
          "output_type": "stream",
          "name": "stdout",
          "text": [
            "5\n"
          ]
        }
      ]
    },
    {
      "cell_type": "markdown",
      "source": [
        "# **The __init__() Function**\n",
        "\n",
        "The examples above are classes and objects in their simplest form, and are not really useful in real life applications.\n",
        "\n",
        "To understand the meaning of classes we have to understand the built-in __init__() function.\n",
        "\n",
        "All classes have a function called __init__(), which is always executed when the class is being initiated.\n",
        "\n",
        "Use the __init__() function to assign values to object properties, or other operations that are necessary to do when the object is being created:"
      ],
      "metadata": {
        "id": "0gLXP00xOVqw"
      }
    },
    {
      "cell_type": "code",
      "source": [
        "# Create a class named Person, use the __init__() function to assign values for name and age:\n",
        "\n",
        "class Person:\n",
        "  def __init__(self, name, age):\n",
        "    self.name = name\n",
        "    self.age = age\n",
        "\n",
        "p1 = Person(\"Raj\", 18)\n",
        "\n",
        "print(p1.name)\n",
        "print(p1.age)"
      ],
      "metadata": {
        "colab": {
          "base_uri": "https://localhost:8080/"
        },
        "id": "FsAm56SyOWR_",
        "outputId": "b93d3def-6d17-4eaf-bff1-247757ad9e37"
      },
      "execution_count": 25,
      "outputs": [
        {
          "output_type": "stream",
          "name": "stdout",
          "text": [
            "Raj\n",
            "18\n"
          ]
        }
      ]
    },
    {
      "cell_type": "markdown",
      "source": [
        "*Note: The __init__() function is called automatically every time the class is being used to create a new object.*"
      ],
      "metadata": {
        "id": "xw8MfdsiZ907"
      }
    },
    {
      "cell_type": "markdown",
      "source": [
        "# **The __str__() Function**\n",
        "\n",
        "The __str__() function controls what should be returned when the class object is represented as a string.\n",
        "\n",
        "If the __str__() function is not set, the string representation of the object is returned:"
      ],
      "metadata": {
        "id": "J8Ao1DYfOXDB"
      }
    },
    {
      "cell_type": "code",
      "source": [
        "# The string representation of an object WITHOUT the __str__() function:\n",
        "\n",
        "class Person:\n",
        "  def __init__(self, name, age):\n",
        "    self.name = name\n",
        "    self.age = age\n",
        "\n",
        "p1 = Person(\"Raj\", 18)\n",
        "\n",
        "print(p1)"
      ],
      "metadata": {
        "colab": {
          "base_uri": "https://localhost:8080/"
        },
        "id": "UVwnBUjJOYUn",
        "outputId": "3919abcc-fe76-472c-86b2-0d49fed4120e"
      },
      "execution_count": 26,
      "outputs": [
        {
          "output_type": "stream",
          "name": "stdout",
          "text": [
            "<__main__.Person object at 0x7f42209e7190>\n"
          ]
        }
      ]
    },
    {
      "cell_type": "code",
      "source": [
        "# The string representation of an object WITH the __str__() function:\n",
        "\n",
        "class Person:\n",
        "  def __init__(self, name, age):\n",
        "    self.name = name\n",
        "    self.age = age\n",
        "\n",
        "  def __str__(self):\n",
        "    return f\"{self.name}({self.age})\"\n",
        "\n",
        "p1 = Person(\"Raj\", 18)\n",
        "\n",
        "print(p1)"
      ],
      "metadata": {
        "colab": {
          "base_uri": "https://localhost:8080/"
        },
        "id": "4hnallzRbM0l",
        "outputId": "a59a5428-9946-4392-8431-d69bb78f803d"
      },
      "execution_count": 27,
      "outputs": [
        {
          "output_type": "stream",
          "name": "stdout",
          "text": [
            "Raj(18)\n"
          ]
        }
      ]
    },
    {
      "cell_type": "markdown",
      "source": [
        "# **Object Methods**\n",
        "\n",
        "Objects can also contain methods. Methods in objects are functions that belong to the object.\n",
        "\n",
        "Let us create a method in the Person class:"
      ],
      "metadata": {
        "id": "EvTrxNF8aH5M"
      }
    },
    {
      "cell_type": "code",
      "source": [
        "# Insert a function that prints a greeting, and execute it on the p1 object:\n",
        "\n",
        "class Person:\n",
        "  def __init__(self, name, age):\n",
        "    self.name = name\n",
        "    self.age = age\n",
        "\n",
        "  def myfunc(self):\n",
        "    print(\"Hello my name is \" + self.name)\n",
        "\n",
        "p1 = Person(\"Raj\", 18)\n",
        "p1.myfunc()"
      ],
      "metadata": {
        "colab": {
          "base_uri": "https://localhost:8080/"
        },
        "id": "5Oijx0TUaIfX",
        "outputId": "9640843f-3840-4456-9fe8-fe7b4466497d"
      },
      "execution_count": 28,
      "outputs": [
        {
          "output_type": "stream",
          "name": "stdout",
          "text": [
            "Hello my name is Raj\n"
          ]
        }
      ]
    },
    {
      "cell_type": "markdown",
      "source": [
        "*Note: The self parameter is a reference to the current instance of the class, and is used to access variables that belong to the class.*"
      ],
      "metadata": {
        "id": "8TKyjPC2cXP4"
      }
    },
    {
      "cell_type": "markdown",
      "source": [
        "# **The self Parameter**\n",
        "\n",
        "The self parameter is a reference to the current instance of the class, and is used to access variables that belong to the class.\n",
        "\n",
        "It does not have to be named self, you can call it whatever you like, but it has to be the first parameter of any function in the class:"
      ],
      "metadata": {
        "id": "9Qoh1vXfaJUz"
      }
    },
    {
      "cell_type": "code",
      "source": [
        "# Use the words mysillyobject and abc instead of self:\n",
        "\n",
        "class Person:\n",
        "  def __init__(mysillyobject, name, age):\n",
        "    mysillyobject.name = name\n",
        "    mysillyobject.age = age\n",
        "\n",
        "  def myfunc(abc):\n",
        "    print(\"Hello my name is \" + abc.name)\n",
        "\n",
        "p1 = Person(\"Raj\", 18)\n",
        "p1.myfunc()"
      ],
      "metadata": {
        "colab": {
          "base_uri": "https://localhost:8080/"
        },
        "id": "LMMbEBzraJrA",
        "outputId": "aff606a2-a4a9-445e-d213-6fffb430f081"
      },
      "execution_count": 29,
      "outputs": [
        {
          "output_type": "stream",
          "name": "stdout",
          "text": [
            "Hello my name is Raj\n"
          ]
        }
      ]
    },
    {
      "cell_type": "markdown",
      "source": [
        "# **Modify Object Properties**\n",
        "\n",
        "You can modify properties on objects like this:"
      ],
      "metadata": {
        "id": "V4ohSLQpc96L"
      }
    },
    {
      "cell_type": "code",
      "source": [
        "# Set the age of p1 to 20:\n",
        "\n",
        "p1.age = 20"
      ],
      "metadata": {
        "id": "I03PxjR5c9a_"
      },
      "execution_count": 30,
      "outputs": []
    },
    {
      "cell_type": "markdown",
      "source": [
        "# **Delete Object Properties**\n",
        "\n",
        "You can delete properties on objects by using the del keyword:"
      ],
      "metadata": {
        "id": "36HUOhMFcZw6"
      }
    },
    {
      "cell_type": "code",
      "source": [
        "# Delete the age property from the p1 object:\n",
        "\n",
        "del p1.age"
      ],
      "metadata": {
        "id": "uYGgYSDcc9iy"
      },
      "execution_count": 31,
      "outputs": []
    },
    {
      "cell_type": "markdown",
      "source": [
        "# **Delete Objects**\n",
        "\n",
        "You can delete objects by using the del keyword:"
      ],
      "metadata": {
        "id": "uMfK1hPbc984"
      }
    },
    {
      "cell_type": "code",
      "source": [
        "# Delete the p1 object:\n",
        "\n",
        "del p1"
      ],
      "metadata": {
        "id": "fzRRcvo4c9fa"
      },
      "execution_count": 32,
      "outputs": []
    },
    {
      "cell_type": "markdown",
      "source": [
        "# **The pass Statement**\n",
        "\n",
        "class definitions cannot be empty, but if you for some reason have a class definition with no content, put in the pass statement to avoid getting an error."
      ],
      "metadata": {
        "id": "97i855VBc93E"
      }
    },
    {
      "cell_type": "code",
      "source": [
        "class Person:\n",
        "  pass"
      ],
      "metadata": {
        "id": "8fSaXLSoc8kb"
      },
      "execution_count": 33,
      "outputs": []
    }
  ]
}