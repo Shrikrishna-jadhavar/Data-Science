{
  "nbformat": 4,
  "nbformat_minor": 0,
  "metadata": {
    "colab": {
      "provenance": []
    },
    "kernelspec": {
      "name": "python3",
      "display_name": "Python 3"
    },
    "language_info": {
      "name": "python"
    }
  },
  "cells": [
    {
      "cell_type": "markdown",
      "source": [
        "# **Python RegEx**\n",
        "\n",
        "A RegEx, or Regular Expression, is a sequence of characters that forms a search pattern.\n",
        "\n",
        "RegEx can be used to check if a string contains the specified search pattern."
      ],
      "metadata": {
        "id": "oqxSSdxSCNbs"
      }
    },
    {
      "cell_type": "markdown",
      "source": [
        "# **RegEx Module**\n",
        "\n",
        "Python has a built-in package called re, which can be used to work with Regular Expressions.\n",
        "\n",
        "Import the re module:"
      ],
      "metadata": {
        "id": "Twa5gZgwCe7X"
      }
    },
    {
      "cell_type": "code",
      "execution_count": 1,
      "metadata": {
        "id": "vAkmWed0BzUp"
      },
      "outputs": [],
      "source": [
        "import re"
      ]
    },
    {
      "cell_type": "markdown",
      "source": [
        "# **RegEx in Python**\n",
        "\n",
        "When you have imported the re module, you can start using regular expressions."
      ],
      "metadata": {
        "id": "RXz69WtqCw5M"
      }
    },
    {
      "cell_type": "code",
      "source": [
        "# Search the string to see if it starts with \"The\" and ends with \"Spain\":\n",
        "\n",
        "import re\n",
        "\n",
        "txt = \"The rain in Spain\"\n",
        "x = re.search(\"^The.*Spain$\",txt)"
      ],
      "metadata": {
        "id": "jMgJGnmqCi-K"
      },
      "execution_count": 2,
      "outputs": []
    },
    {
      "cell_type": "markdown",
      "source": [
        "# **RegEx Functions**\n",
        "\n",
        "The re module offers a set of functions that allows us to search a string for a match:"
      ],
      "metadata": {
        "id": "FGJ6iahmFhCD"
      }
    },
    {
      "cell_type": "markdown",
      "source": [
        "**The findall() Function**\n",
        "\n",
        "The findall() function returns a list containing all matches."
      ],
      "metadata": {
        "id": "vGRkDMWjIBOn"
      }
    },
    {
      "cell_type": "code",
      "source": [
        "# findall  -  The findall() function returns a list containing all matches.\n",
        "\n",
        "import re\n",
        "\n",
        "txt = \"The rain in Spain\"\n",
        "x = re.findall(\"ai\", txt)\n",
        "print(x)"
      ],
      "metadata": {
        "colab": {
          "base_uri": "https://localhost:8080/"
        },
        "id": "c3sBiYz4DZvW",
        "outputId": "92e68226-19c6-4783-f47e-df019ef28e80"
      },
      "execution_count": 3,
      "outputs": [
        {
          "output_type": "stream",
          "name": "stdout",
          "text": [
            "['ai', 'ai']\n"
          ]
        }
      ]
    },
    {
      "cell_type": "markdown",
      "source": [
        "The list contains the matches in the order they are found.\n",
        "\n",
        "If no matches are found, an empty list is returned:"
      ],
      "metadata": {
        "id": "ONKwfXI-IKIu"
      }
    },
    {
      "cell_type": "code",
      "source": [
        "# Return an empty list if no match was found:\n",
        "\n",
        "txt = \"The rain in Spain\"\n",
        "x = re.findall(\"Portugal\", txt)\n",
        "print(x)"
      ],
      "metadata": {
        "colab": {
          "base_uri": "https://localhost:8080/"
        },
        "id": "F44nRSbGILic",
        "outputId": "0df0f5b9-43fb-49f7-d657-e1abb37a9ff5"
      },
      "execution_count": 4,
      "outputs": [
        {
          "output_type": "stream",
          "name": "stdout",
          "text": [
            "[]\n"
          ]
        }
      ]
    },
    {
      "cell_type": "markdown",
      "source": [
        "**The search() Function**\n",
        "\n",
        "The search() function searches the string for a match, and returns a Match object if there is a match.\n",
        "\n",
        "If there is more than one match, only the first occurrence of the match will be returned:"
      ],
      "metadata": {
        "id": "NmYVH5ASIfXT"
      }
    },
    {
      "cell_type": "code",
      "source": [
        "# search -\tReturns a Match object if there is a match anywhere in the string.\n",
        "\n",
        "txt = \"The rain in Spain\"\n",
        "x = re.search(\"\\s\", txt)\n",
        "\n",
        "print(\"The first white-space character is located in position:\", x.start())"
      ],
      "metadata": {
        "colab": {
          "base_uri": "https://localhost:8080/"
        },
        "id": "1IL61xoSGlMq",
        "outputId": "cb045611-a3b2-4fb2-c5e4-f44dd908d082"
      },
      "execution_count": 5,
      "outputs": [
        {
          "output_type": "stream",
          "name": "stdout",
          "text": [
            "The first white-space character is located in position: 3\n"
          ]
        }
      ]
    },
    {
      "cell_type": "markdown",
      "source": [
        "If no matches are found, the value None is returned:"
      ],
      "metadata": {
        "id": "7vuiwZBDIqpG"
      }
    },
    {
      "cell_type": "code",
      "source": [
        "# Make a search that returns no match:\n",
        "\n",
        "txt = \"The rain in Spain\"\n",
        "x = re.search(\"Portugal\", txt)\n",
        "print(x)"
      ],
      "metadata": {
        "colab": {
          "base_uri": "https://localhost:8080/"
        },
        "id": "Qyk7QUMAIrg7",
        "outputId": "5f973a98-a4b5-4993-adde-454258f83100"
      },
      "execution_count": 6,
      "outputs": [
        {
          "output_type": "stream",
          "name": "stdout",
          "text": [
            "None\n"
          ]
        }
      ]
    },
    {
      "cell_type": "markdown",
      "source": [
        "**The split() Function**\n",
        "\n",
        "The split() function returns a list where the string has been split at each match:"
      ],
      "metadata": {
        "id": "17KyHoYtJBsi"
      }
    },
    {
      "cell_type": "code",
      "source": [
        "# split -\tReturns a list where the string has been split at each match.\n",
        "\n",
        "txt = \"The rain in Spain\"\n",
        "x = re.split(\"\\s\", txt)\n",
        "print(x)"
      ],
      "metadata": {
        "colab": {
          "base_uri": "https://localhost:8080/"
        },
        "id": "yH0CBeH8Gyll",
        "outputId": "829e4874-e45f-47ac-91fe-c9d79c1e912a"
      },
      "execution_count": 7,
      "outputs": [
        {
          "output_type": "stream",
          "name": "stdout",
          "text": [
            "['The', 'rain', 'in', 'Spain']\n"
          ]
        }
      ]
    },
    {
      "cell_type": "markdown",
      "source": [
        "You can control the number of occurrences by specifying the maxsplit parameter:"
      ],
      "metadata": {
        "id": "-w0RtlqAJMtM"
      }
    },
    {
      "cell_type": "code",
      "source": [
        "# Split the string only at the first occurrence:\n",
        "\n",
        "txt = \"The rain in Spain\"\n",
        "x = re.split(\"\\s\", txt, 1)\n",
        "print(x)"
      ],
      "metadata": {
        "colab": {
          "base_uri": "https://localhost:8080/"
        },
        "id": "zbu-GVTvJNqH",
        "outputId": "80c6366d-dd22-47f6-bcb7-66954fce6031"
      },
      "execution_count": 8,
      "outputs": [
        {
          "output_type": "stream",
          "name": "stdout",
          "text": [
            "['The', 'rain in Spain']\n"
          ]
        }
      ]
    },
    {
      "cell_type": "markdown",
      "source": [
        "**The sub() Function**\n",
        "\n",
        "The sub() function replaces the matches with the text of your choice:"
      ],
      "metadata": {
        "id": "F0Ih7Yp9Jfw6"
      }
    },
    {
      "cell_type": "code",
      "source": [
        "# sub -\tReplaces one or many matches with a string.\n",
        "\n",
        "txt = \"The rain in Spain\"\n",
        "x = re.sub(\"\\s\", \"9\", txt)\n",
        "print(x)"
      ],
      "metadata": {
        "colab": {
          "base_uri": "https://localhost:8080/"
        },
        "id": "KbD17YSdHbnU",
        "outputId": "3442842b-2b1b-418c-8e0d-6439a41d632b"
      },
      "execution_count": 9,
      "outputs": [
        {
          "output_type": "stream",
          "name": "stdout",
          "text": [
            "The9rain9in9Spain\n"
          ]
        }
      ]
    },
    {
      "cell_type": "markdown",
      "source": [
        "You can control the number of replacements by specifying the count parameter:"
      ],
      "metadata": {
        "id": "I4eb_cTmJxAS"
      }
    },
    {
      "cell_type": "code",
      "source": [
        "# Replace the first 2 occurrences:\n",
        "\n",
        "txt = \"The rain in Spain\"\n",
        "x = re.sub(\"\\s\", \"9\", txt, 2)\n",
        "print(x)"
      ],
      "metadata": {
        "colab": {
          "base_uri": "https://localhost:8080/"
        },
        "id": "nyI7tGQiHnMr",
        "outputId": "2d27f4c6-fc51-4746-9c56-28a8f788509a"
      },
      "execution_count": 10,
      "outputs": [
        {
          "output_type": "stream",
          "name": "stdout",
          "text": [
            "The9rain9in Spain\n"
          ]
        }
      ]
    },
    {
      "cell_type": "markdown",
      "source": [
        "# **Match Object**\n",
        "\n",
        "A Match Object is an object containing information about the search and the result.\n",
        "\n",
        "*Note: If there is no match, the value None will be returned, instead of the Match Object.*\n"
      ],
      "metadata": {
        "id": "QlTT1jVlKGi9"
      }
    },
    {
      "cell_type": "code",
      "source": [
        "# Do a search that will return a Match Object:\n",
        "\n",
        "txt = \"The rain in Spain\"\n",
        "x = re.search(\"ai\", txt)\n",
        "print(x)"
      ],
      "metadata": {
        "colab": {
          "base_uri": "https://localhost:8080/"
        },
        "id": "RDjZJAfzKKus",
        "outputId": "1ceeb3f3-750d-409a-8193-b67821c1d749"
      },
      "execution_count": 11,
      "outputs": [
        {
          "output_type": "stream",
          "name": "stdout",
          "text": [
            "<re.Match object; span=(5, 7), match='ai'>\n"
          ]
        }
      ]
    },
    {
      "cell_type": "markdown",
      "source": [
        "The Match object has properties and methods used to retrieve information about the search, and the result:\n",
        "\n",
        "**.span()** returns a tuple containing the start-, and end positions of the match.   \n",
        "**.string** returns the string passed into the function.                             \n",
        "**.group()** returns the part of the string where there was a match."
      ],
      "metadata": {
        "id": "sZR0tmMdKn_a"
      }
    },
    {
      "cell_type": "code",
      "source": [
        "# Print the position (start- and end-position) of the first match occurrence.\n",
        "\n",
        "# The regular expression looks for any words that starts with an upper case \"S\":\n",
        "\n",
        "txt = \"The rain in Spain\"\n",
        "x = re.search(r\"\\bS\\w+\", txt)\n",
        "print(x.span())"
      ],
      "metadata": {
        "colab": {
          "base_uri": "https://localhost:8080/"
        },
        "id": "VD0WLLeKKR5f",
        "outputId": "2bd16f5b-5085-4e5c-b0c2-a40d8e48d022"
      },
      "execution_count": 12,
      "outputs": [
        {
          "output_type": "stream",
          "name": "stdout",
          "text": [
            "(12, 17)\n"
          ]
        }
      ]
    },
    {
      "cell_type": "code",
      "source": [
        "# Print the string passed into the function:\n",
        "import re\n",
        "\n",
        "txt = \"The rain in Spain\"\n",
        "x = re.search(r\"\\bS\\w+\", txt)\n",
        "print(x.string)"
      ],
      "metadata": {
        "colab": {
          "base_uri": "https://localhost:8080/"
        },
        "id": "78HNhq-1LRE4",
        "outputId": "4a04e383-f17e-4d65-b8e9-33beea642438"
      },
      "execution_count": 13,
      "outputs": [
        {
          "output_type": "stream",
          "name": "stdout",
          "text": [
            "The rain in Spain\n"
          ]
        }
      ]
    },
    {
      "cell_type": "code",
      "source": [
        "# Print the part of the string where there was a match.\n",
        "\n",
        "# The regular expression looks for any words that starts with an upper case \"S\":\n",
        "import re\n",
        "\n",
        "txt = \"The rain in Spain\"\n",
        "x = re.search(r\"\\bS\\w+\", txt)\n",
        "print(x.group())"
      ],
      "metadata": {
        "colab": {
          "base_uri": "https://localhost:8080/"
        },
        "id": "xUD4jDqeLs56",
        "outputId": "d244f0bf-5f19-4b69-8c6f-3bc81a05c678"
      },
      "execution_count": 14,
      "outputs": [
        {
          "output_type": "stream",
          "name": "stdout",
          "text": [
            "Spain\n"
          ]
        }
      ]
    },
    {
      "cell_type": "markdown",
      "source": [
        "# **Metacharacters**"
      ],
      "metadata": {
        "id": "0X9dICMjMhpu"
      }
    },
    {
      "cell_type": "code",
      "source": [
        "# [] \tA set of characters.\n",
        "\n",
        "txt = \"The rain in Spain\"\n",
        "\n",
        "#Find all lower case characters alphabetically between \"a\" and \"m\":\n",
        "\n",
        "x = re.findall(\"[a-m]\", txt)\n",
        "print(x)"
      ],
      "metadata": {
        "colab": {
          "base_uri": "https://localhost:8080/"
        },
        "id": "J-yaZAyZMj7A",
        "outputId": "24d93d08-7efe-4ce4-928a-163c1cbf5b7e"
      },
      "execution_count": 15,
      "outputs": [
        {
          "output_type": "stream",
          "name": "stdout",
          "text": [
            "['h', 'e', 'a', 'i', 'i', 'a', 'i']\n"
          ]
        }
      ]
    },
    {
      "cell_type": "code",
      "source": [
        "# \\ \tSignals a special sequence (can also be used to escape special characters)\n",
        "\n",
        "txt = \"That will be 59 dollars\"\n",
        "\n",
        "#Find all digit characters:\n",
        "\n",
        "x = re.findall(\"\\d\", txt)\n",
        "print(x)"
      ],
      "metadata": {
        "id": "T4PaEaHlM4sO",
        "colab": {
          "base_uri": "https://localhost:8080/"
        },
        "outputId": "ab1756fe-0fb3-4f6e-e6c1-ba12e77920dd"
      },
      "execution_count": 16,
      "outputs": [
        {
          "output_type": "stream",
          "name": "stdout",
          "text": [
            "['5', '9']\n"
          ]
        }
      ]
    },
    {
      "cell_type": "code",
      "source": [
        "# . \tAny character (except newline character) \t\"he..o\"\n",
        "\n",
        "txt = \"hello planet\"\n",
        "\n",
        "#Search for a sequence that starts with \"he\", followed by two (any) characters, and an \"o\":\n",
        "\n",
        "#x = re.findall(\"he..o\", txt)\n",
        "# x = re.findall(\"he.*o\", txt)\n",
        "x = re.findall(\"pl...t\", txt)\n",
        "print(x)"
      ],
      "metadata": {
        "colab": {
          "base_uri": "https://localhost:8080/"
        },
        "id": "5hfNwKB9Ixmx",
        "outputId": "5ec3225e-5e16-4b24-cfe1-3ed2bbf01c65"
      },
      "execution_count": 17,
      "outputs": [
        {
          "output_type": "stream",
          "name": "stdout",
          "text": [
            "['planet']\n"
          ]
        }
      ]
    },
    {
      "cell_type": "code",
      "source": [
        "# ^ \tStarts with \t\"^hello\"\n",
        "\n",
        "txt = \"hello planet\"\n",
        "\n",
        "#Check if the string starts with 'hello':\n",
        "\n",
        "x = re.findall(\"^hello\", txt)\n",
        "if x:\n",
        "  print(\"Yes, the string starts with 'hello'\")\n",
        "else:\n",
        "  print(\"No match\")"
      ],
      "metadata": {
        "colab": {
          "base_uri": "https://localhost:8080/"
        },
        "id": "y9W1M-OMJJZn",
        "outputId": "fe559cc2-1525-4e5b-d096-6d1e3a52b23c"
      },
      "execution_count": 18,
      "outputs": [
        {
          "output_type": "stream",
          "name": "stdout",
          "text": [
            "Yes, the string starts with 'hello'\n"
          ]
        }
      ]
    },
    {
      "cell_type": "code",
      "source": [
        "# $ \tEnds with \t\"planet$\"\n",
        "\n",
        "txt = \"hello planet\"\n",
        "\n",
        "x = re.findall(\"planet$\", txt)\n",
        "if x:\n",
        "  print(\"Yes, the string ends with 'planet'\")\n",
        "else:\n",
        "  print(\"No match\")"
      ],
      "metadata": {
        "colab": {
          "base_uri": "https://localhost:8080/"
        },
        "id": "nzOlO9wmJ0eo",
        "outputId": "49cd4a01-4d7e-4c3d-f539-3ac888378739"
      },
      "execution_count": 19,
      "outputs": [
        {
          "output_type": "stream",
          "name": "stdout",
          "text": [
            "Yes, the string ends with 'planet'\n"
          ]
        }
      ]
    },
    {
      "cell_type": "code",
      "source": [
        "# * \tZero or more occurrences \t\"he.*o\"\n",
        "\n",
        "txt = \"hello planet\"\n",
        "\n",
        "#Search for a sequence that starts with \"he\", followed by 0 or more  (any) characters, and an \"o\":\n",
        "\n",
        "x = re.findall(\"he.*o\", txt)\n",
        "\n",
        "print(x)"
      ],
      "metadata": {
        "colab": {
          "base_uri": "https://localhost:8080/"
        },
        "id": "RxGswWyMJ0br",
        "outputId": "3b2fdc96-dabe-422d-cc66-0792e9ff56ab"
      },
      "execution_count": 20,
      "outputs": [
        {
          "output_type": "stream",
          "name": "stdout",
          "text": [
            "['hello']\n"
          ]
        }
      ]
    },
    {
      "cell_type": "code",
      "source": [
        "# + \tOne or more occurrences \t\"he.+o\"\n",
        "\n",
        "txt = \"hello planet\"\n",
        "\n",
        "#Search for a sequence that starts with \"he\", followed by 1 or more  (any) characters, and an \"o\":\n",
        "\n",
        "x = re.findall(\"he.+o\", txt)\n",
        "\n",
        "print(x)"
      ],
      "metadata": {
        "colab": {
          "base_uri": "https://localhost:8080/"
        },
        "id": "ItHpOJC3J0VA",
        "outputId": "3bb9bd40-0e38-40ac-b019-35b3d718ef70"
      },
      "execution_count": 21,
      "outputs": [
        {
          "output_type": "stream",
          "name": "stdout",
          "text": [
            "['hello']\n"
          ]
        }
      ]
    },
    {
      "cell_type": "code",
      "source": [
        "# ? \tZero or one occurrences \t\"he.?o\"\n",
        "\n",
        "txt = \"hello planet\"\n",
        "\n",
        "#Search for a sequence that starts with \"he\", followed by 0 or 1  (any) character, and an \"o\":\n",
        "\n",
        "x = re.findall(\"he.?o\", txt)\n",
        "\n",
        "print(x)\n",
        "\n",
        "#This time we got no match, because there were not zero, not one, but two characters between \"he\" and the \"o\""
      ],
      "metadata": {
        "colab": {
          "base_uri": "https://localhost:8080/"
        },
        "id": "VPO1pHZ7LWzB",
        "outputId": "9466946e-d44b-4e55-b005-0435022185fc"
      },
      "execution_count": 22,
      "outputs": [
        {
          "output_type": "stream",
          "name": "stdout",
          "text": [
            "[]\n"
          ]
        }
      ]
    },
    {
      "cell_type": "code",
      "source": [
        "# {} \tExactly the specified number of occurrences \t\"he.{2}o\"\n",
        "\n",
        "txt = \"hello planet\"\n",
        "\n",
        "#Search for a sequence that starts with \"he\", followed excactly 2 (any) characters, and an \"o\":\n",
        "\n",
        "x = re.findall(\"he.{2}o\", txt)\n",
        "\n",
        "print(x)"
      ],
      "metadata": {
        "colab": {
          "base_uri": "https://localhost:8080/"
        },
        "id": "vDTJ5xBVMDfJ",
        "outputId": "6f0a5dfd-9804-4626-87ea-2379c3b232a4"
      },
      "execution_count": 23,
      "outputs": [
        {
          "output_type": "stream",
          "name": "stdout",
          "text": [
            "['hello']\n"
          ]
        }
      ]
    },
    {
      "cell_type": "code",
      "source": [
        "# | \tEither or \t\"falls|stays\"\n",
        "\n",
        "txt = \"The rain in Spain falls mainly in the plain!\"\n",
        "\n",
        "#Check if the string contains either \"falls\" or \"stays\":\n",
        "\n",
        "x = re.findall(\"falls|stays\", txt)\n",
        "\n",
        "print(x)"
      ],
      "metadata": {
        "colab": {
          "base_uri": "https://localhost:8080/"
        },
        "id": "Beio1xS4MDI_",
        "outputId": "d78f98dc-80bc-4663-9d79-725d2f8929b3"
      },
      "execution_count": 24,
      "outputs": [
        {
          "output_type": "stream",
          "name": "stdout",
          "text": [
            "['falls']\n"
          ]
        }
      ]
    },
    {
      "cell_type": "markdown",
      "source": [
        "# **Special Sequences**\n",
        "\n",
        "A special sequence is a \\ followed by one of the characters in the list below, and has a special meaning:"
      ],
      "metadata": {
        "id": "4WHmQ4ctM185"
      }
    },
    {
      "cell_type": "code",
      "source": [
        "# \\A \tReturns a match if the specified characters are at the beginning of the string \t\"\\AThe\"\n",
        "\n",
        "import re\n",
        "\n",
        "txt = \"The Rain In Spain\"\n",
        "\n",
        "x = re.findall(\"\\AThe\", txt)\n",
        "print (x)\n",
        "\n",
        "if x:\n",
        "  print(\"Yes, There is a Match!..\")\n",
        "else:\n",
        "  print(\"No Match!..\")"
      ],
      "metadata": {
        "id": "p6RQyCNXMDFo",
        "colab": {
          "base_uri": "https://localhost:8080/"
        },
        "outputId": "ffe4da42-c1a3-4aed-bc0c-0c4894978510"
      },
      "execution_count": 26,
      "outputs": [
        {
          "output_type": "stream",
          "name": "stdout",
          "text": [
            "['The']\n",
            "Yes, There is a Match!..\n"
          ]
        }
      ]
    },
    {
      "cell_type": "code",
      "source": [
        "# \\b \tReturns a match where the specified characters are at the beginning or at the end of a word   r\"\\bain\"\n",
        "\n",
        "txt = \"The rain in Spain\"\n",
        "\n",
        "#Check if \"ain\" is present at the beginning of a WORD:\n",
        "\n",
        "x = re.findall(r\"\\bain\", txt)\n",
        "\n",
        "print(x)\n",
        "\n",
        "if x:\n",
        "  print(\"Yes, there is at least one match!\")\n",
        "else:\n",
        "  print(\"No match\")"
      ],
      "metadata": {
        "colab": {
          "base_uri": "https://localhost:8080/"
        },
        "id": "rOD9afmpVSGI",
        "outputId": "37faf5ef-3946-490e-b3ce-7300c62e3b88"
      },
      "execution_count": 30,
      "outputs": [
        {
          "output_type": "stream",
          "name": "stdout",
          "text": [
            "[]\n",
            "No match\n"
          ]
        }
      ]
    },
    {
      "cell_type": "code",
      "source": [
        "# \\b (the \"r\" in the beginning is making sure that the string is being treated as a \"raw string\")   r\"ain\\b\"\n",
        "\n",
        "txt = \"The rain in Spain\"\n",
        "\n",
        "#Check if \"ain\" is present at the end of a WORD:\n",
        "\n",
        "x = re.findall(r\"ain\\b\", txt)\n",
        "\n",
        "print(x)\n",
        "\n",
        "if x:\n",
        "  print(\"Yes, there is at least one match!\")\n",
        "else:\n",
        "  print(\"No match\")"
      ],
      "metadata": {
        "colab": {
          "base_uri": "https://localhost:8080/"
        },
        "id": "74T33eqkVzsf",
        "outputId": "05069e18-b3ed-4256-9950-a11ffe8b7bd8"
      },
      "execution_count": 31,
      "outputs": [
        {
          "output_type": "stream",
          "name": "stdout",
          "text": [
            "['ain', 'ain']\n",
            "Yes, there is at least one match!\n"
          ]
        }
      ]
    },
    {
      "cell_type": "code",
      "source": [
        "# \\B \tReturns a match where the specified characters are present, but NOT at the beginning (or at the end) of a word    r\"\\Bain\"\n",
        "\n",
        "txt = \"The rain in Spain\"\n",
        "\n",
        "#Check if \"ain\" is present, but NOT at the beginning of a word:\n",
        "\n",
        "x = re.findall(r\"\\Bain\", txt)\n",
        "\n",
        "print(x)\n",
        "\n",
        "if x:\n",
        "  print(\"Yes, there is at least one match!\")\n",
        "else:\n",
        "  print(\"No match\")"
      ],
      "metadata": {
        "colab": {
          "base_uri": "https://localhost:8080/"
        },
        "id": "w_TP9jQbWj1I",
        "outputId": "bada27ef-a38b-48b6-d912-531f1aa01807"
      },
      "execution_count": 32,
      "outputs": [
        {
          "output_type": "stream",
          "name": "stdout",
          "text": [
            "['ain', 'ain']\n",
            "Yes, there is at least one match!\n"
          ]
        }
      ]
    },
    {
      "cell_type": "code",
      "source": [
        "# (the \"r\" in the beginning is making sure that the string is being treated as a \"raw string\")     r\"ain\\B\"\n",
        "\n",
        "txt = \"The rain in Spain\"\n",
        "\n",
        "#Check if \"ain\" is present, but NOT at the end of a word:\n",
        "\n",
        "x = re.findall(r\"ain\\B\", txt)\n",
        "\n",
        "print(x)\n",
        "\n",
        "if x:\n",
        "  print(\"Yes, there is at least one match!\")\n",
        "else:\n",
        "  print(\"No match\")"
      ],
      "metadata": {
        "colab": {
          "base_uri": "https://localhost:8080/"
        },
        "id": "XzRFfJcPWjyV",
        "outputId": "ddaaebec-b5f1-4bdf-8d14-445e437c08e6"
      },
      "execution_count": 33,
      "outputs": [
        {
          "output_type": "stream",
          "name": "stdout",
          "text": [
            "[]\n",
            "No match\n"
          ]
        }
      ]
    },
    {
      "cell_type": "code",
      "source": [
        "# \\d \tReturns a match where the string contains digits (numbers from 0-9) \t\"\\d\"\n",
        "\n",
        "txt = \"The rain in Spain\"\n",
        "\n",
        "#Check if the string contains any digits (numbers from 0-9):\n",
        "\n",
        "x = re.findall(\"\\d\", txt)\n",
        "\n",
        "print(x)\n",
        "\n",
        "if x:\n",
        "  print(\"Yes, there is at least one match!\")\n",
        "else:\n",
        "  print(\"No match\")"
      ],
      "metadata": {
        "colab": {
          "base_uri": "https://localhost:8080/"
        },
        "id": "SDc1NmI7Wju3",
        "outputId": "02d7a55f-06a0-4a6f-b121-f607aa75fe6b"
      },
      "execution_count": 34,
      "outputs": [
        {
          "output_type": "stream",
          "name": "stdout",
          "text": [
            "[]\n",
            "No match\n"
          ]
        }
      ]
    },
    {
      "cell_type": "code",
      "source": [
        "# \\D \tReturns a match where the string DOES NOT contain digits \t\"\\D\"\n",
        "\n",
        "txt = \"The rain in Spain\"\n",
        "\n",
        "#Return a match at every no-digit character:\n",
        "\n",
        "x = re.findall(\"\\D\", txt)\n",
        "\n",
        "print(x)\n",
        "\n",
        "if x:\n",
        "  print(\"Yes, there is at least one match!\")\n",
        "else:\n",
        "  print(\"No Match!\")"
      ],
      "metadata": {
        "colab": {
          "base_uri": "https://localhost:8080/"
        },
        "id": "m1Ss2k3zXUEd",
        "outputId": "98b64009-d5b1-45c3-f896-06e71f1ede99"
      },
      "execution_count": 35,
      "outputs": [
        {
          "output_type": "stream",
          "name": "stdout",
          "text": [
            "['T', 'h', 'e', ' ', 'r', 'a', 'i', 'n', ' ', 'i', 'n', ' ', 'S', 'p', 'a', 'i', 'n']\n",
            "Yes, there is at least one match!\n"
          ]
        }
      ]
    },
    {
      "cell_type": "code",
      "source": [
        "# \\s \tReturns a match where the string contains a white space character \t\"\\s\"\n",
        "\n",
        "txt = \"The rain in Spain\"\n",
        "\n",
        "#Return a match at every white-space character:\n",
        "\n",
        "x = re.findall(\"\\s\", txt)\n",
        "\n",
        "print(x)\n",
        "\n",
        "if x:\n",
        "  print(\"Yes, there is at least one match!\")\n",
        "else:\n",
        "  print(\"No match\")"
      ],
      "metadata": {
        "colab": {
          "base_uri": "https://localhost:8080/"
        },
        "id": "jcGSsISgXzKj",
        "outputId": "f224e534-6a95-4d0f-eff1-d646c5514d90"
      },
      "execution_count": 36,
      "outputs": [
        {
          "output_type": "stream",
          "name": "stdout",
          "text": [
            "[' ', ' ', ' ']\n",
            "Yes, there is at least one match!\n"
          ]
        }
      ]
    },
    {
      "cell_type": "code",
      "source": [
        "# \\S \tReturns a match where the string DOES NOT contain a white space character \t\"\\S\"\n",
        "\n",
        "txt = \"The rain in Spain\"\n",
        "\n",
        "#Return a match at every NON white-space character:\n",
        "\n",
        "x = re.findall(\"\\S\", txt)\n",
        "\n",
        "print(x)\n",
        "\n",
        "if x:\n",
        "  print(\"Yes, there is at least one match!\")\n",
        "else:\n",
        "  print(\"No match\")"
      ],
      "metadata": {
        "colab": {
          "base_uri": "https://localhost:8080/"
        },
        "id": "-XywibYRYUSS",
        "outputId": "c9abe58c-2bea-4559-c919-0aaafc93f72a"
      },
      "execution_count": 37,
      "outputs": [
        {
          "output_type": "stream",
          "name": "stdout",
          "text": [
            "['T', 'h', 'e', 'r', 'a', 'i', 'n', 'i', 'n', 'S', 'p', 'a', 'i', 'n']\n",
            "Yes, there is at least one match!\n"
          ]
        }
      ]
    },
    {
      "cell_type": "code",
      "source": [
        "# \\w \tReturns a match where the string contains any word characters (characters from a to Z, digits from 0-9, and the underscore _ character) \t\"\\w\"\n",
        "\n",
        "txt = \"The rain in Spain\"\n",
        "\n",
        "#Return a match at every word character (characters from a to Z, digits from 0-9, and the underscore _ character):\n",
        "\n",
        "x = re.findall(\"\\w\", txt)\n",
        "\n",
        "print(x)\n",
        "\n",
        "if x:\n",
        "  print(\"Yes, there is at least one match!\")\n",
        "else:\n",
        "  print(\"No match\")"
      ],
      "metadata": {
        "colab": {
          "base_uri": "https://localhost:8080/"
        },
        "id": "anbOMfYtYUNF",
        "outputId": "26171cea-af65-4467-d244-d7dcea1d07bd"
      },
      "execution_count": 38,
      "outputs": [
        {
          "output_type": "stream",
          "name": "stdout",
          "text": [
            "['T', 'h', 'e', 'r', 'a', 'i', 'n', 'i', 'n', 'S', 'p', 'a', 'i', 'n']\n",
            "Yes, there is at least one match!\n"
          ]
        }
      ]
    },
    {
      "cell_type": "code",
      "source": [
        "# \\W \tReturns a match where the string DOES NOT contain any word characters \t\"\\W\"\n",
        "\n",
        "txt = \"The rain in Spain\"\n",
        "\n",
        "x = re.findall(\"\\W\", txt)\n",
        "print(x)\n",
        "\n",
        "if x:\n",
        "  print(\"Yes\")\n",
        "else:\n",
        "  print(\"No\")"
      ],
      "metadata": {
        "colab": {
          "base_uri": "https://localhost:8080/"
        },
        "id": "XYVUPMZkYUHU",
        "outputId": "05dfa9cc-740d-4a8c-e5a9-43f60f53921b"
      },
      "execution_count": 39,
      "outputs": [
        {
          "output_type": "stream",
          "name": "stdout",
          "text": [
            "[' ', ' ', ' ']\n",
            "Yes\n"
          ]
        }
      ]
    },
    {
      "cell_type": "code",
      "source": [
        "# \\Z \tReturns a match if the specified characters are at the end of the string \t\"Spain\\Z\"\n",
        "\n",
        "txt = \"The rain in Spain\"\n",
        "\n",
        "x = re.findall(\"Spain\\Z\", txt)\n",
        "print(x)\n",
        "\n",
        "if x:\n",
        "  print(\"Yes, there is a match!\")\n",
        "else:\n",
        "  print(\"No match\")"
      ],
      "metadata": {
        "colab": {
          "base_uri": "https://localhost:8080/"
        },
        "id": "k1O3A46XYUDO",
        "outputId": "e0b9a110-4f82-45c6-e22f-2b80eaac1345"
      },
      "execution_count": 40,
      "outputs": [
        {
          "output_type": "stream",
          "name": "stdout",
          "text": [
            "['Spain']\n",
            "Yes, there is a match!\n"
          ]
        }
      ]
    },
    {
      "cell_type": "markdown",
      "source": [
        "# **Sets**\n",
        "\n",
        "A set is a set of characters inside a pair of square brackets [ ] with a special meaning:"
      ],
      "metadata": {
        "id": "zKU5crozZ4lp"
      }
    },
    {
      "cell_type": "code",
      "source": [
        "# [arn] \tReturns a match where one of the specified characters (a, r, or n) is present\n",
        "\n",
        "txt = \"The rain in Spain\"\n",
        "\n",
        "#Check if the string has any a, r, or n characters:\n",
        "\n",
        "x = re.findall(\"[arn]\", txt)\n",
        "\n",
        "print(x)"
      ],
      "metadata": {
        "colab": {
          "base_uri": "https://localhost:8080/"
        },
        "id": "vBw--nmZXzG2",
        "outputId": "2fe4396f-4fd3-403a-b86c-ed1a807147f5"
      },
      "execution_count": 41,
      "outputs": [
        {
          "output_type": "stream",
          "name": "stdout",
          "text": [
            "['r', 'a', 'n', 'n', 'a', 'n']\n"
          ]
        }
      ]
    },
    {
      "cell_type": "code",
      "source": [
        "# [a-n] \tReturns a match for any lower case character, alphabetically between a and n\n",
        "\n",
        "txt = \"The rain in Spain\"\n",
        "\n",
        "#Check if the string has any characters between a and n:\n",
        "\n",
        "x = re.findall(\"[a-n]\", txt)\n",
        "\n",
        "print(x)"
      ],
      "metadata": {
        "colab": {
          "base_uri": "https://localhost:8080/"
        },
        "id": "UNnF3vnCZ_5q",
        "outputId": "5786f1f9-5017-47bd-d6a1-9148b5ca54fa"
      },
      "execution_count": 42,
      "outputs": [
        {
          "output_type": "stream",
          "name": "stdout",
          "text": [
            "['h', 'e', 'a', 'i', 'n', 'i', 'n', 'a', 'i', 'n']\n"
          ]
        }
      ]
    },
    {
      "cell_type": "code",
      "source": [
        "# [^arn] \tReturns a match for any character EXCEPT a, r, and n\n",
        "\n",
        "txt = \"The rain in Spain\"\n",
        "\n",
        "#Check if the string has other characters than a, r, or n:\n",
        "\n",
        "x = re.findall(\"[^arn]\", txt)\n",
        "\n",
        "print(x)"
      ],
      "metadata": {
        "colab": {
          "base_uri": "https://localhost:8080/"
        },
        "id": "ZFPH5v-SZ_3D",
        "outputId": "6352818d-9174-4a86-acea-6805c6009847"
      },
      "execution_count": 43,
      "outputs": [
        {
          "output_type": "stream",
          "name": "stdout",
          "text": [
            "['T', 'h', 'e', ' ', 'i', ' ', 'i', ' ', 'S', 'p', 'i']\n"
          ]
        }
      ]
    },
    {
      "cell_type": "code",
      "source": [
        "# [0123] \tReturns a match where any of the specified digits (0, 1, 2, or 3) are present\n",
        "\n",
        "txt = \"The rain in Spain\"\n",
        "\n",
        "#Check if the string has any 0, 1, 2, or 3 digits:\n",
        "\n",
        "x = re.findall(\"[0123]\", txt)\n",
        "\n",
        "print(x)"
      ],
      "metadata": {
        "colab": {
          "base_uri": "https://localhost:8080/"
        },
        "id": "YpwKkfu6Z_0T",
        "outputId": "154ddc49-068f-4afa-83b7-9d8f99655e31"
      },
      "execution_count": 44,
      "outputs": [
        {
          "output_type": "stream",
          "name": "stdout",
          "text": [
            "[]\n"
          ]
        }
      ]
    },
    {
      "cell_type": "code",
      "source": [
        "# [0-9] \tReturns a match for any digit between 0 and 9\n",
        "\n",
        "txt = \"8 times before 11:45 AM\"\n",
        "\n",
        "#Check if the string has any digits:\n",
        "\n",
        "x = re.findall(\"[0-9]\", txt)\n",
        "\n",
        "print(x)"
      ],
      "metadata": {
        "colab": {
          "base_uri": "https://localhost:8080/"
        },
        "id": "CIqllnfqZ_xY",
        "outputId": "781f8583-3259-4248-960a-6a3819fb1fb6"
      },
      "execution_count": 45,
      "outputs": [
        {
          "output_type": "stream",
          "name": "stdout",
          "text": [
            "['8', '1', '1', '4', '5']\n"
          ]
        }
      ]
    },
    {
      "cell_type": "code",
      "source": [
        "# [0-5][0-9] \tReturns a match for any two-digit numbers from 00 and 59\n",
        "\n",
        "txt = \"8 times before 11:45 AM\"\n",
        "\n",
        "#Check if the string has any two-digit numbers, from 00 to 59:\n",
        "\n",
        "x = re.findall(\"[0-5][0-9]\", txt)\n",
        "\n",
        "print(x)"
      ],
      "metadata": {
        "colab": {
          "base_uri": "https://localhost:8080/"
        },
        "id": "xvQqOA6lbX6x",
        "outputId": "6413598a-4837-447a-9e72-6b6cf048ace2"
      },
      "execution_count": 46,
      "outputs": [
        {
          "output_type": "stream",
          "name": "stdout",
          "text": [
            "['11', '45']\n"
          ]
        }
      ]
    },
    {
      "cell_type": "code",
      "source": [
        "# [a-zA-Z] \tReturns a match for any character alphabetically between a and z, lower case OR upper case\n",
        "\n",
        "txt = \"8 times before 11:45 AM\"\n",
        "\n",
        "#Check if the string has any characters from a to z lower case, and A to Z upper case:\n",
        "\n",
        "x = re.findall(\"[a-zA-Z]\", txt)\n",
        "\n",
        "print(x)"
      ],
      "metadata": {
        "colab": {
          "base_uri": "https://localhost:8080/"
        },
        "id": "WN9iOIe6bgQc",
        "outputId": "b2ab9a72-9dd4-4baa-e566-67e3877ace49"
      },
      "execution_count": 47,
      "outputs": [
        {
          "output_type": "stream",
          "name": "stdout",
          "text": [
            "['t', 'i', 'm', 'e', 's', 'b', 'e', 'f', 'o', 'r', 'e', 'A', 'M']\n"
          ]
        }
      ]
    },
    {
      "cell_type": "code",
      "source": [
        "# [+] \tIn sets, +, *, ., |, (), $,{} has no special meaning, so [+] means: return a match for any + character in the string\n",
        "\n",
        "txt = \"8 times before 11:45 AM\"\n",
        "\n",
        "#Check if the string has any + characters:\n",
        "\n",
        "x = re.findall(\"[+]\", txt)\n",
        "\n",
        "print(x)"
      ],
      "metadata": {
        "colab": {
          "base_uri": "https://localhost:8080/"
        },
        "id": "BybVvothbpnF",
        "outputId": "018ced32-292b-4602-95c5-ddc522cff617"
      },
      "execution_count": 50,
      "outputs": [
        {
          "output_type": "stream",
          "name": "stdout",
          "text": [
            "[]\n"
          ]
        }
      ]
    }
  ]
}