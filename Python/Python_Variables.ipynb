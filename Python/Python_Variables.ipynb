{
  "nbformat": 4,
  "nbformat_minor": 0,
  "metadata": {
    "colab": {
      "provenance": [],
      "collapsed_sections": [
        "XsXO99lokvXW",
        "tsoPqI6rnY_c",
        "M3R-7b8crdFi",
        "GOY6XZuFrsMe"
      ]
    },
    "kernelspec": {
      "name": "python3",
      "display_name": "Python 3"
    },
    "language_info": {
      "name": "python"
    }
  },
  "cells": [
    {
      "cell_type": "markdown",
      "source": [
        "# **Variables**\n",
        "\n",
        "Variables are containers for storing data values.\n",
        "\n",
        "**Creating Variables**\n",
        "\n",
        "Python has no command for declaring a variable.\n",
        "\n",
        "A variable is created the moment you first assign a value to it."
      ],
      "metadata": {
        "id": "XsXO99lokvXW"
      }
    },
    {
      "cell_type": "code",
      "source": [
        "a = 10\n",
        "y = \"Hello\"\n",
        "print(a)\n",
        "print(y)"
      ],
      "metadata": {
        "id": "AEvCK2q3lDBd",
        "colab": {
          "base_uri": "https://localhost:8080/"
        },
        "outputId": "a71e1909-c9da-45d1-a4e8-e5eaa34681c7"
      },
      "execution_count": null,
      "outputs": [
        {
          "output_type": "stream",
          "name": "stdout",
          "text": [
            "10\n",
            "Hello\n"
          ]
        }
      ]
    },
    {
      "cell_type": "code",
      "source": [
        "# Variables do not need to be declared with any particular type, and can even change type after they have been set.\n",
        "\n",
        "x = 4       # x is of type int\n",
        "x = \"Emily\" # x is now of type str\n",
        "print(x)"
      ],
      "metadata": {
        "colab": {
          "base_uri": "https://localhost:8080/"
        },
        "id": "yCOa7RGKdlcP",
        "outputId": "064f61a7-771b-417b-d983-1caae361ac36"
      },
      "execution_count": null,
      "outputs": [
        {
          "output_type": "stream",
          "name": "stdout",
          "text": [
            "Emily\n"
          ]
        }
      ]
    },
    {
      "cell_type": "markdown",
      "source": [
        "**Casting**\n",
        "\n",
        "If you want to specify the data type of a variable, this can be done with casting."
      ],
      "metadata": {
        "id": "F5vU2JyOkvUA"
      }
    },
    {
      "cell_type": "code",
      "source": [
        "a = int(5)    # x will be 3\n",
        "\n",
        "b = str(5)    # x will be '3'\n",
        "\n",
        "c = float(5)  # x will be 3.0\n",
        "\n",
        "print(a)\n",
        "print(b)\n",
        "print(c)"
      ],
      "metadata": {
        "colab": {
          "base_uri": "https://localhost:8080/"
        },
        "id": "XVHyzZVteQqL",
        "outputId": "754204ef-c49b-4115-e876-a2003bd97608"
      },
      "execution_count": null,
      "outputs": [
        {
          "output_type": "stream",
          "name": "stdout",
          "text": [
            "5\n",
            "5\n",
            "5.0\n"
          ]
        }
      ]
    },
    {
      "cell_type": "markdown",
      "source": [
        "**Get the Type**\n",
        "\n",
        "You can get the data type of a variable with the type() function."
      ],
      "metadata": {
        "id": "x3fQoWbrkvSI"
      }
    },
    {
      "cell_type": "code",
      "source": [
        "a = 10\n",
        "y = \"Hello\"\n",
        "\n",
        "print(type(a))\n",
        "print(type(y))"
      ],
      "metadata": {
        "colab": {
          "base_uri": "https://localhost:8080/"
        },
        "id": "0PusFp2TfFg4",
        "outputId": "4f56dc33-8cb8-41cf-d112-b0e092e7c881"
      },
      "execution_count": null,
      "outputs": [
        {
          "output_type": "stream",
          "name": "stdout",
          "text": [
            "<class 'int'>\n",
            "<class 'str'>\n"
          ]
        }
      ]
    },
    {
      "cell_type": "markdown",
      "source": [
        "**Single or Double Quotes?**\n",
        "\n",
        "String variables can be declared either by using single or double quotes:"
      ],
      "metadata": {
        "id": "jZ4UB6a0kvGc"
      }
    },
    {
      "cell_type": "code",
      "execution_count": null,
      "metadata": {
        "id": "i1Hau1UbkoYn",
        "colab": {
          "base_uri": "https://localhost:8080/"
        },
        "outputId": "1c8461a1-24c5-4a32-ebcd-6bbf3ba96cc2"
      },
      "outputs": [
        {
          "output_type": "stream",
          "name": "stdout",
          "text": [
            "Hello\n",
            "Hello\n"
          ]
        }
      ],
      "source": [
        "a = \"Hello\"   # is the same as\n",
        "\n",
        "b = 'Hello'   # is the same\n",
        "\n",
        "print(a)\n",
        "print(b)"
      ]
    },
    {
      "cell_type": "markdown",
      "source": [
        "**Case-Sensitive**\n",
        "\n",
        "Variable names are case-sensitive."
      ],
      "metadata": {
        "id": "8ajE8W9ngW0u"
      }
    },
    {
      "cell_type": "code",
      "source": [
        "# This will create two variables:\n",
        "\n",
        "a = 5\n",
        "\n",
        "A = \"Hello\"   #A will not overwrite a\n",
        "print(a)\n",
        "print(A)"
      ],
      "metadata": {
        "colab": {
          "base_uri": "https://localhost:8080/"
        },
        "id": "dxnuDUQxgFup",
        "outputId": "b013bac7-659d-4bdf-ea6c-3a27dd3c10f5"
      },
      "execution_count": null,
      "outputs": [
        {
          "output_type": "stream",
          "name": "stdout",
          "text": [
            "5\n",
            "Hello\n"
          ]
        }
      ]
    },
    {
      "cell_type": "markdown",
      "source": [
        "# **Variable Names**"
      ],
      "metadata": {
        "id": "tsoPqI6rnY_c"
      }
    },
    {
      "cell_type": "markdown",
      "source": [
        "**Variable Names**\n",
        "\n",
        "A variable can have a short name (like a and b) or a more descriptive name (age, carname, total_volume).\n",
        "\n",
        "Rules for Python variables:\n",
        "\n",
        "* A variable name must start with a letter or the underscore character.           \n",
        "* A variable name cannot start with a number.                               \n",
        "* A variable name can only contain alpha-numeric characters and underscores (A-z, 0-9, and _ ).                                                                    \n",
        "* Variable names are case-sensitive (age, Age and AGE are three different variables).                                                                  \n",
        "* A variable name cannot be any of the Python keywords.\n"
      ],
      "metadata": {
        "id": "8gDQQ633ncK9"
      }
    },
    {
      "cell_type": "code",
      "source": [
        "# Legal variable names:\n",
        "\n",
        "myvar = \"Hello\"\n",
        "my_var = \"Hello\"\n",
        "_my_var = \"Hello\"\n",
        "myVar = \"Hello\"\n",
        "MYVAR = \"Hello\"\n",
        "myvar2 = \"Hello\""
      ],
      "metadata": {
        "id": "CGgCgXE1guMo"
      },
      "execution_count": null,
      "outputs": []
    },
    {
      "cell_type": "code",
      "source": [
        "# Illegal variable names:\n",
        "\n",
        "2myvar = \"Hello\"\n",
        "my-var = \"Hello\"\n",
        "my var = \"Hello\""
      ],
      "metadata": {
        "colab": {
          "base_uri": "https://localhost:8080/",
          "height": 108
        },
        "collapsed": true,
        "id": "T7oWPktnpQWH",
        "outputId": "8e36c1cc-e248-48c3-bfe5-427602dc3747"
      },
      "execution_count": null,
      "outputs": [
        {
          "output_type": "error",
          "ename": "SyntaxError",
          "evalue": "invalid decimal literal (<ipython-input-10-0a345a56d539>, line 3)",
          "traceback": [
            "\u001b[0;36m  File \u001b[0;32m\"<ipython-input-10-0a345a56d539>\"\u001b[0;36m, line \u001b[0;32m3\u001b[0m\n\u001b[0;31m    2myvar = \"Hello\"\u001b[0m\n\u001b[0m    ^\u001b[0m\n\u001b[0;31mSyntaxError\u001b[0m\u001b[0;31m:\u001b[0m invalid decimal literal\n"
          ]
        }
      ]
    },
    {
      "cell_type": "markdown",
      "source": [
        "**Multi Words Variable Names**\n",
        "\n",
        "Variable names with more than one word can be difficult to read.\n",
        "\n",
        "There are several techniques you can use to make them more readable:"
      ],
      "metadata": {
        "id": "Fc4BsJB0peSb"
      }
    },
    {
      "cell_type": "markdown",
      "source": [
        "**Camel Case**\n",
        "\n",
        "Each word, except the first, starts with a capital letter:"
      ],
      "metadata": {
        "id": "M59EPwXepePE"
      }
    },
    {
      "cell_type": "code",
      "source": [
        "myVariableName = \"Hello\""
      ],
      "metadata": {
        "id": "7oZLEYofqIOE"
      },
      "execution_count": null,
      "outputs": []
    },
    {
      "cell_type": "markdown",
      "source": [
        "**Pascal Case**\n",
        "\n",
        "Each word starts with a capital letter:"
      ],
      "metadata": {
        "id": "rX7SKp-IpeLt"
      }
    },
    {
      "cell_type": "code",
      "source": [
        "MyVariableName = \"Hello\""
      ],
      "metadata": {
        "id": "HFpnKqv3qf_K"
      },
      "execution_count": null,
      "outputs": []
    },
    {
      "cell_type": "markdown",
      "source": [
        "**Snake Case**\n",
        "\n",
        "Each word is separated by an underscore character:"
      ],
      "metadata": {
        "id": "SyrjJNIQpeHp"
      }
    },
    {
      "cell_type": "code",
      "source": [
        "my_variable_name = \"Hello\""
      ],
      "metadata": {
        "id": "eqjawxH8pSt3"
      },
      "execution_count": null,
      "outputs": []
    },
    {
      "cell_type": "markdown",
      "source": [
        "# **Assign Multiple Values**"
      ],
      "metadata": {
        "id": "M3R-7b8crdFi"
      }
    },
    {
      "cell_type": "markdown",
      "source": [
        "**Many Values to Multiple Variables**\n",
        "\n",
        "Python allows you to assign values to multiple variables in one line:"
      ],
      "metadata": {
        "id": "6R17dgOnrdCD"
      }
    },
    {
      "cell_type": "code",
      "source": [
        "a, b, c = \"Aryan\", \"Kabir\", \"Priya\"\n",
        "\n",
        "print(a)\n",
        "print(b)\n",
        "print(c)"
      ],
      "metadata": {
        "colab": {
          "base_uri": "https://localhost:8080/"
        },
        "id": "Ec6VC2_Rrn4Z",
        "outputId": "4780c8c7-f4b0-4b67-fdee-aa34b09bbdb1"
      },
      "execution_count": null,
      "outputs": [
        {
          "output_type": "stream",
          "name": "stdout",
          "text": [
            "Aryan\n",
            "Kabir\n",
            "Priya\n"
          ]
        }
      ]
    },
    {
      "cell_type": "markdown",
      "source": [
        "**One Value to Multiple Variables**\n",
        "\n",
        "And you can assign the same value to multiple variables in one line:"
      ],
      "metadata": {
        "id": "XamDy5ybrc-e"
      }
    },
    {
      "cell_type": "code",
      "source": [
        "a = b = c = \"Hello\"\n",
        "\n",
        "print(a)\n",
        "print(b)\n",
        "print(c)"
      ],
      "metadata": {
        "colab": {
          "base_uri": "https://localhost:8080/"
        },
        "id": "RRHHupTMshI1",
        "outputId": "60a94ebf-3fdd-48b9-8a07-20877f254653"
      },
      "execution_count": null,
      "outputs": [
        {
          "output_type": "stream",
          "name": "stdout",
          "text": [
            "Hello\n",
            "Hello\n",
            "Hello\n"
          ]
        }
      ]
    },
    {
      "cell_type": "markdown",
      "source": [
        "**Unpack a Collection**\n",
        "\n",
        "If you have a collection of values in a list, tuple etc. Python allows you to extract the values into variables. This is called unpacking."
      ],
      "metadata": {
        "id": "dx4M9q9Arc5s"
      }
    },
    {
      "cell_type": "code",
      "source": [
        "names = [\"Aryan\", \"Kabir\", \"Priya\"]\n",
        "\n",
        "a, b, c = names\n",
        "\n",
        "print(a)\n",
        "print(b)\n",
        "print(c)"
      ],
      "metadata": {
        "id": "RUN3LBnPq2rP",
        "colab": {
          "base_uri": "https://localhost:8080/"
        },
        "outputId": "8ebbdd6c-f1b2-417a-b624-7d0c381dfb99"
      },
      "execution_count": 1,
      "outputs": [
        {
          "output_type": "stream",
          "name": "stdout",
          "text": [
            "Aryan\n",
            "Kabir\n",
            "Priya\n"
          ]
        }
      ]
    },
    {
      "cell_type": "markdown",
      "source": [
        "# **Output Variables**"
      ],
      "metadata": {
        "id": "GOY6XZuFrsMe"
      }
    },
    {
      "cell_type": "markdown",
      "source": [
        "**Output Variables**\n",
        "\n",
        "The Python **print()** function is often used to output variables."
      ],
      "metadata": {
        "id": "lpdsRtwdrr89"
      }
    },
    {
      "cell_type": "code",
      "source": [
        "a = \"welcome to the course\"\n",
        "print(a)"
      ],
      "metadata": {
        "colab": {
          "base_uri": "https://localhost:8080/"
        },
        "id": "TKcTIGITrGMI",
        "outputId": "962a7cb7-7078-4db4-c76d-273b5cb13af8"
      },
      "execution_count": 2,
      "outputs": [
        {
          "output_type": "stream",
          "name": "stdout",
          "text": [
            "welcome to the course\n"
          ]
        }
      ]
    },
    {
      "cell_type": "code",
      "source": [
        "# In the print() function, you output multiple variables, separated by a comma.\n",
        "\n",
        "a = \"Welcome to\"\n",
        "b = \"the Course\"\n",
        "\n",
        "print(a,b)"
      ],
      "metadata": {
        "colab": {
          "base_uri": "https://localhost:8080/"
        },
        "id": "lk8Q1YS9sQ4H",
        "outputId": "155e2767-1333-4274-93cc-29830a3aa810"
      },
      "execution_count": 4,
      "outputs": [
        {
          "output_type": "stream",
          "name": "stdout",
          "text": [
            "Welcome to the Course\n"
          ]
        }
      ]
    },
    {
      "cell_type": "code",
      "source": [
        "# You can also use the + operator to output multiple variables:\n",
        "\n",
        "a = \"Welcome to \"\n",
        "b = \"the Course\"\n",
        "\n",
        "print(a + b)\n",
        "\n",
        "# Notice the space character after \"Welcome to \", without them the result would be \"Welcome tothe Course\"."
      ],
      "metadata": {
        "colab": {
          "base_uri": "https://localhost:8080/"
        },
        "id": "bAX1DGbUsyNb",
        "outputId": "23ac6d82-6e54-487a-c388-2bb297ef4329"
      },
      "execution_count": 6,
      "outputs": [
        {
          "output_type": "stream",
          "name": "stdout",
          "text": [
            "Welcome to the Course\n"
          ]
        }
      ]
    },
    {
      "cell_type": "code",
      "source": [
        "# For numbers, the + character works as a mathematical operator:\n",
        "\n",
        "a = 10\n",
        "b = 20\n",
        "\n",
        "print(a+b)"
      ],
      "metadata": {
        "colab": {
          "base_uri": "https://localhost:8080/"
        },
        "id": "oEbeFmTPtELF",
        "outputId": "d03e1a04-3c6d-417b-f5c8-58a6da4b3c48"
      },
      "execution_count": 7,
      "outputs": [
        {
          "output_type": "stream",
          "name": "stdout",
          "text": [
            "30\n"
          ]
        }
      ]
    },
    {
      "cell_type": "code",
      "source": [
        "# In the print() function, when you try to combine a string and a number with the + operator, Python will give you an error:\n",
        "\n",
        "a = 10\n",
        "b = \"the Course\"\n",
        "\n",
        "print(a + b)    # TypeError: unsupported operand type(s) for +: 'int' and 'str'"
      ],
      "metadata": {
        "colab": {
          "base_uri": "https://localhost:8080/",
          "height": 180
        },
        "collapsed": true,
        "id": "sZwb52PguO23",
        "outputId": "401a560f-858d-4bd6-c1ec-4c63925b0f66"
      },
      "execution_count": 8,
      "outputs": [
        {
          "output_type": "error",
          "ename": "TypeError",
          "evalue": "unsupported operand type(s) for +: 'int' and 'str'",
          "traceback": [
            "\u001b[0;31m---------------------------------------------------------------------------\u001b[0m",
            "\u001b[0;31mTypeError\u001b[0m                                 Traceback (most recent call last)",
            "\u001b[0;32m<ipython-input-8-925e2d8b9ca9>\u001b[0m in \u001b[0;36m<cell line: 6>\u001b[0;34m()\u001b[0m\n\u001b[1;32m      4\u001b[0m \u001b[0mb\u001b[0m \u001b[0;34m=\u001b[0m \u001b[0;34m\"the Course\"\u001b[0m\u001b[0;34m\u001b[0m\u001b[0;34m\u001b[0m\u001b[0m\n\u001b[1;32m      5\u001b[0m \u001b[0;34m\u001b[0m\u001b[0m\n\u001b[0;32m----> 6\u001b[0;31m \u001b[0mprint\u001b[0m\u001b[0;34m(\u001b[0m\u001b[0ma\u001b[0m \u001b[0;34m+\u001b[0m \u001b[0mb\u001b[0m\u001b[0;34m)\u001b[0m\u001b[0;34m\u001b[0m\u001b[0;34m\u001b[0m\u001b[0m\n\u001b[0m",
            "\u001b[0;31mTypeError\u001b[0m: unsupported operand type(s) for +: 'int' and 'str'"
          ]
        }
      ]
    },
    {
      "cell_type": "code",
      "source": [
        "# The best way to output multiple variables in the print() function is to separate them with commas, which even support different data types:\n",
        "\n",
        "a = 10\n",
        "b = \"Course\"\n",
        "\n",
        "print(a, b)"
      ],
      "metadata": {
        "colab": {
          "base_uri": "https://localhost:8080/"
        },
        "id": "gcSmAUpjuksQ",
        "outputId": "b3fe523a-3057-47ba-96d8-637bbac1db6d"
      },
      "execution_count": 9,
      "outputs": [
        {
          "output_type": "stream",
          "name": "stdout",
          "text": [
            "10 Course\n"
          ]
        }
      ]
    },
    {
      "cell_type": "markdown",
      "source": [
        "# **Global Variables**"
      ],
      "metadata": {
        "id": "JIPOctXrv1Ue"
      }
    },
    {
      "cell_type": "markdown",
      "source": [
        "**Global Variables**\n",
        "\n",
        "Variables that are created outside of a function (as in all of the examples in the previous pages) are known as global variables.\n",
        "\n",
        "Global variables can be used by everyone, both inside of functions and outside."
      ],
      "metadata": {
        "id": "8R96VJYOv1QM"
      }
    },
    {
      "cell_type": "code",
      "source": [
        "# Create a variable outside of a function, and use it inside the function.\n",
        "\n",
        "x = \"awesome\"\n",
        "\n",
        "def my_func():\n",
        "  print(\"Python is \" + x)\n",
        "\n",
        "my_func()"
      ],
      "metadata": {
        "colab": {
          "base_uri": "https://localhost:8080/"
        },
        "id": "xk1NcWtPvSHu",
        "outputId": "0c4713a6-e812-4543-873a-87c0ab3f1869"
      },
      "execution_count": 10,
      "outputs": [
        {
          "output_type": "stream",
          "name": "stdout",
          "text": [
            "Python is awesome\n"
          ]
        }
      ]
    },
    {
      "cell_type": "markdown",
      "source": [
        "If you create a variable with the same name inside a function, this variable will be local, and can only be used inside the function. The global variable with the same name will remain as it was, global and with the original value."
      ],
      "metadata": {
        "id": "HBivgaWD5UHL"
      }
    },
    {
      "cell_type": "code",
      "source": [
        "# Create a variable inside a function, with the same name as the global variable.\n",
        "\n",
        "x = \"Awesome\"\n",
        "\n",
        "def my_func():\n",
        "  x = \"Fantastic\"\n",
        "  print(\"Python is \" + x)\n",
        "\n",
        "my_func()\n",
        "\n",
        "print(\"Python is \" + x)"
      ],
      "metadata": {
        "colab": {
          "base_uri": "https://localhost:8080/"
        },
        "id": "JLVtuvMiw2Yi",
        "outputId": "9364fcd8-8039-4395-ee1a-7fab3fdd13d0"
      },
      "execution_count": 12,
      "outputs": [
        {
          "output_type": "stream",
          "name": "stdout",
          "text": [
            "Python is Fantastic\n",
            "Python is Awesome\n"
          ]
        }
      ]
    },
    {
      "cell_type": "markdown",
      "source": [
        "**The global Keyword**\n",
        "\n",
        "Normally, when you create a variable inside a function, that variable is local, and can only be used inside that function.\n",
        "\n",
        "To create a global variable inside a function, you can use the global keyword."
      ],
      "metadata": {
        "id": "5gBkuspe6ajh"
      }
    },
    {
      "cell_type": "code",
      "source": [
        "# If you use the global keyword, the variable belongs to the global scope:\n",
        "\n",
        "def my_func():\n",
        "  global x\n",
        "  x = \"Fantastic\"\n",
        "\n",
        "my_func()\n",
        "\n",
        "print(\"Python is \" + x)"
      ],
      "metadata": {
        "colab": {
          "base_uri": "https://localhost:8080/"
        },
        "id": "ZA6qfINN6SSl",
        "outputId": "15b42dc1-d77f-4462-911e-8407337eb7d3"
      },
      "execution_count": 13,
      "outputs": [
        {
          "output_type": "stream",
          "name": "stdout",
          "text": [
            "Python is Fantastic\n"
          ]
        }
      ]
    },
    {
      "cell_type": "markdown",
      "source": [
        "Also, use the global keyword if you want to change a global variable inside a function."
      ],
      "metadata": {
        "id": "oPZYU2iv7g2z"
      }
    },
    {
      "cell_type": "code",
      "source": [
        "# To change the value of a global variable inside a function, refer to the variable by using the global keyword:\n",
        "\n",
        "x = \"Awesome\"\n",
        "\n",
        "def my_func():\n",
        "  global x\n",
        "  x = \"Fantastic\"\n",
        "\n",
        "my_func()\n",
        "\n",
        "print(\"Python is \" + x)"
      ],
      "metadata": {
        "colab": {
          "base_uri": "https://localhost:8080/"
        },
        "id": "vj6Vq2cI7QKR",
        "outputId": "9e6ac1ee-aaa9-4a25-a15e-f925936b0f90"
      },
      "execution_count": 14,
      "outputs": [
        {
          "output_type": "stream",
          "name": "stdout",
          "text": [
            "Python is Fantastic\n"
          ]
        }
      ]
    }
  ]
}