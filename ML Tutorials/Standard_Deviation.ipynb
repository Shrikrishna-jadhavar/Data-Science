{
  "nbformat": 4,
  "nbformat_minor": 0,
  "metadata": {
    "colab": {
      "provenance": []
    },
    "kernelspec": {
      "name": "python3",
      "display_name": "Python 3"
    },
    "language_info": {
      "name": "python"
    }
  },
  "cells": [
    {
      "cell_type": "markdown",
      "source": [
        "# **What is Standard Deviation?**"
      ],
      "metadata": {
        "id": "6Yw-cTfLdaVE"
      }
    },
    {
      "cell_type": "markdown",
      "source": [
        "Standard deviation is a number that describes how spread out the values are.\n",
        "\n",
        "A low standard deviation means that most of the numbers are close to the mean (average) value.\n",
        "\n",
        "A high standard deviation means that the values are spread out over a wider range.\n",
        "\n",
        "Example: This time we have registered the speed of 7 cars:\n",
        "\n",
        "speed = [86,87,88,86,87,85,86]\n",
        "\n",
        "The standard deviation is:\n",
        "\n",
        "**0.9**\n",
        "\n",
        "Meaning that most of the values are within the range of 0.9 from the mean value, which is 86.4.\n",
        "\n",
        "Let us do the same with a selection of numbers with a wider range:\n",
        "\n",
        "speed = [32,111,138,28,59,77,97]\n",
        "\n",
        "The standard deviation is:\n",
        "\n",
        "**37.85**\n",
        "\n",
        "Meaning that most of the values are within the range of 37.85 from the mean value, which is 77.4.\n",
        "\n",
        "As you can see, a higher standard deviation indicates that the values are spread out over a wider range.\n",
        "\n",
        "The NumPy module has a method to calculate the standard deviation:"
      ],
      "metadata": {
        "id": "8LzNP-hedaH2"
      }
    },
    {
      "cell_type": "code",
      "execution_count": 1,
      "metadata": {
        "colab": {
          "base_uri": "https://localhost:8080/"
        },
        "id": "XI3LIzmXc__2",
        "outputId": "e9933404-ad0f-4f6b-935b-38a910e62b74"
      },
      "outputs": [
        {
          "output_type": "stream",
          "name": "stdout",
          "text": [
            "0.9035079029052513\n"
          ]
        }
      ],
      "source": [
        "# Use the NumPy std() method to find the standard deviation:\n",
        "\n",
        "import numpy\n",
        "\n",
        "speed = [86,87,88,86,87,85,86]\n",
        "\n",
        "x = numpy.std(speed)\n",
        "\n",
        "print(x)"
      ]
    },
    {
      "cell_type": "code",
      "source": [
        "import numpy\n",
        "\n",
        "speed = [32,111,138,28,59,77,97]\n",
        "\n",
        "x = numpy.std(speed)\n",
        "\n",
        "print(x)"
      ],
      "metadata": {
        "colab": {
          "base_uri": "https://localhost:8080/"
        },
        "id": "zpDHEGYrd4uT",
        "outputId": "75b9e36e-3208-4687-b202-0df081941f6f"
      },
      "execution_count": 2,
      "outputs": [
        {
          "output_type": "stream",
          "name": "stdout",
          "text": [
            "37.84501153334721\n"
          ]
        }
      ]
    },
    {
      "cell_type": "markdown",
      "source": [
        "# **Variance**"
      ],
      "metadata": {
        "id": "xC6kJQejeOlp"
      }
    },
    {
      "cell_type": "markdown",
      "source": [
        "Variance is another number that indicates how spread out the values are.\n",
        "\n",
        "In fact, if you take the square root of the variance, you get the standard deviation!\n",
        "\n",
        "Or the other way around, if you multiply the standard deviation by itself, you get the variance!\n",
        "\n",
        "To calculate the variance you have to do as follows:\n",
        "\n",
        "1.Find the mean:\n",
        "\n",
        "(32+111+138+28+59+77+97) / 7 = 77.4\n"
      ],
      "metadata": {
        "id": "Y3x5L_GgeNFC"
      }
    },
    {
      "cell_type": "markdown",
      "source": [
        "2.For each value: find the difference from the mean:\n",
        "\n",
        "32 - 77.4 = -45.4\n",
        "\n",
        "111 - 77.4 =  33.6\n",
        "\n",
        "138 - 77.4 =  60.6\n",
        "\n",
        " 28 - 77.4 = -49.4\n",
        "\n",
        " 59 - 77.4 = -18.4\n",
        "\n",
        " 77 - 77.4 = - 0.4\n",
        "\n",
        " 97 - 77.4 =  19.6"
      ],
      "metadata": {
        "id": "umTKi6bYeYko"
      }
    },
    {
      "cell_type": "markdown",
      "source": [
        "3.For each difference: find the square value:\n",
        "\n",
        "(-45.4)2 = 2061.16\n",
        "\n",
        "(33.6)2 = 1128.96\n",
        "\n",
        " (60.6)2 = 3672.36\n",
        "\n",
        "(-49.4)2 = 2440.36\n",
        "\n",
        "(-18.4)2 =  338.56\n",
        "\n",
        "(- 0.4)2 =    0.16\n",
        "\n",
        "(19.6)2 =  384.16"
      ],
      "metadata": {
        "id": "stkVX5usejqh"
      }
    },
    {
      "cell_type": "markdown",
      "source": [
        "4.The variance is the average number of these squared differences:\n",
        "\n",
        "(2061.16+1128.96+3672.36+2440.36+338.56+0.16+384.16) / 7 = 1432.2"
      ],
      "metadata": {
        "id": "Kowz1Wx_e0EU"
      }
    },
    {
      "cell_type": "markdown",
      "source": [
        "Luckily, NumPy has a method to calculate the variance:"
      ],
      "metadata": {
        "id": "E859aML-e2B5"
      }
    },
    {
      "cell_type": "code",
      "source": [
        "# Use the NumPy var() method to find the variance:\n",
        "\n",
        "import numpy\n",
        "\n",
        "speed = [32,111,138,28,59,77,97]\n",
        "\n",
        "x = numpy.var(speed)\n",
        "\n",
        "print(x)"
      ],
      "metadata": {
        "colab": {
          "base_uri": "https://localhost:8080/"
        },
        "id": "mkXHTO-Xei9J",
        "outputId": "08933279-6971-447e-c90c-c827f1972c8d"
      },
      "execution_count": 3,
      "outputs": [
        {
          "output_type": "stream",
          "name": "stdout",
          "text": [
            "1432.2448979591834\n"
          ]
        }
      ]
    },
    {
      "cell_type": "markdown",
      "source": [
        "# **Standard Deviation**"
      ],
      "metadata": {
        "id": "zJ37tIR0fnUQ"
      }
    },
    {
      "cell_type": "markdown",
      "source": [
        "\n",
        "\n",
        "As we have learned, the formula to find the standard deviation is the square root of the variance:\n",
        "\n",
        "√1432.25 = 37.85\n",
        "\n",
        "Or, as in the example from before, use the NumPy to calculate the standard deviation:"
      ],
      "metadata": {
        "id": "aAW0obw0fLZC"
      }
    },
    {
      "cell_type": "code",
      "source": [
        "# Use the NumPy std() method to find the standard deviation:\n",
        "\n",
        "import numpy\n",
        "\n",
        "speed = [32,111,138,28,59,77,97]\n",
        "\n",
        "x = numpy.std(speed)\n",
        "\n",
        "print(x)"
      ],
      "metadata": {
        "colab": {
          "base_uri": "https://localhost:8080/"
        },
        "id": "Ld_qud6Se9T_",
        "outputId": "cbc51a25-c2f8-4658-8abb-e955e9631ea0"
      },
      "execution_count": 4,
      "outputs": [
        {
          "output_type": "stream",
          "name": "stdout",
          "text": [
            "37.84501153334721\n"
          ]
        }
      ]
    },
    {
      "cell_type": "markdown",
      "source": [
        "# **Symbols**"
      ],
      "metadata": {
        "id": "7NDwqPOKfgwJ"
      }
    },
    {
      "cell_type": "markdown",
      "source": [
        "Standard Deviation is often represented by the symbol Sigma: σ\n",
        "\n",
        "Variance is often represented by the symbol Sigma Squared: σ2\n"
      ],
      "metadata": {
        "id": "twUJLOBHfggq"
      }
    }
  ]
}