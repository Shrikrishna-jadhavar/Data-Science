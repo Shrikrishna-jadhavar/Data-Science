{
  "nbformat": 4,
  "nbformat_minor": 0,
  "metadata": {
    "colab": {
      "provenance": []
    },
    "kernelspec": {
      "name": "python3",
      "display_name": "Python 3"
    },
    "language_info": {
      "name": "python"
    }
  },
  "cells": [
    {
      "cell_type": "markdown",
      "source": [
        "# **Decision Tree**"
      ],
      "metadata": {
        "id": "OzvBJfxt6efh"
      }
    },
    {
      "cell_type": "markdown",
      "source": [
        "A Decision Tree is a Flow Chart, and can help you make decisions based on previous experience.\n",
        "\n",
        "In the example, a person will try to decide if he/she should go to a comedy show or not.\n",
        "\n",
        "Luckily our example person has registered every time there was a comedy show in town, and registered some information about the comedian, and also registered if he/she went or not.\n",
        "\n",
        "Age \tExperience \tRank \tNationality \tGo\n",
        "\n",
        "36 \t10 \t9 \tUK \tNO\n",
        "\n",
        "42 \t12 \t4 \tUSA \tNO\n",
        "\n",
        "23 \t4 \t6 \tN \tNO\n",
        "\n",
        "52 \t4 \t4 \tUSA \tNO\n",
        "\n",
        "43 \t21 \t8 \tUSA \tYES\n",
        "\n",
        "44 \t14 \t5 \tUK \tNO\n",
        "\n",
        "66 \t3 \t7 \tN \tYES\n",
        "\n",
        "35 \t14 \t9 \tUK \tYES\n",
        "\n",
        "52 \t13 \t7 \tN \tYES\n",
        "\n",
        "35 \t5 \t9 \tN \tYES\n",
        "\n",
        "24 \t3 \t5 \tUSA \tNO\n",
        "\n",
        "18 \t3 \t7 \tUK \tYES\n",
        "\n",
        "45 \t9 \t9 \tUK \tYES\n",
        "\n",
        "Now, based on this data set, Python can create a decision tree that can be used to decide if any new shows are worth attending to."
      ],
      "metadata": {
        "id": "olQu1fx36hb9"
      }
    },
    {
      "cell_type": "markdown",
      "source": [
        "# **How Does it Work?**\n",
        "\n",
        "First, read the dataset with pandas:"
      ],
      "metadata": {
        "id": "sZlrddj07PT_"
      }
    },
    {
      "cell_type": "code",
      "execution_count": 1,
      "metadata": {
        "colab": {
          "base_uri": "https://localhost:8080/"
        },
        "id": "fu2VK-_p5P_B",
        "outputId": "df237993-0233-4d31-8737-16a306a6ccca"
      },
      "outputs": [
        {
          "output_type": "stream",
          "name": "stdout",
          "text": [
            "    Age  Experience  Rank Nationality   Go  Unnamed: 5\n",
            "0    36          10     9          UK   NO         NaN\n",
            "1    42          12     4         USA   NO         NaN\n",
            "2    23           4     6           N   NO         NaN\n",
            "3    52           4     4         USA   NO         NaN\n",
            "4    43          21     8         USA  YES         NaN\n",
            "5    44          14     5          UK   NO         NaN\n",
            "6    66           3     7           N  YES         NaN\n",
            "7    35          14     9          UK  YES         NaN\n",
            "8    52          13     7           N  YES         NaN\n",
            "9    35           5     9           N  YES         NaN\n",
            "10   24           3     5         USA   NO         NaN\n",
            "11   18           3     7          UK  YES         NaN\n",
            "12   45           9     9          UK  YES         NaN\n"
          ]
        }
      ],
      "source": [
        "# Read and print the data set:\n",
        "import pandas\n",
        "\n",
        "df = pandas.read_csv(\"/content/Decision tree Data.csv\")\n",
        "\n",
        "print(df)"
      ]
    },
    {
      "cell_type": "code",
      "source": [
        "# Drop columns\n",
        "\n",
        "df = df.drop(['Unnamed: 5'], axis=1)\n",
        "\n",
        "print(df)"
      ],
      "metadata": {
        "colab": {
          "base_uri": "https://localhost:8080/"
        },
        "id": "c5T6TlbW7tH-",
        "outputId": "20d19c3a-6d8e-49b7-8c6f-9b512c6d6412"
      },
      "execution_count": 3,
      "outputs": [
        {
          "output_type": "stream",
          "name": "stdout",
          "text": [
            "    Age  Experience  Rank Nationality   Go\n",
            "0    36          10     9          UK   NO\n",
            "1    42          12     4         USA   NO\n",
            "2    23           4     6           N   NO\n",
            "3    52           4     4         USA   NO\n",
            "4    43          21     8         USA  YES\n",
            "5    44          14     5          UK   NO\n",
            "6    66           3     7           N  YES\n",
            "7    35          14     9          UK  YES\n",
            "8    52          13     7           N  YES\n",
            "9    35           5     9           N  YES\n",
            "10   24           3     5         USA   NO\n",
            "11   18           3     7          UK  YES\n",
            "12   45           9     9          UK  YES\n"
          ]
        }
      ]
    },
    {
      "cell_type": "markdown",
      "source": [
        "To make a decision tree, all data has to be numerical.\n",
        "\n",
        "We have to convert the non numerical columns 'Nationality' and 'Go' into numerical values.\n",
        "\n",
        "Pandas has a map() method that takes a dictionary with information on how to convert the values.\n",
        "\n",
        "{'UK': 0, 'USA': 1, 'N': 2}\n",
        "\n",
        "Means convert the values 'UK' to 0, 'USA' to 1, and 'N' to 2."
      ],
      "metadata": {
        "id": "gUvMhIW98qTw"
      }
    },
    {
      "cell_type": "code",
      "source": [
        "# Change string values into numerical values:\n",
        "d = {'UK': 0, 'USA': 1, 'N': 2}\n",
        "df['Nationality'] = df['Nationality'].map(d)\n",
        "d = {'YES': 1, 'NO': 0}\n",
        "df['Go'] = df['Go'].map(d)\n",
        "\n",
        "print(df)"
      ],
      "metadata": {
        "colab": {
          "base_uri": "https://localhost:8080/"
        },
        "id": "VJCgvgcR8v2H",
        "outputId": "c9758ba4-6f73-47c1-a0fa-29bc98317425"
      },
      "execution_count": 4,
      "outputs": [
        {
          "output_type": "stream",
          "name": "stdout",
          "text": [
            "    Age  Experience  Rank  Nationality  Go\n",
            "0    36          10     9            0   0\n",
            "1    42          12     4            1   0\n",
            "2    23           4     6            2   0\n",
            "3    52           4     4            1   0\n",
            "4    43          21     8            1   1\n",
            "5    44          14     5            0   0\n",
            "6    66           3     7            2   1\n",
            "7    35          14     9            0   1\n",
            "8    52          13     7            2   1\n",
            "9    35           5     9            2   1\n",
            "10   24           3     5            1   0\n",
            "11   18           3     7            0   1\n",
            "12   45           9     9            0   1\n"
          ]
        }
      ]
    },
    {
      "cell_type": "markdown",
      "source": [
        "Then we have to separate the feature columns from the target column.\n",
        "\n",
        "The feature columns are the columns that we try to predict from, and the target column is the column with the values we try to predict."
      ],
      "metadata": {
        "id": "m_4u3lPf9Xe-"
      }
    },
    {
      "cell_type": "code",
      "source": [
        "# X is the feature columns, y is the target column:\n",
        "features = ['Age', 'Experience', 'Rank', 'Nationality']\n",
        "\n",
        "X = df[features]\n",
        "y = df['Go']\n",
        "\n",
        "print(X)\n",
        "print(y)"
      ],
      "metadata": {
        "colab": {
          "base_uri": "https://localhost:8080/"
        },
        "id": "K__lFeQF9YTm",
        "outputId": "88f7fb3f-99a1-4103-fb90-13d7c6c040ba"
      },
      "execution_count": 5,
      "outputs": [
        {
          "output_type": "stream",
          "name": "stdout",
          "text": [
            "    Age  Experience  Rank  Nationality\n",
            "0    36          10     9            0\n",
            "1    42          12     4            1\n",
            "2    23           4     6            2\n",
            "3    52           4     4            1\n",
            "4    43          21     8            1\n",
            "5    44          14     5            0\n",
            "6    66           3     7            2\n",
            "7    35          14     9            0\n",
            "8    52          13     7            2\n",
            "9    35           5     9            2\n",
            "10   24           3     5            1\n",
            "11   18           3     7            0\n",
            "12   45           9     9            0\n",
            "0     0\n",
            "1     0\n",
            "2     0\n",
            "3     0\n",
            "4     1\n",
            "5     0\n",
            "6     1\n",
            "7     1\n",
            "8     1\n",
            "9     1\n",
            "10    0\n",
            "11    1\n",
            "12    1\n",
            "Name: Go, dtype: int64\n"
          ]
        }
      ]
    },
    {
      "cell_type": "markdown",
      "source": [
        "Now we can create the actual decision tree, fit it with our details. Start by importing the modules we need:"
      ],
      "metadata": {
        "id": "xaKyp8E49YvF"
      }
    },
    {
      "source": [
        "# Create and display a Decision Tree:\n",
        "\n",
        "from sklearn import tree\n",
        "from sklearn.tree import DecisionTreeClassifier\n",
        "import matplotlib.pyplot as plt\n",
        "import pandas as pd # Make sure pandas is imported\n",
        "\n",
        "\n",
        "# Assuming df is your DataFrame\n",
        "df = pd.read_csv(\"/content/Decision tree Data.csv\")\n",
        "df = df.drop(['Unnamed: 5'], axis=1)\n",
        "\n",
        "# Convert 'Nationality' and 'Go' columns to numerical values, handling NaNs\n",
        "d = {'UK': 0, 'USA': 1, 'N': 2}\n",
        "df['Nationality'] = df['Nationality'].map(d)\n",
        "d = {'YES': 1, 'NO': 0}\n",
        "df['Go'] = df['Go'].map(d).fillna(-1)  # Fill NaN with -1 or any other suitable value\n",
        "\n",
        "\n",
        "features = ['Age', 'Experience', 'Rank', 'Nationality']\n",
        "\n",
        "X = df[features]\n",
        "y = df['Go']\n",
        "\n",
        "dtree = DecisionTreeClassifier()\n",
        "dtree = dtree.fit(X, y)\n",
        "\n",
        "tree.plot_tree(dtree, feature_names=features)"
      ],
      "cell_type": "code",
      "metadata": {
        "colab": {
          "base_uri": "https://localhost:8080/",
          "height": 602
        },
        "id": "6bmRjZxx-ooN",
        "outputId": "e9ddb1e9-cf97-4579-8231-d8b865b12da3"
      },
      "execution_count": 7,
      "outputs": [
        {
          "output_type": "execute_result",
          "data": {
            "text/plain": [
              "[Text(0.4, 0.9, 'Rank <= 6.5\\ngini = 0.497\\nsamples = 13\\nvalue = [6, 7]'),\n",
              " Text(0.2, 0.7, 'gini = 0.0\\nsamples = 5\\nvalue = [5, 0]'),\n",
              " Text(0.30000000000000004, 0.8, 'True  '),\n",
              " Text(0.6, 0.7, 'Nationality <= 0.5\\ngini = 0.219\\nsamples = 8\\nvalue = [1, 7]'),\n",
              " Text(0.5, 0.8, '  False'),\n",
              " Text(0.4, 0.5, 'Age <= 35.5\\ngini = 0.375\\nsamples = 4\\nvalue = [1, 3]'),\n",
              " Text(0.2, 0.3, 'gini = 0.0\\nsamples = 2\\nvalue = [0, 2]'),\n",
              " Text(0.6, 0.3, 'Age <= 40.5\\ngini = 0.5\\nsamples = 2\\nvalue = [1, 1]'),\n",
              " Text(0.4, 0.1, 'gini = 0.0\\nsamples = 1\\nvalue = [1, 0]'),\n",
              " Text(0.8, 0.1, 'gini = 0.0\\nsamples = 1\\nvalue = [0, 1]'),\n",
              " Text(0.8, 0.5, 'gini = 0.0\\nsamples = 4\\nvalue = [0, 4]')]"
            ]
          },
          "metadata": {},
          "execution_count": 7
        },
        {
          "output_type": "display_data",
          "data": {
            "text/plain": [
              "<Figure size 640x480 with 1 Axes>"
            ],
            "image/png": "[encoded data removed]"
          },
          "metadata": {}
        }
      ]
    },
    {
      "cell_type": "markdown",
      "source": [
        "# **Result Explained**\n",
        "\n",
        "The decision tree uses your earlier decisions to calculate the odds for you to wanting to go see a comedian or not.\n",
        "\n",
        "Let us read the different aspects of the decision tree:\n",
        "\n",
        "**Rank**\n",
        "\n",
        "Rank <= 6.5 means that every comedian with a rank of 6.5 or lower will follow the True arrow (to the left), and the rest will follow the False arrow (to the right).\n",
        "\n",
        "gini = 0.497 refers to the quality of the split, and is always a number between 0.0 and 0.5, where 0.0 would mean all of the samples got the same result, and 0.5 would mean that the split is done exactly in the middle.\n",
        "\n",
        "samples = 13 means that there are 13 comedians left at this point in the decision, which is all of them since this is the first step.\n",
        "\n",
        "value = [6, 7] means that of these 13 comedians, 6 will get a \"NO\", and 7 will get a \"GO\".\n",
        "\n",
        "**Gini**\n",
        "\n",
        "There are many ways to split the samples, we use the GINI method in this tutorial.\n",
        "\n",
        "The Gini method uses this formula:\n",
        "\n",
        "Gini = 1 - (x/n)2 - (y/n)2\n",
        "\n",
        "Where x is the number of positive answers(\"GO\"), n is the number of samples, and y is the number of negative answers (\"NO\"), which gives us this calculation:\n",
        "\n",
        "1 - (7 / 13)2 - (6 / 13)2 = 0.497\n",
        "\n",
        "The next step contains two boxes, one box for the comedians with a 'Rank' of 6.5 or lower, and one box with the rest.\n",
        "\n",
        "**True - 5 Comedians End Here:**\n",
        "\n",
        "gini = 0.0 means all of the samples got the same result.\n",
        "\n",
        "samples = 5 means that there are 5 comedians left in this branch (5 comedian with a Rank of 6.5 or lower).\n",
        "\n",
        "value = [5, 0] means that 5 will get a \"NO\" and 0 will get a \"GO\".\n",
        "\n",
        "**False - 8 Comedians Continue:**\n",
        "\n",
        "**Nationality**\n",
        "\n",
        "Nationality <= 0.5 means that the comedians with a nationality value of less than 0.5 will follow the arrow to the left (which means everyone from the UK, ), and the rest will follow the arrow to the right.\n",
        "\n",
        "gini = 0.219 means that about 22% of the samples would go in one direction.\n",
        "\n",
        "samples = 8 means that there are 8 comedians left in this branch (8 comedian with a Rank higher than 6.5).\n",
        "\n",
        "value = [1, 7] means that of these 8 comedians, 1 will get a \"NO\" and 7 will get a \"GO\".\n",
        "\n",
        "**True - 4 Comedians Continue:**\n",
        "\n",
        "**Age**\n",
        "\n",
        "Age <= 35.5 means that comedians at the age of 35.5 or younger will follow the arrow to the left, and the rest will follow the arrow to the right.\n",
        "\n",
        "gini = 0.375 means that about 37,5% of the samples would go in one direction.\n",
        "\n",
        "samples = 4 means that there are 4 comedians left in this branch (4 comedians from the UK).\n",
        "\n",
        "value = [1, 3] means that of these 4 comedians, 1 will get a \"NO\" and 3 will get a \"GO\".\n",
        "\n",
        "**False - 4 Comedians End Here:**\n",
        "\n",
        "gini = 0.0 means all of the samples got the same result.\n",
        "\n",
        "samples = 4 means that there are 4 comedians left in this branch (4 comedians not from the UK).\n",
        "\n",
        "value = [0, 4] means that of these 4 comedians, 0 will get a \"NO\" and 4 will get a \"GO\".\n",
        "\n",
        "**True - 2 Comedians End Here:**\n",
        "\n",
        "gini = 0.0 means all of the samples got the same result.\n",
        "\n",
        "samples = 2 means that there are 2 comedians left in this branch (2 comedians at the age 35.5 or younger).\n",
        "\n",
        "value = [0, 2] means that of these 2 comedians, 0 will get a \"NO\" and 2 will get a \"GO\".\n",
        "\n",
        "**False - 2 Comedians Continue:**\n",
        "\n",
        "**Experience**\n",
        "\n",
        "Experience <= 9.5 means that comedians with 9.5 years of experience, or less, will follow the arrow to the left, and the rest will follow the arrow to the right.\n",
        "\n",
        "gini = 0.5 means that 50% of the samples would go in one direction.\n",
        "\n",
        "samples = 2 means that there are 2 comedians left in this branch (2 comedians older than 35.5).\n",
        "\n",
        "value = [1, 1] means that of these 2 comedians, 1 will get a \"NO\" and 1 will get a \"GO\".\n",
        "\n",
        "**True - 1 Comedian Ends Here:**\n",
        "\n",
        "gini = 0.0 means all of the samples got the same result.\n",
        "\n",
        "samples = 1 means that there is 1 comedian left in this branch (1 comedian with 9.5 years of experience or less).\n",
        "\n",
        "value = [0, 1] means that 0 will get a \"NO\" and 1 will get a \"GO\".\n",
        "\n",
        "**False - 1 Comedian Ends Here:**\n",
        "\n",
        "gini = 0.0 means all of the samples got the same result.\n",
        "\n",
        "samples = 1 means that there is 1 comedians left in this branch (1 comedian with more than 9.5 years of experience).\n",
        "\n",
        "value = [1, 0] means that 1 will get a \"NO\" and 0 will get a \"GO\"."
      ],
      "metadata": {
        "id": "_-l556-s_N4s"
      }
    },
    {
      "cell_type": "markdown",
      "source": [
        "# **Predict Values**\n",
        "\n",
        "We can use the Decision Tree to predict new values.\n",
        "\n",
        "Example: Should I go see a show starring a 40 years old American comedian, with 10 years of experience, and a comedy ranking of 7?"
      ],
      "metadata": {
        "id": "4iNTMHqQAvMd"
      }
    },
    {
      "cell_type": "code",
      "source": [
        "# Use predict() method to predict new values:\n",
        "import warnings\n",
        "warnings.filterwarnings(\"ignore\")\n",
        "\n",
        "print(dtree.predict([[40, 10, 7, 1]]))"
      ],
      "metadata": {
        "colab": {
          "base_uri": "https://localhost:8080/"
        },
        "id": "VwHjrcEOAxWl",
        "outputId": "e836e4da-644c-452e-ebb5-b8e0597cce89"
      },
      "execution_count": 9,
      "outputs": [
        {
          "output_type": "stream",
          "name": "stdout",
          "text": [
            "[1]\n"
          ]
        }
      ]
    },
    {
      "cell_type": "code",
      "source": [
        "# What would the answer be if the comedy rank was 6?\n",
        "\n",
        "print(dtree.predict([[40, 10, 6, 1]]))"
      ],
      "metadata": {
        "colab": {
          "base_uri": "https://localhost:8080/"
        },
        "id": "JxMBKzM9BBcW",
        "outputId": "6b1a87c7-7c13-442d-96ed-f18d5586c430"
      },
      "execution_count": 10,
      "outputs": [
        {
          "output_type": "stream",
          "name": "stdout",
          "text": [
            "[0]\n"
          ]
        }
      ]
    },
    {
      "cell_type": "markdown",
      "source": [
        "\n",
        "***Different Results***\n",
        "\n",
        "You will see that the Decision Tree gives you different results if you run it enough times, even if you feed it with the same data.\n",
        "\n",
        "That is because the Decision Tree does not give us a 100% certain answer. It is based on the probability of an outcome, and the answer will vary.\n"
      ],
      "metadata": {
        "id": "VrlNZV4cBX9t"
      }
    }
  ]
}