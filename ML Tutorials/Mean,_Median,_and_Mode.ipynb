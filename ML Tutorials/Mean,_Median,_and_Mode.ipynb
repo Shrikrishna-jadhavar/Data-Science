{
  "nbformat": 4,
  "nbformat_minor": 0,
  "metadata": {
    "colab": {
      "provenance": [],
      "collapsed_sections": [
        "dtWRXsNkG09X",
        "yLYwoOTgHInB",
        "mdyF9t9RHjCd",
        "HlEKRzVfIeKp"
      ]
    },
    "kernelspec": {
      "name": "python3",
      "display_name": "Python 3"
    },
    "language_info": {
      "name": "python"
    }
  },
  "cells": [
    {
      "cell_type": "markdown",
      "source": [
        "# **Mean, Median, and Mode**"
      ],
      "metadata": {
        "id": "dtWRXsNkG09X"
      }
    },
    {
      "cell_type": "markdown",
      "source": [
        "In Machine Learning (and in mathematics) there are often three values that interests us:\n",
        "\n",
        "    Mean - The average value\n",
        "    Median - The mid point value\n",
        "    Mode - The most common value\n",
        "\n",
        "Example: We have registered the speed of 13 cars:\n",
        "\n",
        "speed = [99,86,87,88,111,86,103,87,94,78,77,85,86]\n",
        "\n",
        "What is the average, the middle, or the most common speed value?"
      ],
      "metadata": {
        "id": "D43INsUEG0qa"
      }
    },
    {
      "cell_type": "markdown",
      "source": [
        "# **Mean**\n",
        "\n",
        "The mean value is the average value.\n",
        "\n",
        "To calculate the mean, find the sum of all values, and divide the sum by the number of values:\n",
        "\n",
        "(99+86+87+88+111+86+103+87+94+78+77+85+86) / 13 = 89.77\n"
      ],
      "metadata": {
        "id": "yLYwoOTgHInB"
      }
    },
    {
      "cell_type": "code",
      "execution_count": 1,
      "metadata": {
        "colab": {
          "base_uri": "https://localhost:8080/"
        },
        "id": "MSWIL04BGToL",
        "outputId": "7935fe7d-6b59-4ecc-a492-653bba510184"
      },
      "outputs": [
        {
          "output_type": "stream",
          "name": "stdout",
          "text": [
            "89.76923076923077\n"
          ]
        }
      ],
      "source": [
        "# Use the NumPy mean() method to find the average speed:\n",
        "\n",
        "import numpy\n",
        "\n",
        "speed = [99,86,87,88,111,86,103,87,94,78,77,85,86]\n",
        "\n",
        "x = numpy.mean(speed)\n",
        "\n",
        "print(x)"
      ]
    },
    {
      "cell_type": "markdown",
      "source": [
        "# **Median**\n",
        "\n",
        "The median value is the value in the middle, after you have sorted all the values:\n",
        "\n",
        "77, 78, 85, 86, 86, 86, **87**, 87, 88, 94, 99, 103, 111\n",
        "\n",
        "It is important that the numbers are sorted before you can find the median.\n",
        "\n",
        "*The NumPy module has a method for this:*"
      ],
      "metadata": {
        "id": "mdyF9t9RHjCd"
      }
    },
    {
      "cell_type": "code",
      "source": [
        "# Use the NumPy median() method to find the middle value:\n",
        "\n",
        "import numpy\n",
        "\n",
        "speed = [99,86,87,88,111,86,103,87,94,78,77,85,86]\n",
        "\n",
        "x = numpy.median(speed)\n",
        "\n",
        "print(x)"
      ],
      "metadata": {
        "colab": {
          "base_uri": "https://localhost:8080/"
        },
        "id": "ubGcfmRFHm0f",
        "outputId": "937f1870-9c02-4ac1-e094-06405cfa34a3"
      },
      "execution_count": 2,
      "outputs": [
        {
          "output_type": "stream",
          "name": "stdout",
          "text": [
            "87.0\n"
          ]
        }
      ]
    },
    {
      "cell_type": "markdown",
      "source": [
        "\n",
        "\n",
        "*If there are two numbers in the middle, divide the sum of those numbers by two.*\n",
        "\n",
        "77, 78, 85, 86, 86, 86, 87, 87, 94, 98, 99, 103\n",
        "\n",
        "(86 + 87) / 2 = 86.5\n"
      ],
      "metadata": {
        "id": "BFrE3LxpII7p"
      }
    },
    {
      "cell_type": "code",
      "source": [
        "# Using the NumPy module:\n",
        "\n",
        "import numpy\n",
        "\n",
        "speed = [99,86,87,88,86,103,87,94,78,77,85,86]\n",
        "\n",
        "x = numpy.median(speed)\n",
        "\n",
        "print(x)"
      ],
      "metadata": {
        "colab": {
          "base_uri": "https://localhost:8080/"
        },
        "id": "GmF7Kpa9IMqo",
        "outputId": "e37260d1-9406-4b1f-8b92-ea5e8d23e671"
      },
      "execution_count": 3,
      "outputs": [
        {
          "output_type": "stream",
          "name": "stdout",
          "text": [
            "86.5\n"
          ]
        }
      ]
    },
    {
      "cell_type": "markdown",
      "source": [
        "# **Mode**"
      ],
      "metadata": {
        "id": "HlEKRzVfIeKp"
      }
    },
    {
      "cell_type": "markdown",
      "source": [
        "The Mode value is the value that appears the most number of times:\n",
        "\n",
        "99, 86, 87, 88, 111, 86, 103, 87, 94, 78, 77, 85, 86 = 86\n"
      ],
      "metadata": {
        "id": "vCxNv1VcIaM0"
      }
    },
    {
      "cell_type": "code",
      "source": [
        "# Use the SciPy mode() method to find the number that appears the most:\n",
        "\n",
        "from scipy import stats\n",
        "\n",
        "speed = [99,86,87,88,111,86,103,87,94,78,77,85,86]\n",
        "\n",
        "x = stats.mode(speed)\n",
        "\n",
        "print(x)"
      ],
      "metadata": {
        "colab": {
          "base_uri": "https://localhost:8080/"
        },
        "id": "4u7yLeq5IlrM",
        "outputId": "b754437f-6d63-4a7c-af62-e8d36ebb450c"
      },
      "execution_count": 4,
      "outputs": [
        {
          "output_type": "stream",
          "name": "stdout",
          "text": [
            "ModeResult(mode=np.int64(86), count=np.int64(3))\n"
          ]
        }
      ]
    },
    {
      "cell_type": "markdown",
      "source": [
        "*The mode() method returns a ModeResult object that contains the mode number (86), and count (how many times the mode number appeared (3)).*"
      ],
      "metadata": {
        "id": "23UibLowI38B"
      }
    }
  ]
}