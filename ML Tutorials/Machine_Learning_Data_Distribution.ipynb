{
  "nbformat": 4,
  "nbformat_minor": 0,
  "metadata": {
    "colab": {
      "provenance": []
    },
    "kernelspec": {
      "name": "python3",
      "display_name": "Python 3"
    },
    "language_info": {
      "name": "python"
    }
  },
  "cells": [
    {
      "cell_type": "markdown",
      "source": [
        "# **Data Distribution**"
      ],
      "metadata": {
        "id": "GqZdXsOpu4OZ"
      }
    },
    {
      "cell_type": "markdown",
      "source": [
        "Earlier in this tutorial we have worked with very small amounts of data in our examples, just to understand the different concepts.\n",
        "\n",
        "In the real world, the data sets are much bigger, but it can be difficult to gather real world data, at least at an early stage of a project.\n",
        "\n",
        "**How Can we Get Big Data Sets?**\n",
        "\n",
        "To create big data sets for testing, we use the Python module NumPy, which comes with a number of methods to create random data sets, of any size."
      ],
      "metadata": {
        "id": "VYx53vNMujci"
      }
    },
    {
      "cell_type": "code",
      "execution_count": 1,
      "metadata": {
        "colab": {
          "base_uri": "https://localhost:8080/"
        },
        "collapsed": true,
        "id": "oBAVj2mOufxH",
        "outputId": "983cc911-132a-40c5-d6b7-41621830fdfe"
      },
      "outputs": [
        {
          "output_type": "stream",
          "name": "stdout",
          "text": [
            "[2.46034041 0.57212357 4.75488839 3.06454641 2.40414711 4.86334158\n",
            " 4.49087737 3.98478406 0.93990965 1.70369789 0.05095373 0.7133117\n",
            " 3.6011184  0.50339093 1.15332078 2.11966303 4.57747424 2.01921194\n",
            " 0.50195437 3.584832   3.94024448 1.68821427 1.61128508 3.25689219\n",
            " 4.62500437 2.74206089 3.17507797 3.31333859 1.55531567 3.82769475\n",
            " 4.17804901 0.2827367  4.01259877 4.88995907 1.22518743 4.72228895\n",
            " 2.99316306 1.80805634 0.99875501 1.43759282 1.96541952 1.60246823\n",
            " 2.74912939 3.04365082 3.51403053 2.63108461 1.11491594 4.38636821\n",
            " 2.6604266  2.08380595 2.03160218 4.67732247 4.46043941 1.23531768\n",
            " 2.46850447 3.82107264 1.47327094 1.00349331 4.33887257 4.19958084\n",
            " 2.50866449 1.1287786  1.17515987 3.90815485 2.69374157 2.16754601\n",
            " 2.97077021 2.87584046 2.26600163 4.93311919 2.07404594 3.6867863\n",
            " 3.61639263 3.70000819 3.73219187 3.52124102 0.17625016 3.47816254\n",
            " 4.44816555 4.9135915  2.45466076 4.88828418 1.68693779 2.36531205\n",
            " 3.93585796 3.05575901 3.8516015  0.91323009 1.82054426 4.04534294\n",
            " 0.37908579 4.4914671  2.04352955 0.19288857 1.85046585 3.51155681\n",
            " 3.28638098 2.49642015 0.72901949 0.77648442 4.01731699 2.02018308\n",
            " 4.19154908 2.84785506 2.53896085 4.26641477 3.02831527 0.59041157\n",
            " 3.11111681 0.61393057 0.41809768 1.26240331 1.55271412 2.38330014\n",
            " 0.32401975 1.37045465 1.49940337 0.99268428 0.5903663  4.66970298\n",
            " 0.03850669 1.10398739 0.80582189 1.29970377 3.49121632 1.03320147\n",
            " 0.68546335 3.94977058 1.94096501 2.67273459 1.17573123 3.33312622\n",
            " 0.11111147 3.73802293 1.76872083 0.75230432 0.47469812 4.25019168\n",
            " 3.56713991 0.75359064 0.74046684 3.65036327 3.13032657 3.60984265\n",
            " 2.40391762 3.71289724 3.03872252 0.7708929  0.33639077 4.90719922\n",
            " 3.82611762 1.06843081 1.70039611 1.62647215 0.13074183 0.96400151\n",
            " 0.02556381 3.70877642 1.62660451 1.0608032  0.50282906 0.18402389\n",
            " 3.96893998 3.57643814 2.94635936 2.34722926 3.66251725 4.39715706\n",
            " 2.43909641 3.60866673 1.12317111 0.93083876 0.68937159 0.6326702\n",
            " 0.31309147 1.61205323 2.68351078 2.89283201 2.44799563 2.95976841\n",
            " 2.07139908 2.12443206 0.61374814 1.83436214 1.91970714 1.61494582\n",
            " 4.85488211 2.30271426 2.85799804 4.25010017 2.05387165 1.71949721\n",
            " 2.13462198 1.56270994 1.12750634 0.35879202 3.8862676  4.3128795\n",
            " 3.32358255 1.89387809 0.2071218  0.84912174 1.7690307  1.78400079\n",
            " 0.4917837  3.61906609 2.75628346 2.01859676 1.2358818  2.73226708\n",
            " 2.42438812 1.1638518  3.0582749  3.55007414 0.38581759 2.07116429\n",
            " 3.96798311 4.65913837 1.04661243 0.81112546 1.61573095 1.69256664\n",
            " 0.23756571 0.59378414 1.38392783 4.85377084 0.10213768 1.22273298\n",
            " 1.45934672 0.29820402 2.95923868 3.79314144 3.859615   0.38605627\n",
            " 3.46212709 1.79559236 0.47835531 2.70039034 2.94079238 3.13644186\n",
            " 3.78689816 2.55177556 4.30278217 2.91574871 1.73498791 1.42591119\n",
            " 4.25062036 4.81208349 0.14369172 4.93126944]\n"
          ]
        }
      ],
      "source": [
        "# Create an array containing 250 random floats between 0 and 5:\n",
        "import numpy\n",
        "\n",
        "x = numpy.random.uniform(0.0, 5.0, 250)\n",
        "\n",
        "print(x)"
      ]
    },
    {
      "cell_type": "markdown",
      "source": [
        "# **Histogram**"
      ],
      "metadata": {
        "id": "tM3b5ppjwxJl"
      }
    },
    {
      "cell_type": "markdown",
      "source": [
        "To visualize the data set we can draw a histogram with the data we collected.\n",
        "\n",
        "We will use the Python module Matplotlib to draw a histogram."
      ],
      "metadata": {
        "id": "R_XHne0-wxNj"
      }
    },
    {
      "cell_type": "code",
      "source": [
        "# Draw a histogram:\n",
        "\n",
        "import numpy\n",
        "import matplotlib.pyplot as plt\n",
        "\n",
        "x = numpy.random.uniform(0.0, 5.0, 250)\n",
        "\n",
        "plt.hist(x, 5)\n",
        "plt.show()"
      ],
      "metadata": {
        "colab": {
          "base_uri": "https://localhost:8080/",
          "height": 430
        },
        "id": "TCbelzrWw4RU",
        "outputId": "3977c4b4-db2a-494c-cfdb-baadb2fd692a"
      },
      "execution_count": 2,
      "outputs": [
        {
          "output_type": "display_data",
          "data": {
            "text/plain": [
              "<Figure size 640x480 with 1 Axes>"
            ],
            "image/png": "[encoded data removed]"
          },
          "metadata": {}
        }
      ]
    },
    {
      "cell_type": "markdown",
      "source": [
        "# **Histogram Explained**"
      ],
      "metadata": {
        "id": "Bu8T7zY41XJq"
      }
    },
    {
      "cell_type": "markdown",
      "source": [
        "\n",
        "\n",
        "We use the array from the example above to draw a histogram with 5 bars.\n",
        "\n",
        "The first bar represents how many values in the array are between 0 and 1.\n",
        "\n",
        "The second bar represents how many values are between 1 and 2.\n",
        "\n",
        "Etc.\n",
        "\n",
        "Which gives us this result:\n",
        "\n",
        "    52 values are between 0 and 1\n",
        "    48 values are between 1 and 2\n",
        "    49 values are between 2 and 3\n",
        "    51 values are between 3 and 4\n",
        "    50 values are between 4 and 5\n",
        "\n",
        "*Note: The array values are random numbers and will not show the exact same result on your computer.*\n"
      ],
      "metadata": {
        "id": "prAXQv941XEb"
      }
    },
    {
      "cell_type": "markdown",
      "source": [
        "# **Big Data Distributions**"
      ],
      "metadata": {
        "id": "UABAtQqj1pJ7"
      }
    },
    {
      "cell_type": "markdown",
      "source": [
        "An array containing 250 values is not considered very big, but now you know how to create a random set of values, and by changing the parameters, you can create the data set as big as you want."
      ],
      "metadata": {
        "id": "YoHwKE8j1iAm"
      }
    },
    {
      "cell_type": "code",
      "source": [
        "# Create an array with 100000 random numbers, and display them using a histogram with 100 bars:\n",
        "\n",
        "import numpy\n",
        "import matplotlib.pyplot as plt\n",
        "\n",
        "x = numpy.random.uniform(0.0, 5.0, 100000)\n",
        "\n",
        "plt.hist(x, 100)\n",
        "plt.show()"
      ],
      "metadata": {
        "colab": {
          "base_uri": "https://localhost:8080/",
          "height": 430
        },
        "id": "EB8ioaa-1rCc",
        "outputId": "1cf95c64-2b18-4784-87a5-626948521e23"
      },
      "execution_count": 3,
      "outputs": [
        {
          "output_type": "display_data",
          "data": {
            "text/plain": [
              "<Figure size 640x480 with 1 Axes>"
            ],
            "image/png": "[encoded data removed]"
          },
          "metadata": {}
        }
      ]
    }
  ]
}