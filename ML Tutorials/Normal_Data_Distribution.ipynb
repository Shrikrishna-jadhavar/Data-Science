{
  "nbformat": 4,
  "nbformat_minor": 0,
  "metadata": {
    "colab": {
      "provenance": []
    },
    "kernelspec": {
      "name": "python3",
      "display_name": "Python 3"
    },
    "language_info": {
      "name": "python"
    }
  },
  "cells": [
    {
      "cell_type": "markdown",
      "source": [
        "# **Normal Data Distribution**"
      ],
      "metadata": {
        "id": "0dXEwQjjPpNl"
      }
    },
    {
      "cell_type": "markdown",
      "source": [
        "In the previous chapter we learned how to create a completely random array, of a given size, and between two given values.\n",
        "\n",
        "In this chapter we will learn how to create an array where the values are concentrated around a given value.\n",
        "\n",
        "In probability theory this kind of data distribution is known as the normal data distribution, or the Gaussian data distribution, after the mathematician Carl Friedrich Gauss who came up with the formula of this data distribution."
      ],
      "metadata": {
        "id": "Hw74YyohPpFe"
      }
    },
    {
      "cell_type": "code",
      "execution_count": 1,
      "metadata": {
        "colab": {
          "base_uri": "https://localhost:8080/",
          "height": 430
        },
        "id": "9ibqW9sqPnp0",
        "outputId": "0fc3e18c-b684-49c3-81dd-4bdb16178214"
      },
      "outputs": [
        {
          "output_type": "display_data",
          "data": {
            "text/plain": [
              "<Figure size 640x480 with 1 Axes>"
            ],
            "image/png": "[encoded data removed]"
          },
          "metadata": {}
        }
      ],
      "source": [
        "# A typical normal data distribution:\n",
        "import numpy\n",
        "import matplotlib.pyplot as plt\n",
        "\n",
        "x = numpy.random.normal(5.0, 1.0, 100000)\n",
        "\n",
        "plt.hist(x, 100)\n",
        "plt.show()"
      ]
    },
    {
      "cell_type": "markdown",
      "source": [
        "*Note: A normal distribution graph is also known as the bell curve because of it's characteristic shape of a bell.*"
      ],
      "metadata": {
        "id": "afY7YFz5P_ib"
      }
    },
    {
      "cell_type": "markdown",
      "source": [
        "**Histogram Explained**\n",
        "\n",
        "We use the array from the numpy.random.normal() method, with 100000 values,  to draw a histogram with 100 bars.\n",
        "\n",
        "We specify that the mean value is 5.0, and the standard deviation is 1.0.\n",
        "\n",
        "Meaning that the values should be concentrated around 5.0, and rarely further away than 1.0 from the mean.\n",
        "\n",
        "And as you can see from the histogram, most values are between 4.0 and 6.0, with a top at approximately 5.0"
      ],
      "metadata": {
        "id": "G7pFpALYP_Ik"
      }
    }
  ]
}